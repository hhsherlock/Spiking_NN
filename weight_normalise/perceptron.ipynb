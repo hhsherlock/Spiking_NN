{
 "cells": [
  {
   "cell_type": "code",
   "execution_count": 1,
   "id": "9e54fc59",
   "metadata": {},
   "outputs": [],
   "source": [
    "#!/usr/bin/env python3\n",
    "# -*- coding: utf-8 -*-\n",
    "\"\"\"\n",
    "Created on Thu Apr 17\n",
    "\n",
    "@author: yaning\n",
    "\"\"\"\n",
    "\n",
    "import numpy as np\n",
    "import pickle\n",
    "\n",
    "path = \"/home/yaning/Documents/Spiking_NN/\""
   ]
  },
  {
   "cell_type": "code",
   "execution_count": 58,
   "id": "ef73fdd5",
   "metadata": {},
   "outputs": [],
   "source": [
    "emails = np.array([\n",
    "    [50, 10],\n",
    "    [10, 2],\n",
    "    [70, 12], \n",
    "    [5, 1],\n",
    "    [40, 8],\n",
    "    [8, 0],\n",
    "    [20, 1],\n",
    "    [30, 0],\n",
    "    [20, 10],\n",
    "])\n",
    "\n",
    "labels = np.array([1, -1, 1, -1, 1, -1, -1, -1, 1])"
   ]
  },
  {
   "cell_type": "code",
   "execution_count": 2,
   "id": "5e2ae6c7",
   "metadata": {},
   "outputs": [],
   "source": [
    "emails = np.array([\n",
    "    [5, 10],\n",
    "    [1, 2],\n",
    "    [7, 12], \n",
    "    [0.5, 1],\n",
    "    [4, 8],\n",
    "    [0.8, 0],\n",
    "    [2, 1],\n",
    "    [3, 0],\n",
    "    [2, 10],\n",
    "])\n",
    "\n",
    "labels = np.array([1, -1, 1, -1, 1, -1, -1, -1, 1])"
   ]
  },
  {
   "cell_type": "code",
   "execution_count": 37,
   "id": "b0bb7803",
   "metadata": {},
   "outputs": [],
   "source": [
    "with open(path + \"datasets/black_white_two_inputs.pkl\", \"rb\") as f:\n",
    "    fire_array, dataset = pickle.load(f)"
   ]
  },
  {
   "cell_type": "code",
   "execution_count": 3,
   "id": "b2571c7e",
   "metadata": {},
   "outputs": [],
   "source": [
    "class Perceptron:\n",
    "    def __init__(self, learning_rate=0.1, n_iters = 100):\n",
    "        self.learning_rate = learning_rate\n",
    "        self.n_iters = n_iters\n",
    "        self.weights = None\n",
    "        self.bias = None\n",
    "\n",
    "    def fit(self, X, y):\n",
    "        # Initialize weights and bias to zero\n",
    "        n_samples, n_features = X.shape\n",
    "        self.weights = np.zeros(n_features)\n",
    "        self.bias = 0\n",
    "        \n",
    "        ###################################################\n",
    "        #  write Single Perceptron Algorithm\n",
    "        for _ in range(self.n_iters):\n",
    "            for i in range(n_samples):\n",
    "                predict_y = np.sign(self.weights @ X[i] + self.bias)\n",
    "                if predict_y != y[i]:\n",
    "                    self.weights = self.weights + self.learning_rate * X[i] * y[i]\n",
    "                    self.bias = self.bias + self.learning_rate * y[i]\n",
    "\n",
    "\n",
    "    \n",
    "    def predict(self, X):\n",
    "        linear_output = np.dot(X, self.weights) + self.bias\n",
    "        return np.sign(linear_output)\n",
    "    "
   ]
  },
  {
   "cell_type": "code",
   "execution_count": 44,
   "id": "69a833ce",
   "metadata": {},
   "outputs": [
    {
     "data": {
      "text/plain": [
       "array([1, 0])"
      ]
     },
     "execution_count": 44,
     "metadata": {},
     "output_type": "execute_result"
    }
   ],
   "source": [
    "emails[0]"
   ]
  },
  {
   "cell_type": "code",
   "execution_count": 39,
   "id": "06711c7d",
   "metadata": {},
   "outputs": [],
   "source": [
    "emails = dataset[:,:2]\n",
    "labels = dataset[:,-1]"
   ]
  },
  {
   "cell_type": "code",
   "execution_count": 40,
   "id": "ca578aff",
   "metadata": {},
   "outputs": [
    {
     "data": {
      "text/plain": [
       "array([0, 1, 0, 0, 1, 0, 0, 1])"
      ]
     },
     "execution_count": 40,
     "metadata": {},
     "output_type": "execute_result"
    }
   ],
   "source": [
    "labels"
   ]
  },
  {
   "cell_type": "code",
   "execution_count": 41,
   "id": "b91d76a5",
   "metadata": {},
   "outputs": [],
   "source": [
    "temp_labels = []\n",
    "for i in labels:\n",
    "    if i == 0:\n",
    "        temp_labels.append(-1)\n",
    "    else:\n",
    "        temp_labels.append(1)"
   ]
  },
  {
   "cell_type": "code",
   "execution_count": 42,
   "id": "e59d72b4",
   "metadata": {},
   "outputs": [
    {
     "data": {
      "text/plain": [
       "[-1, 1, -1, -1, 1, -1, -1, 1]"
      ]
     },
     "execution_count": 42,
     "metadata": {},
     "output_type": "execute_result"
    }
   ],
   "source": [
    "temp_labels"
   ]
  },
  {
   "cell_type": "code",
   "execution_count": 4,
   "id": "8990a3cb",
   "metadata": {},
   "outputs": [
    {
     "name": "stdout",
     "output_type": "stream",
     "text": [
      "Predictions: [ 1. -1.  1. -1.  1. -1. -1. -1.  1.]\n",
      "True labels: [ 1 -1  1 -1  1 -1 -1 -1  1]\n",
      "Accuracy: 100.0%\n"
     ]
    }
   ],
   "source": [
    "p = Perceptron(learning_rate=0.1, n_iters = 12)\n",
    "p.fit(emails, labels)\n",
    "\n",
    "# Make predictions\n",
    "predictions = p.predict(emails)\n",
    "print(\"Predictions:\", predictions)\n",
    "print(\"True labels:\", labels)\n",
    "\n",
    "# Check the accuracy\n",
    "accuracy = np.mean(predictions == labels)\n",
    "print(f\"Accuracy: {accuracy * 100}%\")"
   ]
  }
 ],
 "metadata": {
  "kernelspec": {
   "display_name": "Python 3 (ipykernel)",
   "language": "python",
   "name": "python3"
  },
  "language_info": {
   "codemirror_mode": {
    "name": "ipython",
    "version": 3
   },
   "file_extension": ".py",
   "mimetype": "text/x-python",
   "name": "python",
   "nbconvert_exporter": "python",
   "pygments_lexer": "ipython3",
   "version": "3.13.2"
  }
 },
 "nbformat": 4,
 "nbformat_minor": 5
}
