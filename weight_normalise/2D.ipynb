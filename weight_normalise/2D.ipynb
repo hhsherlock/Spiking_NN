{
 "cells": [
  {
   "cell_type": "code",
   "execution_count": 1,
   "id": "4a9c591a",
   "metadata": {},
   "outputs": [],
   "source": [
    "#!/usr/bin/env python3\n",
    "# -*- coding: utf-8 -*-\n",
    "\"\"\"\n",
    "Created on Tue Mai 20\n",
    "\n",
    "@author: yaning\n",
    "\"\"\"\n",
    "\n",
    "import importlib\n",
    "import numpy as np\n",
    "import matplotlib.pyplot as plt\n",
    "import itertools\n",
    "import pickle\n",
    "import math\n",
    "import random\n",
    "\n",
    "# my own class files\n",
    "import weight_normalise.Receptors as Receptors\n",
    "import weight_normalise.Network as Network\n",
    "import weight_normalise.create_update_synapse as cus\n",
    "\n",
    "\n",
    "importlib.reload(Receptors)\n",
    "importlib.reload(Network)\n",
    "importlib.reload(cus)\n",
    "\n",
    "path = \"/home/yaning/Documents/Spiking_NN/\"\n",
    "np.set_printoptions(threshold=np.inf)"
   ]
  },
  {
   "cell_type": "code",
   "execution_count": null,
   "id": "4942f3e5",
   "metadata": {},
   "outputs": [],
   "source": [
    "with open(path + \"datasets/fire_data_10p_8f_non_zero.pkl\", \"rb\") as f:\n",
    "    fire_data = pickle.load(f)"
   ]
  },
  {
   "cell_type": "code",
   "execution_count": 3,
   "id": "b42127dc",
   "metadata": {},
   "outputs": [
    {
     "data": {
      "text/plain": [
       "(100, 10, 10, 8, 6000)"
      ]
     },
     "execution_count": 3,
     "metadata": {},
     "output_type": "execute_result"
    }
   ],
   "source": [
    "fire_data.shape"
   ]
  },
  {
   "cell_type": "code",
   "execution_count": 4,
   "id": "75cc8804",
   "metadata": {},
   "outputs": [],
   "source": [
    "pointCount = 6000\n",
    "# deltaTms = 0.05\n",
    "# times = np.arange(pointCount) * deltaTms\n",
    "# initial_Vm = 1.3458754117369027"
   ]
  },
  {
   "cell_type": "markdown",
   "id": "94c178d3",
   "metadata": {},
   "source": [
    "Input neurons"
   ]
  },
  {
   "cell_type": "code",
   "execution_count": 14,
   "id": "a41501cc",
   "metadata": {},
   "outputs": [],
   "source": [
    "pixel = 10\n",
    "feature = 8\n",
    "input_array = np.empty([pixel,pixel,feature], dtype=object)\n",
    "\n",
    "for i in range(pixel):\n",
    "    for j in range(pixel):\n",
    "        for k in range(feature):\n",
    "            input_array[i,j,k] = Network.Neuron((i,j,k))\n",
    "\n",
    "# not sure if need to flatten it \n",
    "input_array_flat = input_array.flatten()"
   ]
  },
  {
   "cell_type": "markdown",
   "id": "22623722",
   "metadata": {},
   "source": [
    "Excitatory Neurons"
   ]
  },
  {
   "cell_type": "code",
   "execution_count": 15,
   "id": "21ea12ef",
   "metadata": {},
   "outputs": [],
   "source": [
    "E_height = 20\n",
    "E_width = 20\n",
    "\n",
    "E_array = np.empty([E_height, E_width], dtype=object)\n",
    "\n",
    "for i in range(E_height):\n",
    "    for j in range(E_width):\n",
    "        E_array[i,j] = Network.Neuron((i,j))\n",
    "\n",
    "E_array_flat = E_array.flatten()"
   ]
  },
  {
   "cell_type": "markdown",
   "id": "a1291681",
   "metadata": {},
   "source": [
    "Inhibitory Neurons"
   ]
  },
  {
   "cell_type": "code",
   "execution_count": 19,
   "id": "acd953ea",
   "metadata": {},
   "outputs": [],
   "source": [
    "I_amount = 10\n",
    "\n",
    "I_array = np.empty(I_amount, dtype=object)\n",
    "for i in range(I_amount):\n",
    "    I_array[i] = Network.Neuron((i))"
   ]
  },
  {
   "cell_type": "markdown",
   "id": "2020e769",
   "metadata": {},
   "source": [
    "Ouput Neurons"
   ]
  },
  {
   "cell_type": "code",
   "execution_count": 22,
   "id": "6977f6fc",
   "metadata": {},
   "outputs": [],
   "source": [
    "output_size = 5\n",
    "\n",
    "output_array = np.empty([output_size, output_size], dtype=object)\n",
    "\n",
    "for i in range(output_size):\n",
    "    for j in range(output_size):\n",
    "        output_array[i,j] = Network.Neuron((i,j))\n",
    "        \n",
    "output_array_flat = output_array.flatten()"
   ]
  },
  {
   "cell_type": "markdown",
   "id": "cf156420",
   "metadata": {},
   "source": [
    "Connection them!"
   ]
  },
  {
   "cell_type": "code",
   "execution_count": null,
   "id": "12b19bdb",
   "metadata": {},
   "outputs": [],
   "source": [
    "# Input to E (all-to-all connection) This might not be all to all connection \n",
    "# because from V1 to V2 the topological features hold\n",
    "for i in input_array_flat:\n",
    "    for j in E_array_flat:\n",
    "        cus.create_synapse(i, j, \"AMPA\")\n",
    "\n",
    "# E to I p=0.1\n",
    "for i in E_array_flat:\n",
    "    for j in I_array:\n",
    "        if random.random() < 0.1:\n",
    "            cus.create_synapse(i, j, \"AMPA+NMDA\")\n",
    "\n",
    "# I to I p=0.1 (should i prevent self connection? they exist but rare)\n",
    "for i in I_array:\n",
    "    for j in I_array:\n",
    "        if random.random() < 0.1:\n",
    "            cus.create_synapse(i, j, \"GABA\")\n",
    "\n",
    "# I to E p=0.024\n",
    "for i in I_array:\n",
    "    for j in E_array_flat:\n",
    "        if random.random() < 0.024:\n",
    "            cus.create_synapse(i, j, \"GABA\")\n",
    "\n",
    "# # E to output (subsets)\n",
    "stride = 2\n",
    "kernel_size = 2\n",
    "\n",
    "for i in output_array_flat:\n",
    "    idx = i.id\n",
    "    x_num = idx[0]\n",
    "    y_num = idx[1]\n",
    "    connect_arrary = []\n",
    "    x_select = E_array[stride*x_num:stride*x_num+kernel_size]\n",
    "    for j in range(len(x_select)):\n",
    "        connect_arrary.append(x_select[j][stride*y_num:stride*y_num+kernel_size])\n",
    "    \n",
    "    connect_arrary = list(itertools.chain.from_iterable(connect_arrary))\n",
    "    # connect all the selected E neurons\n",
    "    for c in connect_arrary:\n",
    "        cus.create_synapse(c, i, \"AMPA\")"
   ]
  },
  {
   "cell_type": "markdown",
   "id": "bc8f6986",
   "metadata": {},
   "source": [
    "Input neuron firing sequences"
   ]
  },
  {
   "cell_type": "code",
   "execution_count": null,
   "id": "90a7d26c",
   "metadata": {},
   "outputs": [],
   "source": []
  },
  {
   "cell_type": "markdown",
   "id": "a034960a",
   "metadata": {},
   "source": [
    "Run"
   ]
  },
  {
   "cell_type": "code",
   "execution_count": null,
   "id": "64318e73",
   "metadata": {},
   "outputs": [
    {
     "data": {
      "text/plain": [
       "2719"
      ]
     },
     "execution_count": 50,
     "metadata": {},
     "output_type": "execute_result"
    }
   ],
   "source": []
  }
 ],
 "metadata": {
  "kernelspec": {
   "display_name": "Python 3 (ipykernel)",
   "language": "python",
   "name": "python3"
  },
  "language_info": {
   "codemirror_mode": {
    "name": "ipython",
    "version": 3
   },
   "file_extension": ".py",
   "mimetype": "text/x-python",
   "name": "python",
   "nbconvert_exporter": "python",
   "pygments_lexer": "ipython3",
   "version": "3.10.17"
  }
 },
 "nbformat": 4,
 "nbformat_minor": 5
}
