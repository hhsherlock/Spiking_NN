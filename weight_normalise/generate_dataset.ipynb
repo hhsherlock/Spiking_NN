{
 "cells": [
  {
   "cell_type": "code",
   "execution_count": 43,
   "metadata": {},
   "outputs": [],
   "source": [
    "#!/usr/bin/env python3\n",
    "# -*- coding: utf-8 -*-\n",
    "\"\"\"\n",
    "Created on Wed Jan 2\n",
    "\n",
    "@author: yaning\n",
    "\"\"\"\n",
    "import numpy as np\n",
    "import pickle\n",
    "\n",
    "path = \"/home/yaning/Documents/Spiking_NN/datasets/\"\n",
    "np.set_printoptions(threshold=np.inf)"
   ]
  },
  {
   "cell_type": "code",
   "execution_count": 31,
   "metadata": {},
   "outputs": [],
   "source": [
    "# form an shape (5000, 3) array with 5000 time points and 3 input neurons\n",
    "# every fire is 45-50 cycles, \n",
    "pointCount = 6000\n",
    "start_tstep = 336\n",
    "one_cycle = np.concatenate((np.ones(47, dtype=bool), np.zeros(189, dtype=bool)))\n",
    "all_cycles = np.tile(one_cycle, 24)\n",
    "\n",
    "non_fire_array = np.zeros(pointCount, dtype=bool)\n",
    "fire_array = non_fire_array.copy()\n",
    "fire_array[pointCount-len(all_cycles):] = all_cycles\n"
   ]
  },
  {
   "cell_type": "code",
   "execution_count": 7,
   "metadata": {},
   "outputs": [],
   "source": [
    "with open(path + \"simple.pkl\", \"wb\") as f:\n",
    "    pickle.dump((non_fire_array, fire_array), f)"
   ]
  },
  {
   "cell_type": "markdown",
   "metadata": {},
   "source": [
    "Generate email scam dataset firing sequence"
   ]
  },
  {
   "cell_type": "code",
   "execution_count": 3,
   "metadata": {},
   "outputs": [],
   "source": [
    "emails = np.array([\n",
    "    [5, 10],\n",
    "    [1, 2],\n",
    "    [7, 12], \n",
    "    [0.5, 1],\n",
    "    [4, 8],\n",
    "    [0.8, 0],\n",
    "    [2, 1],\n",
    "    [3, 0],\n",
    "    [2, 10],\n",
    "])\n",
    "\n",
    "labels = np.array([1, -1, 1, -1, 1, -1, -1, -1, 1])"
   ]
  },
  {
   "cell_type": "code",
   "execution_count": 30,
   "metadata": {},
   "outputs": [
    {
     "data": {
      "text/plain": [
       "[0, 0, 0, 0, 1, 1, 1]"
      ]
     },
     "execution_count": 30,
     "metadata": {},
     "output_type": "execute_result"
    }
   ],
   "source": [
    "original"
   ]
  },
  {
   "cell_type": "code",
   "execution_count": 35,
   "metadata": {},
   "outputs": [],
   "source": [
    "firing_squence = []\n",
    "\n",
    "for trial in range(len(labels)):\n",
    "    # multipy by 2 is because the max is 12 and 6000 timestep can fire max 25 times\n",
    "    input_one = emails[trial][0]*2\n",
    "    input_two = emails[trial][1]*2\n",
    "\n",
    "    output_num = labels[trial]\n",
    "    \n",
    "    params = [input_one, input_two#, input_three, #input_four, input_five\n",
    "              ]\n",
    "    \n",
    "    input_firing = []\n",
    "\n",
    "    fire_one = np.tile(one_cycle, int(np.round(input_one)))\n",
    "    fire_two = np.tile(one_cycle, int(np.round(input_two)))\n",
    "\n",
    "    fire_one_full = non_fire_array.copy()\n",
    "    fire_one_full[pointCount-len(fire_one):] = fire_one\n",
    "    fire_two_full = non_fire_array.copy()\n",
    "    fire_two_full[pointCount-len(fire_two):] = fire_two\n",
    "    input_firing.append(fire_one_full)\n",
    "    input_firing.append(fire_two_full)\n",
    "\n",
    "    # if the output number is -1 then neuron_output_0 fires\n",
    "    if output_num == -1:\n",
    "        input_firing.append(fire_array)\n",
    "        input_firing.append(non_fire_array)\n",
    "        \n",
    "    else:\n",
    "        input_firing.append(non_fire_array)\n",
    "        input_firing.append(fire_array)\n",
    "        \n",
    "    firing_squence.append(input_firing)\n",
    "    \n",
    "\n",
    "    \n",
    "#     # age is input0; bmi is input1; stress is input2\n",
    "#     age_f = age_choice[i]\n",
    "#     bmi_f = bmi_choice[i]\n",
    "#     stress_f = stress_choice[i]\n",
    "    \n",
    "#     frequencies = [age_f, bmi_f, stress_f]\n",
    "#     print(frequencies)\n",
    "#     fire = []\n",
    "#     for f in frequencies:\n",
    "#         # print(f)\n",
    "#         replacement = np.tile(one_cycle, f+20)\n",
    "#         # print(replacement)\n",
    "#         temp = np.full(pointCount, False)\n",
    "#         temp[start_tstep:replacement.shape[0]+start_tstep] = replacement\n",
    "#         # print(temp[2000:3000])\n",
    "#         fire.append(temp)\n",
    "#     dataset.append(fire)\n",
    "\n",
    "# dataset = np.array(dataset)"
   ]
  },
  {
   "cell_type": "markdown",
   "metadata": {},
   "source": [
    "Generate XOR problem firing squences"
   ]
  },
  {
   "cell_type": "code",
   "execution_count": 41,
   "metadata": {},
   "outputs": [],
   "source": [
    "firing_squence = []\n",
    "# every cycle of this for loop is another firing pattern\n",
    "for i in dataset:\n",
    "    \n",
    "    input_one = i[0]\n",
    "    # input_two = i[1]\n",
    "    # input_three = i[2]\n",
    "    # input_four = i[3]\n",
    "    # input_five = i[4]\n",
    "    \n",
    "    output_num = i[1]\n",
    "    \n",
    "    params = [input_one #, input_two, input_three, #input_four, input_five\n",
    "              ]\n",
    "    # params = [input_one, input_two, input_three]\n",
    "    \n",
    "    input_firing = []\n",
    "    for param in params:\n",
    "        if param == 0:\n",
    "            input_firing.append(non_fire_array)\n",
    "        else:\n",
    "            input_firing.append(fire_array)\n",
    "    \n",
    "    # if the output number is zero then neuron_output_0 fires\n",
    "    if output_num == 0:\n",
    "        input_firing.append(fire_array)\n",
    "        input_firing.append(non_fire_array)\n",
    "        \n",
    "    else:\n",
    "        input_firing.append(non_fire_array)\n",
    "        input_firing.append(fire_array)\n",
    "        \n",
    "    firing_squence.append(input_firing)\n",
    "    \n",
    "\n",
    "    \n",
    "#     # age is input0; bmi is input1; stress is input2\n",
    "#     age_f = age_choice[i]\n",
    "#     bmi_f = bmi_choice[i]\n",
    "#     stress_f = stress_choice[i]\n",
    "    \n",
    "#     frequencies = [age_f, bmi_f, stress_f]\n",
    "#     print(frequencies)\n",
    "#     fire = []\n",
    "#     for f in frequencies:\n",
    "#         # print(f)\n",
    "#         replacement = np.tile(one_cycle, f+20)\n",
    "#         # print(replacement)\n",
    "#         temp = np.full(pointCount, False)\n",
    "#         temp[start_tstep:replacement.shape[0]+start_tstep] = replacement\n",
    "#         # print(temp[2000:3000])\n",
    "#         fire.append(temp)\n",
    "#     dataset.append(fire)\n",
    "\n",
    "# dataset = np.array(dataset)"
   ]
  },
  {
   "cell_type": "code",
   "execution_count": 37,
   "metadata": {},
   "outputs": [],
   "source": [
    "firing_squence = np.array(firing_squence)"
   ]
  },
  {
   "cell_type": "code",
   "execution_count": 38,
   "metadata": {},
   "outputs": [
    {
     "data": {
      "text/plain": [
       "(9, 4, 6000)"
      ]
     },
     "execution_count": 38,
     "metadata": {},
     "output_type": "execute_result"
    }
   ],
   "source": [
    "firing_squence.shape"
   ]
  },
  {
   "cell_type": "code",
   "execution_count": 41,
   "metadata": {},
   "outputs": [],
   "source": [
    "dataset = np.hstack((emails, labels[:,np.newaxis]))"
   ]
  },
  {
   "cell_type": "code",
   "execution_count": 42,
   "metadata": {},
   "outputs": [
    {
     "data": {
      "text/plain": [
       "array([[ 5. , 10. ,  1. ],\n",
       "       [ 1. ,  2. , -1. ],\n",
       "       [ 7. , 12. ,  1. ],\n",
       "       [ 0.5,  1. , -1. ],\n",
       "       [ 4. ,  8. ,  1. ],\n",
       "       [ 0.8,  0. , -1. ],\n",
       "       [ 2. ,  1. , -1. ],\n",
       "       [ 3. ,  0. , -1. ],\n",
       "       [ 2. , 10. ,  1. ]])"
      ]
     },
     "execution_count": 42,
     "metadata": {},
     "output_type": "execute_result"
    }
   ],
   "source": [
    "dataset"
   ]
  },
  {
   "cell_type": "code",
   "execution_count": 44,
   "metadata": {},
   "outputs": [],
   "source": [
    "with open(path + \"email_scam.pkl\", \"wb\") as f:\n",
    "    pickle.dump((firing_squence, dataset), f)"
   ]
  },
  {
   "cell_type": "code",
   "execution_count": 9,
   "metadata": {},
   "outputs": [
    {
     "data": {
      "text/plain": [
       "array([[0, 0, 0, 0],\n",
       "       [0, 0, 1, 0],\n",
       "       [0, 1, 0, 0],\n",
       "       [0, 1, 1, 0],\n",
       "       [1, 0, 0, 0],\n",
       "       [1, 0, 1, 0],\n",
       "       [1, 1, 0, 0],\n",
       "       [1, 1, 1, 1]])"
      ]
     },
     "execution_count": 9,
     "metadata": {},
     "output_type": "execute_result"
    }
   ],
   "source": [
    "dataset"
   ]
  }
 ],
 "metadata": {
  "kernelspec": {
   "display_name": "Python 3 (ipykernel)",
   "language": "python",
   "name": "python3"
  },
  "language_info": {
   "codemirror_mode": {
    "name": "ipython",
    "version": 3
   },
   "file_extension": ".py",
   "mimetype": "text/x-python",
   "name": "python",
   "nbconvert_exporter": "python",
   "pygments_lexer": "ipython3",
   "version": "3.13.2"
  }
 },
 "nbformat": 4,
 "nbformat_minor": 2
}
