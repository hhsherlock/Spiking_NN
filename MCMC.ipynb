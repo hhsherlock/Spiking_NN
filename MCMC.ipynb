{
 "cells": [
  {
   "cell_type": "code",
   "execution_count": 116,
   "metadata": {},
   "outputs": [],
   "source": [
    "#!/usr/bin/env python3\n",
    "# -*- coding: utf-8 -*-\n",
    "\"\"\"\n",
    "Created on Thu Oct 24\n",
    "\n",
    "@author: yaning\n",
    "\"\"\"\n",
    "\n",
    "import numpy as np\n",
    "import importlib\n",
    "import matplotlib.pyplot as plt\n",
    "import warnings\n",
    "\n",
    "# functions and classes that i wrote\n",
    "import run_network\n",
    "import NN.Receptors as Receptors\n",
    "import NN.Network as Network\n",
    "\n",
    "importlib.reload(run_network)\n",
    "importlib.reload(Receptors)\n",
    "importlib.reload(Network)\n",
    "\n",
    "np.set_printoptions(threshold=np.inf)"
   ]
  },
  {
   "cell_type": "code",
   "execution_count": null,
   "metadata": {},
   "outputs": [],
   "source": [
    "# sample params\n",
    "names = Receptors.LigandGatedChannelFactory.infer_names\n",
    "infer_params = {}"
   ]
  },
  {
   "cell_type": "code",
   "execution_count": null,
   "metadata": {},
   "outputs": [
    {
     "data": {
      "text/plain": [
       "['gMax_AMPA',\n",
       " 'gMax_NMDA',\n",
       " 'gMax_GABA',\n",
       " 'w_init_AMPA',\n",
       " 'w_init_NMDA',\n",
       " 'w_init_GABA',\n",
       " 'e_init',\n",
       " 'g_decay_init',\n",
       " 'g_rise_init',\n",
       " 'tau_pre',\n",
       " 'tau_post',\n",
       " 'tau_rec',\n",
       " 'u_se',\n",
       " 'tau_decay_AMPA',\n",
       " 'tau_rise_AMPA',\n",
       " 'tau_decay_NMDA',\n",
       " 'tau_rise_NMDA',\n",
       " 'tau_decay_GABA',\n",
       " 'tau_rise_GABA']"
      ]
     },
     "execution_count": 132,
     "metadata": {},
     "output_type": "execute_result"
    }
   ],
   "source": [
    "for name in names:\n",
    "    infer_params[name] = "
   ]
  },
  {
   "cell_type": "code",
   "execution_count": null,
   "metadata": {},
   "outputs": [
    {
     "name": "stdout",
     "output_type": "stream",
     "text": [
      "13.656418959394026\n",
      "13.656418959394026\n",
      "13.656418959394026\n",
      "13.656418959394026\n",
      "Neuron: inhibit_main fires\n",
      "Neuron: inhibit_main fires\n",
      "error: Overflowed: INa = 5.597342409464761e+19\n",
      "this line runs\n",
      "error: Overflowed: INa = inf\n",
      "this line runs\n",
      "Neuron: inhibit_sub fires\n",
      "Neuron: inhibit_sub fires\n",
      "Neuron: inhibit_sub fires\n",
      "Neuron: inhibit_sub fires\n",
      "Neuron: inhibit_sub fires\n",
      "Neuron: inhibit_sub fires\n",
      "Neuron: inhibit_sub fires\n",
      "Neuron: inhibit_sub fires\n",
      "Neuron: inhibit_sub fires\n",
      "Neuron: inhibit_sub fires\n",
      "Neuron: inhibit_sub fires\n",
      "Neuron: inhibit_sub fires\n",
      "Neuron: inhibit_sub fires\n",
      "Neuron: inhibit_sub fires\n",
      "Neuron: inhibit_sub fires\n",
      "Neuron: inhibit_sub fires\n",
      "Neuron: inhibit_sub fires\n",
      "Neuron: inhibit_sub fires\n",
      "Neuron: inhibit_sub fires\n",
      "Neuron: inhibit_sub fires\n",
      "Neuron: inhibit_sub fires\n",
      "Neuron: inhibit_sub fires\n",
      "Neuron: inhibit_sub fires\n",
      "Neuron: inhibit_sub fires\n",
      "Neuron: inhibit_sub fires\n",
      "Neuron: inhibit_sub fires\n",
      "Neuron: inhibit_sub fires\n",
      "Neuron: inhibit_sub fires\n",
      "Neuron: inhibit_sub fires\n",
      "Neuron: inhibit_sub fires\n",
      "Neuron: inhibit_sub fires\n",
      "Neuron: inhibit_sub fires\n",
      "Neuron: inhibit_sub fires\n",
      "Neuron: inhibit_sub fires\n",
      "Neuron: inhibit_sub fires\n",
      "Neuron: inhibit_sub fires\n",
      "Neuron: inhibit_sub fires\n",
      "Neuron: inhibit_sub fires\n",
      "Neuron: inhibit_sub fires\n",
      "Neuron: inhibit_sub fires\n",
      "Neuron: inhibit_sub fires\n",
      "Neuron: inhibit_sub fires\n",
      "Neuron: inhibit_sub fires\n",
      "Neuron: inhibit_sub fires\n",
      "Neuron: inhibit_sub fires\n",
      "Neuron: inhibit_sub fires\n",
      "Neuron: inhibit_sub fires\n",
      "Neuron: excite_main fires\n",
      "Neuron: excite_main fires\n",
      "Neuron: excite_main fires\n",
      "Neuron: excite_main fires\n",
      "Neuron: excite_main fires\n",
      "Neuron: excite_main fires\n",
      "Neuron: excite_main fires\n",
      "Neuron: excite_main fires\n",
      "Neuron: excite_main fires\n",
      "Neuron: excite_main fires\n",
      "Neuron: excite_main fires\n",
      "Neuron: excite_main fires\n",
      "Neuron: excite_main fires\n",
      "Neuron: excite_main fires\n",
      "Neuron: excite_main fires\n",
      "Neuron: excite_main fires\n",
      "Neuron: excite_main fires\n",
      "Neuron: excite_main fires\n",
      "Neuron: excite_main fires\n",
      "Neuron: excite_main fires\n",
      "Neuron: excite_main fires\n",
      "Neuron: excite_main fires\n",
      "Neuron: excite_main fires\n",
      "Neuron: excite_main fires\n",
      "Neuron: excite_main fires\n",
      "Neuron: excite_main fires\n",
      "Neuron: excite_main fires\n",
      "Neuron: excite_main fires\n",
      "Neuron: excite_main fires\n",
      "Neuron: excite_main fires\n",
      "Neuron: excite_main fires\n",
      "Neuron: excite_main fires\n",
      "Neuron: excite_main fires\n",
      "Neuron: excite_main fires\n",
      "Neuron: excite_main fires\n",
      "Neuron: excite_main fires\n",
      "Neuron: excite_main fires\n",
      "Neuron: excite_main fires\n",
      "Neuron: excite_main fires\n",
      "Neuron: excite_main fires\n",
      "Neuron: excite_main fires\n",
      "Neuron: excite_main fires\n",
      "Neuron: excite_main fires\n",
      "Neuron: excite_main fires\n",
      "Neuron: excite_main fires\n",
      "Neuron: excite_main fires\n",
      "Neuron: excite_main fires\n",
      "Number of RuntimeWarnings: 14\n"
     ]
    }
   ],
   "source": [
    "\n",
    "\n",
    "with warnings.catch_warnings(record=True) as caught_warnings:\n",
    "    warnings.simplefilter(\"always\")  # Capture all warnings\n",
    "    voltages, firing, error_code, neurons = run_network.run(infer_params)\n",
    "    runtime_warnings = [w for w in caught_warnings if issubclass(w.category, RuntimeWarning)]\n",
    "    print(f\"Number of RuntimeWarnings: {len(runtime_warnings)}\")"
   ]
  },
  {
   "cell_type": "code",
   "execution_count": null,
   "metadata": {},
   "outputs": [],
   "source": [
    "voltages = np.array(voltages)\n",
    "firing = np.array(firing)\n",
    "error_code = np.array(error_code)"
   ]
  },
  {
   "cell_type": "code",
   "execution_count": 130,
   "metadata": {},
   "outputs": [
    {
     "data": {
      "text/plain": [
       "2"
      ]
     },
     "execution_count": 130,
     "metadata": {},
     "output_type": "execute_result"
    }
   ],
   "source": [
    "np.sum(error_code)"
   ]
  },
  {
   "cell_type": "code",
   "execution_count": 125,
   "metadata": {},
   "outputs": [
    {
     "data": {
      "text/plain": [
       "(array([2042, 2043]), array([3, 3]))"
      ]
     },
     "execution_count": 125,
     "metadata": {},
     "output_type": "execute_result"
    }
   ],
   "source": [
    "np.where(error_code != 0)"
   ]
  },
  {
   "cell_type": "code",
   "execution_count": 126,
   "metadata": {},
   "outputs": [
    {
     "data": {
      "text/plain": [
       "array([0, 0, 0, 1, 0, 0])"
      ]
     },
     "execution_count": 126,
     "metadata": {},
     "output_type": "execute_result"
    }
   ],
   "source": [
    "error_code[2042]"
   ]
  },
  {
   "cell_type": "code",
   "execution_count": 120,
   "metadata": {},
   "outputs": [
    {
     "data": {
      "image/png": "[encoded data removed]",
      "text/plain": [
       "<Figure size 800x700 with 2 Axes>"
      ]
     },
     "metadata": {},
     "output_type": "display_data"
    }
   ],
   "source": [
    "f, (ax1, ax2) = plt.subplots(2, 1, sharex=True, figsize=(8, 7),\n",
    "                                gridspec_kw={'height_ratios': [1, 1]})\n",
    "\n",
    "\n",
    "# ax1.set_title(\"Hodgkin-Huxley Spiking Neuron Model\", fontSize=16)\n",
    "\n",
    "# voltage plot\n",
    "for i in range(len(neurons)):\n",
    "    ax1.plot(np.arange(5000), voltages[:,i], label=neurons[i])\n",
    "\n",
    "ax1.spines['right'].set_visible(False)\n",
    "ax1.spines['top'].set_visible(False)\n",
    "ax1.spines['bottom'].set_visible(False)\n",
    "ax1.tick_params(bottom=False)\n",
    "ax1.set_ylabel(\"Membrane Potential (mV)\")\n",
    "ax1.legend(loc='upper left', bbox_to_anchor=(1, 1))\n",
    "\n",
    "# firing plot\n",
    "for i in range(len(neurons)):\n",
    "    ax2.plot(np.arange(5000), firing[:,i], label=neurons[i])\n",
    "\n",
    "ax2.spines['right'].set_visible(False)\n",
    "ax2.spines['top'].set_visible(False)\n",
    "ax2.spines['bottom'].set_visible(False)\n",
    "ax2.tick_params(bottom=False)\n",
    "ax2.set_ylabel(\"Firing (times)\")\n",
    "\n",
    "\n",
    "# ax2.plot(times, I_neuron1, label = '1')\n",
    "# ax2.plot(times, I_neuron2, label = '2')\n",
    "# ax2.set_ylabel(\"Currents (µA/cm²)\")\n",
    "# ax2.set_xlabel(\"Simulation Time (milliseconds)\")\n",
    "# ax2.spines['right'].set_visible(False)\n",
    "# ax2.spines['top'].set_visible(False)\n",
    "\n",
    "\n",
    "plt.margins(0, 0.1)\n",
    "plt.tight_layout()\n",
    "plt.show()\n",
    "\n",
    "# sharp wave ripples"
   ]
  }
 ],
 "metadata": {
  "kernelspec": {
   "display_name": "Python 3 (ipykernel)",
   "language": "python",
   "name": "python3"
  },
  "language_info": {
   "codemirror_mode": {
    "name": "ipython",
    "version": 3
   },
   "file_extension": ".py",
   "mimetype": "text/x-python",
   "name": "python",
   "nbconvert_exporter": "python",
   "pygments_lexer": "ipython3",
   "version": "3.12.7"
  }
 },
 "nbformat": 4,
 "nbformat_minor": 2
}
