{
 "cells": [
  {
   "cell_type": "code",
   "execution_count": 643,
   "metadata": {},
   "outputs": [],
   "source": [
    "#!/usr/bin/env python3\n",
    "# -*- coding: utf-8 -*-\n",
    "\"\"\"\n",
    "Created on Thu Oct 24\n",
    "\n",
    "@author: yaning\n",
    "\"\"\"\n",
    "\n",
    "import numpy as np\n",
    "import importlib\n",
    "import matplotlib.pyplot as plt\n",
    "import torch\n",
    "from torch.distributions import Normal, Uniform\n",
    "from tqdm import tqdm\n",
    "\n",
    "# functions and classes that i wrote\n",
    "import run_network\n",
    "import NN.Receptors as Receptors\n",
    "import NN.Network as Network\n",
    "\n",
    "importlib.reload(run_network)\n",
    "importlib.reload(Receptors)\n",
    "importlib.reload(Network)\n",
    "\n",
    "np.set_printoptions(threshold=np.inf)"
   ]
  },
  {
   "cell_type": "code",
   "execution_count": 644,
   "metadata": {},
   "outputs": [],
   "source": [
    "# get the minimum and maximum of the voltages\n",
    "def get_min_max_distance(voltages):\n",
    "    min_voltage = abs(np.nanmin(voltages) + 70)\n",
    "    max_voltage = abs(np.nanmax(voltages) - 40.1)\n",
    "    return min_voltage, max_voltage"
   ]
  },
  {
   "cell_type": "code",
   "execution_count": 645,
   "metadata": {},
   "outputs": [],
   "source": [
    "# original infer_params and names\n",
    "infer_names = Receptors.LigandGatedChannelFactory.infer_names\n",
    "infer_params = Receptors.LigandGatedChannelFactory.infer_params"
   ]
  },
  {
   "cell_type": "code",
   "execution_count": 646,
   "metadata": {},
   "outputs": [
    {
     "data": {
      "text/plain": [
       "{'gMax_AMPA': 0.0072,\n",
       " 'gMax_NMDA': 0.0144,\n",
       " 'gMax_GABA': 0.04,\n",
       " 'w_init_AMPA': 11.281441608630427,\n",
       " 'w_init_NMDA': 10.085930406900129,\n",
       " 'w_init_GABA': 11.450332843834373,\n",
       " 'e_init': 0.8,\n",
       " 'g_decay_init': 1,\n",
       " 'g_rise_init': 1,\n",
       " 'tau_pre': 20,\n",
       " 'tau_post': 10,\n",
       " 'tau_rec': 1,\n",
       " 'u_se': 1,\n",
       " 'tau_decay_AMPA': 35,\n",
       " 'tau_rise_AMPA': 7,\n",
       " 'tau_decay_NMDA': 15,\n",
       " 'tau_rise_NMDA': 7,\n",
       " 'tau_decay_GABA': 20,\n",
       " 'tau_rise_GABA': 7}"
      ]
     },
     "execution_count": 646,
     "metadata": {},
     "output_type": "execute_result"
    }
   ],
   "source": [
    "infer_params"
   ]
  },
  {
   "cell_type": "code",
   "execution_count": 647,
   "metadata": {},
   "outputs": [
    {
     "name": "stderr",
     "output_type": "stream",
     "text": [
      "/home/yaning/Documents/Spiking_NN/NN/Receptors.py:79: RuntimeWarning: overflow encountered in exp\n",
      "  self.m.alpha = .1*((25-self.Vm) / (np.exp((25-self.Vm)/10)-1))\n",
      "/home/yaning/Documents/Spiking_NN/NN/Receptors.py:80: RuntimeWarning: overflow encountered in exp\n",
      "  self.m.beta = 4*np.exp(-self.Vm/18)\n",
      "/home/yaning/Documents/Spiking_NN/NN/Receptors.py:81: RuntimeWarning: overflow encountered in exp\n",
      "  self.n.alpha = .01 * ((10-self.Vm) / (np.exp((10-self.Vm)/10)-1))\n",
      "/home/yaning/Documents/Spiking_NN/NN/Receptors.py:82: RuntimeWarning: overflow encountered in exp\n",
      "  self.n.beta = .125*np.exp(-self.Vm/80)\n",
      "/home/yaning/Documents/Spiking_NN/NN/Receptors.py:83: RuntimeWarning: overflow encountered in exp\n",
      "  self.h.alpha = .07*np.exp(-self.Vm/20)\n",
      "/home/yaning/Documents/Spiking_NN/NN/Receptors.py:84: RuntimeWarning: overflow encountered in exp\n",
      "  self.h.beta = 1/(np.exp((30-self.Vm)/10)+1)\n",
      "/home/yaning/Documents/Spiking_NN/NN/Network.py:88: RuntimeWarning: invalid value encountered in scalar add\n",
      "  self.I = Ina + Ik + Ileak + Ireceptors\n"
     ]
    }
   ],
   "source": [
    "# run first round\n",
    "voltages, firing, error_code, neurons = run_network.run(infer_params)"
   ]
  },
  {
   "cell_type": "code",
   "execution_count": 648,
   "metadata": {},
   "outputs": [],
   "source": [
    "min_voltage_old, max_voltage_old = get_min_max_distance(voltages)"
   ]
  },
  {
   "cell_type": "code",
   "execution_count": 649,
   "metadata": {},
   "outputs": [],
   "source": [
    "# # initial params\n",
    "# w_init_AMPA_mean = infer_params[\"w_init_AMPA_mean\"]\n",
    "# w_init_NMDA_mean = infer_params[\"w_init_AMPA_mean\"]\n",
    "# w_init_GABA_mean = 11.891703334259077\n",
    "\n"
   ]
  },
  {
   "cell_type": "code",
   "execution_count": 650,
   "metadata": {},
   "outputs": [
    {
     "name": "stderr",
     "output_type": "stream",
     "text": [
      "Processing:   2%|█                                                   | 1/50 [00:00<00:38,  1.28it/s]"
     ]
    },
    {
     "name": "stdout",
     "output_type": "stream",
     "text": [
      "this line runs\n"
     ]
    },
    {
     "name": "stderr",
     "output_type": "stream",
     "text": [
      "Processing:   4%|██                                                  | 2/50 [00:01<00:40,  1.17it/s]"
     ]
    },
    {
     "name": "stdout",
     "output_type": "stream",
     "text": [
      "this line runs\n"
     ]
    },
    {
     "name": "stderr",
     "output_type": "stream",
     "text": [
      "Processing:   6%|███                                                 | 3/50 [00:02<00:38,  1.23it/s]"
     ]
    },
    {
     "name": "stdout",
     "output_type": "stream",
     "text": [
      "this line runs\n"
     ]
    },
    {
     "name": "stderr",
     "output_type": "stream",
     "text": [
      "Processing:   8%|████▏                                               | 4/50 [00:03<00:36,  1.25it/s]"
     ]
    },
    {
     "name": "stdout",
     "output_type": "stream",
     "text": [
      "this line runs\n"
     ]
    },
    {
     "name": "stderr",
     "output_type": "stream",
     "text": [
      "Processing:  10%|█████▏                                              | 5/50 [00:03<00:35,  1.27it/s]"
     ]
    },
    {
     "name": "stdout",
     "output_type": "stream",
     "text": [
      "this line runs\n"
     ]
    },
    {
     "name": "stderr",
     "output_type": "stream",
     "text": [
      "Processing:  12%|██████▏                                             | 6/50 [00:04<00:34,  1.28it/s]"
     ]
    },
    {
     "name": "stdout",
     "output_type": "stream",
     "text": [
      "this line runs\n"
     ]
    },
    {
     "name": "stderr",
     "output_type": "stream",
     "text": [
      "Processing:  14%|███████▎                                            | 7/50 [00:05<00:33,  1.29it/s]"
     ]
    },
    {
     "name": "stdout",
     "output_type": "stream",
     "text": [
      "this line runs\n"
     ]
    },
    {
     "name": "stderr",
     "output_type": "stream",
     "text": [
      "Processing:  16%|████████▎                                           | 8/50 [00:06<00:32,  1.30it/s]"
     ]
    },
    {
     "name": "stdout",
     "output_type": "stream",
     "text": [
      "this line runs\n"
     ]
    },
    {
     "name": "stderr",
     "output_type": "stream",
     "text": [
      "Processing:  18%|█████████▎                                          | 9/50 [00:07<00:31,  1.30it/s]"
     ]
    },
    {
     "name": "stdout",
     "output_type": "stream",
     "text": [
      "this line runs\n"
     ]
    },
    {
     "name": "stderr",
     "output_type": "stream",
     "text": [
      "Processing:  20%|██████████▏                                        | 10/50 [00:07<00:32,  1.23it/s]"
     ]
    },
    {
     "name": "stdout",
     "output_type": "stream",
     "text": [
      "this line runs\n"
     ]
    },
    {
     "name": "stderr",
     "output_type": "stream",
     "text": [
      "Processing:  22%|███████████▏                                       | 11/50 [00:08<00:31,  1.25it/s]"
     ]
    },
    {
     "name": "stdout",
     "output_type": "stream",
     "text": [
      "this line runs\n"
     ]
    },
    {
     "name": "stderr",
     "output_type": "stream",
     "text": [
      "Processing:  24%|████████████▏                                      | 12/50 [00:09<00:30,  1.27it/s]"
     ]
    },
    {
     "name": "stdout",
     "output_type": "stream",
     "text": [
      "this line runs\n"
     ]
    },
    {
     "name": "stderr",
     "output_type": "stream",
     "text": [
      "Processing:  26%|█████████████▎                                     | 13/50 [00:10<00:28,  1.28it/s]"
     ]
    },
    {
     "name": "stdout",
     "output_type": "stream",
     "text": [
      "this line runs\n"
     ]
    },
    {
     "name": "stderr",
     "output_type": "stream",
     "text": [
      "Processing:  28%|██████████████▎                                    | 14/50 [00:11<00:27,  1.29it/s]"
     ]
    },
    {
     "name": "stdout",
     "output_type": "stream",
     "text": [
      "this line runs\n"
     ]
    },
    {
     "name": "stderr",
     "output_type": "stream",
     "text": [
      "Processing:  30%|███████████████▎                                   | 15/50 [00:11<00:27,  1.29it/s]"
     ]
    },
    {
     "name": "stdout",
     "output_type": "stream",
     "text": [
      "this line runs\n"
     ]
    },
    {
     "name": "stderr",
     "output_type": "stream",
     "text": [
      "Processing:  32%|████████████████▎                                  | 16/50 [00:12<00:26,  1.29it/s]"
     ]
    },
    {
     "name": "stdout",
     "output_type": "stream",
     "text": [
      "this line runs\n"
     ]
    },
    {
     "name": "stderr",
     "output_type": "stream",
     "text": [
      "Processing:  34%|█████████████████▎                                 | 17/50 [00:13<00:25,  1.30it/s]"
     ]
    },
    {
     "name": "stdout",
     "output_type": "stream",
     "text": [
      "this line runs\n"
     ]
    },
    {
     "name": "stderr",
     "output_type": "stream",
     "text": [
      "Processing:  36%|██████████████████▎                                | 18/50 [00:14<00:24,  1.30it/s]"
     ]
    },
    {
     "name": "stdout",
     "output_type": "stream",
     "text": [
      "this line runs\n"
     ]
    },
    {
     "name": "stderr",
     "output_type": "stream",
     "text": [
      "Processing:  38%|███████████████████▍                               | 19/50 [00:14<00:25,  1.24it/s]"
     ]
    },
    {
     "name": "stdout",
     "output_type": "stream",
     "text": [
      "this line runs\n"
     ]
    },
    {
     "name": "stderr",
     "output_type": "stream",
     "text": [
      "Processing:  40%|████████████████████▍                              | 20/50 [00:15<00:23,  1.26it/s]"
     ]
    },
    {
     "name": "stdout",
     "output_type": "stream",
     "text": [
      "this line runs\n"
     ]
    },
    {
     "name": "stderr",
     "output_type": "stream",
     "text": [
      "Processing:  42%|█████████████████████▍                             | 21/50 [00:16<00:22,  1.27it/s]"
     ]
    },
    {
     "name": "stdout",
     "output_type": "stream",
     "text": [
      "this line runs\n"
     ]
    },
    {
     "name": "stderr",
     "output_type": "stream",
     "text": [
      "Processing:  44%|██████████████████████▍                            | 22/50 [00:17<00:21,  1.28it/s]"
     ]
    },
    {
     "name": "stdout",
     "output_type": "stream",
     "text": [
      "this line runs\n"
     ]
    },
    {
     "name": "stderr",
     "output_type": "stream",
     "text": [
      "Processing:  46%|███████████████████████▍                           | 23/50 [00:18<00:21,  1.28it/s]"
     ]
    },
    {
     "name": "stdout",
     "output_type": "stream",
     "text": [
      "this line runs\n"
     ]
    },
    {
     "name": "stderr",
     "output_type": "stream",
     "text": [
      "Processing:  48%|████████████████████████▍                          | 24/50 [00:18<00:20,  1.29it/s]"
     ]
    },
    {
     "name": "stdout",
     "output_type": "stream",
     "text": [
      "this line runs\n"
     ]
    },
    {
     "name": "stderr",
     "output_type": "stream",
     "text": [
      "Processing:  50%|█████████████████████████▌                         | 25/50 [00:19<00:19,  1.29it/s]"
     ]
    },
    {
     "name": "stdout",
     "output_type": "stream",
     "text": [
      "this line runs\n"
     ]
    },
    {
     "name": "stderr",
     "output_type": "stream",
     "text": [
      "Processing:  52%|██████████████████████████▌                        | 26/50 [00:20<00:18,  1.30it/s]"
     ]
    },
    {
     "name": "stdout",
     "output_type": "stream",
     "text": [
      "this line runs\n"
     ]
    },
    {
     "name": "stderr",
     "output_type": "stream",
     "text": [
      "Processing:  54%|███████████████████████████▌                       | 27/50 [00:21<00:18,  1.24it/s]"
     ]
    },
    {
     "name": "stdout",
     "output_type": "stream",
     "text": [
      "this line runs\n"
     ]
    },
    {
     "name": "stderr",
     "output_type": "stream",
     "text": [
      "Processing:  56%|████████████████████████████▌                      | 28/50 [00:22<00:17,  1.26it/s]"
     ]
    },
    {
     "name": "stdout",
     "output_type": "stream",
     "text": [
      "this line runs\n"
     ]
    },
    {
     "name": "stderr",
     "output_type": "stream",
     "text": [
      "Processing:  58%|█████████████████████████████▌                     | 29/50 [00:22<00:16,  1.27it/s]"
     ]
    },
    {
     "name": "stdout",
     "output_type": "stream",
     "text": [
      "this line runs\n"
     ]
    },
    {
     "name": "stderr",
     "output_type": "stream",
     "text": [
      "Processing:  60%|██████████████████████████████▌                    | 30/50 [00:23<00:15,  1.28it/s]"
     ]
    },
    {
     "name": "stdout",
     "output_type": "stream",
     "text": [
      "this line runs\n"
     ]
    },
    {
     "name": "stderr",
     "output_type": "stream",
     "text": [
      "Processing:  62%|███████████████████████████████▌                   | 31/50 [00:24<00:14,  1.29it/s]"
     ]
    },
    {
     "name": "stdout",
     "output_type": "stream",
     "text": [
      "this line runs\n"
     ]
    },
    {
     "name": "stderr",
     "output_type": "stream",
     "text": [
      "Processing:  64%|████████████████████████████████▋                  | 32/50 [00:25<00:13,  1.29it/s]"
     ]
    },
    {
     "name": "stdout",
     "output_type": "stream",
     "text": [
      "this line runs\n"
     ]
    },
    {
     "name": "stderr",
     "output_type": "stream",
     "text": [
      "Processing:  66%|█████████████████████████████████▋                 | 33/50 [00:25<00:13,  1.30it/s]"
     ]
    },
    {
     "name": "stdout",
     "output_type": "stream",
     "text": [
      "this line runs\n"
     ]
    },
    {
     "name": "stderr",
     "output_type": "stream",
     "text": [
      "Processing:  68%|██████████████████████████████████▋                | 34/50 [00:26<00:12,  1.30it/s]"
     ]
    },
    {
     "name": "stdout",
     "output_type": "stream",
     "text": [
      "this line runs\n"
     ]
    },
    {
     "name": "stderr",
     "output_type": "stream",
     "text": [
      "Processing:  70%|███████████████████████████████████▋               | 35/50 [00:27<00:12,  1.24it/s]"
     ]
    },
    {
     "name": "stdout",
     "output_type": "stream",
     "text": [
      "this line runs\n"
     ]
    },
    {
     "name": "stderr",
     "output_type": "stream",
     "text": [
      "Processing:  72%|████████████████████████████████████▋              | 36/50 [00:28<00:11,  1.25it/s]"
     ]
    },
    {
     "name": "stdout",
     "output_type": "stream",
     "text": [
      "this line runs\n"
     ]
    },
    {
     "name": "stderr",
     "output_type": "stream",
     "text": [
      "Processing:  74%|█████████████████████████████████████▋             | 37/50 [00:29<00:10,  1.26it/s]"
     ]
    },
    {
     "name": "stdout",
     "output_type": "stream",
     "text": [
      "this line runs\n"
     ]
    },
    {
     "name": "stderr",
     "output_type": "stream",
     "text": [
      "Processing:  76%|██████████████████████████████████████▊            | 38/50 [00:29<00:09,  1.28it/s]"
     ]
    },
    {
     "name": "stdout",
     "output_type": "stream",
     "text": [
      "this line runs\n"
     ]
    },
    {
     "name": "stderr",
     "output_type": "stream",
     "text": [
      "Processing:  78%|███████████████████████████████████████▊           | 39/50 [00:30<00:08,  1.28it/s]"
     ]
    },
    {
     "name": "stdout",
     "output_type": "stream",
     "text": [
      "this line runs\n"
     ]
    },
    {
     "name": "stderr",
     "output_type": "stream",
     "text": [
      "Processing:  80%|████████████████████████████████████████▊          | 40/50 [00:31<00:07,  1.29it/s]"
     ]
    },
    {
     "name": "stdout",
     "output_type": "stream",
     "text": [
      "this line runs\n"
     ]
    },
    {
     "name": "stderr",
     "output_type": "stream",
     "text": [
      "Processing:  82%|█████████████████████████████████████████▊         | 41/50 [00:32<00:06,  1.29it/s]"
     ]
    },
    {
     "name": "stdout",
     "output_type": "stream",
     "text": [
      "this line runs\n"
     ]
    },
    {
     "name": "stderr",
     "output_type": "stream",
     "text": [
      "Processing:  84%|██████████████████████████████████████████▊        | 42/50 [00:32<00:06,  1.30it/s]"
     ]
    },
    {
     "name": "stdout",
     "output_type": "stream",
     "text": [
      "this line runs\n"
     ]
    },
    {
     "name": "stderr",
     "output_type": "stream",
     "text": [
      "Processing:  86%|███████████████████████████████████████████▊       | 43/50 [00:33<00:05,  1.23it/s]"
     ]
    },
    {
     "name": "stdout",
     "output_type": "stream",
     "text": [
      "this line runs\n"
     ]
    },
    {
     "name": "stderr",
     "output_type": "stream",
     "text": [
      "Processing:  88%|████████████████████████████████████████████▉      | 44/50 [00:34<00:04,  1.25it/s]"
     ]
    },
    {
     "name": "stdout",
     "output_type": "stream",
     "text": [
      "this line runs\n"
     ]
    },
    {
     "name": "stderr",
     "output_type": "stream",
     "text": [
      "Processing:  90%|█████████████████████████████████████████████▉     | 45/50 [00:35<00:03,  1.27it/s]"
     ]
    },
    {
     "name": "stdout",
     "output_type": "stream",
     "text": [
      "this line runs\n"
     ]
    },
    {
     "name": "stderr",
     "output_type": "stream",
     "text": [
      "Processing:  92%|██████████████████████████████████████████████▉    | 46/50 [00:36<00:03,  1.28it/s]"
     ]
    },
    {
     "name": "stdout",
     "output_type": "stream",
     "text": [
      "this line runs\n"
     ]
    },
    {
     "name": "stderr",
     "output_type": "stream",
     "text": [
      "Processing:  94%|███████████████████████████████████████████████▉   | 47/50 [00:36<00:02,  1.28it/s]"
     ]
    },
    {
     "name": "stdout",
     "output_type": "stream",
     "text": [
      "this line runs\n"
     ]
    },
    {
     "name": "stderr",
     "output_type": "stream",
     "text": [
      "Processing:  96%|████████████████████████████████████████████████▉  | 48/50 [00:37<00:01,  1.29it/s]"
     ]
    },
    {
     "name": "stdout",
     "output_type": "stream",
     "text": [
      "this line runs\n"
     ]
    },
    {
     "name": "stderr",
     "output_type": "stream",
     "text": [
      "Processing:  98%|█████████████████████████████████████████████████▉ | 49/50 [00:38<00:00,  1.30it/s]"
     ]
    },
    {
     "name": "stdout",
     "output_type": "stream",
     "text": [
      "this line runs\n"
     ]
    },
    {
     "name": "stderr",
     "output_type": "stream",
     "text": [
      "Processing: 100%|███████████████████████████████████████████████████| 50/50 [00:39<00:00,  1.28it/s]"
     ]
    },
    {
     "name": "stdout",
     "output_type": "stream",
     "text": [
      "this line runs\n"
     ]
    },
    {
     "name": "stderr",
     "output_type": "stream",
     "text": [
      "\n"
     ]
    }
   ],
   "source": [
    "samples = []\n",
    "for _ in tqdm(range(50), desc=\"Processing\", ncols=100):\n",
    "    # sampling\n",
    "    gMax_AMPA_new_sample = Normal(infer_params[\"gMax_AMPA\"], 1).sample()\n",
    "    gMax_NMDA_new_sample = Normal(infer_params[\"gMax_NMDA\"], 1).sample()\n",
    "    gMax_GABA_new_sample = Normal(infer_params[\"gMax_GABA\"], 1).sample()\n",
    "    w_init_AMPA_mean_new_sample = Normal(infer_params[\"w_init_AMPA\"], 20).sample()\n",
    "    w_init_NMDA_mean_new_sample = Normal(infer_params[\"w_init_NMDA\"], 20).sample()\n",
    "    w_init_GABA_mean_new_sample = Normal(infer_params[\"w_init_GABA\"], 20).sample()\n",
    "    \n",
    "    e_init_new_sample = Normal(infer_params[\"e_init\"], 0.01).sample() # 0.8\n",
    "    g_decay_init_new_sample = Normal(infer_params[\"g_decay_init\"], 1).sample() # 1\n",
    "    g_rise_init_new_sample = Normal(infer_params[\"g_rise_init\"], 1).sample() # 1\n",
    "    tau_pre_new_sample = Normal(infer_params[\"tau_pre\"], 5).sample() # 20\n",
    "    tau_post_new_sample = Normal(infer_params[\"tau_post\"], 5).sample() # 10\n",
    "    tau_rec_new_sample = Normal(infer_params[\"tau_rec\"], 2).sample() # 1\n",
    "    u_se_new_sample = Normal(infer_params[\"u_se\"], 2).sample() # 1\n",
    "    \n",
    "    tau_decay_AMPA_new_sample = Normal(infer_params[\"tau_decay_AMPA\"], 5).sample() # 35\n",
    "    tau_rise_AMPA_new_sample = Normal(infer_params[\"tau_rise_AMPA\"], 5).sample() # 7\n",
    "    tau_decay_NMDA_new_sample = Normal(infer_params[\"tau_decay_NMDA\"], 5).sample() # 15\n",
    "    tau_rise_NMDA_new_sample = Normal(infer_params[\"tau_rise_NMDA\"], 5).sample() # 7\n",
    "    tau_decay_GABA_new_sample = Normal(infer_params[\"tau_decay_GABA\"], 5).sample() # 20\n",
    "    tau_rise_GABA_new_sample = Normal(infer_params[\"tau_rise_GABA\"], 5).sample() # 7\n",
    "    \n",
    "    \n",
    "    temp_infer_params = infer_params\n",
    "    \n",
    "    temp_infer_params[\"gMax_AMPA\"] = gMax_AMPA_new_sample\n",
    "    temp_infer_params[\"gMax_NMDA\"] = gMax_NMDA_new_sample\n",
    "    temp_infer_params[\"gMax_GABA\"] = gMax_GABA_new_sample\n",
    "    temp_infer_params[\"w_init_AMPA\"] = w_init_AMPA_mean_new_sample\n",
    "    temp_infer_params[\"w_init_NMDA\"] = w_init_NMDA_mean_new_sample\n",
    "    temp_infer_params[\"w_init_GABA\"] = w_init_GABA_mean_new_sample\n",
    "    \n",
    "    temp_infer_params[\"e_init\"] = e_init_new_sample\n",
    "    temp_infer_params[\"g_decay_init\"] = g_decay_init_new_sample\n",
    "    temp_infer_params[\"g_rise_init\"] = g_rise_init_new_sample\n",
    "    temp_infer_params[\"tau_pre\"] = tau_pre_new_sample\n",
    "    temp_infer_params[\"tau_post\"] = tau_post_new_sample\n",
    "    temp_infer_params[\"tau_rec\"] = tau_rec_new_sample\n",
    "    temp_infer_params[\"u_se\"] = u_se_new_sample    \n",
    "    temp_infer_params[\"tau_decay_AMPA\"] = tau_decay_AMPA_new_sample\n",
    "    temp_infer_params[\"tau_rise_AMPA\"] = tau_rise_AMPA_new_sample\n",
    "    temp_infer_params[\"tau_decay_NMDA\"] =  tau_decay_NMDA_new_sample\n",
    "    temp_infer_params[\"tau_rise_NMDA\"] =  tau_rise_NMDA_new_sample\n",
    "    temp_infer_params[\"tau_decay_GABA\"] =  tau_decay_GABA_new_sample\n",
    "    temp_infer_params[\"tau_rise_GABA\"] =  tau_rise_GABA_new_sample\n",
    "    \n",
    "\n",
    "    # run with sampled value\n",
    "    voltages, firing, error_code, neurons = run_network.run(temp_infer_params)\n",
    "    \n",
    "    min_voltage_new, max_voltage_new = get_min_max_distance(voltages)\n",
    "    \n",
    "    # get the rates \n",
    "    min_voltage_rate = min_voltage_new/min_voltage_old\n",
    "    max_voltage_rate = max_voltage_new/max_voltage_old\n",
    "    \n",
    "    # print(min_voltage_new, min_voltage_old, max_voltage_new, max_voltage_old)\n",
    "    \n",
    "    combine_evaluation = min_voltage_rate*max_voltage_rate\n",
    "    # print(combine_evaluation)\n",
    "    if combine_evaluation >= 1 or combine_evaluation > Uniform(0,1).sample():\n",
    "        w_init_AMPA_mean = w_init_AMPA_mean_new_sample\n",
    "        w_init_NMDA_mean = w_init_NMDA_mean_new_sample\n",
    "        w_init_GABA_mean = w_init_GABA_mean_new_sample\n",
    "        \n",
    "        min_voltage_old = min_voltage_new\n",
    "        max_voltage_old = max_voltage_new\n",
    "        \n",
    "        infer_params = temp_infer_params\n",
    "        print(\"this line runs\")\n",
    "    \n",
    "    one_round_sample = []\n",
    "    for name in infer_names:\n",
    "        one_round_sample.append(infer_params[name])\n",
    "    \n",
    "    samples.append(one_round_sample)\n",
    "    \n"
   ]
  },
  {
   "cell_type": "code",
   "execution_count": 651,
   "metadata": {},
   "outputs": [],
   "source": [
    "# with warnings.catch_warnings(record=True) as caught_warnings:\n",
    "#     warnings.simplefilter(\"always\")  # Capture all warnings\n",
    "#     voltages, firing, error_code, neurons = run_network.run(infer_params)\n",
    "#     runtime_warnings = [w for w in caught_warnings if issubclass(w.category, RuntimeWarning)]\n",
    "#     print(f\"Number of RuntimeWarnings: {len(runtime_warnings)}\")"
   ]
  },
  {
   "cell_type": "code",
   "execution_count": 652,
   "metadata": {},
   "outputs": [
    {
     "data": {
      "text/plain": [
       "[[tensor(1.1860),\n",
       "  tensor(-1.0021),\n",
       "  tensor(-0.2860),\n",
       "  tensor(0.2668),\n",
       "  tensor(43.7239),\n",
       "  tensor(-3.2075),\n",
       "  tensor(0.7908),\n",
       "  tensor(1.5107),\n",
       "  tensor(0.7401),\n",
       "  tensor(25.4739),\n",
       "  tensor(3.2110),\n",
       "  tensor(4.0839),\n",
       "  tensor(1.5625),\n",
       "  tensor(41.5517),\n",
       "  tensor(1.4482),\n",
       "  tensor(12.4733),\n",
       "  tensor(9.2707),\n",
       "  tensor(16.6872),\n",
       "  tensor(9.7063)],\n",
       " [tensor(0.9192),\n",
       "  tensor(-0.2867),\n",
       "  tensor(-0.6755),\n",
       "  tensor(19.5187),\n",
       "  tensor(35.5744),\n",
       "  tensor(8.7520),\n",
       "  tensor(0.7756),\n",
       "  tensor(1.9600),\n",
       "  tensor(-0.1563),\n",
       "  tensor(24.2893),\n",
       "  tensor(1.7579),\n",
       "  tensor(3.0724),\n",
       "  tensor(2.1377),\n",
       "  tensor(41.3917),\n",
       "  tensor(-0.4255),\n",
       "  tensor(10.2897),\n",
       "  tensor(9.1739),\n",
       "  tensor(18.5725),\n",
       "  tensor(8.8698)],\n",
       " [tensor(-1.2123),\n",
       "  tensor(0.4785),\n",
       "  tensor(-1.5342),\n",
       "  tensor(32.5752),\n",
       "  tensor(13.9714),\n",
       "  tensor(28.6021),\n",
       "  tensor(0.7913),\n",
       "  tensor(1.3066),\n",
       "  tensor(-1.0417),\n",
       "  tensor(28.9661),\n",
       "  tensor(-0.5858),\n",
       "  tensor(3.8250),\n",
       "  tensor(1.2179),\n",
       "  tensor(44.1909),\n",
       "  tensor(-6.8088),\n",
       "  tensor(13.6661),\n",
       "  tensor(6.8375),\n",
       "  tensor(27.2680),\n",
       "  tensor(8.6177)],\n",
       " [tensor(-1.1995),\n",
       "  tensor(-1.6427),\n",
       "  tensor(-1.3630),\n",
       "  tensor(47.6087),\n",
       "  tensor(2.2744),\n",
       "  tensor(38.1072),\n",
       "  tensor(0.7860),\n",
       "  tensor(1.7884),\n",
       "  tensor(-1.2600),\n",
       "  tensor(29.6667),\n",
       "  tensor(-5.4950),\n",
       "  tensor(4.8428),\n",
       "  tensor(2.3859),\n",
       "  tensor(52.8578),\n",
       "  tensor(-8.5740),\n",
       "  tensor(14.8415),\n",
       "  tensor(1.5549),\n",
       "  tensor(34.0569),\n",
       "  tensor(12.2896)],\n",
       " [tensor(-3.0039),\n",
       "  tensor(-2.4394),\n",
       "  tensor(-0.5188),\n",
       "  tensor(54.0120),\n",
       "  tensor(-7.5878),\n",
       "  tensor(19.8340),\n",
       "  tensor(0.7909),\n",
       "  tensor(1.5908),\n",
       "  tensor(0.8285),\n",
       "  tensor(32.8466),\n",
       "  tensor(-2.3553),\n",
       "  tensor(5.1411),\n",
       "  tensor(4.2620),\n",
       "  tensor(56.5106),\n",
       "  tensor(-20.5930),\n",
       "  tensor(20.4351),\n",
       "  tensor(13.6667),\n",
       "  tensor(36.9942),\n",
       "  tensor(15.3225)],\n",
       " [tensor(-3.8869),\n",
       "  tensor(-1.8219),\n",
       "  tensor(-0.0425),\n",
       "  tensor(46.7114),\n",
       "  tensor(-4.3919),\n",
       "  tensor(5.4820),\n",
       "  tensor(0.7942),\n",
       "  tensor(1.7297),\n",
       "  tensor(-0.2710),\n",
       "  tensor(29.9258),\n",
       "  tensor(2.4347),\n",
       "  tensor(3.8507),\n",
       "  tensor(2.0276),\n",
       "  tensor(56.9181),\n",
       "  tensor(-19.2544),\n",
       "  tensor(9.9192),\n",
       "  tensor(20.7929),\n",
       "  tensor(35.9843),\n",
       "  tensor(23.3051)],\n",
       " [tensor(-4.8137),\n",
       "  tensor(-3.4720),\n",
       "  tensor(0.9680),\n",
       "  tensor(65.3660),\n",
       "  tensor(-7.9212),\n",
       "  tensor(27.3574),\n",
       "  tensor(0.7960),\n",
       "  tensor(3.5682),\n",
       "  tensor(-2.1598),\n",
       "  tensor(25.7380),\n",
       "  tensor(4.6850),\n",
       "  tensor(4.0113),\n",
       "  tensor(-0.7804),\n",
       "  tensor(59.0087),\n",
       "  tensor(-32.2792),\n",
       "  tensor(8.6090),\n",
       "  tensor(17.9926),\n",
       "  tensor(41.5551),\n",
       "  tensor(24.6615)],\n",
       " [tensor(-4.3384),\n",
       "  tensor(-4.0348),\n",
       "  tensor(0.2226),\n",
       "  tensor(44.5279),\n",
       "  tensor(-29.5654),\n",
       "  tensor(30.0037),\n",
       "  tensor(0.8003),\n",
       "  tensor(3.6712),\n",
       "  tensor(-0.8202),\n",
       "  tensor(20.2110),\n",
       "  tensor(-0.7547),\n",
       "  tensor(1.6198),\n",
       "  tensor(-0.4913),\n",
       "  tensor(57.8785),\n",
       "  tensor(-30.4128),\n",
       "  tensor(15.3296),\n",
       "  tensor(21.6249),\n",
       "  tensor(38.4758),\n",
       "  tensor(30.1447)],\n",
       " [tensor(-3.1556),\n",
       "  tensor(-4.9679),\n",
       "  tensor(-0.0967),\n",
       "  tensor(50.0551),\n",
       "  tensor(-19.4270),\n",
       "  tensor(30.0616),\n",
       "  tensor(0.8070),\n",
       "  tensor(4.7574),\n",
       "  tensor(-2.0722),\n",
       "  tensor(14.0885),\n",
       "  tensor(-6.5294),\n",
       "  tensor(4.6139),\n",
       "  tensor(2.3246),\n",
       "  tensor(48.8619),\n",
       "  tensor(-33.4789),\n",
       "  tensor(7.9276),\n",
       "  tensor(25.7381),\n",
       "  tensor(36.8517),\n",
       "  tensor(32.6106)],\n",
       " [tensor(-3.3638),\n",
       "  tensor(-4.1683),\n",
       "  tensor(-0.4189),\n",
       "  tensor(37.3270),\n",
       "  tensor(-32.8077),\n",
       "  tensor(63.1919),\n",
       "  tensor(0.8205),\n",
       "  tensor(5.1321),\n",
       "  tensor(-2.3068),\n",
       "  tensor(21.2519),\n",
       "  tensor(-2.1481),\n",
       "  tensor(5.5832),\n",
       "  tensor(1.5383),\n",
       "  tensor(47.7008),\n",
       "  tensor(-32.3275),\n",
       "  tensor(5.1745),\n",
       "  tensor(27.4086),\n",
       "  tensor(42.7712),\n",
       "  tensor(38.3831)],\n",
       " [tensor(-2.6746),\n",
       "  tensor(-6.0199),\n",
       "  tensor(0.2227),\n",
       "  tensor(25.8286),\n",
       "  tensor(-35.6230),\n",
       "  tensor(45.6632),\n",
       "  tensor(0.8350),\n",
       "  tensor(4.2966),\n",
       "  tensor(-2.0820),\n",
       "  tensor(19.7938),\n",
       "  tensor(4.8855),\n",
       "  tensor(7.6907),\n",
       "  tensor(0.1722),\n",
       "  tensor(54.0820),\n",
       "  tensor(-37.3036),\n",
       "  tensor(9.3951),\n",
       "  tensor(30.9023),\n",
       "  tensor(48.2408),\n",
       "  tensor(44.4796)],\n",
       " [tensor(-2.8734),\n",
       "  tensor(-6.8070),\n",
       "  tensor(0.2556),\n",
       "  tensor(41.3002),\n",
       "  tensor(-27.9918),\n",
       "  tensor(-0.6163),\n",
       "  tensor(0.8377),\n",
       "  tensor(4.0028),\n",
       "  tensor(-2.0722),\n",
       "  tensor(20.4612),\n",
       "  tensor(13.2655),\n",
       "  tensor(6.6179),\n",
       "  tensor(0.4921),\n",
       "  tensor(54.4389),\n",
       "  tensor(-42.4547),\n",
       "  tensor(8.4753),\n",
       "  tensor(33.6013),\n",
       "  tensor(41.4799),\n",
       "  tensor(34.4205)],\n",
       " [tensor(-4.8770),\n",
       "  tensor(-6.1430),\n",
       "  tensor(1.0320),\n",
       "  tensor(14.9588),\n",
       "  tensor(-43.8223),\n",
       "  tensor(10.3263),\n",
       "  tensor(0.8424),\n",
       "  tensor(3.1846),\n",
       "  tensor(-0.9323),\n",
       "  tensor(16.0635),\n",
       "  tensor(22.7668),\n",
       "  tensor(2.8464),\n",
       "  tensor(1.1999),\n",
       "  tensor(55.3967),\n",
       "  tensor(-38.6662),\n",
       "  tensor(10.2707),\n",
       "  tensor(30.2655),\n",
       "  tensor(44.6709),\n",
       "  tensor(38.5889)],\n",
       " [tensor(-4.2222),\n",
       "  tensor(-5.9866),\n",
       "  tensor(1.1742),\n",
       "  tensor(28.2898),\n",
       "  tensor(-29.6702),\n",
       "  tensor(5.1370),\n",
       "  tensor(0.8552),\n",
       "  tensor(3.4561),\n",
       "  tensor(-1.1359),\n",
       "  tensor(14.7350),\n",
       "  tensor(14.4811),\n",
       "  tensor(3.4851),\n",
       "  tensor(3.2455),\n",
       "  tensor(51.4623),\n",
       "  tensor(-39.7855),\n",
       "  tensor(2.3887),\n",
       "  tensor(29.1546),\n",
       "  tensor(36.6476),\n",
       "  tensor(42.3142)],\n",
       " [tensor(-6.3654),\n",
       "  tensor(-4.7764),\n",
       "  tensor(-0.5051),\n",
       "  tensor(52.6958),\n",
       "  tensor(-0.4866),\n",
       "  tensor(52.7150),\n",
       "  tensor(0.8536),\n",
       "  tensor(3.1905),\n",
       "  tensor(-2.2317),\n",
       "  tensor(23.4329),\n",
       "  tensor(15.4893),\n",
       "  tensor(2.1080),\n",
       "  tensor(4.7130),\n",
       "  tensor(56.6337),\n",
       "  tensor(-32.5742),\n",
       "  tensor(3.4806),\n",
       "  tensor(33.7251),\n",
       "  tensor(38.8107),\n",
       "  tensor(46.5043)],\n",
       " [tensor(-5.9291),\n",
       "  tensor(-4.3887),\n",
       "  tensor(-1.1055),\n",
       "  tensor(97.4158),\n",
       "  tensor(0.3848),\n",
       "  tensor(23.5165),\n",
       "  tensor(0.8563),\n",
       "  tensor(3.9442),\n",
       "  tensor(-2.1824),\n",
       "  tensor(17.1362),\n",
       "  tensor(10.5737),\n",
       "  tensor(1.1473),\n",
       "  tensor(3.7759),\n",
       "  tensor(57.9824),\n",
       "  tensor(-40.7122),\n",
       "  tensor(4.4632),\n",
       "  tensor(41.2857),\n",
       "  tensor(35.1570),\n",
       "  tensor(40.9506)],\n",
       " [tensor(-3.9296),\n",
       "  tensor(-4.2851),\n",
       "  tensor(-2.1455),\n",
       "  tensor(72.5157),\n",
       "  tensor(1.4462),\n",
       "  tensor(7.5786),\n",
       "  tensor(0.8509),\n",
       "  tensor(4.1186),\n",
       "  tensor(-3.6773),\n",
       "  tensor(12.1115),\n",
       "  tensor(9.5427),\n",
       "  tensor(1.1772),\n",
       "  tensor(4.9260),\n",
       "  tensor(57.1006),\n",
       "  tensor(-33.9511),\n",
       "  tensor(-2.7916),\n",
       "  tensor(46.5001),\n",
       "  tensor(30.0583),\n",
       "  tensor(45.0531)],\n",
       " [tensor(-5.7124),\n",
       "  tensor(-4.9021),\n",
       "  tensor(-1.6392),\n",
       "  tensor(67.4839),\n",
       "  tensor(22.2366),\n",
       "  tensor(-15.3821),\n",
       "  tensor(0.8603),\n",
       "  tensor(5.3421),\n",
       "  tensor(-3.5788),\n",
       "  tensor(18.8940),\n",
       "  tensor(7.4133),\n",
       "  tensor(1.6177),\n",
       "  tensor(6.4600),\n",
       "  tensor(66.3079),\n",
       "  tensor(-36.9623),\n",
       "  tensor(2.1195),\n",
       "  tensor(44.9759),\n",
       "  tensor(34.4157),\n",
       "  tensor(43.3300)],\n",
       " [tensor(-6.8693),\n",
       "  tensor(-5.5586),\n",
       "  tensor(0.3974),\n",
       "  tensor(72.5370),\n",
       "  tensor(24.2829),\n",
       "  tensor(-5.8882),\n",
       "  tensor(0.8687),\n",
       "  tensor(5.0437),\n",
       "  tensor(-2.5469),\n",
       "  tensor(21.3484),\n",
       "  tensor(4.8506),\n",
       "  tensor(2.5601),\n",
       "  tensor(7.2286),\n",
       "  tensor(66.2417),\n",
       "  tensor(-38.6416),\n",
       "  tensor(3.6707),\n",
       "  tensor(49.4415),\n",
       "  tensor(29.5869),\n",
       "  tensor(43.8127)],\n",
       " [tensor(-6.9406),\n",
       "  tensor(-5.3816),\n",
       "  tensor(0.6604),\n",
       "  tensor(86.9215),\n",
       "  tensor(36.8905),\n",
       "  tensor(-20.6789),\n",
       "  tensor(0.8606),\n",
       "  tensor(4.6684),\n",
       "  tensor(-2.8793),\n",
       "  tensor(25.5178),\n",
       "  tensor(2.1624),\n",
       "  tensor(2.4843),\n",
       "  tensor(6.2656),\n",
       "  tensor(63.7198),\n",
       "  tensor(-35.8602),\n",
       "  tensor(-3.8062),\n",
       "  tensor(41.1580),\n",
       "  tensor(20.8249),\n",
       "  tensor(49.9523)],\n",
       " [tensor(-6.0509),\n",
       "  tensor(-5.6501),\n",
       "  tensor(1.4982),\n",
       "  tensor(80.3879),\n",
       "  tensor(5.3812),\n",
       "  tensor(-55.3760),\n",
       "  tensor(0.8754),\n",
       "  tensor(4.2489),\n",
       "  tensor(-3.1875),\n",
       "  tensor(24.7844),\n",
       "  tensor(4.6571),\n",
       "  tensor(-3.2761),\n",
       "  tensor(3.8997),\n",
       "  tensor(67.8711),\n",
       "  tensor(-36.6261),\n",
       "  tensor(-14.1869),\n",
       "  tensor(36.6966),\n",
       "  tensor(14.1492),\n",
       "  tensor(55.1312)],\n",
       " [tensor(-6.4615),\n",
       "  tensor(-6.2477),\n",
       "  tensor(0.8102),\n",
       "  tensor(67.5859),\n",
       "  tensor(59.5749),\n",
       "  tensor(-73.2984),\n",
       "  tensor(0.8800),\n",
       "  tensor(3.0567),\n",
       "  tensor(-3.9045),\n",
       "  tensor(19.7619),\n",
       "  tensor(10.8105),\n",
       "  tensor(-5.5999),\n",
       "  tensor(4.5748),\n",
       "  tensor(60.7279),\n",
       "  tensor(-34.0127),\n",
       "  tensor(-9.0539),\n",
       "  tensor(32.0847),\n",
       "  tensor(10.9938),\n",
       "  tensor(47.9169)],\n",
       " [tensor(-6.1341),\n",
       "  tensor(-6.9633),\n",
       "  tensor(2.6225),\n",
       "  tensor(80.3124),\n",
       "  tensor(57.6983),\n",
       "  tensor(-94.3826),\n",
       "  tensor(0.8790),\n",
       "  tensor(4.7251),\n",
       "  tensor(-2.3591),\n",
       "  tensor(16.2014),\n",
       "  tensor(9.5089),\n",
       "  tensor(-5.7893),\n",
       "  tensor(5.6185),\n",
       "  tensor(62.3740),\n",
       "  tensor(-36.8564),\n",
       "  tensor(-12.1170),\n",
       "  tensor(30.4392),\n",
       "  tensor(5.6791),\n",
       "  tensor(45.3119)],\n",
       " [tensor(-5.4267),\n",
       "  tensor(-6.5726),\n",
       "  tensor(2.6498),\n",
       "  tensor(89.4105),\n",
       "  tensor(66.7428),\n",
       "  tensor(-80.8906),\n",
       "  tensor(0.8725),\n",
       "  tensor(4.9203),\n",
       "  tensor(-2.2966),\n",
       "  tensor(23.9491),\n",
       "  tensor(12.2248),\n",
       "  tensor(-5.6747),\n",
       "  tensor(8.5220),\n",
       "  tensor(69.2225),\n",
       "  tensor(-36.1312),\n",
       "  tensor(-11.4315),\n",
       "  tensor(25.9180),\n",
       "  tensor(4.6050),\n",
       "  tensor(47.3658)],\n",
       " [tensor(-7.7689),\n",
       "  tensor(-6.2513),\n",
       "  tensor(2.2814),\n",
       "  tensor(78.0045),\n",
       "  tensor(73.8779),\n",
       "  tensor(-86.7494),\n",
       "  tensor(0.8671),\n",
       "  tensor(4.1978),\n",
       "  tensor(-2.1755),\n",
       "  tensor(24.0443),\n",
       "  tensor(14.4836),\n",
       "  tensor(-6.1020),\n",
       "  tensor(9.9876),\n",
       "  tensor(58.4426),\n",
       "  tensor(-36.0075),\n",
       "  tensor(-7.6802),\n",
       "  tensor(23.0744),\n",
       "  tensor(10.1958),\n",
       "  tensor(46.7552)],\n",
       " [tensor(-8.8984),\n",
       "  tensor(-6.6011),\n",
       "  tensor(3.7613),\n",
       "  tensor(81.3017),\n",
       "  tensor(58.7415),\n",
       "  tensor(-140.2716),\n",
       "  tensor(0.8807),\n",
       "  tensor(3.7330),\n",
       "  tensor(-3.0849),\n",
       "  tensor(24.5278),\n",
       "  tensor(11.2199),\n",
       "  tensor(-7.5122),\n",
       "  tensor(9.2065),\n",
       "  tensor(69.4035),\n",
       "  tensor(-37.0196),\n",
       "  tensor(-12.7518),\n",
       "  tensor(18.0923),\n",
       "  tensor(16.0714),\n",
       "  tensor(46.1882)],\n",
       " [tensor(-9.7215),\n",
       "  tensor(-5.8433),\n",
       "  tensor(3.9120),\n",
       "  tensor(88.8349),\n",
       "  tensor(51.9183),\n",
       "  tensor(-144.1440),\n",
       "  tensor(0.8795),\n",
       "  tensor(3.4695),\n",
       "  tensor(-4.7378),\n",
       "  tensor(28.7362),\n",
       "  tensor(-0.5577),\n",
       "  tensor(-4.9663),\n",
       "  tensor(9.4204),\n",
       "  tensor(70.7006),\n",
       "  tensor(-42.7961),\n",
       "  tensor(-11.9676),\n",
       "  tensor(18.3038),\n",
       "  tensor(19.7282),\n",
       "  tensor(42.6450)],\n",
       " [tensor(-9.8437),\n",
       "  tensor(-5.1086),\n",
       "  tensor(2.0887),\n",
       "  tensor(38.9413),\n",
       "  tensor(64.8055),\n",
       "  tensor(-129.9543),\n",
       "  tensor(0.8607),\n",
       "  tensor(4.6527),\n",
       "  tensor(-5.2710),\n",
       "  tensor(33.5544),\n",
       "  tensor(0.1933),\n",
       "  tensor(-5.3965),\n",
       "  tensor(7.6698),\n",
       "  tensor(73.6667),\n",
       "  tensor(-38.2166),\n",
       "  tensor(-10.8266),\n",
       "  tensor(21.7486),\n",
       "  tensor(18.0320),\n",
       "  tensor(43.4466)],\n",
       " [tensor(-9.5783),\n",
       "  tensor(-4.5273),\n",
       "  tensor(1.1579),\n",
       "  tensor(18.1372),\n",
       "  tensor(76.7384),\n",
       "  tensor(-132.1946),\n",
       "  tensor(0.8478),\n",
       "  tensor(4.5222),\n",
       "  tensor(-7.0730),\n",
       "  tensor(37.6405),\n",
       "  tensor(-10.3119),\n",
       "  tensor(-7.0916),\n",
       "  tensor(8.3891),\n",
       "  tensor(74.9347),\n",
       "  tensor(-41.3225),\n",
       "  tensor(-4.6893),\n",
       "  tensor(20.6146),\n",
       "  tensor(21.5759),\n",
       "  tensor(42.8206)],\n",
       " [tensor(-11.2780),\n",
       "  tensor(-3.1671),\n",
       "  tensor(1.7547),\n",
       "  tensor(11.0895),\n",
       "  tensor(89.1664),\n",
       "  tensor(-141.6087),\n",
       "  tensor(0.8446),\n",
       "  tensor(5.3294),\n",
       "  tensor(-6.5846),\n",
       "  tensor(35.6351),\n",
       "  tensor(-11.1094),\n",
       "  tensor(-5.6795),\n",
       "  tensor(8.3583),\n",
       "  tensor(72.0278),\n",
       "  tensor(-41.8078),\n",
       "  tensor(10.5355),\n",
       "  tensor(23.0027),\n",
       "  tensor(28.0054),\n",
       "  tensor(42.9623)],\n",
       " [tensor(-11.8124),\n",
       "  tensor(-4.5312),\n",
       "  tensor(1.8142),\n",
       "  tensor(-2.1501),\n",
       "  tensor(80.7612),\n",
       "  tensor(-137.2000),\n",
       "  tensor(0.8366),\n",
       "  tensor(3.4094),\n",
       "  tensor(-8.8710),\n",
       "  tensor(36.2727),\n",
       "  tensor(-17.8577),\n",
       "  tensor(-5.2846),\n",
       "  tensor(5.0750),\n",
       "  tensor(68.6620),\n",
       "  tensor(-46.4067),\n",
       "  tensor(15.2778),\n",
       "  tensor(22.5340),\n",
       "  tensor(33.8565),\n",
       "  tensor(44.3781)],\n",
       " [tensor(-11.7578),\n",
       "  tensor(-4.9441),\n",
       "  tensor(1.2521),\n",
       "  tensor(-14.8865),\n",
       "  tensor(51.4529),\n",
       "  tensor(-169.7544),\n",
       "  tensor(0.8238),\n",
       "  tensor(4.0380),\n",
       "  tensor(-9.4494),\n",
       "  tensor(36.8600),\n",
       "  tensor(-25.7716),\n",
       "  tensor(-7.0615),\n",
       "  tensor(8.6899),\n",
       "  tensor(71.4790),\n",
       "  tensor(-47.4788),\n",
       "  tensor(11.3449),\n",
       "  tensor(23.7005),\n",
       "  tensor(39.6839),\n",
       "  tensor(43.6197)],\n",
       " [tensor(-12.2658),\n",
       "  tensor(-3.9921),\n",
       "  tensor(2.1410),\n",
       "  tensor(1.8980),\n",
       "  tensor(56.2923),\n",
       "  tensor(-166.6146),\n",
       "  tensor(0.8302),\n",
       "  tensor(4.1272),\n",
       "  tensor(-10.6265),\n",
       "  tensor(32.0629),\n",
       "  tensor(-21.6570),\n",
       "  tensor(-7.3063),\n",
       "  tensor(8.2188),\n",
       "  tensor(71.4178),\n",
       "  tensor(-54.6799),\n",
       "  tensor(19.0228),\n",
       "  tensor(25.1180),\n",
       "  tensor(37.0543),\n",
       "  tensor(44.7954)],\n",
       " [tensor(-10.9635),\n",
       "  tensor(-3.9924),\n",
       "  tensor(2.5244),\n",
       "  tensor(-31.1488),\n",
       "  tensor(21.9562),\n",
       "  tensor(-162.5435),\n",
       "  tensor(0.8231),\n",
       "  tensor(6.6320),\n",
       "  tensor(-11.5832),\n",
       "  tensor(40.7788),\n",
       "  tensor(-18.1626),\n",
       "  tensor(-6.7011),\n",
       "  tensor(6.5671),\n",
       "  tensor(63.3247),\n",
       "  tensor(-50.6216),\n",
       "  tensor(13.0896),\n",
       "  tensor(20.6983),\n",
       "  tensor(42.1313),\n",
       "  tensor(50.6317)],\n",
       " [tensor(-11.8212),\n",
       "  tensor(-3.5577),\n",
       "  tensor(2.7337),\n",
       "  tensor(-53.0301),\n",
       "  tensor(3.5348),\n",
       "  tensor(-178.5891),\n",
       "  tensor(0.8323),\n",
       "  tensor(6.6590),\n",
       "  tensor(-12.9044),\n",
       "  tensor(35.8269),\n",
       "  tensor(-13.3069),\n",
       "  tensor(-5.7063),\n",
       "  tensor(7.3110),\n",
       "  tensor(58.7455),\n",
       "  tensor(-51.1705),\n",
       "  tensor(20.2461),\n",
       "  tensor(22.5167),\n",
       "  tensor(47.8445),\n",
       "  tensor(48.1234)],\n",
       " [tensor(-12.0434),\n",
       "  tensor(-3.9693),\n",
       "  tensor(4.0834),\n",
       "  tensor(-60.2814),\n",
       "  tensor(22.1894),\n",
       "  tensor(-189.6680),\n",
       "  tensor(0.8385),\n",
       "  tensor(8.4033),\n",
       "  tensor(-13.5787),\n",
       "  tensor(39.5426),\n",
       "  tensor(-14.6397),\n",
       "  tensor(-4.2962),\n",
       "  tensor(5.0415),\n",
       "  tensor(72.5042),\n",
       "  tensor(-55.5258),\n",
       "  tensor(20.5966),\n",
       "  tensor(26.8984),\n",
       "  tensor(41.7697),\n",
       "  tensor(49.7668)],\n",
       " [tensor(-12.0363),\n",
       "  tensor(-3.3369),\n",
       "  tensor(4.6087),\n",
       "  tensor(-37.3350),\n",
       "  tensor(-10.0561),\n",
       "  tensor(-169.8570),\n",
       "  tensor(0.8461),\n",
       "  tensor(9.1679),\n",
       "  tensor(-13.9897),\n",
       "  tensor(38.6980),\n",
       "  tensor(-11.0809),\n",
       "  tensor(-3.0196),\n",
       "  tensor(7.7281),\n",
       "  tensor(69.6373),\n",
       "  tensor(-58.6054),\n",
       "  tensor(11.6782),\n",
       "  tensor(30.2874),\n",
       "  tensor(47.6445),\n",
       "  tensor(51.5333)],\n",
       " [tensor(-11.7461),\n",
       "  tensor(-4.3795),\n",
       "  tensor(5.5159),\n",
       "  tensor(-39.9815),\n",
       "  tensor(-34.4472),\n",
       "  tensor(-151.4305),\n",
       "  tensor(0.8420),\n",
       "  tensor(10.3209),\n",
       "  tensor(-13.0174),\n",
       "  tensor(22.6261),\n",
       "  tensor(-21.0305),\n",
       "  tensor(0.8837),\n",
       "  tensor(6.4120),\n",
       "  tensor(71.0114),\n",
       "  tensor(-62.8371),\n",
       "  tensor(10.1477),\n",
       "  tensor(27.1428),\n",
       "  tensor(50.8420),\n",
       "  tensor(61.0850)],\n",
       " [tensor(-11.0825),\n",
       "  tensor(-4.5014),\n",
       "  tensor(5.0626),\n",
       "  tensor(-37.5556),\n",
       "  tensor(-40.5257),\n",
       "  tensor(-162.3675),\n",
       "  tensor(0.8318),\n",
       "  tensor(10.1194),\n",
       "  tensor(-12.4053),\n",
       "  tensor(26.8921),\n",
       "  tensor(-28.5339),\n",
       "  tensor(-1.3854),\n",
       "  tensor(3.8630),\n",
       "  tensor(71.6218),\n",
       "  tensor(-53.3680),\n",
       "  tensor(7.8937),\n",
       "  tensor(21.8377),\n",
       "  tensor(53.3747),\n",
       "  tensor(54.9941)],\n",
       " [tensor(-11.3652),\n",
       "  tensor(-3.5707),\n",
       "  tensor(4.4483),\n",
       "  tensor(5.6997),\n",
       "  tensor(-57.9877),\n",
       "  tensor(-136.0427),\n",
       "  tensor(0.8420),\n",
       "  tensor(9.3037),\n",
       "  tensor(-10.4049),\n",
       "  tensor(29.8900),\n",
       "  tensor(-23.3955),\n",
       "  tensor(-0.8254),\n",
       "  tensor(2.4521),\n",
       "  tensor(68.9333),\n",
       "  tensor(-51.8632),\n",
       "  tensor(13.1913),\n",
       "  tensor(24.7546),\n",
       "  tensor(53.3526),\n",
       "  tensor(55.8279)],\n",
       " [tensor(-11.3159),\n",
       "  tensor(-5.3851),\n",
       "  tensor(3.4913),\n",
       "  tensor(-13.0544),\n",
       "  tensor(-69.7611),\n",
       "  tensor(-121.6328),\n",
       "  tensor(0.8455),\n",
       "  tensor(9.9248),\n",
       "  tensor(-10.3096),\n",
       "  tensor(30.1170),\n",
       "  tensor(-22.7558),\n",
       "  tensor(-4.4009),\n",
       "  tensor(1.3328),\n",
       "  tensor(66.0637),\n",
       "  tensor(-48.3558),\n",
       "  tensor(10.7708),\n",
       "  tensor(17.8993),\n",
       "  tensor(52.0217),\n",
       "  tensor(56.2397)],\n",
       " [tensor(-11.1856),\n",
       "  tensor(-4.2883),\n",
       "  tensor(2.2260),\n",
       "  tensor(-32.8503),\n",
       "  tensor(-43.4791),\n",
       "  tensor(-141.1055),\n",
       "  tensor(0.8550),\n",
       "  tensor(10.8680),\n",
       "  tensor(-10.1142),\n",
       "  tensor(32.3890),\n",
       "  tensor(-26.9682),\n",
       "  tensor(-1.8344),\n",
       "  tensor(2.3709),\n",
       "  tensor(65.5729),\n",
       "  tensor(-43.6211),\n",
       "  tensor(16.3752),\n",
       "  tensor(21.4064),\n",
       "  tensor(55.8218),\n",
       "  tensor(52.9048)],\n",
       " [tensor(-10.7678),\n",
       "  tensor(-3.4176),\n",
       "  tensor(4.1728),\n",
       "  tensor(-46.8562),\n",
       "  tensor(-28.4766),\n",
       "  tensor(-122.2050),\n",
       "  tensor(0.8604),\n",
       "  tensor(10.4534),\n",
       "  tensor(-9.8353),\n",
       "  tensor(24.7180),\n",
       "  tensor(-28.8069),\n",
       "  tensor(-3.2000),\n",
       "  tensor(-0.4748),\n",
       "  tensor(72.6605),\n",
       "  tensor(-44.3943),\n",
       "  tensor(9.6115),\n",
       "  tensor(19.2955),\n",
       "  tensor(58.9001),\n",
       "  tensor(56.6637)],\n",
       " [tensor(-11.9752),\n",
       "  tensor(-4.1750),\n",
       "  tensor(4.7282),\n",
       "  tensor(-54.3948),\n",
       "  tensor(19.6438),\n",
       "  tensor(-99.0895),\n",
       "  tensor(0.8599),\n",
       "  tensor(11.1317),\n",
       "  tensor(-9.1073),\n",
       "  tensor(18.5667),\n",
       "  tensor(-33.1913),\n",
       "  tensor(-1.7692),\n",
       "  tensor(-4.1466),\n",
       "  tensor(67.4371),\n",
       "  tensor(-45.9361),\n",
       "  tensor(7.0668),\n",
       "  tensor(18.2714),\n",
       "  tensor(55.4666),\n",
       "  tensor(55.6289)],\n",
       " [tensor(-11.2125),\n",
       "  tensor(-3.9694),\n",
       "  tensor(1.9714),\n",
       "  tensor(-39.9070),\n",
       "  tensor(30.9779),\n",
       "  tensor(-105.9443),\n",
       "  tensor(0.8540),\n",
       "  tensor(8.5308),\n",
       "  tensor(-7.5598),\n",
       "  tensor(16.6646),\n",
       "  tensor(-35.5804),\n",
       "  tensor(-0.6393),\n",
       "  tensor(-6.1169),\n",
       "  tensor(65.9669),\n",
       "  tensor(-33.9385),\n",
       "  tensor(9.7685),\n",
       "  tensor(18.6630),\n",
       "  tensor(52.6613),\n",
       "  tensor(63.5737)],\n",
       " [tensor(-12.9684),\n",
       "  tensor(-4.0961),\n",
       "  tensor(3.2636),\n",
       "  tensor(-33.8749),\n",
       "  tensor(62.1802),\n",
       "  tensor(-114.0800),\n",
       "  tensor(0.8573),\n",
       "  tensor(8.8867),\n",
       "  tensor(-6.9300),\n",
       "  tensor(20.2584),\n",
       "  tensor(-38.8687),\n",
       "  tensor(-0.7323),\n",
       "  tensor(-5.5834),\n",
       "  tensor(67.6059),\n",
       "  tensor(-44.8325),\n",
       "  tensor(9.0491),\n",
       "  tensor(13.6321),\n",
       "  tensor(59.7047),\n",
       "  tensor(65.6043)],\n",
       " [tensor(-15.2686),\n",
       "  tensor(-5.3817),\n",
       "  tensor(4.0374),\n",
       "  tensor(-60.5365),\n",
       "  tensor(70.6673),\n",
       "  tensor(-161.6474),\n",
       "  tensor(0.8582),\n",
       "  tensor(9.2679),\n",
       "  tensor(-5.3071),\n",
       "  tensor(19.3776),\n",
       "  tensor(-48.0937),\n",
       "  tensor(-0.1382),\n",
       "  tensor(-5.1509),\n",
       "  tensor(64.9889),\n",
       "  tensor(-50.4324),\n",
       "  tensor(15.1696),\n",
       "  tensor(10.6678),\n",
       "  tensor(69.1660),\n",
       "  tensor(63.1096)],\n",
       " [tensor(-15.3596),\n",
       "  tensor(-4.2700),\n",
       "  tensor(3.7419),\n",
       "  tensor(-81.6351),\n",
       "  tensor(90.3536),\n",
       "  tensor(-184.4895),\n",
       "  tensor(0.8615),\n",
       "  tensor(9.3280),\n",
       "  tensor(-5.2449),\n",
       "  tensor(17.7438),\n",
       "  tensor(-53.3396),\n",
       "  tensor(-2.3099),\n",
       "  tensor(-8.1040),\n",
       "  tensor(65.4045),\n",
       "  tensor(-50.1400),\n",
       "  tensor(13.5051),\n",
       "  tensor(6.5893),\n",
       "  tensor(76.5020),\n",
       "  tensor(63.6890)],\n",
       " [tensor(-14.6971),\n",
       "  tensor(-4.6815),\n",
       "  tensor(4.2617),\n",
       "  tensor(-104.5867),\n",
       "  tensor(106.3411),\n",
       "  tensor(-196.5786),\n",
       "  tensor(0.8482),\n",
       "  tensor(10.9419),\n",
       "  tensor(-5.7495),\n",
       "  tensor(11.2350),\n",
       "  tensor(-52.5388),\n",
       "  tensor(-5.0048),\n",
       "  tensor(-9.6051),\n",
       "  tensor(64.8565),\n",
       "  tensor(-54.2982),\n",
       "  tensor(21.6171),\n",
       "  tensor(8.8983),\n",
       "  tensor(73.4844),\n",
       "  tensor(60.1077)],\n",
       " [tensor(-14.0526),\n",
       "  tensor(-5.2474),\n",
       "  tensor(5.2461),\n",
       "  tensor(-112.1870),\n",
       "  tensor(97.5031),\n",
       "  tensor(-189.8689),\n",
       "  tensor(0.8475),\n",
       "  tensor(12.4638),\n",
       "  tensor(-6.1989),\n",
       "  tensor(7.4179),\n",
       "  tensor(-46.5818),\n",
       "  tensor(-6.8375),\n",
       "  tensor(-11.0729),\n",
       "  tensor(54.9917),\n",
       "  tensor(-54.2397),\n",
       "  tensor(16.3072),\n",
       "  tensor(15.7766),\n",
       "  tensor(74.0719),\n",
       "  tensor(61.7575)]]"
      ]
     },
     "execution_count": 652,
     "metadata": {},
     "output_type": "execute_result"
    }
   ],
   "source": [
    "samples"
   ]
  },
  {
   "cell_type": "code",
   "execution_count": 653,
   "metadata": {},
   "outputs": [],
   "source": [
    "samples_array = np.array(samples)"
   ]
  },
  {
   "cell_type": "code",
   "execution_count": 654,
   "metadata": {},
   "outputs": [
    {
     "data": {
      "text/plain": [
       "(50, 19)"
      ]
     },
     "execution_count": 654,
     "metadata": {},
     "output_type": "execute_result"
    }
   ],
   "source": [
    "samples_array.shape"
   ]
  },
  {
   "cell_type": "code",
   "execution_count": 655,
   "metadata": {},
   "outputs": [
    {
     "data": {
      "text/plain": [
       "array([[ 1.18597627e+00, -1.00209534e+00, -2.86001831e-01,\n",
       "         2.66791344e-01,  4.37238617e+01, -3.20748043e+00,\n",
       "         7.90809453e-01,  1.51072121e+00,  7.40114152e-01,\n",
       "         2.54739323e+01,  3.21102190e+00,  4.08390188e+00,\n",
       "         1.56245470e+00,  4.15516586e+01,  1.44823456e+00,\n",
       "         1.24732828e+01,  9.27072430e+00,  1.66872215e+01,\n",
       "         9.70631790e+00],\n",
       "       [ 9.19187069e-01, -2.86699176e-01, -6.75511837e-01,\n",
       "         1.95186996e+01,  3.55744286e+01,  8.75204468e+00,\n",
       "         7.75605381e-01,  1.95996809e+00, -1.56261623e-01,\n",
       "         2.42892570e+01,  1.75793433e+00,  3.07240963e+00,\n",
       "         2.13773823e+00,  4.13916779e+01, -4.25515056e-01,\n",
       "         1.02896595e+01,  9.17393017e+00,  1.85725193e+01,\n",
       "         8.86976242e+00],\n",
       "       [-1.21229243e+00,  4.78541911e-01, -1.53417361e+00,\n",
       "         3.25752449e+01,  1.39714451e+01,  2.86020851e+01,\n",
       "         7.91294873e-01,  1.30664253e+00, -1.04168987e+00,\n",
       "         2.89660606e+01, -5.85815191e-01,  3.82503200e+00,\n",
       "         1.21790254e+00,  4.41909103e+01, -6.80876255e+00,\n",
       "         1.36660757e+01,  6.83745718e+00,  2.72679958e+01,\n",
       "         8.61771774e+00],\n",
       "       [-1.19954216e+00, -1.64269662e+00, -1.36295521e+00,\n",
       "         4.76087036e+01,  2.27439213e+00,  3.81071854e+01,\n",
       "         7.85960317e-01,  1.78840446e+00, -1.25998998e+00,\n",
       "         2.96667175e+01, -5.49501228e+00,  4.84279823e+00,\n",
       "         2.38589382e+00,  5.28577881e+01, -8.57398701e+00,\n",
       "         1.48414879e+01,  1.55489302e+00,  3.40568924e+01,\n",
       "         1.22896175e+01],\n",
       "       [-3.00392294e+00, -2.43943429e+00, -5.18807292e-01,\n",
       "         5.40120049e+01, -7.58781147e+00,  1.98339806e+01,\n",
       "         7.90866733e-01,  1.59083819e+00,  8.28497171e-01,\n",
       "         3.28466415e+01, -2.35533309e+00,  5.14109039e+00,\n",
       "         4.26195955e+00,  5.65106316e+01, -2.05929756e+01,\n",
       "         2.04351463e+01,  1.36667290e+01,  3.69941940e+01,\n",
       "         1.53225002e+01],\n",
       "       [-3.88690209e+00, -1.82185602e+00, -4.25428152e-02,\n",
       "         4.67113800e+01, -4.39190292e+00,  5.48204899e+00,\n",
       "         7.94179082e-01,  1.72968721e+00, -2.71022558e-01,\n",
       "         2.99258308e+01,  2.43466783e+00,  3.85066986e+00,\n",
       "         2.02760363e+00,  5.69180679e+01, -1.92544155e+01,\n",
       "         9.91916180e+00,  2.07928619e+01,  3.59843025e+01,\n",
       "         2.33051071e+01],\n",
       "       [-4.81370878e+00, -3.47202682e+00,  9.67996359e-01,\n",
       "         6.53660431e+01, -7.92118216e+00,  2.73573532e+01,\n",
       "         7.95951486e-01,  3.56820965e+00, -2.15982366e+00,\n",
       "         2.57380085e+01,  4.68498325e+00,  4.01132154e+00,\n",
       "        -7.80403614e-01,  5.90086937e+01, -3.22792320e+01,\n",
       "         8.60901642e+00,  1.79925575e+01,  4.15550690e+01,\n",
       "         2.46615276e+01],\n",
       "       [-4.33835316e+00, -4.03478527e+00,  2.22576797e-01,\n",
       "         4.45278587e+01, -2.95654087e+01,  3.00036831e+01,\n",
       "         8.00340354e-01,  3.67120147e+00, -8.20209742e-01,\n",
       "         2.02110214e+01, -7.54743576e-01,  1.61979103e+00,\n",
       "        -4.91309822e-01,  5.78784714e+01, -3.04128075e+01,\n",
       "         1.53296280e+01,  2.16248951e+01,  3.84757881e+01,\n",
       "         3.01447334e+01],\n",
       "       [-3.15555549e+00, -4.96786928e+00, -9.67258513e-02,\n",
       "         5.00551300e+01, -1.94269810e+01,  3.00615921e+01,\n",
       "         8.07040215e-01,  4.75740242e+00, -2.07219863e+00,\n",
       "         1.40885296e+01, -6.52942848e+00,  4.61391449e+00,\n",
       "         2.32460904e+00,  4.88619080e+01, -3.34788780e+01,\n",
       "         7.92758274e+00,  2.57380867e+01,  3.68517189e+01,\n",
       "         3.26105995e+01],\n",
       "       [-3.36382103e+00, -4.16829824e+00, -4.18922007e-01,\n",
       "         3.73269920e+01, -3.28076668e+01,  6.31918602e+01,\n",
       "         8.20480943e-01,  5.13209295e+00, -2.30677462e+00,\n",
       "         2.12518749e+01, -2.14807415e+00,  5.58323050e+00,\n",
       "         1.53828645e+00,  4.77008324e+01, -3.23274994e+01,\n",
       "         5.17451000e+00,  2.74085770e+01,  4.27712250e+01,\n",
       "         3.83830833e+01],\n",
       "       [-2.67458010e+00, -6.01990986e+00,  2.22714424e-01,\n",
       "         2.58285828e+01, -3.56230240e+01,  4.56631546e+01,\n",
       "         8.35031986e-01,  4.29664326e+00, -2.08204627e+00,\n",
       "         1.97937717e+01,  4.88545799e+00,  7.69066191e+00,\n",
       "         1.72188759e-01,  5.40819778e+01, -3.73036385e+01,\n",
       "         9.39507675e+00,  3.09023285e+01,  4.82407570e+01,\n",
       "         4.44795914e+01],\n",
       "       [-2.87336540e+00, -6.80701923e+00,  2.55645394e-01,\n",
       "         4.13001709e+01, -2.79917755e+01, -6.16271973e-01,\n",
       "         8.37680399e-01,  4.00284624e+00, -2.07220554e+00,\n",
       "         2.04612293e+01,  1.32655458e+01,  6.61787701e+00,\n",
       "         4.92112666e-01,  5.44388695e+01, -4.24547081e+01,\n",
       "         8.47527790e+00,  3.36013184e+01,  4.14798508e+01,\n",
       "         3.44205093e+01],\n",
       "       [-4.87702608e+00, -6.14302063e+00,  1.03200567e+00,\n",
       "         1.49588203e+01, -4.38222618e+01,  1.03263149e+01,\n",
       "         8.42448831e-01,  3.18464851e+00, -9.32295799e-01,\n",
       "         1.60635185e+01,  2.27668076e+01,  2.84638333e+00,\n",
       "         1.19988227e+00,  5.53966675e+01, -3.86661987e+01,\n",
       "         1.02707148e+01,  3.02654877e+01,  4.46709061e+01,\n",
       "         3.85888786e+01],\n",
       "       [-4.22215700e+00, -5.98660898e+00,  1.17420912e+00,\n",
       "         2.82897758e+01, -2.96701527e+01,  5.13698864e+00,\n",
       "         8.55151117e-01,  3.45613122e+00, -1.13593268e+00,\n",
       "         1.47349672e+01,  1.44810743e+01,  3.48514152e+00,\n",
       "         3.24552083e+00,  5.14622765e+01, -3.97854538e+01,\n",
       "         2.38866711e+00,  2.91546345e+01,  3.66476135e+01,\n",
       "         4.23142242e+01],\n",
       "       [-6.36538506e+00, -4.77639389e+00, -5.05106807e-01,\n",
       "         5.26958122e+01, -4.86566544e-01,  5.27150421e+01,\n",
       "         8.53625536e-01,  3.19049239e+00, -2.23173380e+00,\n",
       "         2.34329414e+01,  1.54893322e+01,  2.10802078e+00,\n",
       "         4.71300030e+00,  5.66337128e+01, -3.25742493e+01,\n",
       "         3.48063564e+00,  3.37250519e+01,  3.88107147e+01,\n",
       "         4.65043030e+01],\n",
       "       [-5.92910576e+00, -4.38867855e+00, -1.10546875e+00,\n",
       "         9.74157562e+01,  3.84842038e-01,  2.35165310e+01,\n",
       "         8.56298029e-01,  3.94419384e+00, -2.18241286e+00,\n",
       "         1.71362286e+01,  1.05737324e+01,  1.14729333e+00,\n",
       "         3.77594304e+00,  5.79824104e+01, -4.07122307e+01,\n",
       "         4.46319008e+00,  4.12857285e+01,  3.51570435e+01,\n",
       "         4.09506454e+01],\n",
       "       [-3.92964745e+00, -4.28506899e+00, -2.14547849e+00,\n",
       "         7.25156555e+01,  1.44620311e+00,  7.57860947e+00,\n",
       "         8.50866497e-01,  4.11864233e+00, -3.67730165e+00,\n",
       "         1.21115007e+01,  9.54266357e+00,  1.17715788e+00,\n",
       "         4.92599344e+00,  5.71005630e+01, -3.39511147e+01,\n",
       "        -2.79163980e+00,  4.65001411e+01,  3.00582790e+01,\n",
       "         4.50531044e+01],\n",
       "       [-5.71239710e+00, -4.90205145e+00, -1.63918936e+00,\n",
       "         6.74838638e+01,  2.22365894e+01, -1.53820686e+01,\n",
       "         8.60286236e-01,  5.34214926e+00, -3.57876062e+00,\n",
       "         1.88940048e+01,  7.41334534e+00,  1.61774600e+00,\n",
       "         6.45996761e+00,  6.63079147e+01, -3.69623108e+01,\n",
       "         2.11952353e+00,  4.49758835e+01,  3.44157143e+01,\n",
       "         4.33299942e+01],\n",
       "       [-6.86934566e+00, -5.55855751e+00,  3.97405505e-01,\n",
       "         7.25370102e+01,  2.42828808e+01, -5.88817406e+00,\n",
       "         8.68720710e-01,  5.04369879e+00, -2.54692793e+00,\n",
       "         2.13483505e+01,  4.85060787e+00,  2.56010032e+00,\n",
       "         7.22858191e+00,  6.62416840e+01, -3.86416168e+01,\n",
       "         3.67073655e+00,  4.94414787e+01,  2.95868568e+01,\n",
       "         4.38127136e+01],\n",
       "       [-6.94060612e+00, -5.38160133e+00,  6.60376847e-01,\n",
       "         8.69215088e+01,  3.68904953e+01, -2.06789284e+01,\n",
       "         8.60608399e-01,  4.66839981e+00, -2.87932801e+00,\n",
       "         2.55178299e+01,  2.16243958e+00,  2.48431778e+00,\n",
       "         6.26561689e+00,  6.37197838e+01, -3.58601761e+01,\n",
       "        -3.80623269e+00,  4.11580276e+01,  2.08248615e+01,\n",
       "         4.99522705e+01],\n",
       "       [-6.05087900e+00, -5.65010166e+00,  1.49820209e+00,\n",
       "         8.03878937e+01,  5.38118744e+00, -5.53760376e+01,\n",
       "         8.75424683e-01,  4.24886227e+00, -3.18748188e+00,\n",
       "         2.47844105e+01,  4.65712070e+00, -3.27612495e+00,\n",
       "         3.89968991e+00,  6.78711014e+01, -3.66260796e+01,\n",
       "        -1.41868830e+01,  3.66966400e+01,  1.41492262e+01,\n",
       "         5.51311760e+01],\n",
       "       [-6.46153116e+00, -6.24774456e+00,  8.10175061e-01,\n",
       "         6.75859375e+01,  5.95749321e+01, -7.32983932e+01,\n",
       "         8.80011141e-01,  3.05666542e+00, -3.90451860e+00,\n",
       "         1.97619362e+01,  1.08104954e+01, -5.59988022e+00,\n",
       "         4.57476664e+00,  6.07279205e+01, -3.40127144e+01,\n",
       "        -9.05388069e+00,  3.20846558e+01,  1.09937563e+01,\n",
       "         4.79169273e+01],\n",
       "       [-6.13410139e+00, -6.96329117e+00,  2.62245846e+00,\n",
       "         8.03123779e+01,  5.76982727e+01, -9.43825760e+01,\n",
       "         8.79033208e-01,  4.72505379e+00, -2.35913944e+00,\n",
       "         1.62013988e+01,  9.50890732e+00, -5.78925848e+00,\n",
       "         5.61846972e+00,  6.23739777e+01, -3.68563576e+01,\n",
       "        -1.21169891e+01,  3.04392414e+01,  5.67914438e+00,\n",
       "         4.53119354e+01],\n",
       "       [-5.42674255e+00, -6.57255459e+00,  2.64978671e+00,\n",
       "         8.94105225e+01,  6.67428284e+01, -8.08906097e+01,\n",
       "         8.72542977e-01,  4.92025185e+00, -2.29657269e+00,\n",
       "         2.39491405e+01,  1.22247610e+01, -5.67471600e+00,\n",
       "         8.52200985e+00,  6.92224579e+01, -3.61311569e+01,\n",
       "        -1.14314728e+01,  2.59180336e+01,  4.60499001e+00,\n",
       "         4.73657875e+01],\n",
       "       [-7.76888752e+00, -6.25126171e+00,  2.28136969e+00,\n",
       "         7.80044632e+01,  7.38778992e+01, -8.67493744e+01,\n",
       "         8.67123127e-01,  4.19777298e+00, -2.17553902e+00,\n",
       "         2.40442600e+01,  1.44835949e+01, -6.10197830e+00,\n",
       "         9.98756886e+00,  5.84426346e+01, -3.60074921e+01,\n",
       "        -7.68024778e+00,  2.30743523e+01,  1.01958323e+01,\n",
       "         4.67552299e+01],\n",
       "       [-8.89837360e+00, -6.60108852e+00,  3.76133943e+00,\n",
       "         8.13017120e+01,  5.87415085e+01, -1.40271637e+02,\n",
       "         8.80684853e-01,  3.73302341e+00, -3.08486700e+00,\n",
       "         2.45278034e+01,  1.12198696e+01, -7.51220703e+00,\n",
       "         9.20651436e+00,  6.94034729e+01, -3.70195580e+01,\n",
       "        -1.27517624e+01,  1.80923386e+01,  1.60713654e+01,\n",
       "         4.61882057e+01],\n",
       "       [-9.72150898e+00, -5.84328747e+00,  3.91200352e+00,\n",
       "         8.88348694e+01,  5.19183044e+01, -1.44143982e+02,\n",
       "         8.79451394e-01,  3.46945310e+00, -4.73780394e+00,\n",
       "         2.87362289e+01, -5.57730675e-01, -4.96627235e+00,\n",
       "         9.42043114e+00,  7.07006226e+01, -4.27961349e+01,\n",
       "        -1.19675751e+01,  1.83038158e+01,  1.97281532e+01,\n",
       "         4.26450043e+01],\n",
       "       [-9.84370422e+00, -5.10858965e+00,  2.08873987e+00,\n",
       "         3.89413223e+01,  6.48054962e+01, -1.29954285e+02,\n",
       "         8.60689580e-01,  4.65273380e+00, -5.27104902e+00,\n",
       "         3.35543861e+01,  1.93257749e-01, -5.39654827e+00,\n",
       "         7.66982222e+00,  7.36667175e+01, -3.82165604e+01,\n",
       "        -1.08265877e+01,  2.17486420e+01,  1.80320206e+01,\n",
       "         4.34465828e+01],\n",
       "       [-9.57833099e+00, -4.52730274e+00,  1.15790772e+00,\n",
       "         1.81371727e+01,  7.67383575e+01, -1.32194611e+02,\n",
       "         8.47781777e-01,  4.52221298e+00, -7.07301188e+00,\n",
       "         3.76404991e+01, -1.03118773e+01, -7.09155560e+00,\n",
       "         8.38914013e+00,  7.49347458e+01, -4.13224525e+01,\n",
       "        -4.68925095e+00,  2.06146221e+01,  2.15758648e+01,\n",
       "         4.28205528e+01],\n",
       "       [-1.12779922e+01, -3.16709685e+00,  1.75468361e+00,\n",
       "         1.10895166e+01,  8.91663666e+01, -1.41608658e+02,\n",
       "         8.44608068e-01,  5.32935047e+00, -6.58461714e+00,\n",
       "         3.56351357e+01, -1.11094160e+01, -5.67953682e+00,\n",
       "         8.35833168e+00,  7.20277863e+01, -4.18078499e+01,\n",
       "         1.05354633e+01,  2.30026703e+01,  2.80054169e+01,\n",
       "         4.29622612e+01],\n",
       "       [-1.18124180e+01, -4.53116512e+00,  1.81418800e+00,\n",
       "        -2.15006256e+00,  8.07611847e+01, -1.37199997e+02,\n",
       "         8.36569726e-01,  3.40936899e+00, -8.87096310e+00,\n",
       "         3.62726860e+01, -1.78577080e+01, -5.28458881e+00,\n",
       "         5.07499027e+00,  6.86619644e+01, -4.64067116e+01,\n",
       "         1.52778177e+01,  2.25340443e+01,  3.38564949e+01,\n",
       "         4.43781204e+01],\n",
       "       [-1.17578468e+01, -4.94409990e+00,  1.25212765e+00,\n",
       "        -1.48865461e+01,  5.14528694e+01, -1.69754425e+02,\n",
       "         8.23796213e-01,  4.03795862e+00, -9.44935036e+00,\n",
       "         3.68599815e+01, -2.57716160e+01, -7.06145620e+00,\n",
       "         8.68985748e+00,  7.14789734e+01, -4.74787979e+01,\n",
       "         1.13448982e+01,  2.37004700e+01,  3.96838684e+01,\n",
       "         4.36196938e+01],\n",
       "       [-1.22658434e+01, -3.99206614e+00,  2.14097786e+00,\n",
       "         1.89795780e+00,  5.62922897e+01, -1.66614624e+02,\n",
       "         8.30230653e-01,  4.12722301e+00, -1.06264753e+01,\n",
       "         3.20629005e+01, -2.16569691e+01, -7.30634737e+00,\n",
       "         8.21879673e+00,  7.14178467e+01, -5.46799278e+01,\n",
       "         1.90228119e+01,  2.51179676e+01,  3.70542984e+01,\n",
       "         4.47953873e+01],\n",
       "       [-1.09634504e+01, -3.99244380e+00,  2.52435541e+00,\n",
       "        -3.11488113e+01,  2.19561920e+01, -1.62543518e+02,\n",
       "         8.23119342e-01,  6.63197422e+00, -1.15832062e+01,\n",
       "         4.07787552e+01, -1.81625633e+01, -6.70106936e+00,\n",
       "         6.56707335e+00,  6.33246880e+01, -5.06216125e+01,\n",
       "         1.30896091e+01,  2.06982727e+01,  4.21313324e+01,\n",
       "         5.06317444e+01],\n",
       "       [-1.18211613e+01, -3.55766869e+00,  2.73374629e+00,\n",
       "        -5.30300522e+01,  3.53483963e+00, -1.78589142e+02,\n",
       "         8.32308531e-01,  6.65899515e+00, -1.29043894e+01,\n",
       "         3.58268661e+01, -1.33068714e+01, -5.70634604e+00,\n",
       "         7.31095028e+00,  5.87455139e+01, -5.11704674e+01,\n",
       "         2.02460594e+01,  2.25166569e+01,  4.78445206e+01,\n",
       "         4.81233826e+01],\n",
       "       [-1.20433865e+01, -3.96932626e+00,  4.08343983e+00,\n",
       "        -6.02814369e+01,  2.21894035e+01, -1.89667984e+02,\n",
       "         8.38481188e-01,  8.40327072e+00, -1.35787354e+01,\n",
       "         3.95426254e+01, -1.46397133e+01, -4.29616117e+00,\n",
       "         5.04149914e+00,  7.25041733e+01, -5.55258369e+01,\n",
       "         2.05965672e+01,  2.68983955e+01,  4.17696533e+01,\n",
       "         4.97667580e+01],\n",
       "       [-1.20362968e+01, -3.33693314e+00,  4.60874224e+00,\n",
       "        -3.73350449e+01, -1.00560913e+01, -1.69857010e+02,\n",
       "         8.46083820e-01,  9.16794682e+00, -1.39896717e+01,\n",
       "         3.86979942e+01, -1.10809069e+01, -3.01955271e+00,\n",
       "         7.72809887e+00,  6.96373215e+01, -5.86054344e+01,\n",
       "         1.16781635e+01,  3.02874470e+01,  4.76444702e+01,\n",
       "         5.15332642e+01],\n",
       "       [-1.17461252e+01, -4.37954807e+00,  5.51585913e+00,\n",
       "        -3.99815331e+01, -3.44472198e+01, -1.51430496e+02,\n",
       "         8.41978550e-01,  1.03209219e+01, -1.30173941e+01,\n",
       "         2.26261063e+01, -2.10304871e+01,  8.83749247e-01,\n",
       "         6.41202068e+00,  7.10114365e+01, -6.28371010e+01,\n",
       "         1.01477289e+01,  2.71428032e+01,  5.08420486e+01,\n",
       "         6.10849800e+01],\n",
       "       [-1.10825386e+01, -4.50135612e+00,  5.06264687e+00,\n",
       "        -3.75555611e+01, -4.05257454e+01, -1.62367523e+02,\n",
       "         8.31812799e-01,  1.01193676e+01, -1.24052525e+01,\n",
       "         2.68921089e+01, -2.85339108e+01, -1.38535786e+00,\n",
       "         3.86295605e+00,  7.16218109e+01, -5.33680305e+01,\n",
       "         7.89371014e+00,  2.18376999e+01,  5.33747025e+01,\n",
       "         5.49941330e+01],\n",
       "       [-1.13651915e+01, -3.57066250e+00,  4.44828129e+00,\n",
       "         5.69969177e+00, -5.79877014e+01, -1.36042694e+02,\n",
       "         8.41999590e-01,  9.30370140e+00, -1.04048939e+01,\n",
       "         2.98900261e+01, -2.33955421e+01, -8.25358689e-01,\n",
       "         2.45213461e+00,  6.89332962e+01, -5.18631668e+01,\n",
       "         1.31912966e+01,  2.47546387e+01,  5.33526497e+01,\n",
       "         5.58279305e+01],\n",
       "       [-1.13159370e+01, -5.38512611e+00,  3.49134541e+00,\n",
       "        -1.30544167e+01, -6.97611465e+01, -1.21632805e+02,\n",
       "         8.45520377e-01,  9.92482853e+00, -1.03095942e+01,\n",
       "         3.01169777e+01, -2.27558346e+01, -4.40086794e+00,\n",
       "         1.33278251e+00,  6.60636597e+01, -4.83558273e+01,\n",
       "         1.07707958e+01,  1.78993111e+01,  5.20217094e+01,\n",
       "         5.62396927e+01],\n",
       "       [-1.11855669e+01, -4.28832960e+00,  2.22598791e+00,\n",
       "        -3.28503075e+01, -4.34791336e+01, -1.41105453e+02,\n",
       "         8.54983032e-01,  1.08679934e+01, -1.01142340e+01,\n",
       "         3.23889618e+01, -2.69681587e+01, -1.83444595e+00,\n",
       "         2.37088180e+00,  6.55728836e+01, -4.36210747e+01,\n",
       "         1.63752079e+01,  2.14064178e+01,  5.58217545e+01,\n",
       "         5.29048157e+01],\n",
       "       [-1.07678337e+01, -3.41756868e+00,  4.17278337e+00,\n",
       "        -4.68562050e+01, -2.84766178e+01, -1.22204979e+02,\n",
       "         8.60356390e-01,  1.04533625e+01, -9.83530045e+00,\n",
       "         2.47180462e+01, -2.88068657e+01, -3.20002270e+00,\n",
       "        -4.74811792e-01,  7.26605148e+01, -4.43943062e+01,\n",
       "         9.61151695e+00,  1.92955036e+01,  5.89000587e+01,\n",
       "         5.66636810e+01],\n",
       "       [-1.19752007e+01, -4.17498016e+00,  4.72815752e+00,\n",
       "        -5.43948441e+01,  1.96437740e+01, -9.90894623e+01,\n",
       "         8.59885514e-01,  1.11316977e+01, -9.10728264e+00,\n",
       "         1.85666580e+01, -3.31912689e+01, -1.76917148e+00,\n",
       "        -4.14659595e+00,  6.74370728e+01, -4.59361382e+01,\n",
       "         7.06675482e+00,  1.82713680e+01,  5.54666214e+01,\n",
       "         5.56288681e+01],\n",
       "       [-1.12125387e+01, -3.96935821e+00,  1.97139955e+00,\n",
       "        -3.99070282e+01,  3.09778938e+01, -1.05944305e+02,\n",
       "         8.54018807e-01,  8.53082275e+00, -7.55984306e+00,\n",
       "         1.66645756e+01, -3.55804405e+01, -6.39267206e-01,\n",
       "        -6.11691713e+00,  6.59668808e+01, -3.39384689e+01,\n",
       "         9.76846504e+00,  1.86629601e+01,  5.26612854e+01,\n",
       "         6.35737419e+01],\n",
       "       [-1.29684362e+01, -4.09612465e+00,  3.26355624e+00,\n",
       "        -3.38749466e+01,  6.21802216e+01, -1.14079964e+02,\n",
       "         8.57274055e-01,  8.88669300e+00, -6.92996836e+00,\n",
       "         2.02584267e+01, -3.88686676e+01, -7.32346177e-01,\n",
       "        -5.58340502e+00,  6.76058655e+01, -4.48324623e+01,\n",
       "         9.04907894e+00,  1.36320953e+01,  5.97046700e+01,\n",
       "         6.56042938e+01],\n",
       "       [-1.52686443e+01, -5.38171291e+00,  4.03737974e+00,\n",
       "        -6.05364952e+01,  7.06673050e+01, -1.61647446e+02,\n",
       "         8.58187973e-01,  9.26786613e+00, -5.30713272e+00,\n",
       "         1.93776436e+01, -4.80936890e+01, -1.38222396e-01,\n",
       "        -5.15089703e+00,  6.49889221e+01, -5.04323616e+01,\n",
       "         1.51695652e+01,  1.06678200e+01,  6.91660385e+01,\n",
       "         6.31095924e+01],\n",
       "       [-1.53596296e+01, -4.27003288e+00,  3.74186301e+00,\n",
       "        -8.16351013e+01,  9.03536377e+01, -1.84489471e+02,\n",
       "         8.61477911e-01,  9.32801151e+00, -5.24491739e+00,\n",
       "         1.77437687e+01, -5.33395538e+01, -2.30989599e+00,\n",
       "        -8.10398102e+00,  6.54045334e+01, -5.01400223e+01,\n",
       "         1.35050802e+01,  6.58929253e+00,  7.65019760e+01,\n",
       "         6.36889648e+01],\n",
       "       [-1.46971006e+01, -4.68147421e+00,  4.26174450e+00,\n",
       "        -1.04586655e+02,  1.06341133e+02, -1.96578644e+02,\n",
       "         8.48188460e-01,  1.09418707e+01, -5.74953794e+00,\n",
       "         1.12350483e+01, -5.25387993e+01, -5.00475931e+00,\n",
       "        -9.60511398e+00,  6.48564606e+01, -5.42981567e+01,\n",
       "         2.16171341e+01,  8.89826870e+00,  7.34843521e+01,\n",
       "         6.01077385e+01],\n",
       "       [-1.40526047e+01, -5.24737263e+00,  5.24607944e+00,\n",
       "        -1.12186958e+02,  9.75031281e+01, -1.89868851e+02,\n",
       "         8.47461998e-01,  1.24637585e+01, -6.19894648e+00,\n",
       "         7.41786671e+00, -4.65817604e+01, -6.83752775e+00,\n",
       "        -1.10729084e+01,  5.49917068e+01, -5.42396965e+01,\n",
       "         1.63071690e+01,  1.57766342e+01,  7.40719299e+01,\n",
       "         6.17574883e+01]], dtype=float32)"
      ]
     },
     "execution_count": 655,
     "metadata": {},
     "output_type": "execute_result"
    }
   ],
   "source": [
    "samples_array"
   ]
  },
  {
   "cell_type": "code",
   "execution_count": 656,
   "metadata": {},
   "outputs": [
    {
     "data": {
      "text/plain": [
       "[<matplotlib.lines.Line2D at 0x7f386b89fd70>,\n",
       " <matplotlib.lines.Line2D at 0x7f386b89d6a0>,\n",
       " <matplotlib.lines.Line2D at 0x7f386b89fda0>,\n",
       " <matplotlib.lines.Line2D at 0x7f386b89e780>,\n",
       " <matplotlib.lines.Line2D at 0x7f386b89ef30>,\n",
       " <matplotlib.lines.Line2D at 0x7f386b89cda0>,\n",
       " <matplotlib.lines.Line2D at 0x7f386b89d400>,\n",
       " <matplotlib.lines.Line2D at 0x7f386b89c530>,\n",
       " <matplotlib.lines.Line2D at 0x7f386b89e690>,\n",
       " <matplotlib.lines.Line2D at 0x7f386b89f530>,\n",
       " <matplotlib.lines.Line2D at 0x7f386b89fe60>,\n",
       " <matplotlib.lines.Line2D at 0x7f386b89ffe0>,\n",
       " <matplotlib.lines.Line2D at 0x7f386b89de50>,\n",
       " <matplotlib.lines.Line2D at 0x7f386b89ce30>,\n",
       " <matplotlib.lines.Line2D at 0x7f386b89d070>,\n",
       " <matplotlib.lines.Line2D at 0x7f386b89f4d0>,\n",
       " <matplotlib.lines.Line2D at 0x7f386b89f7d0>,\n",
       " <matplotlib.lines.Line2D at 0x7f386b89fa70>,\n",
       " <matplotlib.lines.Line2D at 0x7f386b89ffb0>]"
      ]
     },
     "execution_count": 656,
     "metadata": {},
     "output_type": "execute_result"
    },
    {
     "data": {
      "image/png": "[encoded data removed]",
      "text/plain": [
       "<Figure size 640x480 with 1 Axes>"
      ]
     },
     "metadata": {},
     "output_type": "display_data"
    }
   ],
   "source": [
    "plt.plot(samples_array)"
   ]
  },
  {
   "cell_type": "code",
   "execution_count": 657,
   "metadata": {},
   "outputs": [],
   "source": [
    "voltages = np.array(voltages)\n",
    "firing = np.array(firing)\n",
    "error_code = np.array(error_code)"
   ]
  },
  {
   "cell_type": "code",
   "execution_count": 658,
   "metadata": {},
   "outputs": [
    {
     "data": {
      "text/plain": [
       "3"
      ]
     },
     "execution_count": 658,
     "metadata": {},
     "output_type": "execute_result"
    }
   ],
   "source": [
    "np.sum(error_code)"
   ]
  },
  {
   "cell_type": "code",
   "execution_count": 659,
   "metadata": {},
   "outputs": [
    {
     "data": {
      "text/plain": [
       "(array([2267, 2268, 2269]), array([4, 4, 4]))"
      ]
     },
     "execution_count": 659,
     "metadata": {},
     "output_type": "execute_result"
    }
   ],
   "source": [
    "np.where(error_code != 0)"
   ]
  },
  {
   "cell_type": "code",
   "execution_count": 660,
   "metadata": {},
   "outputs": [
    {
     "data": {
      "text/plain": [
       "array([0, 0, 0, 0, 0, 0])"
      ]
     },
     "execution_count": 660,
     "metadata": {},
     "output_type": "execute_result"
    }
   ],
   "source": [
    "error_code[2042]"
   ]
  },
  {
   "cell_type": "code",
   "execution_count": 661,
   "metadata": {},
   "outputs": [
    {
     "data": {
      "image/png": "[encoded data removed]",
      "text/plain": [
       "<Figure size 800x700 with 2 Axes>"
      ]
     },
     "metadata": {},
     "output_type": "display_data"
    }
   ],
   "source": [
    "f, (ax1, ax2) = plt.subplots(2, 1, sharex=True, figsize=(8, 7),\n",
    "                                gridspec_kw={'height_ratios': [1, 1]})\n",
    "\n",
    "\n",
    "# ax1.set_title(\"Hodgkin-Huxley Spiking Neuron Model\", fontSize=16)\n",
    "\n",
    "# voltage plot\n",
    "for i in range(len(neurons)):\n",
    "    ax1.plot(np.arange(5000), voltages[:,i], label=neurons[i])\n",
    "\n",
    "ax1.spines['right'].set_visible(False)\n",
    "ax1.spines['top'].set_visible(False)\n",
    "ax1.spines['bottom'].set_visible(False)\n",
    "ax1.tick_params(bottom=False)\n",
    "ax1.set_ylabel(\"Membrane Potential (mV)\")\n",
    "ax1.legend(loc='upper left', bbox_to_anchor=(1, 1))\n",
    "\n",
    "# firing plot\n",
    "for i in range(len(neurons)):\n",
    "    ax2.plot(np.arange(5000), firing[:,i], label=neurons[i])\n",
    "\n",
    "ax2.spines['right'].set_visible(False)\n",
    "ax2.spines['top'].set_visible(False)\n",
    "ax2.spines['bottom'].set_visible(False)\n",
    "ax2.tick_params(bottom=False)\n",
    "ax2.set_ylabel(\"Firing (times)\")\n",
    "\n",
    "\n",
    "# ax2.plot(times, I_neuron1, label = '1')\n",
    "# ax2.plot(times, I_neuron2, label = '2')\n",
    "# ax2.set_ylabel(\"Currents (µA/cm²)\")\n",
    "# ax2.set_xlabel(\"Simulation Time (milliseconds)\")\n",
    "# ax2.spines['right'].set_visible(False)\n",
    "# ax2.spines['top'].set_visible(False)\n",
    "\n",
    "\n",
    "plt.margins(0, 0.1)\n",
    "plt.tight_layout()\n",
    "plt.show()\n",
    "\n",
    "# sharp wave ripples"
   ]
  },
  {
   "cell_type": "code",
   "execution_count": 662,
   "metadata": {},
   "outputs": [
    {
     "data": {
      "text/plain": [
       "(2731,)"
      ]
     },
     "execution_count": 662,
     "metadata": {},
     "output_type": "execute_result"
    }
   ],
   "source": [
    "np.where(np.isnan(voltages))[0].shape"
   ]
  },
  {
   "cell_type": "code",
   "execution_count": 663,
   "metadata": {},
   "outputs": [
    {
     "data": {
      "text/plain": [
       "-8.78653512440385e+65"
      ]
     },
     "execution_count": 663,
     "metadata": {},
     "output_type": "execute_result"
    }
   ],
   "source": [
    "np.nanmin(voltages)"
   ]
  }
 ],
 "metadata": {
  "kernelspec": {
   "display_name": "Python 3 (ipykernel)",
   "language": "python",
   "name": "python3"
  },
  "language_info": {
   "codemirror_mode": {
    "name": "ipython",
    "version": 3
   },
   "file_extension": ".py",
   "mimetype": "text/x-python",
   "name": "python",
   "nbconvert_exporter": "python",
   "pygments_lexer": "ipython3",
   "version": "3.12.7"
  }
 },
 "nbformat": 4,
 "nbformat_minor": 2
}
