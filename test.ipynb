{
 "cells": [
  {
   "cell_type": "code",
   "execution_count": 1,
   "id": "d03de9ab",
   "metadata": {},
   "outputs": [],
   "source": [
    "def count_all_continuous_sequences(arr):\n",
    "    if not arr:\n",
    "        return [0]\n",
    "\n",
    "    # Sort the array to ensure it's in order\n",
    "    arr = sorted(arr)\n",
    "\n",
    "    new_arr = []\n",
    "    new_arr.append(arr[0])\n",
    "    # Iterate through the array\n",
    "    for i in range(1, len(arr)):\n",
    "        if arr[i] != arr[i - 1] + 1:\n",
    "            # A break in continuity means a new sequence\n",
    "            new_arr.append(arr[i])\n",
    "\n",
    "    return new_arr"
   ]
  },
  {
   "cell_type": "code",
   "execution_count": 2,
   "id": "59cc4e70",
   "metadata": {},
   "outputs": [
    {
     "data": {
      "text/plain": [
       "[1, 15, 98]"
      ]
     },
     "execution_count": 2,
     "metadata": {},
     "output_type": "execute_result"
    }
   ],
   "source": [
    "count_all_continuous_sequences([1,2,3,15,16,98,99])"
   ]
  },
  {
   "cell_type": "code",
   "execution_count": 6,
   "id": "5d02ac9b",
   "metadata": {},
   "outputs": [],
   "source": [
    "test = [1,2,3,15,16,98,99,100,111]"
   ]
  },
  {
   "cell_type": "code",
   "execution_count": 10,
   "id": "9a2e1d0a",
   "metadata": {},
   "outputs": [
    {
     "data": {
      "text/plain": [
       "[1, 2, 3, 15, 16, 98, 99, 100]"
      ]
     },
     "execution_count": 10,
     "metadata": {},
     "output_type": "execute_result"
    }
   ],
   "source": [
    "test[5-20:5+3]"
   ]
  },
  {
   "cell_type": "code",
   "execution_count": 16,
   "id": "65da6044",
   "metadata": {},
   "outputs": [
    {
     "name": "stdout",
     "output_type": "stream",
     "text": [
      "yes\n"
     ]
    }
   ],
   "source": [
    "if [1]:\n",
    "    print(\"yes\")\n",
    "else:\n",
    "    print(\"no\")"
   ]
  }
 ],
 "metadata": {
  "kernelspec": {
   "display_name": "Python 3 (ipykernel)",
   "language": "python",
   "name": "python3"
  }
 },
 "nbformat": 4,
 "nbformat_minor": 5
}
