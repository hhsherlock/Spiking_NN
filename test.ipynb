{
 "cells": [
  {
   "cell_type": "code",
   "execution_count": 7,
   "id": "b886d9fc",
   "metadata": {},
   "outputs": [],
   "source": [
    "import numpy as np\n",
    "import pickle"
   ]
  },
  {
   "cell_type": "code",
   "execution_count": 8,
   "id": "2cf17444",
   "metadata": {},
   "outputs": [],
   "source": [
    "with open('/home/yaning/Documents/Spiking_NN/anime/fires.pkl', 'rb') as f:\n",
    "    data = pickle.load(f)"
   ]
  },
  {
   "cell_type": "code",
   "execution_count": 14,
   "id": "82adc408",
   "metadata": {},
   "outputs": [
    {
     "data": {
      "text/plain": [
       "torch.Size([6000, 5, 5])"
      ]
     },
     "execution_count": 14,
     "metadata": {},
     "output_type": "execute_result"
    }
   ],
   "source": [
    "data['Out_fires'].shape"
   ]
  },
  {
   "cell_type": "code",
   "execution_count": 2,
   "id": "231cb1cd",
   "metadata": {},
   "outputs": [],
   "source": [
    "N = 100  # neurons\n",
    "T = 1000  # timesteps\n",
    "firing_states = np.random.randint(0, 2, (T, N))\n",
    "\n",
    "# Neuron positions and layers (grouped into 4 layers)\n",
    "neuron_positions = [{'x': float(x), 'y': float(y), 'layer': int(l)}\n",
    "                    for x, y, l in zip(np.random.rand(N) * 800,\n",
    "                                       np.random.rand(N) * 600,\n",
    "                                       np.random.randint(0, 4, N))]\n"
   ]
  },
  {
   "cell_type": "code",
   "execution_count": 6,
   "id": "1c523941",
   "metadata": {},
   "outputs": [
    {
     "data": {
      "text/plain": [
       "{'x': 657.9120454495079, 'y': 578.3869425243919, 'layer': 2}"
      ]
     },
     "execution_count": 6,
     "metadata": {},
     "output_type": "execute_result"
    }
   ],
   "source": [
    "neuron_positions[50]"
   ]
  },
  {
   "cell_type": "code",
   "execution_count": 1,
   "id": "d03de9ab",
   "metadata": {},
   "outputs": [],
   "source": [
    "def count_all_continuous_sequences(arr):\n",
    "    if not arr:\n",
    "        return [0]\n",
    "\n",
    "    # Sort the array to ensure it's in order\n",
    "    arr = sorted(arr)\n",
    "\n",
    "    new_arr = []\n",
    "    new_arr.append(arr[0])\n",
    "    # Iterate through the array\n",
    "    for i in range(1, len(arr)):\n",
    "        if arr[i] != arr[i - 1] + 1:\n",
    "            # A break in continuity means a new sequence\n",
    "            new_arr.append(arr[i])\n",
    "\n",
    "    return new_arr"
   ]
  },
  {
   "cell_type": "code",
   "execution_count": 2,
   "id": "59cc4e70",
   "metadata": {},
   "outputs": [
    {
     "data": {
      "text/plain": [
       "[1, 15, 98]"
      ]
     },
     "execution_count": 2,
     "metadata": {},
     "output_type": "execute_result"
    }
   ],
   "source": [
    "count_all_continuous_sequences([1,2,3,15,16,98,99])"
   ]
  },
  {
   "cell_type": "code",
   "execution_count": 6,
   "id": "5d02ac9b",
   "metadata": {},
   "outputs": [],
   "source": [
    "test = [1,2,3,15,16,98,99,100,111]"
   ]
  },
  {
   "cell_type": "code",
   "execution_count": 10,
   "id": "9a2e1d0a",
   "metadata": {},
   "outputs": [
    {
     "data": {
      "text/plain": [
       "[1, 2, 3, 15, 16, 98, 99, 100]"
      ]
     },
     "execution_count": 10,
     "metadata": {},
     "output_type": "execute_result"
    }
   ],
   "source": [
    "test[5-20:5+3]"
   ]
  },
  {
   "cell_type": "code",
   "execution_count": 16,
   "id": "65da6044",
   "metadata": {},
   "outputs": [
    {
     "name": "stdout",
     "output_type": "stream",
     "text": [
      "yes\n"
     ]
    }
   ],
   "source": [
    "if [1]:\n",
    "    print(\"yes\")\n",
    "else:\n",
    "    print(\"no\")"
   ]
  }
 ],
 "metadata": {
  "kernelspec": {
   "display_name": "Python 3 (ipykernel)",
   "language": "python",
   "name": "python3"
  },
  "language_info": {
   "codemirror_mode": {
    "name": "ipython",
    "version": 3
   },
   "file_extension": ".py",
   "mimetype": "text/x-python",
   "name": "python",
   "nbconvert_exporter": "python",
   "pygments_lexer": "ipython3",
   "version": "3.10.17"
  }
 },
 "nbformat": 4,
 "nbformat_minor": 5
}
