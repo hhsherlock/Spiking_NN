{
 "cells": [
  {
   "cell_type": "code",
   "execution_count": 1,
   "metadata": {},
   "outputs": [],
   "source": [
    "import numpy as np\n",
    "\n",
    "\n",
    "class Channel():\n",
    "    def __init__(self, gMax, gP, rE):\n",
    "        self.gMax = gMax\n",
    "        self.gP = gP\n",
    "        self.rE = rE\n",
    "\n",
    "    def update_gP(self):\n",
    "        raise NotImplementedError(\"This method should be implemented by subclasses\")\n",
    "\n",
    "    def current(self, Vm):\n",
    "        I = self.gMax * self.gP *(Vm - self.rE)\n",
    "        return I\n",
    "\n",
    "\n",
    "\n",
    "class VoltageGatedGate():\n",
    "\n",
    "    def __init__(self, alpha, beta, state):\n",
    "        self.alpha = alpha\n",
    "        self.beta = beta\n",
    "        self.state = state\n",
    "\n",
    "    def update(self, deltaTms):\n",
    "        alphaState = self.alpha * (1-self.state)\n",
    "        betaState = self.beta * self.state\n",
    "        self.state += deltaTms * (alphaState - betaState)\n",
    "\n",
    "    def setInfiniteState(self):\n",
    "        self.state = self.alpha / (self.alpha + self.beta)\n",
    "\n",
    "\n",
    "\n",
    "class VoltageGatedChannel(Channel):\n",
    "    def __init__(self, gMax, gP, rE, gate_states, gate): #------gate states are alpha and beta\n",
    "        super().__init__(gMax, gP, rE)\n",
    "        self.gate_states = gate_states  # List of gates (m, n, h)\n",
    "    \n",
    "\n",
    "    \n",
    "\n",
    "\n",
    "\n",
    "    \n",
    "# class LigandGatedChannel(Channel):\n",
    "#     def \n",
    "\n",
    "class Model:\n",
    "    m = VoltageGatedGate(0,0,0)\n",
    "    n = VoltageGatedGate(0,0,0)\n",
    "    h = VoltageGatedGate(0,0,0)\n",
    "\n",
    "    "
   ]
  },
  {
   "cell_type": "code",
   "execution_count": 2,
   "metadata": {},
   "outputs": [
    {
     "data": {
      "text/plain": [
       "__main__.Model"
      ]
     },
     "execution_count": 2,
     "metadata": {},
     "output_type": "execute_result"
    }
   ],
   "source": [
    "Model"
   ]
  }
 ],
 "metadata": {
  "kernelspec": {
   "display_name": "Python 3 (ipykernel)",
   "language": "python",
   "name": "python3"
  },
  "language_info": {
   "codemirror_mode": {
    "name": "ipython",
    "version": 3
   },
   "file_extension": ".py",
   "mimetype": "text/x-python",
   "name": "python",
   "nbconvert_exporter": "python",
   "pygments_lexer": "ipython3",
   "version": "3.12.7"
  }
 },
 "nbformat": 4,
 "nbformat_minor": 2
}
