{
 "cells": [
  {
   "cell_type": "code",
   "execution_count": 200,
   "metadata": {},
   "outputs": [],
   "source": [
    "import HH as HH\n",
    "import importlib\n",
    "import numpy as np"
   ]
  },
  {
   "cell_type": "code",
   "execution_count": null,
   "metadata": {},
   "outputs": [],
   "source": [
    "importlib.reload(HH)"
   ]
  },
  {
   "cell_type": "code",
   "execution_count": 201,
   "metadata": {},
   "outputs": [],
   "source": [
    "deltaTms = 0.05\n",
    "pointCount = 5000\n",
    "voltages = np.empty(pointCount)\n",
    "times = np.arange(pointCount) * 0.05\n",
    "stim = np.zeros(pointCount)\n",
    "stim[1200:3800] = 20  # create a square pulse"
   ]
  },
  {
   "cell_type": "code",
   "execution_count": null,
   "metadata": {},
   "outputs": [],
   "source": [
    "# gate states for voltage gated channels\n",
    "# they share the same m,n,h\n",
    "m = HH.Gate(0,0,0)\n",
    "n = HH.Gate(0,0,0)\n",
    "h = HH.Gate(0,0,0)\n",
    "\n",
    "sodium_channel = HH.Voltage_Sodium(120, 1, 115, 0)\n",
    "potassium_channel = HH.Voltage_Potassium(26, 1, -12, 0)\n",
    "leaky_channel = HH.Voltage_Leak(0.3, 1, 10.6, 0)\n",
    "\n",
    "for i in range(len(times)):\n",
    "\n",
    "    sodium_channel.update_gP(m, n, h, deltaTms)\n",
    "    INa = sodium_channel.current()\n",
    "\n",
    "    \n",
    "    potassium_channel.update_gP(m, n, h, deltaTms)\n",
    "    IK = potassium_channel.current()\n",
    "\n",
    "    \n",
    "    Ileak = leaky_channel.current()\n",
    "\n",
    "# Isum = 20 - INa - IK - Ileak\n",
    "# Vm += deltaTms * Isum / 1"
   ]
  }
 ],
 "metadata": {
  "kernelspec": {
   "display_name": "Python 3 (ipykernel)",
   "language": "python",
   "name": "python3"
  },
  "language_info": {
   "codemirror_mode": {
    "name": "ipython",
    "version": 3
   },
   "file_extension": ".py",
   "mimetype": "text/x-python",
   "name": "python",
   "nbconvert_exporter": "python",
   "pygments_lexer": "ipython3",
   "version": "3.12.7"
  }
 },
 "nbformat": 4,
 "nbformat_minor": 2
}
