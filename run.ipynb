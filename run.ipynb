{
 "cells": [
  {
   "cell_type": "code",
   "execution_count": 48,
   "metadata": {},
   "outputs": [
    {
     "data": {
      "text/plain": [
       "<module 'HH' from '/home/yaning/Documents/Spiking_NN/HH.py'>"
      ]
     },
     "execution_count": 48,
     "metadata": {},
     "output_type": "execute_result"
    }
   ],
   "source": [
    "#!/usr/bin/env python3\n",
    "# -*- coding: utf-8 -*-\n",
    "\"\"\"\n",
    "Created on Thu Oct 24\n",
    "\n",
    "@author: yaning\n",
    "\"\"\"\n",
    "\n",
    "import HH as HH\n",
    "import importlib\n",
    "import numpy as np\n",
    "import matplotlib.pyplot as plt\n",
    "\n",
    "importlib.reload(HH)"
   ]
  },
  {
   "cell_type": "code",
   "execution_count": 49,
   "metadata": {},
   "outputs": [],
   "source": [
    "# simulation environment\n",
    "deltaTms = 0.05\n",
    "Cm = 1\n",
    "# other Vm initialisation can lead to random firing\n",
    "Vm = 1.3458754117369027\n",
    "# 5000 cycles and every cycle is 0.01ms\n",
    "# in total 50ms\n",
    "pointCount = 5000\n",
    "voltages = np.empty(pointCount)\n",
    "times = np.arange(pointCount) * deltaTms #record the actual time\n",
    "stim = np.zeros(pointCount)\n",
    "# no injection current because the ampa current will be the injection current\n",
    "stim[1500:4000] = 0  # create a square pulse\n",
    "mg = 7\n",
    "\n",
    "# excitatory presynapse firing\n",
    "first_pre_firing = list(range(500, 521)) \n",
    "second_pre_firing = list(range(1500, 1750))\n",
    "third_pre_firing = list(range(2500, 2750))\n",
    "tsp_pre = first_pre_firing + second_pre_firing\n",
    "\n",
    "first_inhibi_pre_firing = list(range(1000, 1100))\n",
    "# 200 steps more can cause action potential afterwards\n",
    "second_inhibi_pre_firing = list(range(3000, 3050))\n",
    "tsp_pre_inhibi = first_inhibi_pre_firing + second_inhibi_pre_firing\n",
    "tsp_pre_inhibi = []"
   ]
  },
  {
   "cell_type": "code",
   "execution_count": 50,
   "metadata": {},
   "outputs": [
    {
     "name": "stdout",
     "output_type": "stream",
     "text": [
      "this is activated at 238\n",
      "this is activated at 561\n",
      "this is activated at 885\n",
      "this is activated at 1219\n",
      "this is activated at 1627\n",
      "this is activated at 2026\n",
      "this is activated at 2351\n",
      "this is activated at 2679\n",
      "this is activated at 3027\n",
      "this is activated at 4307\n",
      "this is activated at 4722\n",
      "this is activated at 4747\n",
      "this is activated at 4802\n",
      "this is activated at 4913\n",
      "this is activated at 4916\n",
      "this is activated at 4919\n",
      "this is activated at 4922\n",
      "this is activated at 4925\n",
      "this is activated at 4928\n",
      "this is activated at 4931\n",
      "this is activated at 4934\n",
      "this is activated at 4937\n",
      "this is activated at 4940\n",
      "this is activated at 4943\n",
      "this is activated at 4946\n",
      "this is activated at 4949\n",
      "this is activated at 4952\n",
      "this is activated at 4955\n",
      "this is activated at 4958\n",
      "this is activated at 4961\n",
      "this is activated at 4964\n",
      "this is activated at 4967\n",
      "this is activated at 4970\n",
      "this is activated at 4973\n",
      "this is activated at 4976\n",
      "this is activated at 4979\n",
      "this is activated at 4982\n",
      "this is activated at 4985\n",
      "this is activated at 4988\n",
      "this is activated at 4991\n",
      "this is activated at 4994\n",
      "this is activated at 4997\n"
     ]
    }
   ],
   "source": [
    "sodium_channel = HH.Voltage_Sodium(Vm)\n",
    "potassium_channel = HH.Voltage_Potassium(Vm)\n",
    "leaky_channel = HH.Voltage_Leak(Vm)\n",
    "\n",
    "# because I am using factory, so the initialised values stay the same\n",
    "# even the below line runs again\n",
    "ampa_receptor = HH.LigandGatedChannelFactory.create_AMPA(Vm)\n",
    "nmda_receptor = HH.LigandGatedChannelFactory.create_NMDA(Vm)\n",
    "\n",
    "gaba_receptor = HH.LigandGatedChannelFactory.create_GABA(Vm)\n",
    "\n",
    "na_currents = []\n",
    "k_currents = []\n",
    "leak_currents = []\n",
    "ampa_currents = []\n",
    "nmda_currents = []\n",
    "gaba_currents = []\n",
    "\n",
    "na_gps = []\n",
    "ampa_gps = []\n",
    "nmda_gps = []\n",
    "gaba_gps = []\n",
    "\n",
    "for i in range(len(times)):\n",
    "\n",
    "    sodium_channel.update_gP(deltaTms)\n",
    "    potassium_channel.update_gP(deltaTms)\n",
    "\n",
    "    ampa_receptor.update_gP(i, deltaTms, tsp_pre)\n",
    "    nmda_receptor.update_gP(i, deltaTms, tsp_pre, mg)\n",
    "    gaba_receptor.update_gP(i, deltaTms, tsp_pre_inhibi)\n",
    "\n",
    "    ampa_gps.append(ampa_receptor.gP)\n",
    "    na_gps.append(sodium_channel.gP)\n",
    "    nmda_gps.append(nmda_receptor.gP)\n",
    "    gaba_gps.append(gaba_receptor.gP)\n",
    "\n",
    "\n",
    "    try:\n",
    "        # get the currents\n",
    "        INa = sodium_channel.current()\n",
    "        IK = potassium_channel.current()\n",
    "        Ileak = leaky_channel.current()\n",
    "\n",
    "        Iampa = ampa_receptor.current()\n",
    "        Inmda = nmda_receptor.current()\n",
    "        Igaba = gaba_receptor.current()\n",
    "\n",
    "\n",
    "        currents = {\n",
    "            \"INa\": INa,\n",
    "            \"IK\": IK,\n",
    "            \"Ileak\": Ileak,\n",
    "            \"Iampa\": Iampa,\n",
    "            \"Inmda\": Inmda,\n",
    "            \"Igaba\": Igaba\n",
    "        }\n",
    "        # check for over or underflow\n",
    "        \n",
    "        for name, current in currents.items():\n",
    "            if current > 1e10:\n",
    "                raise OverflowError(f\"Overflowed: {name} = {current} at {i} time point\")\n",
    "        \n",
    "    except OverflowError as m:\n",
    "        print(f\"error: {m}\")\n",
    "        break\n",
    "\n",
    "    threshold = 1e-10  # Define your underflow threshold\n",
    "\n",
    "    # Replace underflowing currents with 0\n",
    "    INa = INa if abs(INa) >= threshold else 0\n",
    "    IK = IK if abs(IK) >= threshold else 0\n",
    "    Ileak = Ileak if abs(Ileak) >= threshold else 0\n",
    "    Iampa = Iampa if abs(Iampa) >= threshold else 0\n",
    "    Inmda = Inmda if abs(Inmda) >= threshold else 0\n",
    "    Igaba = Igaba if abs(Igaba) >= threshold else 0\n",
    "\n",
    "\n",
    "    na_currents.append(INa)\n",
    "    k_currents.append(IK)\n",
    "    leak_currents.append(Ileak)\n",
    "    ampa_currents.append(Iampa)\n",
    "    nmda_currents.append(Inmda)\n",
    "    gaba_currents.append(Igaba)\n",
    "\n",
    "\n",
    "    # sum the currents\n",
    "    Isum = stim[i] - INa - IK - Ileak - Igaba - Iampa - Inmda\n",
    "\n",
    "    Vm += deltaTms * Isum / Cm\n",
    "\n",
    "    voltages[i] = Vm\n",
    "\n",
    "    # update the voltages for each channel\n",
    "    sodium_channel.Vm = Vm\n",
    "    potassium_channel.Vm = Vm\n",
    "    leaky_channel.Vm = Vm\n",
    "\n",
    "    ampa_receptor.Vm = Vm\n",
    "    nmda_receptor.Vm = Vm\n",
    "    gaba_receptor.Vm = Vm\n",
    "\n",
    "    # when post synaptic fires weight updates\n",
    "    #!!!!!!!!!!this part is wrong because sometimes it does not fire but the shape is still this\n",
    "    if i >= 2:\n",
    "        if voltages[i-2] <= voltages[i-1] and voltages[i-1] >= voltages[i]:\n",
    "            # ampa_receptor.update_w(i)\n",
    "            # nmda_receptor.update_w(i)\n",
    "            # gaba_receptor.update_w(i)\n",
    "            print(f\"this is activated at {i}\")\n"
   ]
  },
  {
   "cell_type": "code",
   "execution_count": 51,
   "metadata": {},
   "outputs": [
    {
     "data": {
      "text/plain": [
       "0.0072"
      ]
     },
     "execution_count": 51,
     "metadata": {},
     "output_type": "execute_result"
    }
   ],
   "source": [
    "HH.LigandGatedChannelFactory.gMax_AMPA\n",
    "# nmda_receptor.w"
   ]
  },
  {
   "cell_type": "code",
   "execution_count": 52,
   "metadata": {},
   "outputs": [
    {
     "data": {
      "text/plain": [
       "[<matplotlib.lines.Line2D at 0x7f1a498b1160>]"
      ]
     },
     "execution_count": 52,
     "metadata": {},
     "output_type": "execute_result"
    },
    {
     "data": {
      "image/png": "[encoded data removed]",
      "text/plain": [
       "<Figure size 640x480 with 1 Axes>"
      ]
     },
     "metadata": {},
     "output_type": "display_data"
    }
   ],
   "source": [
    "plt.plot(ampa_gps , label=\"na\")\n",
    "# plt.xlim(1490,1760)\n",
    "# plt.plot(ampa_gps , label=\"ampa\")\n",
    "# plt.plot(nmda_gps , label=\"nmda\")"
   ]
  },
  {
   "cell_type": "code",
   "execution_count": 53,
   "metadata": {},
   "outputs": [
    {
     "data": {
      "image/png": "[encoded data removed]",
      "text/plain": [
       "<Figure size 800x500 with 2 Axes>"
      ]
     },
     "metadata": {},
     "output_type": "display_data"
    }
   ],
   "source": [
    "f, (ax1, ax2) = plt.subplots(2, 1, sharex=True, figsize=(8, 5),\n",
    "                                gridspec_kw={'height_ratios': [3, 1]})\n",
    "\n",
    "ax1.plot(times, voltages - 70, 'b')\n",
    "ax1.set_ylabel(\"Membrane Potential (mV)\")\n",
    "# ax1.set_title(\"Hodgkin-Huxley Spiking Neuron Model\", fontSize=16)\n",
    "ax1.spines['right'].set_visible(False)\n",
    "ax1.spines['top'].set_visible(False)\n",
    "ax1.spines['bottom'].set_visible(False)\n",
    "ax1.tick_params(bottom=False)\n",
    "\n",
    "ax2.plot(times, stim, 'r')\n",
    "ax2.set_ylabel(\"Stimulus (µA/cm²)\")\n",
    "ax2.set_xlabel(\"Simulation Time (milliseconds)\")\n",
    "ax2.spines['right'].set_visible(False)\n",
    "ax2.spines['top'].set_visible(False)\n",
    "\n",
    "plt.margins(0, 0.1)\n",
    "plt.tight_layout()\n",
    "# plt.savefig(\"dev/concept4.png\")\n",
    "plt.show()"
   ]
  },
  {
   "cell_type": "code",
   "execution_count": 54,
   "metadata": {},
   "outputs": [
    {
     "data": {
      "text/plain": [
       "<matplotlib.legend.Legend at 0x7f1a494d12e0>"
      ]
     },
     "execution_count": 54,
     "metadata": {},
     "output_type": "execute_result"
    },
    {
     "data": {
      "image/png": "[encoded data removed]",
      "text/plain": [
       "<Figure size 640x480 with 1 Axes>"
      ]
     },
     "metadata": {},
     "output_type": "display_data"
    }
   ],
   "source": [
    "# plt.plot(times, leak_currents, label=\"leaky\")\n",
    "plt.plot(times, k_currents, label=\"k\")\n",
    "plt.plot(times, na_currents, label=\"na\")\n",
    "plt.plot(times, ampa_currents, label=\"ampa\")\n",
    "plt.plot(times, nmda_currents, label=\"nmda\")\n",
    "plt.plot(times, gaba_currents, label=\"gaba\")\n",
    "\n",
    "plt.xlim(80, 100)\n",
    "plt.legend()"
   ]
  },
  {
   "cell_type": "code",
   "execution_count": 55,
   "metadata": {},
   "outputs": [
    {
     "data": {
      "text/plain": [
       "-0.002717520267677528"
      ]
     },
     "execution_count": 55,
     "metadata": {},
     "output_type": "execute_result"
    }
   ],
   "source": [
    "min(ampa_currents)"
   ]
  }
 ],
 "metadata": {
  "kernelspec": {
   "display_name": "Python 3 (ipykernel)",
   "language": "python",
   "name": "python3"
  },
  "language_info": {
   "codemirror_mode": {
    "name": "ipython",
    "version": 3
   },
   "file_extension": ".py",
   "mimetype": "text/x-python",
   "name": "python",
   "nbconvert_exporter": "python",
   "pygments_lexer": "ipython3",
   "version": "3.12.7"
  }
 },
 "nbformat": 4,
 "nbformat_minor": 2
}
