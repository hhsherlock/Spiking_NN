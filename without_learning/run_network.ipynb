{
 "cells": [
  {
   "cell_type": "code",
   "execution_count": 2,
   "metadata": {},
   "outputs": [],
   "source": [
    "#!/usr/bin/env python3\n",
    "# -*- coding: utf-8 -*-\n",
    "\"\"\"\n",
    "Created on Thu Oct 24\n",
    "\n",
    "@author: yaning\n",
    "\"\"\"\n",
    "\n",
    "import importlib\n",
    "import numpy as np\n",
    "import matplotlib.pyplot as plt\n",
    "\n",
    "# my own class files\n",
    "import without_learning.NN.Receptors as Receptors\n",
    "import without_learning.NN.Network as Network\n",
    "\n",
    "\n",
    "importlib.reload(Receptors)\n",
    "importlib.reload(Network)\n",
    "\n",
    "path = \"/home/yaning/Documents/Spiking_NN/without_learning/\"\n",
    "\n",
    "# import debugpy\n",
    "# debugpy.listen((\"0.0.0.0\", 8888))  # Replace 5678 with your desired port number\n",
    "# print(\"Debugger is ready. Attach in VS Code.\")\n",
    "# debugpy.wait_for_client()\n",
    "# # debugpy.breakpoint()  # Optionally set a breakpoint here\n",
    "# print(\"Debugger is attached, ready to debug.\")"
   ]
  },
  {
   "cell_type": "code",
   "execution_count": 3,
   "metadata": {},
   "outputs": [],
   "source": [
    "samples = np.load(path + \"MCMC_samples/static_std_initial_0.npy\") "
   ]
  },
  {
   "cell_type": "code",
   "execution_count": 4,
   "metadata": {},
   "outputs": [],
   "source": [
    "cut_samples = samples[1000:, :]"
   ]
  },
  {
   "cell_type": "code",
   "execution_count": 5,
   "metadata": {},
   "outputs": [
    {
     "data": {
      "text/plain": [
       "(500, 19)"
      ]
     },
     "execution_count": 5,
     "metadata": {},
     "output_type": "execute_result"
    }
   ],
   "source": [
    "cut_samples.shape"
   ]
  },
  {
   "cell_type": "code",
   "execution_count": 6,
   "metadata": {},
   "outputs": [],
   "source": [
    "values = np.mean(cut_samples, axis=0)"
   ]
  },
  {
   "cell_type": "code",
   "execution_count": 7,
   "metadata": {},
   "outputs": [
    {
     "data": {
      "text/plain": [
       "array([ 0.6227672 ,  0.60953534,  0.62958986,  0.62072325,  0.62922657,\n",
       "        0.6240698 ,  0.63832563,  0.64734393,  0.6149543 ,  0.63811135,\n",
       "       30.        , 30.        , 30.        , 30.        , 30.        ,\n",
       "       30.        , 30.        , 30.        , 30.        ], dtype=float32)"
      ]
     },
     "execution_count": 7,
     "metadata": {},
     "output_type": "execute_result"
    }
   ],
   "source": [
    "values"
   ]
  },
  {
   "cell_type": "code",
   "execution_count": 26,
   "metadata": {},
   "outputs": [],
   "source": [
    "infer_names = Receptors.LigandGatedChannelFactory.infer_names\n",
    "infer_params = dict(zip(infer_names, values))"
   ]
  },
  {
   "cell_type": "code",
   "execution_count": 27,
   "metadata": {},
   "outputs": [],
   "source": [
    "Receptors.LigandGatedChannelFactory.infer_params = infer_params"
   ]
  },
  {
   "cell_type": "code",
   "execution_count": 28,
   "metadata": {},
   "outputs": [],
   "source": [
    "pointCount = 5000\n",
    "deltaTms = 0.05\n",
    "times = np.arange(pointCount) * deltaTms\n",
    "initial_Vm = 1.3458754117369027\n",
    "\n",
    "# Neuron: deltaTms, I, Vm\n",
    "neuron_input = Network.Neuron(deltaTms, 0, initial_Vm, \"input\", 0)\n",
    "\n",
    "neuron_excite_main = Network.Neuron(deltaTms, 0, initial_Vm, \"excite_main\", 0)\n",
    "neuron_excite_sub = Network.Neuron(deltaTms, 0, initial_Vm, \"excite_sub\", 0)\n",
    "\n",
    "neuron_inhibit_main = Network.Neuron(deltaTms, 0, initial_Vm, \"inhibit_main\", 0)\n",
    "neuron_inhibit_sub = Network.Neuron(deltaTms, 0, initial_Vm, \"inhibit_sub\", 0)\n",
    "\n",
    "neuron_output = Network.Neuron(deltaTms, 0, initial_Vm, \"output\", 0)\n",
    "\n",
    "neurons = [neuron_input, neuron_excite_main, neuron_excite_sub, \n",
    "           neuron_inhibit_main, neuron_inhibit_sub, neuron_output]\n",
    "\n",
    "\n",
    "\n",
    "\n",
    "# create synapse/connection (send neuron, receive neuron)\n",
    "control = Network.Control(deltaTms, initial_Vm)\n",
    "\n",
    "\n",
    "#*********************full layer***************************\n",
    "# ----------------first input layer------------------------\n",
    "control.create_synapse(neuron_input, neuron_excite_main, \"AMPA\")\n",
    "control.create_synapse(neuron_input, neuron_inhibit_main, \"GABA\")\n",
    "\n",
    "# ----------------self recurrent layer----------------\n",
    "control.create_synapse(neuron_excite_main, neuron_excite_sub, \"AMPA+NMDA\")\n",
    "control.create_synapse(neuron_excite_sub, neuron_excite_main, \"AMPA+NMDA\")\n",
    "\n",
    "control.create_synapse(neuron_inhibit_main, neuron_inhibit_sub, \"GABA\")\n",
    "control.create_synapse(neuron_inhibit_sub, neuron_inhibit_main, \"GABA\")\n",
    "\n",
    "# --------------between excitatory and inhibitory----------------\n",
    "control.create_synapse(neuron_excite_main, neuron_inhibit_main, \"AMPA+NMDA\")\n",
    "control.create_synapse(neuron_inhibit_main, neuron_excite_main, \"GABA\")\n",
    "\n",
    "\n",
    "# ----------------output layer----------------------\n",
    "control.create_synapse(neuron_excite_main, neuron_output, \"AMPA\")\n",
    "\n",
    "\n",
    "\n",
    "\n",
    "# recording arrays\n",
    "Vm_neuron_output = []\n",
    "GABA_gPs = []\n",
    "\n",
    "# run\n",
    "for t in range(pointCount):\n",
    "\n",
    "    # simulate input neuron firing\n",
    "    # this step changes states of the receptors\n",
    "    if t >= 2000 and t <= 2047:\n",
    "        neuron_input.sending_signal()\n",
    "    \n",
    "\n",
    "    # update the synapse states then each neuron\n",
    "    for neuron in neurons:\n",
    "        neuron.check_firing()\n",
    "        neuron.update()\n",
    "        \n",
    "    # set the synapse states back to 0\n",
    "    for synapse in control.all_synapses:\n",
    "        synapse.state = 0\n",
    "\n",
    "\n",
    "    Vm_neuron_output.append(neuron_excite_main.Vm - 70)\n",
    "    \n",
    "\n",
    "        \n",
    "\n",
    "\n"
   ]
  },
  {
   "cell_type": "code",
   "execution_count": 29,
   "metadata": {},
   "outputs": [
    {
     "data": {
      "text/plain": [
       "[<matplotlib.lines.Line2D at 0x7ff143f57ef0>]"
      ]
     },
     "execution_count": 29,
     "metadata": {},
     "output_type": "execute_result"
    },
    {
     "data": {
      "image/png": "[encoded data removed]",
      "text/plain": [
       "<Figure size 640x480 with 1 Axes>"
      ]
     },
     "metadata": {},
     "output_type": "display_data"
    }
   ],
   "source": [
    "# plt.plot(times, leak_currents, label=\"leaky\")\n",
    "# plt.plot(times/deltaTms, Ina_currents)\n",
    "# plt.plot(times/deltaTms, Ik_currents)\n",
    "# plt.plot(times/deltaTms, Vm_neuron1)\n",
    "# plt.plot(GABA_gPs)\n",
    "plt.plot(Vm_neuron_output)\n",
    "# plt.plot(times/deltaTms, ampa_currents, label = \"ampa\")\n",
    "\n",
    "\n",
    "# plt.xlim(2000, 2500)\n",
    "# plt.ylim(-300, 100)\n",
    "# plt.legend()"
   ]
  },
  {
   "cell_type": "code",
   "execution_count": 8,
   "metadata": {},
   "outputs": [
    {
     "data": {
      "text/plain": [
       "list"
      ]
     },
     "execution_count": 8,
     "metadata": {},
     "output_type": "execute_result"
    }
   ],
   "source": [
    "type(Vm_neuron_output)"
   ]
  },
  {
   "cell_type": "code",
   "execution_count": 9,
   "metadata": {},
   "outputs": [],
   "source": [
    "firing = []\n",
    "for i in Vm_neuron_output:\n",
    "    if i >= -50:\n",
    "        firing.append(i)"
   ]
  },
  {
   "cell_type": "code",
   "execution_count": 11,
   "metadata": {},
   "outputs": [
    {
     "data": {
      "text/plain": [
       "47"
      ]
     },
     "execution_count": 11,
     "metadata": {},
     "output_type": "execute_result"
    }
   ],
   "source": [
    "len(firing)"
   ]
  },
  {
   "cell_type": "code",
   "execution_count": 12,
   "metadata": {},
   "outputs": [
    {
     "data": {
      "text/plain": [
       "40.1116397661723"
      ]
     },
     "execution_count": 12,
     "metadata": {},
     "output_type": "execute_result"
    }
   ],
   "source": [
    "np.max(Vm_neuron_output)"
   ]
  },
  {
   "cell_type": "code",
   "execution_count": 6,
   "metadata": {},
   "outputs": [
    {
     "ename": "NameError",
     "evalue": "name 'Vm_neuron1' is not defined",
     "output_type": "error",
     "traceback": [
      "\u001b[0;31m---------------------------------------------------------------------------\u001b[0m",
      "\u001b[0;31mNameError\u001b[0m                                 Traceback (most recent call last)",
      "Cell \u001b[0;32mIn[6], line 4\u001b[0m\n\u001b[1;32m      1\u001b[0m f, (ax1, ax2) \u001b[38;5;241m=\u001b[39m plt\u001b[38;5;241m.\u001b[39msubplots(\u001b[38;5;241m2\u001b[39m, \u001b[38;5;241m1\u001b[39m, sharex\u001b[38;5;241m=\u001b[39m\u001b[38;5;28;01mTrue\u001b[39;00m, figsize\u001b[38;5;241m=\u001b[39m(\u001b[38;5;241m8\u001b[39m, \u001b[38;5;241m5\u001b[39m),\n\u001b[1;32m      2\u001b[0m                                 gridspec_kw\u001b[38;5;241m=\u001b[39m{\u001b[38;5;124m'\u001b[39m\u001b[38;5;124mheight_ratios\u001b[39m\u001b[38;5;124m'\u001b[39m: [\u001b[38;5;241m1\u001b[39m, \u001b[38;5;241m1\u001b[39m]})\n\u001b[0;32m----> 4\u001b[0m ax1\u001b[38;5;241m.\u001b[39mplot(times, \u001b[43mVm_neuron1\u001b[49m, label \u001b[38;5;241m=\u001b[39m \u001b[38;5;124m'\u001b[39m\u001b[38;5;124m1\u001b[39m\u001b[38;5;124m'\u001b[39m)\n\u001b[1;32m      5\u001b[0m ax1\u001b[38;5;241m.\u001b[39mplot(times, Vm_neuron2, label \u001b[38;5;241m=\u001b[39m \u001b[38;5;124m'\u001b[39m\u001b[38;5;124m2\u001b[39m\u001b[38;5;124m'\u001b[39m)\n\u001b[1;32m      6\u001b[0m ax1\u001b[38;5;241m.\u001b[39mset_ylabel(\u001b[38;5;124m\"\u001b[39m\u001b[38;5;124mMembrane Potential (mV)\u001b[39m\u001b[38;5;124m\"\u001b[39m)\n",
      "\u001b[0;31mNameError\u001b[0m: name 'Vm_neuron1' is not defined"
     ]
    },
    {
     "data": {
      "image/png": "[encoded data removed]",
      "text/plain": [
       "<Figure size 800x500 with 2 Axes>"
      ]
     },
     "metadata": {},
     "output_type": "display_data"
    }
   ],
   "source": [
    "f, (ax1, ax2) = plt.subplots(2, 1, sharex=True, figsize=(8, 5),\n",
    "                                gridspec_kw={'height_ratios': [1, 1]})\n",
    "\n",
    "ax1.plot(times, Vm_neuron1, label = '1')\n",
    "ax1.plot(times, Vm_neuron2, label = '2')\n",
    "ax1.set_ylabel(\"Membrane Potential (mV)\")\n",
    "# ax1.set_title(\"Hodgkin-Huxley Spiking Neuron Model\", fontSize=16)\n",
    "ax1.spines['right'].set_visible(False)\n",
    "ax1.spines['top'].set_visible(False)\n",
    "ax1.spines['bottom'].set_visible(False)\n",
    "ax1.tick_params(bottom=False)\n",
    "\n",
    "# ax1.set_ylim(0, 1)\n",
    "\n",
    "\n",
    "ax2.plot(times, I_neuron1, label = '1')\n",
    "ax2.plot(times, I_neuron2, label = '2')\n",
    "ax2.set_ylabel(\"Currents (µA/cm²)\")\n",
    "ax2.set_xlabel(\"Simulation Time (milliseconds)\")\n",
    "ax2.spines['right'].set_visible(False)\n",
    "ax2.spines['top'].set_visible(False)\n",
    "\n",
    "# ax2.set_ylim(-1,1)\n",
    "# plt.xlim(98, 120)\n",
    "plt.margins(0, 0.1)\n",
    "plt.tight_layout()\n",
    "plt.legend()\n",
    "plt.show()\n",
    "\n",
    "# sharp wave ripples"
   ]
  }
 ],
 "metadata": {
  "kernelspec": {
   "display_name": "Python 3 (ipykernel)",
   "language": "python",
   "name": "python3"
  }
 },
 "nbformat": 4,
 "nbformat_minor": 2
}
