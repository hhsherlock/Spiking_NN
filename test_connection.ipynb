{
 "cells": [
  {
   "cell_type": "code",
   "execution_count": 104,
   "metadata": {},
   "outputs": [
    {
     "data": {
      "text/plain": [
       "<module 'Receptors' from '/home/yaning/Documents/Spiking_NN/Receptors.py'>"
      ]
     },
     "execution_count": 104,
     "metadata": {},
     "output_type": "execute_result"
    }
   ],
   "source": [
    "#!/usr/bin/env python3\n",
    "# -*- coding: utf-8 -*-\n",
    "\"\"\"\n",
    "Created on Thu Oct 24\n",
    "\n",
    "@author: yaning\n",
    "\"\"\"\n",
    "\n",
    "import Receptors as Receptors\n",
    "import importlib\n",
    "import numpy as np\n",
    "import matplotlib.pyplot as plt\n",
    "\n",
    "importlib.reload(Receptors)"
   ]
  },
  {
   "cell_type": "code",
   "execution_count": 105,
   "metadata": {},
   "outputs": [],
   "source": [
    "class Neuron:\n",
    "    _Cm = 1\n",
    "\n",
    "    def __init__(self, deltaTms, I, Vm):\n",
    "        self.deltaTms = deltaTms\n",
    "        self.I = I\n",
    "        self.Vm = Vm\n",
    "        self.incoming_synapses = []\n",
    "        self.outgoing_synapses = []\n",
    "\n",
    "    \n",
    "    def inject_current(self, sum_currents):\n",
    "        self.I += sum_currents\n",
    "    \n",
    "    def update_voltage(self):\n",
    "        self.Vm += - self.deltaTms * self.I / self._Cm\n",
    "    \n",
    "    def sending_signal(self):\n",
    "        for synapse in self.outgoing_synapses:\n",
    "            synapse.state = 1\n",
    "\n",
    "\n",
    "    # def add_incoming_synapses(self, ):\n",
    "    #     self.incoming_synapses.append()"
   ]
  },
  {
   "cell_type": "code",
   "execution_count": 106,
   "metadata": {},
   "outputs": [],
   "source": [
    "class Synapse:\n",
    "\n",
    "    def __init__(self, deltaTms, state, send_neuron, receive_neuron, *args):\n",
    "        # either it is being simulated 1 or not 0\n",
    "        self.deltaTms = deltaTms\n",
    "        self.state = state\n",
    "\n",
    "        # do we need send neurons?\n",
    "        self.send_neuron = send_neuron\n",
    "        self.receive_neuron = receive_neuron\n",
    "\n",
    "        self.receptors = []\n",
    "\n",
    "        if args:\n",
    "            self.receptors.extend(args)\n",
    "    \n",
    "\n",
    "    def update(self):\n",
    "        sum_currents = 0\n",
    "        for receptor in self.receptors:\n",
    "            receptor.update_gP(self.state, self.deltaTms)\n",
    "            sum_currents += receptor.current()\n",
    "        \n",
    "        self.receive_neuron.inject_current(sum_currents)\n"
   ]
  },
  {
   "cell_type": "code",
   "execution_count": 107,
   "metadata": {},
   "outputs": [],
   "source": [
    "class Control:\n",
    "    def __init__(self, deltaTms, Vm):\n",
    "        self.all_synapses = []\n",
    "        self.deltaTms = deltaTms\n",
    "        self.Vm = Vm\n",
    "\n",
    "    def create_synapse(self, send_neuron, receive_neuron, type):\n",
    "        sodium_channel = Receptors.Voltage_Sodium(self.Vm)\n",
    "        potassium_channel = Receptors.Voltage_Potassium(self.Vm)\n",
    "        leaky_channel = Receptors.Voltage_Leak(self.Vm)\n",
    "        \n",
    "        if type == \"AMPA\":\n",
    "            ampa_receptor = Receptors.LigandGatedChannelFactory.create_AMPA(self.Vm)\n",
    "            synapse = Synapse(self.deltaTms, 0, send_neuron, receive_neuron, ampa_receptor)\n",
    "            \n",
    "        elif type == \"AMPA+NMDA\":\n",
    "            ampa_receptor = Receptors.LigandGatedChannelFactory.create_AMPA(self.Vm)\n",
    "            nmda_receptor = Receptors.LigandGatedChannelFactory.create_NMDA(self.Vm)\n",
    "            synapse = Synapse(self.deltaTms, 0, send_neuron, receive_neuron, ampa_receptor, nmda_receptor)\n",
    "        \n",
    "        elif type == \"GABA\":\n",
    "            gaba_receptor = Receptors.LigandGatedChannelFactory.create_GABA(self.Vm)\n",
    "            synapse = Synapse(self.deltaTms, 0, send_neuron, receive_neuron, gaba_receptor)\n",
    "\n",
    "        send_neuron.outgoing_synapses.append(synapse)\n",
    "        receive_neuron.incoming_synapses.append(synapse)\n",
    "\n",
    "        self.all_synapses.append(synapse)\n",
    "            \n",
    "            "
   ]
  },
  {
   "cell_type": "code",
   "execution_count": 108,
   "metadata": {},
   "outputs": [],
   "source": [
    "pointCount = 5000\n",
    "deltaTms = 0.05\n",
    "times = np.arange(pointCount) * deltaTms\n",
    "initial_Vm = 1.3458754117369027\n",
    "\n",
    "neuron1 = Neuron(deltaTms, 0, -65)\n",
    "neuron2 = Neuron(deltaTms, 0, -65)\n",
    "\n",
    "control = Control(deltaTms, initial_Vm)\n",
    "control.create_synapse(neuron1, neuron2, \"AMPA\")\n",
    "\n",
    "for t in range(pointCount):\n",
    "    for synapse in control.all_synapses:\n",
    "        synapse.update()"
   ]
  },
  {
   "cell_type": "code",
   "execution_count": 109,
   "metadata": {},
   "outputs": [
    {
     "data": {
      "text/plain": [
       "[<Receptors.LigandGatedChannel at 0x7f6a059f6990>]"
      ]
     },
     "execution_count": 109,
     "metadata": {},
     "output_type": "execute_result"
    }
   ],
   "source": [
    "neuron1.outgoing_synapses[0].receptors"
   ]
  }
 ],
 "metadata": {
  "kernelspec": {
   "display_name": "Python 3 (ipykernel)",
   "language": "python",
   "name": "python3"
  },
  "language_info": {
   "codemirror_mode": {
    "name": "ipython",
    "version": 3
   },
   "file_extension": ".py",
   "mimetype": "text/x-python",
   "name": "python",
   "nbconvert_exporter": "python",
   "pygments_lexer": "ipython3",
   "version": "3.12.7"
  }
 },
 "nbformat": 4,
 "nbformat_minor": 2
}
