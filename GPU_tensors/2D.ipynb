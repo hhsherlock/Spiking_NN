{
 "cells": [
  {
   "cell_type": "code",
   "execution_count": 2,
   "id": "4a9c591a",
   "metadata": {},
   "outputs": [],
   "source": [
    "#!/usr/bin/env python3\n",
    "# -*- coding: utf-8 -*-\n",
    "\"\"\"\n",
    "Created on Tue Mai 20\n",
    "\n",
    "@author: yaning\n",
    "\"\"\"\n",
    "\n",
    "import importlib\n",
    "import numpy as np\n",
    "import matplotlib.pyplot as plt\n",
    "import itertools\n",
    "import pickle\n",
    "import math\n",
    "import random\n",
    "from tqdm import tqdm\n",
    "\n",
    "# my own class files\n",
    "import GPU.Receptors as Receptors\n",
    "import GPU.Network as Network\n",
    "import GPU.create_update_synapse as cus\n",
    "\n",
    "\n",
    "importlib.reload(Receptors)\n",
    "importlib.reload(Network)\n",
    "importlib.reload(cus)\n",
    "\n",
    "path = \"/home/yaning/Documents/\"\n",
    "np.set_printoptions(threshold=np.inf)"
   ]
  },
  {
   "cell_type": "code",
   "execution_count": 3,
   "id": "4942f3e5",
   "metadata": {},
   "outputs": [],
   "source": [
    "with open(path + \"fire_data_10p_8f_non_zero.pkl\", \"rb\") as f:\n",
    "    fire_data = pickle.load(f)"
   ]
  },
  {
   "cell_type": "code",
   "execution_count": 4,
   "id": "b42127dc",
   "metadata": {},
   "outputs": [
    {
     "data": {
      "text/plain": [
       "(100, 10, 10, 8, 6000)"
      ]
     },
     "execution_count": 4,
     "metadata": {},
     "output_type": "execute_result"
    }
   ],
   "source": [
    "fire_data.shape"
   ]
  },
  {
   "cell_type": "code",
   "execution_count": 5,
   "id": "75cc8804",
   "metadata": {},
   "outputs": [],
   "source": [
    "pointCount = 6000\n",
    "# deltaTms = 0.05\n",
    "# times = np.arange(pointCount) * deltaTms\n",
    "# initial_Vm = 1.3458754117369027"
   ]
  },
  {
   "cell_type": "markdown",
   "id": "94c178d3",
   "metadata": {},
   "source": [
    "Input neurons"
   ]
  },
  {
   "cell_type": "code",
   "execution_count": null,
   "id": "a41501cc",
   "metadata": {},
   "outputs": [],
   "source": [
    "pixel = 10\n",
    "feature = 8\n",
    "input_array = np.empty([pixel,pixel,feature], dtype=object)\n",
    "\n",
    "for i in range(pixel):\n",
    "    for j in range(pixel):\n",
    "        for k in range(feature):\n",
    "            input_array[i,j,k] = Network.Neuron((i,j,k))\n",
    "            \n",
    "\n",
    "# not sure if need to flatten it \n",
    "input_array_flat = input_array.flatten()"
   ]
  },
  {
   "cell_type": "markdown",
   "id": "22623722",
   "metadata": {},
   "source": [
    "Excitatory Neurons"
   ]
  },
  {
   "cell_type": "code",
   "execution_count": 7,
   "id": "21ea12ef",
   "metadata": {},
   "outputs": [],
   "source": [
    "E_height = 20\n",
    "E_width = 20\n",
    "\n",
    "E_array = np.empty([E_height, E_width], dtype=object)\n",
    "\n",
    "for i in range(E_height):\n",
    "    for j in range(E_width):\n",
    "        E_array[i,j] = Network.Neuron((i,j))\n",
    "\n",
    "E_array_flat = E_array.flatten()"
   ]
  },
  {
   "cell_type": "markdown",
   "id": "a1291681",
   "metadata": {},
   "source": [
    "Inhibitory Neurons"
   ]
  },
  {
   "cell_type": "code",
   "execution_count": 8,
   "id": "acd953ea",
   "metadata": {},
   "outputs": [],
   "source": [
    "I_amount = 10\n",
    "\n",
    "I_array = np.empty(I_amount, dtype=object)\n",
    "for i in range(I_amount):\n",
    "    I_array[i] = Network.Neuron((i))"
   ]
  },
  {
   "cell_type": "markdown",
   "id": "2020e769",
   "metadata": {},
   "source": [
    "Ouput Neurons"
   ]
  },
  {
   "cell_type": "code",
   "execution_count": 9,
   "id": "6977f6fc",
   "metadata": {},
   "outputs": [],
   "source": [
    "output_size = 5\n",
    "\n",
    "output_array = np.empty([output_size, output_size], dtype=object)\n",
    "\n",
    "for i in range(output_size):\n",
    "    for j in range(output_size):\n",
    "        output_array[i,j] = Network.Neuron((i,j))\n",
    "        \n",
    "output_array_flat = output_array.flatten()"
   ]
  },
  {
   "cell_type": "markdown",
   "id": "cf156420",
   "metadata": {},
   "source": [
    "Connection them!"
   ]
  },
  {
   "cell_type": "code",
   "execution_count": 10,
   "id": "12b19bdb",
   "metadata": {},
   "outputs": [],
   "source": [
    "# Input to E (all-to-all connection) This might not be all to all connection \n",
    "# because from V1 to V2 the topological features hold\n",
    "for i in input_array_flat:\n",
    "    for j in E_array_flat:\n",
    "        cus.create_synapse(i, j, \"AMPA\")\n",
    "\n",
    "# E to I p=0.1\n",
    "for i in E_array_flat:\n",
    "    for j in I_array:\n",
    "        if random.random() < 0.1:\n",
    "            cus.create_synapse(i, j, \"AMPA+NMDA\")\n",
    "\n",
    "# I to I p=0.1 (should i prevent self connection? they exist but rare)\n",
    "for i in I_array:\n",
    "    for j in I_array:\n",
    "        if random.random() < 0.1:\n",
    "            cus.create_synapse(i, j, \"GABA\")\n",
    "\n",
    "# I to E p=0.024\n",
    "for i in I_array:\n",
    "    for j in E_array_flat:\n",
    "        if random.random() < 0.024:\n",
    "            cus.create_synapse(i, j, \"GABA\")\n",
    "\n",
    "# # E to output (subsets)\n",
    "stride = 4\n",
    "kernel_size = 4\n",
    "\n",
    "for i in output_array_flat:\n",
    "    idx = i.id\n",
    "    x_num = idx[0]\n",
    "    y_num = idx[1]\n",
    "    connect_arrary = []\n",
    "    x_select = E_array[stride*x_num:stride*x_num+kernel_size]\n",
    "    for j in range(len(x_select)):\n",
    "        connect_arrary.append(x_select[j][stride*y_num:stride*y_num+kernel_size])\n",
    "    \n",
    "    connect_arrary = list(itertools.chain.from_iterable(connect_arrary))\n",
    "    # connect all the selected E neurons\n",
    "    for c in connect_arrary:\n",
    "        cus.create_synapse(c, i, \"AMPA\")"
   ]
  },
  {
   "cell_type": "code",
   "execution_count": 11,
   "id": "d0830316",
   "metadata": {},
   "outputs": [
    {
     "data": {
      "text/plain": [
       "320876"
      ]
     },
     "execution_count": 11,
     "metadata": {},
     "output_type": "execute_result"
    }
   ],
   "source": [
    "len(cus.all_synapses)"
   ]
  },
  {
   "cell_type": "markdown",
   "id": "a034960a",
   "metadata": {},
   "source": [
    "Run"
   ]
  },
  {
   "cell_type": "code",
   "execution_count": 12,
   "id": "382159f8",
   "metadata": {},
   "outputs": [],
   "source": [
    "fire_array = fire_data[:1]"
   ]
  },
  {
   "cell_type": "code",
   "execution_count": 13,
   "id": "66aa7d7b",
   "metadata": {},
   "outputs": [
    {
     "data": {
      "text/plain": [
       "(1, 10, 10, 8, 6000)"
      ]
     },
     "execution_count": 13,
     "metadata": {},
     "output_type": "execute_result"
    }
   ],
   "source": [
    "fire_array.shape"
   ]
  },
  {
   "cell_type": "code",
   "execution_count": 14,
   "id": "a86d271f",
   "metadata": {},
   "outputs": [
    {
     "data": {
      "text/plain": [
       "(10, 10, 8)"
      ]
     },
     "execution_count": 14,
     "metadata": {},
     "output_type": "execute_result"
    }
   ],
   "source": [
    "input_array.shape"
   ]
  },
  {
   "cell_type": "code",
   "execution_count": null,
   "id": "64318e73",
   "metadata": {},
   "outputs": [],
   "source": [
    "for trial in range(fire_array.shape[0]):\n",
    "    fired_synapse = []\n",
    "    for t in tqdm(range(pointCount)):\n",
    "        this_fire_array = fire_array[trial, :, :, :, t]\n",
    "        for i in range(input_array.shape[0]):\n",
    "            for j in range(input_array.shape[1]):\n",
    "                for k in range(input_array.shape[2]):\n",
    "                    if this_fire_array[i][j][k]:\n",
    "                        input_array[i][j][k].sending_signal()\n",
    "                        input_array[i][j][k].fire_tstep.append(t)\n",
    "            \n",
    "\n",
    "        # update E\n",
    "        for neuron in E_array_flat:\n",
    "            neuron.update()\n",
    "            # if fires send signal and add fire_tstep\n",
    "            neuron.check_firing(t)\n",
    "\n",
    "        for neuron in I_array:\n",
    "            neuron.update()\n",
    "            neuron.check_firing(t)\n",
    "\n",
    "        for neuron in output_array_flat:\n",
    "            neuron.update()\n",
    "            neuron.check_firing(t)         \n",
    "\n",
    "\n",
    "\n",
    "            # # ignore weight update for now \n",
    "            # if neuron.fire_tstep == []:\n",
    "            #     last_fire = -2\n",
    "            # else:\n",
    "            #     last_fire = neuron.fire_tstep[-1]\n",
    "\n",
    "\n",
    "\n",
    "            # if fire:\n",
    "            #     # only update weight when it fires the first tstep\n",
    "            #     if last_fire + 1 != t:\n",
    "            #         weight_update_num += 1\n",
    "            #         # print(\"this line runs\")\n",
    "            #         # neuron.update_weights_hebbian(t)\n",
    "            #         neuron.update_weights_twenty(t)\n",
    "\n",
    "            \n",
    "            \n",
    "\n",
    "\n",
    "        \n",
    "        \n",
    "        # set the synapse states back to 0\n",
    "        for synapse in cus.all_synapses:\n",
    "            if synapse.state == 1:\n",
    "                # print(\"this line runs\")\n",
    "                # this shouldn't be fired_synapse but it should be activated_synapse\n",
    "                if synapse not in fired_synapse:\n",
    "                    fired_synapse.append(synapse)\n",
    "            synapse.state = 0\n",
    "        # print(fired_synapse)\n",
    "\n",
    "    # # ignore learning as well\n",
    "    # desire = dataset[trial, -1]\n",
    "    # print(len(fired_synapse))\n",
    "\n",
    "    # difference = len(neuron_output_0.fire_tstep) - len(neuron_output_1.fire_tstep)\n",
    "    # if  difference > 0:\n",
    "    #     real = 0\n",
    "    # else: real = 1\n",
    "    # print(real)\n",
    "    # # # rescaled_difference = sigmoid(difference)\n",
    "    # if desire == real:\n",
    "    #     for synapse in fired_synapse:\n",
    "    #         for receptor in synapse.receptors:\n",
    "    #             learning_weight_num += 1\n",
    "    #             receptor.w = receptor.w * 1.1\n",
    "    # else:\n",
    "    #     for synapse in fired_synapse:\n",
    "    #         for receptor in synapse.receptors:\n",
    "    #             receptor.w = receptor.w * 0.9\n",
    "    \n",
    "\n",
    "    # Vm_neuron_output.append(neuron_excite_main_0.Vm - 70)\n",
    "    # neuron_output_currents.append(neuron_output.I)\n",
    "    # neuron_excite_main_0_currents.append(neuron_excite_main_0.I)\n",
    "    # neuron_excite_main_firing_tstep.append(neuron_excite_main.fire_tstep)"
   ]
  }
 ],
 "metadata": {
  "kernelspec": {
   "display_name": "Python 3 (ipykernel)",
   "language": "python",
   "name": "python3"
  }
 },
 "nbformat": 4,
 "nbformat_minor": 5
}
