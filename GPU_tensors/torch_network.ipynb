{
 "cells": [
  {
   "cell_type": "code",
   "execution_count": null,
   "id": "334ceae2",
   "metadata": {},
   "outputs": [],
   "source": [
    "#!/usr/bin/env python3\n",
    "# -*- coding: utf-8 -*-\n",
    "\"\"\"\n",
    "Created on Fri Jun 13\n",
    "\n",
    "@author: yaning\n",
    "\"\"\"\n",
    "\n",
    "import torch\n",
    "import pickle\n",
    "import numpy as np\n",
    "import matplotlib.pyplot as plt\n",
    "import math\n",
    "\n",
    "path = \"/home/yaning/Documents/\"\n",
    "np.set_printoptions(threshold=np.inf)\n",
    "torch.set_printoptions(threshold=float('inf'))"
   ]
  },
  {
   "cell_type": "code",
   "execution_count": 2,
   "id": "c8cab1c6",
   "metadata": {},
   "outputs": [],
   "source": [
    "device = torch.device(\"cuda\" if torch.cuda.is_available() else \"cpu\")"
   ]
  },
  {
   "cell_type": "code",
   "execution_count": 3,
   "id": "f23e87ca",
   "metadata": {},
   "outputs": [],
   "source": [
    "with open(path + \"fire_data_10p_8f_non_zero.pkl\", \"rb\") as f:\n",
    "    fire_data = pickle.load(f)"
   ]
  },
  {
   "cell_type": "code",
   "execution_count": 4,
   "id": "c3aab406",
   "metadata": {},
   "outputs": [],
   "source": [
    "fire_data = torch.tensor(fire_data, device=device)"
   ]
  },
  {
   "cell_type": "markdown",
   "id": "3fa144af",
   "metadata": {},
   "source": [
    "Test Neurons with ion channels only"
   ]
  },
  {
   "cell_type": "code",
   "execution_count": 5,
   "id": "8fb53955",
   "metadata": {},
   "outputs": [],
   "source": [
    "pixel_num = 10\n",
    "feature_num = 8"
   ]
  },
  {
   "cell_type": "markdown",
   "id": "fa3025fd",
   "metadata": {},
   "source": [
    "Input neurons do not need detailed channels or receptors. "
   ]
  },
  {
   "cell_type": "markdown",
   "id": "c11a5f6d",
   "metadata": {},
   "source": [
    "**mp**: Membrane Potential  \n",
    "**c**: Current"
   ]
  },
  {
   "cell_type": "code",
   "execution_count": 6,
   "id": "d7c71516",
   "metadata": {},
   "outputs": [],
   "source": [
    "E_num = 20"
   ]
  },
  {
   "cell_type": "code",
   "execution_count": 7,
   "id": "8022929d",
   "metadata": {},
   "outputs": [],
   "source": [
    "# only setting the shape\n",
    "E_cells = torch.zeros(E_num, E_num)"
   ]
  },
  {
   "cell_type": "markdown",
   "id": "dda85ba3",
   "metadata": {},
   "source": [
    "Ion channels on the same neurons share the same gate values (m,n,h)"
   ]
  },
  {
   "cell_type": "code",
   "execution_count": 8,
   "id": "5256546d",
   "metadata": {},
   "outputs": [],
   "source": [
    "# initialise state values\n",
    "\n",
    "m_states = E_cells.clone()\n",
    "m_states.fill_(0.061956531255774015)\n",
    "\n",
    "n_states = E_cells.clone()\n",
    "n_states.fill_(0.3384883478113268)\n",
    "\n",
    "h_states = E_cells.clone()\n",
    "h_states.fill_(0.5484107720738856)\n",
    "\n",
    "initial_states = torch.stack([m_states, n_states, h_states], dim=0)"
   ]
  },
  {
   "cell_type": "code",
   "execution_count": 9,
   "id": "beac2171",
   "metadata": {},
   "outputs": [],
   "source": [
    "def update_states(mp, current_states, deltaTms=0.05):\n",
    "        m_alpha = .1*((25-mp) / (torch.exp((25-mp)/10)-1))\n",
    "        m_beta = 4*torch.exp(-mp/18)\n",
    "        n_alpha = .01 * ((10-mp) / (torch.exp((10-mp)/10)-1))\n",
    "        n_beta = .125*torch.exp(-mp/80)\n",
    "        h_alpha = .07*torch.exp(-mp/20)\n",
    "        h_beta = 1/(torch.exp((30-mp)/10)+1)\n",
    "\n",
    "        alphas = torch.stack([m_alpha, n_alpha, h_alpha], dim=0)\n",
    "        betas = torch.stack([m_beta, n_beta, h_beta], dim=0)\n",
    "\n",
    "        alpha_states = alphas*(1-current_states)\n",
    "        beta_states = betas*current_states\n",
    "\n",
    "        new_states = current_states + deltaTms*(alpha_states - beta_states)\n",
    "\n",
    "        return new_states\n"
   ]
  },
  {
   "cell_type": "code",
   "execution_count": 10,
   "id": "694e7248",
   "metadata": {},
   "outputs": [],
   "source": [
    "gMax_Na = 120\n",
    "rE_Na = 115\n",
    "\n",
    "gMax_K = 36\n",
    "rE_K = -12\n",
    "\n",
    "gMax_leaky = 0.3\n",
    "rE_leaky = 10.6\n",
    "\n",
    "deltaTms = 0.05\n",
    "Cm = 1\n",
    "pointCount = fire_data.shape[-1]"
   ]
  },
  {
   "cell_type": "code",
   "execution_count": 11,
   "id": "1a4d5806",
   "metadata": {},
   "outputs": [],
   "source": [
    "gMax_AMPA = 0.072\n",
    "gMax_NMDA = 0.0012\n",
    "gMax_GABA = 0.004\n",
    "\n",
    "rE_AMPA = 70\n",
    "rE_NMDA = 70\n",
    "rE_GABA = 140\n",
    "\n",
    "mg = 0.01\n",
    "\n",
    "# below parameters are all guesses\n",
    "u_se = torch.tensor([0.9, 0.9, 0.9])\n",
    "\n",
    "tau_rec = torch.tensor([12, 12, 12])\n",
    "tau_pre = torch.tensor([10, 10, 10])\n",
    "tau_post = torch.tensor([20, 10, 10])\n",
    "tau_decay = torch.tensor([8, 15, 20])\n",
    "tau_rise = torch.tensor([10, 7, 7])\n",
    "\n",
    "learning_rate = 0.7"
   ]
  },
  {
   "cell_type": "code",
   "execution_count": null,
   "id": "5942730f",
   "metadata": {},
   "outputs": [],
   "source": [
    "# three kinds of receptors\n",
    "recpetors_cells = torch.zeros(3, E_num, I_num)"
   ]
  },
  {
   "cell_type": "code",
   "execution_count": 13,
   "id": "bca21436",
   "metadata": {},
   "outputs": [],
   "source": [
    "# all the dynamic parameters start with 1.\n",
    "e = recpetors_cells.clone()\n",
    "e.fill_(1)\n",
    "\n",
    "w = recpetors_cells.clone()\n",
    "w.fill_(1)\n",
    "\n",
    "g_decay = recpetors_cells.clone()\n",
    "g_decay.fill_(1)\n",
    "\n",
    "g_rise = recpetors_cells.clone()\n",
    "g_rise.fill_(1);"
   ]
  },
  {
   "cell_type": "code",
   "execution_count": 14,
   "id": "42321ca9",
   "metadata": {},
   "outputs": [],
   "source": [
    "mp = recpetors_cells.clone()\n",
    "mp.fill_(1.3458754117369027);"
   ]
  },
  {
   "cell_type": "code",
   "execution_count": 15,
   "id": "3a37dd8c",
   "metadata": {},
   "outputs": [],
   "source": [
    "# receptor states active:1 and inactive:0\n",
    "activeness = recpetors_cells.clone()\n",
    "activeness.fill_(0.);"
   ]
  },
  {
   "cell_type": "code",
   "execution_count": 16,
   "id": "96a5595c",
   "metadata": {},
   "outputs": [],
   "source": [
    "# arrays of having AMPA, NMDA and GABA receptor (1 is have, 0 is not)\n",
    "# Q: should i use this or not, this slows it down but has more general use\n",
    "have_AMPA = recpetors_cells.clone()\n",
    "have_NMDA = recpetors_cells.clone()\n",
    "have_GABA = recpetors_cells.clone()"
   ]
  },
  {
   "cell_type": "code",
   "execution_count": 17,
   "id": "11ce5fce",
   "metadata": {},
   "outputs": [],
   "source": [
    "have_AMPA.fill_(1)\n",
    "have_NMDA.fill_(1);"
   ]
  },
  {
   "cell_type": "code",
   "execution_count": 18,
   "id": "8f014e67",
   "metadata": {},
   "outputs": [],
   "source": [
    "def runge_kutta(f, y0, h, *arg):\n",
    "    k1 = f(y0, *arg)\n",
    "    k2 = f(y0 + h*k1/2, *arg)\n",
    "    k3 = f(y0 + h*k2/2, *arg)\n",
    "    k4 = f(y0 + h*k3, *arg)\n",
    "\n",
    "    next = y0 + 1/6*(k1 + 2*k2 + 2*k3 + k4)\n",
    "\n",
    "    return next\n",
    "\n",
    "# deri as deriviation \n",
    "def e_deri(e, on_off):\n",
    "    return (1-e)/tau_rec[:,None, None] - u_se[:,None,None]*on_off\n",
    "\n",
    "def g_decay_deri(g_decay, w, e, on_off):\n",
    "    return -g_decay/tau_decay[:,None,None] + w*e*on_off\n",
    "\n",
    "def g_rise_deri(g_rise, w, e, on_off):\n",
    "    return -g_rise/tau_rise[:,None,None] + w*e*on_off"
   ]
  },
  {
   "cell_type": "code",
   "execution_count": 87,
   "id": "a1a5be5c",
   "metadata": {},
   "outputs": [
    {
     "data": {
      "text/plain": [
       "torch.Size([3, 1, 1])"
      ]
     },
     "execution_count": 87,
     "metadata": {},
     "output_type": "execute_result"
    }
   ],
   "source": [
    "tau_decay[:, None, None].shape"
   ]
  },
  {
   "cell_type": "code",
   "execution_count": 89,
   "id": "a1732619",
   "metadata": {},
   "outputs": [
    {
     "data": {
      "text/plain": [
       "torch.Size([3, 10])"
      ]
     },
     "execution_count": 89,
     "metadata": {},
     "output_type": "execute_result"
    }
   ],
   "source": [
    "I_g_decay.shape"
   ]
  },
  {
   "cell_type": "code",
   "execution_count": 19,
   "id": "b3fb242d",
   "metadata": {},
   "outputs": [],
   "source": [
    "def update_gPs(e, g_decay, g_rise, activeness, deltaTms=0.05):\n",
    "    # update e\n",
    "    e = runge_kutta(e_deri, e, deltaTms, activeness)\n",
    "\n",
    "    # update g_decay and g_rise\n",
    "    # deltaTms * 10 is not good, when try to find the right params need to delete this\n",
    "    g_decay = runge_kutta(g_decay_deri, g_decay, deltaTms*10, w, e, activeness)\n",
    "    g_rise = runge_kutta(g_rise_deri, g_rise, deltaTms*10, w, e, activeness)\n",
    "\n",
    "    gP = g_rise - g_decay\n",
    "\n",
    "    return e, g_decay, g_rise, gP"
   ]
  },
  {
   "cell_type": "markdown",
   "id": "c1204541",
   "metadata": {},
   "source": [
    "Combine ligand-gated receptors with the ion channels"
   ]
  },
  {
   "cell_type": "code",
   "execution_count": 20,
   "id": "e7e0ed22",
   "metadata": {},
   "outputs": [
    {
     "data": {
      "text/plain": [
       "torch.Size([100, 10, 10, 8, 6000])"
      ]
     },
     "execution_count": 20,
     "metadata": {},
     "output_type": "execute_result"
    }
   ],
   "source": [
    "fire_data.shape"
   ]
  },
  {
   "cell_type": "code",
   "execution_count": null,
   "id": "e5c134ae",
   "metadata": {},
   "outputs": [],
   "source": [
    "states = initial_states\n",
    "mp = I_cells.clone()\n",
    "mp.fill_(1.3458754117369027)\n",
    "\n",
    "voltages = []\n",
    "for t in range(pointCount):\n",
    "\n",
    "    # should update first because the otherwise it will be just ones (initial values)\n",
    "    states = update_states(mp, states)\n",
    "    e, g_decay, g_rise, gP = update_gPs(e, g_decay, g_rise, activeness)\n",
    "\n",
    "    # print(g_decay)\n",
    "\n",
    "    # generate currents based on gPs\n",
    "    AMPA_currents = gMax_AMPA*gP[0]*(mp-rE_AMPA)*activeness[0]\n",
    "    NMDA_currents = gMax_NMDA*gP[1]*(1/1+mg*torch.exp(-0.062*mp)/3.57)*(mp-rE_NMDA)*activeness[1]\n",
    "    GABA_currents = gMax_GABA*gP[2]*(mp-rE_GABA)*(-1)*activeness[2]\n",
    "    \n",
    "    sodium_currents = gMax_Na*torch.pow(states[0], 3) * states[2]*(mp-rE_Na)\n",
    "    potassium_currents = gMax_K*torch.pow(states[1], 4)*(mp-rE_K)\n",
    "    leaky_currents = gMax_leaky*(mp-rE_leaky)\n",
    "\n",
    "    total_c = - sodium_currents - potassium_currents - leaky_currents - (\n",
    "        AMPA_currents + NMDA_currents + GABA_currents\n",
    "    )\n",
    "    mp = mp + deltaTms*total_c/Cm\n",
    "    \n",
    "    \n",
    "\n",
    "    voltages.append(mp[0][0]-70)"
   ]
  },
  {
   "cell_type": "code",
   "execution_count": 22,
   "id": "55ba073e",
   "metadata": {},
   "outputs": [
    {
     "data": {
      "text/plain": [
       "[<matplotlib.lines.Line2D at 0x77e43157e110>]"
      ]
     },
     "execution_count": 22,
     "metadata": {},
     "output_type": "execute_result"
    },
    {
     "data": {
      "image/png": "[encoded data removed]",
      "text/plain": [
       "<Figure size 640x480 with 1 Axes>"
      ]
     },
     "metadata": {},
     "output_type": "display_data"
    }
   ],
   "source": [
    "plt.plot(np.arange(pointCount), voltages)"
   ]
  },
  {
   "cell_type": "markdown",
   "id": "739b3063",
   "metadata": {},
   "source": [
    "Input layer connects to E and E's own lateral excitatory connections according to euclidean distance"
   ]
  },
  {
   "cell_type": "code",
   "execution_count": 23,
   "id": "c4da7288",
   "metadata": {},
   "outputs": [],
   "source": [
    "Input_con_E = torch.zeros(pixel_num, pixel_num, feature_num, E_num, E_num, device=device)"
   ]
  },
  {
   "cell_type": "code",
   "execution_count": 24,
   "id": "0d5a8686",
   "metadata": {},
   "outputs": [],
   "source": [
    "# all-to-all  connections\n",
    "Input_con_E.fill_(1.);"
   ]
  },
  {
   "cell_type": "code",
   "execution_count": 25,
   "id": "32916ef0",
   "metadata": {},
   "outputs": [
    {
     "data": {
      "text/plain": [
       "torch.Size([100, 10, 10, 8, 6000])"
      ]
     },
     "execution_count": 25,
     "metadata": {},
     "output_type": "execute_result"
    }
   ],
   "source": [
    "fire_data.shape"
   ]
  },
  {
   "cell_type": "code",
   "execution_count": 26,
   "id": "200b3e37",
   "metadata": {},
   "outputs": [],
   "source": [
    "# one picture, one time point\n",
    "one_data = fire_data[50, :, :, :, 2500]"
   ]
  },
  {
   "cell_type": "code",
   "execution_count": 27,
   "id": "fd1a2d12",
   "metadata": {},
   "outputs": [],
   "source": [
    "input_activeness = one_data.float()"
   ]
  },
  {
   "cell_type": "code",
   "execution_count": 28,
   "id": "5d6f61ea",
   "metadata": {},
   "outputs": [],
   "source": [
    "# sumed all the fired connections, could use it as a probablity of firing (synapses state change)\n",
    "E_activeness = torch.einsum('ijkxy,ijk->xy', Input_con_E, input_activeness)"
   ]
  },
  {
   "cell_type": "code",
   "execution_count": 48,
   "id": "ea42a1c4",
   "metadata": {},
   "outputs": [],
   "source": [
    "# the later two E_nums are the one sending out the connections/the center\n",
    "E_con_E = torch.zeros(E_num, E_num, E_num, E_num, device=device)\n",
    "\n",
    "sigma_E_E = 2\n",
    "max_E_E = 10\n",
    "\n",
    "for i in range(E_num):\n",
    "    for j in range(E_num):\n",
    "        for k in range(E_num):\n",
    "            for l in range(E_num):\n",
    "                project_center_x = k\n",
    "                project_center_y = l\n",
    "\n",
    "                euc_distance = math.sqrt((project_center_x - i)**2 + (project_center_y - j)**2)\n",
    "                E_con_E[i,j,k,l] = max_E_E*math.exp(-0.5*(euc_distance/sigma_E_E)**2)"
   ]
  },
  {
   "cell_type": "code",
   "execution_count": 52,
   "id": "3854568e",
   "metadata": {},
   "outputs": [],
   "source": [
    "test = E_con_E[:,:,10, 15]"
   ]
  },
  {
   "cell_type": "code",
   "execution_count": 53,
   "id": "419f02ff",
   "metadata": {},
   "outputs": [
    {
     "data": {
      "image/png": "[encoded data removed]",
      "text/plain": [
       "<Figure size 640x480 with 2 Axes>"
      ]
     },
     "metadata": {},
     "output_type": "display_data"
    }
   ],
   "source": [
    "plt.imshow(test.cpu(), cmap='hot')\n",
    "plt.colorbar() \n",
    "plt.show()"
   ]
  },
  {
   "cell_type": "markdown",
   "id": "4e476393",
   "metadata": {},
   "source": [
    "Create inhibitory layer and connect it with E and itself"
   ]
  },
  {
   "cell_type": "code",
   "execution_count": 29,
   "id": "5557c2de",
   "metadata": {},
   "outputs": [],
   "source": [
    "I_num = 10"
   ]
  },
  {
   "cell_type": "code",
   "execution_count": 30,
   "id": "227a4d1c",
   "metadata": {},
   "outputs": [],
   "source": [
    "I_cells = torch.zeros(I_num, device=device)"
   ]
  },
  {
   "cell_type": "code",
   "execution_count": 31,
   "id": "3662a2ab",
   "metadata": {},
   "outputs": [],
   "source": [
    "# E to I connection matrix (p=0.1)\n",
    "E_con_I = torch.zeros(E_num, E_num, I_num, device=device)\n",
    "\n",
    "num_elements = E_con_I.numel()\n",
    "num_ones = max(1, int(num_elements * 0.1))  # Ensure at least 1 element\n",
    "\n",
    "flat_indices = torch.randperm(num_elements)[:num_ones]\n",
    "\n",
    "E_con_I.view(-1)[flat_indices] = 1"
   ]
  },
  {
   "cell_type": "code",
   "execution_count": 32,
   "id": "c5a7633c",
   "metadata": {},
   "outputs": [],
   "source": [
    "# I to E connection matrix (p=0.024)\n",
    "I_con_E = torch.zeros(I_num, E_num, E_num, device=device)\n",
    "\n",
    "num_elements = I_con_E.numel()\n",
    "num_ones = max(1, int(num_elements * 0.024))  # Ensure at least 1 element\n",
    "\n",
    "flat_indices = torch.randperm(num_elements)[:num_ones]\n",
    "\n",
    "I_con_E.view(-1)[flat_indices] = 1"
   ]
  },
  {
   "cell_type": "code",
   "execution_count": 33,
   "id": "b4e0412f",
   "metadata": {},
   "outputs": [],
   "source": [
    "# I to I self connection (p=0.1)\n",
    "I_con_I = torch.zeros(I_num, I_num, device=device)\n",
    "\n",
    "num_elements = I_con_I.numel()\n",
    "num_ones = max(1, int(num_elements * 0.1))  # Ensure at least 1 element\n",
    "\n",
    "flat_indices = torch.randperm(num_elements)[:num_ones]\n",
    "\n",
    "I_con_I.view(-1)[flat_indices] = 1"
   ]
  },
  {
   "cell_type": "markdown",
   "id": "9e7dde1a",
   "metadata": {},
   "source": [
    "Connect E to the Output with gaussian weights"
   ]
  },
  {
   "cell_type": "code",
   "execution_count": 34,
   "id": "60b3acaf",
   "metadata": {},
   "outputs": [],
   "source": [
    "Out_num = 5"
   ]
  },
  {
   "cell_type": "code",
   "execution_count": 38,
   "id": "df982ec0",
   "metadata": {},
   "outputs": [],
   "source": [
    "E_con_Output = torch.zeros(E_num, E_num, Out_num, Out_num, device=device)\n",
    "\n",
    "sigma_E_Out = 2\n",
    "max_E_Out = 10\n",
    "# find the center point from Output to E\n",
    "ratio = E_num/Out_num\n",
    "\n",
    "for i in range(E_num):\n",
    "    for j in range(E_num):\n",
    "        for k in range(Out_num):\n",
    "            for l in range(Out_num):\n",
    "                project_center_x = k*ratio\n",
    "                project_center_y = l*ratio\n",
    "\n",
    "                euc_distance = math.sqrt((project_center_x - i)**2 + (project_center_y - j)**2)\n",
    "                E_con_Output[i,j,k,l] = max_E_Out*math.exp(-0.5*(euc_distance/sigma_E_Out)**2)"
   ]
  },
  {
   "cell_type": "code",
   "execution_count": null,
   "id": "7befe74a",
   "metadata": {},
   "outputs": [],
   "source": [
    "# one cell from Ouput weight connection to E\n",
    "test = E_con_Output[:,:,2,3]"
   ]
  },
  {
   "cell_type": "code",
   "execution_count": 46,
   "id": "8523e496",
   "metadata": {},
   "outputs": [
    {
     "data": {
      "image/png": "[encoded data removed]",
      "text/plain": [
       "<Figure size 640x480 with 2 Axes>"
      ]
     },
     "metadata": {},
     "output_type": "display_data"
    }
   ],
   "source": [
    "plt.imshow(test.cpu(), cmap='hot')\n",
    "plt.colorbar() \n",
    "plt.show()"
   ]
  },
  {
   "cell_type": "markdown",
   "id": "da8f1158",
   "metadata": {},
   "source": [
    "run for now, haven't done: weight change/learning and prevent overfiring"
   ]
  },
  {
   "cell_type": "code",
   "execution_count": null,
   "id": "ddb9e2bb",
   "metadata": {},
   "outputs": [],
   "source": [
    "# parameters\n",
    "gMax_Na = 120\n",
    "rE_Na = 115\n",
    "\n",
    "gMax_K = 36\n",
    "rE_K = -12\n",
    "\n",
    "gMax_leaky = 0.3\n",
    "rE_leaky = 10.6\n",
    "\n",
    "deltaTms = 0.05\n",
    "Cm = 1\n",
    "pointCount = fire_data.shape[-1]\n",
    "\n",
    "gMax_AMPA = 0.072\n",
    "gMax_NMDA = 0.0012\n",
    "gMax_GABA = 0.004\n",
    "\n",
    "rE_AMPA = 70\n",
    "rE_NMDA = 70\n",
    "rE_GABA = 140\n",
    "\n",
    "mg = 0.01\n",
    "\n",
    "# below parameters are all guesses\n",
    "u_se = torch.tensor([0.9, 0.9, 0.9])\n",
    "\n",
    "tau_rec = torch.tensor([12, 12, 12])\n",
    "tau_pre = torch.tensor([10, 10, 10])\n",
    "tau_post = torch.tensor([20, 10, 10])\n",
    "tau_decay = torch.tensor([8, 15, 20])\n",
    "tau_rise = torch.tensor([10, 7, 7])\n",
    "\n",
    "learning_rate = 0.7"
   ]
  },
  {
   "cell_type": "code",
   "execution_count": 81,
   "id": "be647d85",
   "metadata": {},
   "outputs": [],
   "source": [
    "def initialise(*args):\n",
    "    cells = torch.zeros(args)\n",
    "    receptors = torch.zeros(3, *args)\n",
    "\n",
    "    m_states = cells.clone()\n",
    "    m_states.fill_(0.061956531255774015)\n",
    "\n",
    "    n_states = cells.clone()\n",
    "    n_states.fill_(0.3384883478113268)\n",
    "\n",
    "    h_states = cells.clone()\n",
    "    h_states.fill_(0.5484107720738856)\n",
    "\n",
    "    initial_states = torch.stack([m_states, n_states, h_states], dim=0)\n",
    "\n",
    "    mp = cells.clone()\n",
    "    mp.fill_(1.3458754117369027)\n",
    "\n",
    "    e = receptors.clone()\n",
    "    e.fill_(1)\n",
    "\n",
    "    w = receptors.clone()\n",
    "    w.fill_(1)\n",
    "\n",
    "    g_decay = receptors.clone()\n",
    "    g_decay.fill_(1)\n",
    "\n",
    "    g_rise = receptors.clone()\n",
    "    g_rise.fill_(1)\n",
    "\n",
    "    activeness = receptors.clone()\n",
    "    activeness.fill_(0.)\n",
    "\n",
    "    return cells, receptors, initial_states, mp, e, w, g_decay, g_rise, activeness"
   ]
  },
  {
   "cell_type": "code",
   "execution_count": 82,
   "id": "dbcc29d1",
   "metadata": {},
   "outputs": [],
   "source": [
    "# initialise everything\n",
    "\n",
    "#----------Input---------------\n",
    "pixel_num = 10\n",
    "feature_num = 8\n",
    "\n",
    "#----------E---------------------\n",
    "E_num = 20\n",
    "E_cells, E_receptors, E_states, E_mp, E_e, E_w, E_g_decay, E_g_rise, E_activeness = initialise(E_num, E_num)\n",
    "\n",
    "#----------I-----------------\n",
    "I_num = 10\n",
    "I_cells, I_receptors, I_states, I_mp, I_e, I_w, I_g_decay, I_g_rise, I_activeness = initialise(I_num)\n",
    "\n",
    "#-----------Output-------------\n",
    "Out_num = 5\n",
    "Out_cells, Out_receptors, Out_states, Out_mp, Out_e, Out_w, Out_g_decay, Out_g_rise, Out_activeness = initialise(Out_num, Out_num)\n",
    "\n",
    "#-----------connection matrices-------------\n",
    "In_con_E = torch.zeros(pixel_num, pixel_num, feature_num, E_num, E_num, device=device)\n",
    "# all-to-all  connections\n",
    "In_con_E.fill_(1.)\n",
    "\n",
    "# the later two E_nums are the one sending out the connections/the center\n",
    "E_con_E = torch.zeros(E_num, E_num, E_num, E_num, device=device)\n",
    "sigma_E_E = 2\n",
    "max_E_E = 10\n",
    "for i in range(E_num):\n",
    "    for j in range(E_num):\n",
    "        for k in range(E_num):\n",
    "            for l in range(E_num):\n",
    "                project_center_x = k\n",
    "                project_center_y = l\n",
    "\n",
    "                euc_distance = math.sqrt((project_center_x - i)**2 + (project_center_y - j)**2)\n",
    "                E_con_E[i,j,k,l] = max_E_E*math.exp(-0.5*(euc_distance/sigma_E_E)**2)\n",
    "\n",
    "\n",
    "# E to I connection matrix (p=0.1)\n",
    "E_con_I = torch.zeros(E_num, E_num, I_num, device=device)\n",
    "num_elements = E_con_I.numel()\n",
    "num_ones = max(1, int(num_elements * 0.1))  # Ensure at least 1 element\n",
    "flat_indices = torch.randperm(num_elements)[:num_ones]\n",
    "E_con_I.view(-1)[flat_indices] = 1\n",
    "\n",
    "# I to E connection matrix (p=0.024)\n",
    "I_con_E = torch.zeros(I_num, E_num, E_num, device=device)\n",
    "num_elements = I_con_E.numel()\n",
    "num_ones = max(1, int(num_elements * 0.024))  # Ensure at least 1 element\n",
    "flat_indices = torch.randperm(num_elements)[:num_ones]\n",
    "I_con_E.view(-1)[flat_indices] = 1\n",
    "\n",
    "# I to I self connection (p=0.1)\n",
    "I_con_I = torch.zeros(I_num, I_num, device=device)\n",
    "num_elements = I_con_I.numel()\n",
    "num_ones = max(1, int(num_elements * 0.1))  # Ensure at least 1 element\n",
    "flat_indices = torch.randperm(num_elements)[:num_ones]\n",
    "I_con_I.view(-1)[flat_indices] = 1\n",
    "\n",
    "# E to Out connection\n",
    "E_con_Output = torch.zeros(E_num, E_num, Out_num, Out_num, device=device)\n",
    "sigma_E_Out = 2\n",
    "max_E_Out = 10\n",
    "# find the center point from Output to E\n",
    "ratio = E_num/Out_num\n",
    "for i in range(E_num):\n",
    "    for j in range(E_num):\n",
    "        for k in range(Out_num):\n",
    "            for l in range(Out_num):\n",
    "                project_center_x = k*ratio\n",
    "                project_center_y = l*ratio\n",
    "\n",
    "                euc_distance = math.sqrt((project_center_x - i)**2 + (project_center_y - j)**2)\n",
    "                E_con_Output[i,j,k,l] = max_E_Out*math.exp(-0.5*(euc_distance/sigma_E_Out)**2)"
   ]
  },
  {
   "cell_type": "code",
   "execution_count": 85,
   "id": "b4a67b31",
   "metadata": {},
   "outputs": [
    {
     "data": {
      "text/plain": [
       "torch.Size([3, 10])"
      ]
     },
     "execution_count": 85,
     "metadata": {},
     "output_type": "execute_result"
    }
   ],
   "source": [
    "I_activeness.shape"
   ]
  },
  {
   "cell_type": "code",
   "execution_count": 83,
   "id": "7f340d14",
   "metadata": {},
   "outputs": [
    {
     "ename": "RuntimeError",
     "evalue": "The size of tensor a (20) must match the size of tensor b (10) at non-singleton dimension 2",
     "output_type": "error",
     "traceback": [
      "\u001b[0;31m---------------------------------------------------------------------------\u001b[0m",
      "\u001b[0;31mRuntimeError\u001b[0m                              Traceback (most recent call last)",
      "Cell \u001b[0;32mIn[83], line 12\u001b[0m\n\u001b[1;32m      9\u001b[0m E_e, E_g_decay, E_g_rise, E_gP \u001b[38;5;241m=\u001b[39m update_gPs(E_e, E_g_decay, E_g_rise, E_activeness)\n\u001b[1;32m     11\u001b[0m I_states \u001b[38;5;241m=\u001b[39m update_states(I_mp, I_states)\n\u001b[0;32m---> 12\u001b[0m I_e, I_g_decay, I_g_rise, I_gP \u001b[38;5;241m=\u001b[39m \u001b[43mupdate_gPs\u001b[49m\u001b[43m(\u001b[49m\u001b[43mI_e\u001b[49m\u001b[43m,\u001b[49m\u001b[43m \u001b[49m\u001b[43mI_g_decay\u001b[49m\u001b[43m,\u001b[49m\u001b[43m \u001b[49m\u001b[43mI_g_rise\u001b[49m\u001b[43m,\u001b[49m\u001b[43m \u001b[49m\u001b[43mI_activeness\u001b[49m\u001b[43m)\u001b[49m\n\u001b[1;32m     14\u001b[0m Out_states \u001b[38;5;241m=\u001b[39m update_states(Out_mp, Out_states)\n\u001b[1;32m     15\u001b[0m Out_e, Out_g_decay, Out_g_rise, Out_gP \u001b[38;5;241m=\u001b[39m update_gPs(Out_e, Out_g_decay, Out_g_rise, Out_activeness)\n",
      "Cell \u001b[0;32mIn[19], line 7\u001b[0m, in \u001b[0;36mupdate_gPs\u001b[0;34m(e, g_decay, g_rise, activeness, deltaTms)\u001b[0m\n\u001b[1;32m      3\u001b[0m e \u001b[38;5;241m=\u001b[39m runge_kutta(e_deri, e, deltaTms, activeness)\n\u001b[1;32m      5\u001b[0m \u001b[38;5;66;03m# update g_decay and g_rise\u001b[39;00m\n\u001b[1;32m      6\u001b[0m \u001b[38;5;66;03m# deltaTms * 10 is not good, when try to find the right params need to delete this\u001b[39;00m\n\u001b[0;32m----> 7\u001b[0m g_decay \u001b[38;5;241m=\u001b[39m \u001b[43mrunge_kutta\u001b[49m\u001b[43m(\u001b[49m\u001b[43mg_decay_deri\u001b[49m\u001b[43m,\u001b[49m\u001b[43m \u001b[49m\u001b[43mg_decay\u001b[49m\u001b[43m,\u001b[49m\u001b[43m \u001b[49m\u001b[43mdeltaTms\u001b[49m\u001b[38;5;241;43m*\u001b[39;49m\u001b[38;5;241;43m10\u001b[39;49m\u001b[43m,\u001b[49m\u001b[43m \u001b[49m\u001b[43mw\u001b[49m\u001b[43m,\u001b[49m\u001b[43m \u001b[49m\u001b[43me\u001b[49m\u001b[43m,\u001b[49m\u001b[43m \u001b[49m\u001b[43mactiveness\u001b[49m\u001b[43m)\u001b[49m\n\u001b[1;32m      8\u001b[0m g_rise \u001b[38;5;241m=\u001b[39m runge_kutta(g_rise_deri, g_rise, deltaTms\u001b[38;5;241m*\u001b[39m\u001b[38;5;241m10\u001b[39m, w, e, activeness)\n\u001b[1;32m     10\u001b[0m gP \u001b[38;5;241m=\u001b[39m g_rise \u001b[38;5;241m-\u001b[39m g_decay\n",
      "Cell \u001b[0;32mIn[18], line 2\u001b[0m, in \u001b[0;36mrunge_kutta\u001b[0;34m(f, y0, h, *arg)\u001b[0m\n\u001b[1;32m      1\u001b[0m \u001b[38;5;28;01mdef\u001b[39;00m\u001b[38;5;250m \u001b[39m\u001b[38;5;21mrunge_kutta\u001b[39m(f, y0, h, \u001b[38;5;241m*\u001b[39marg):\n\u001b[0;32m----> 2\u001b[0m     k1 \u001b[38;5;241m=\u001b[39m \u001b[43mf\u001b[49m\u001b[43m(\u001b[49m\u001b[43my0\u001b[49m\u001b[43m,\u001b[49m\u001b[43m \u001b[49m\u001b[38;5;241;43m*\u001b[39;49m\u001b[43marg\u001b[49m\u001b[43m)\u001b[49m\n\u001b[1;32m      3\u001b[0m     k2 \u001b[38;5;241m=\u001b[39m f(y0 \u001b[38;5;241m+\u001b[39m h\u001b[38;5;241m*\u001b[39mk1\u001b[38;5;241m/\u001b[39m\u001b[38;5;241m2\u001b[39m, \u001b[38;5;241m*\u001b[39marg)\n\u001b[1;32m      4\u001b[0m     k3 \u001b[38;5;241m=\u001b[39m f(y0 \u001b[38;5;241m+\u001b[39m h\u001b[38;5;241m*\u001b[39mk2\u001b[38;5;241m/\u001b[39m\u001b[38;5;241m2\u001b[39m, \u001b[38;5;241m*\u001b[39marg)\n",
      "Cell \u001b[0;32mIn[18], line 16\u001b[0m, in \u001b[0;36mg_decay_deri\u001b[0;34m(g_decay, w, e, on_off)\u001b[0m\n\u001b[1;32m     15\u001b[0m \u001b[38;5;28;01mdef\u001b[39;00m\u001b[38;5;250m \u001b[39m\u001b[38;5;21mg_decay_deri\u001b[39m(g_decay, w, e, on_off):\n\u001b[0;32m---> 16\u001b[0m     \u001b[38;5;28;01mreturn\u001b[39;00m \u001b[38;5;241m-\u001b[39mg_decay\u001b[38;5;241m/\u001b[39mtau_decay[:,\u001b[38;5;28;01mNone\u001b[39;00m,\u001b[38;5;28;01mNone\u001b[39;00m] \u001b[38;5;241m+\u001b[39m \u001b[43mw\u001b[49m\u001b[38;5;241;43m*\u001b[39;49m\u001b[43me\u001b[49m\u001b[38;5;241m*\u001b[39mon_off\n",
      "\u001b[0;31mRuntimeError\u001b[0m: The size of tensor a (20) must match the size of tensor b (10) at non-singleton dimension 2"
     ]
    }
   ],
   "source": [
    "\n",
    "voltages = []\n",
    "for t in range(pointCount):\n",
    "\n",
    "    # should update first because the otherwise it will be just ones (initial values)\n",
    "    # update one layer after another from the bottom to top (Q: E or I, which should go first)\n",
    "    # Q: calculate the current right away so it has influence on the next layer or -\n",
    "    # - keep the time step the same (chose the second for now)\n",
    "    E_states = update_states(E_mp, E_states)\n",
    "    E_e, E_g_decay, E_g_rise, E_gP = update_gPs(E_e, E_g_decay, E_g_rise, E_activeness)\n",
    "\n",
    "    I_states = update_states(I_mp, I_states)\n",
    "    I_e, I_g_decay, I_g_rise, I_gP = update_gPs(I_e, I_g_decay, I_g_rise, I_activeness)\n",
    "\n",
    "    Out_states = update_states(Out_mp, Out_states)\n",
    "    Out_e, Out_g_decay, Out_g_rise, Out_gP = update_gPs(Out_e, Out_g_decay, Out_g_rise, Out_activeness)\n",
    "\n",
    "\n",
    "    # generate currents based on gPs\n",
    "    E_AMPA_currents = gMax_AMPA*E_gP[0]*(E_mp-rE_AMPA)*E_activeness[0]\n",
    "    E_NMDA_currents = gMax_NMDA*E_gP[1]*(1/1+mg*torch.exp(-0.062*E_mp)/3.57)*(E_mp-rE_NMDA)*E_activeness[1]\n",
    "    E_GABA_currents = gMax_GABA*E_gP[2]*(E_mp-rE_GABA)*(-1)*E_activeness[2]\n",
    "    \n",
    "    E_sodium_currents = gMax_Na*torch.pow(E_states[0], 3) * E_states[2]*(E_mp-rE_Na)\n",
    "    E_potassium_currents = gMax_K*torch.pow(E_states[1], 4)*(E_mp-rE_K)\n",
    "    E_leaky_currents = gMax_leaky*(E_mp-rE_leaky)\n",
    "\n",
    "    total_c = - E_sodium_currents - E_potassium_currents - E_leaky_currents - (\n",
    "        E_AMPA_currents + E_NMDA_currents + E_GABA_currents\n",
    "    )\n",
    "    E_mp = E_mp + deltaTms*total_c/Cm\n",
    "\n",
    "    I_AMPA_currents = gMax_AMPA*I_gP[0]*(I_mp-rE_AMPA)*I_activeness[0]\n",
    "    I_NMDA_currents = gMax_NMDA*I_gP[1]*(1/1+mg*torch.exp(-0.062*I_mp)/3.57)*(I_mp-rE_NMDA)*I_activeness[1]\n",
    "    I_GABA_currents = gMax_GABA*I_gP[2]*(I_mp-rE_GABA)*(-1)*I_activeness[2]\n",
    "    \n",
    "    I_sodium_currents = gMax_Na*torch.pow(I_states[0], 3) * I_states[2]*(I_mp-rE_Na)\n",
    "    I_potassium_currents = gMax_K*torch.pow(I_states[1], 4)*(I_mp-rE_K)\n",
    "    I_leaky_currents = gMax_leaky*(I_mp-rE_leaky)\n",
    "    \n",
    "    total_c = - I_sodium_currents - I_potassium_currents - I_leaky_currents - (\n",
    "        I_AMPA_currents + I_NMDA_currents + I_GABA_currents\n",
    "    )\n",
    "    I_mp = I_mp + deltaTms*total_c/Cm\n",
    "\n",
    "    Out_AMPA_currents = gMax_AMPA*Out_gP[0]*(Out_mp-rE_AMPA)*Out_activeness[0]\n",
    "    Out_NMDA_currents = gMax_NMDA*Out_gP[1]*(1/1+mg*torch.exp(-0.062*Out_mp)/3.57)*(Out_mp-rE_NMDA)*Out_activeness[1]\n",
    "    Out_GABA_currents = gMax_GABA*Out_gP[2]*(Out_mp-rE_GABA)*(-1)*Out_activeness[2]\n",
    "    \n",
    "    Out_sodium_currents = gMax_Na*torch.pow(Out_states[0], 3) * Out_states[2]*(Out_mp-rE_Na)\n",
    "    Out_potassium_currents = gMax_K*torch.pow(Out_states[1], 4)*(Out_mp-rE_K)\n",
    "    Out_leaky_currents = gMax_leaky*(Out_mp-rE_leaky)\n",
    "\n",
    "    total_c = - Out_sodium_currents - Out_potassium_currents - Out_leaky_currents - (\n",
    "        Out_AMPA_currents + Out_NMDA_currents + Out_GABA_currents\n",
    "    )\n",
    "    Out_mp = Out_mp + deltaTms*total_c/Cm\n",
    "    \n",
    "    \n",
    "\n",
    "    voltages.append(Out_mp[0][0]-70)"
   ]
  }
 ],
 "metadata": {
  "kernelspec": {
   "display_name": "Python 3 (ipykernel)",
   "language": "python",
   "name": "python3"
  },
  "language_info": {
   "codemirror_mode": {
    "name": "ipython",
    "version": 3
   },
   "file_extension": ".py",
   "mimetype": "text/x-python",
   "name": "python",
   "nbconvert_exporter": "python",
   "pygments_lexer": "ipython3",
   "version": "3.10.17"
  }
 },
 "nbformat": 4,
 "nbformat_minor": 5
}
