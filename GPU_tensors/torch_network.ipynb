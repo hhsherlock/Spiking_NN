{
 "cells": [
  {
   "cell_type": "code",
   "execution_count": 21,
   "id": "334ceae2",
   "metadata": {},
   "outputs": [],
   "source": [
    "#!/usr/bin/env python3\n",
    "# -*- coding: utf-8 -*-\n",
    "\"\"\"\n",
    "Created on Fri Jun 13\n",
    "\n",
    "@author: yaning\n",
    "\"\"\"\n",
    "\n",
    "import torch\n",
    "import pickle\n",
    "import numpy as np\n",
    "import matplotlib.pyplot as plt\n",
    "import math\n",
    "from tqdm import tqdm\n",
    "\n",
    "path = \"/home/yaning/Documents/\"\n",
    "np.set_printoptions(threshold=np.inf)\n",
    "torch.set_printoptions(threshold=float('inf'))"
   ]
  },
  {
   "cell_type": "code",
   "execution_count": 22,
   "id": "c8cab1c6",
   "metadata": {},
   "outputs": [],
   "source": [
    "device = torch.device(\"cuda\" if torch.cuda.is_available() else \"cpu\")"
   ]
  },
  {
   "cell_type": "code",
   "execution_count": 23,
   "id": "f23e87ca",
   "metadata": {},
   "outputs": [],
   "source": [
    "with open(path + \"fire_data_10p_8f_non_zero.pkl\", \"rb\") as f:\n",
    "    fire_data = pickle.load(f)"
   ]
  },
  {
   "cell_type": "code",
   "execution_count": 24,
   "id": "c3aab406",
   "metadata": {},
   "outputs": [],
   "source": [
    "fire_data = torch.tensor(fire_data, device=device).float()"
   ]
  },
  {
   "cell_type": "code",
   "execution_count": 25,
   "id": "b319eb07",
   "metadata": {},
   "outputs": [
    {
     "data": {
      "text/plain": [
       "torch.Size([100, 10, 10, 8, 6000])"
      ]
     },
     "execution_count": 25,
     "metadata": {},
     "output_type": "execute_result"
    }
   ],
   "source": [
    "fire_data.shape"
   ]
  },
  {
   "cell_type": "code",
   "execution_count": 26,
   "id": "378cfdec",
   "metadata": {},
   "outputs": [],
   "source": [
    "# parameters\n",
    "gMax_Na = 120\n",
    "rE_Na = 115\n",
    "\n",
    "gMax_K = 36\n",
    "rE_K = -12\n",
    "\n",
    "gMax_leaky = 0.3\n",
    "rE_leaky = 10.6\n",
    "\n",
    "deltaTms = 0.05\n",
    "Cm = 1\n",
    "pointCount = fire_data.shape[-1]\n",
    "\n",
    "gMax_AMPA = 0.072\n",
    "gMax_NMDA = 0.0012\n",
    "gMax_GABA = 0.004\n",
    "\n",
    "rE_AMPA = 70\n",
    "rE_NMDA = 70\n",
    "rE_GABA = 140\n",
    "\n",
    "mg = 0.01\n",
    "\n",
    "threshold = -50 + 70\n",
    "current_threshold = -200\n",
    "\n",
    "\n",
    "# below parameters are all guesses\n",
    "u_se = torch.tensor([0.9, 0.9, 0.9], device=device)\n",
    "\n",
    "tau_rec = torch.tensor([12, 12, 12], device=device)\n",
    "tau_pre = torch.tensor([10, 10, 10], device=device)\n",
    "tau_post = torch.tensor([20, 10, 10], device=device)\n",
    "tau_decay = torch.tensor([8, 15, 20], device=device)\n",
    "tau_rise = torch.tensor([10, 7, 7], device=device)\n",
    "\n",
    "learning_rate = 0.7"
   ]
  },
  {
   "cell_type": "code",
   "execution_count": 27,
   "id": "beac2171",
   "metadata": {},
   "outputs": [],
   "source": [
    "def update_states(mp, current_states, deltaTms=0.05):\n",
    "        m_alpha = .1*((25-mp) / (torch.exp((25-mp)/10)-1))\n",
    "        m_beta = 4*torch.exp(-mp/18)\n",
    "        n_alpha = .01 * ((10-mp) / (torch.exp((10-mp)/10)-1))\n",
    "        n_beta = .125*torch.exp(-mp/80)\n",
    "        h_alpha = .07*torch.exp(-mp/20)\n",
    "        h_beta = 1/(torch.exp((30-mp)/10)+1)\n",
    "\n",
    "        alphas = torch.stack([m_alpha, n_alpha, h_alpha], dim=0)\n",
    "        betas = torch.stack([m_beta, n_beta, h_beta], dim=0)\n",
    "\n",
    "        alpha_states = alphas*(1-current_states)\n",
    "        beta_states = betas*current_states\n",
    "\n",
    "        new_states = current_states + deltaTms*(alpha_states - beta_states)\n",
    "\n",
    "        return new_states\n"
   ]
  },
  {
   "cell_type": "code",
   "execution_count": 28,
   "id": "8f014e67",
   "metadata": {},
   "outputs": [],
   "source": [
    "def runge_kutta(f, y0, h, *arg):\n",
    "    k1 = f(y0, *arg)\n",
    "    k2 = f(y0 + h*k1/2, *arg)\n",
    "    k3 = f(y0 + h*k2/2, *arg)\n",
    "    k4 = f(y0 + h*k3, *arg)\n",
    "\n",
    "    next = y0 + 1/6*(k1 + 2*k2 + 2*k3 + k4)\n",
    "\n",
    "    return next\n",
    "\n",
    "# deri as deriviation \n",
    "def e_deri(e, on_off):\n",
    "    return (1-e)/tau_rec[None,:,None,None] - u_se[None,:,None,None]*on_off\n",
    "\n",
    "def g_decay_deri(g_decay, w, e, on_off):\n",
    "    return -g_decay/tau_decay[None,:,None,None] + w*e*on_off\n",
    "\n",
    "def g_rise_deri(g_rise, w, e, on_off):\n",
    "    return -g_rise/tau_rise[None,:,None,None] + w*e*on_off"
   ]
  },
  {
   "cell_type": "code",
   "execution_count": 29,
   "id": "b3fb242d",
   "metadata": {},
   "outputs": [],
   "source": [
    "def update_gPs(e, g_decay, g_rise, activeness, w, deltaTms=0.05):\n",
    "    # update e\n",
    "    e = runge_kutta(e_deri, e, deltaTms, activeness)\n",
    "\n",
    "    # update g_decay and g_rise\n",
    "    # deltaTms * 10 is not good, when try to find the right params need to delete this\n",
    "    g_decay = runge_kutta(g_decay_deri, g_decay, deltaTms*10, w, e, activeness)\n",
    "    g_rise = runge_kutta(g_rise_deri, g_rise, deltaTms*10, w, e, activeness)\n",
    "\n",
    "    gP = g_rise - g_decay\n",
    "\n",
    "    return e, g_decay, g_rise, gP"
   ]
  },
  {
   "cell_type": "markdown",
   "id": "da8f1158",
   "metadata": {},
   "source": [
    "run for now, haven't done: weight change/learning and prevent overfiring"
   ]
  },
  {
   "cell_type": "code",
   "execution_count": 30,
   "id": "be647d85",
   "metadata": {},
   "outputs": [],
   "source": [
    "# the last param is how many synapses it needs to have \n",
    "def initialise(*args):\n",
    "    d1 = args[0]\n",
    "    d2 = args[1]\n",
    "    synapse = args[2]\n",
    "\n",
    "    # sequence: synapse, receptor, dimensions\n",
    "    cells = torch.zeros((d1, d2), device=device)\n",
    "    receptors = torch.zeros(synapse, 3, d1, d2, device=device)\n",
    "\n",
    "    m_states = cells.clone()\n",
    "    m_states.fill_(0.061956531255774015)\n",
    "\n",
    "    n_states = cells.clone()\n",
    "    n_states.fill_(0.3384883478113268)\n",
    "\n",
    "    h_states = cells.clone()\n",
    "    h_states.fill_(0.5484107720738856)\n",
    "\n",
    "    initial_states = torch.stack([m_states, n_states, h_states], dim=0)\n",
    "\n",
    "    mp = cells.clone()\n",
    "    mp.fill_(1.3458754117369027)\n",
    "\n",
    "    # receptor dimensions are (amount of synapses, type of receptors, cells)\n",
    "    e = receptors.clone()\n",
    "    e.fill_(1)\n",
    "\n",
    "    # weight randomised at initial (0-1)\n",
    "    # weight is special because it is not receptor-related but synapse\n",
    "    w = torch.rand((synapse, d1, d2), device=device)\n",
    "    # for calculation the shapes need to be the same so broadcast without duplication\n",
    "    w = w.unsqueeze(1).expand(-1,3,-1,-1)\n",
    "\n",
    "    g_decay = receptors.clone()\n",
    "    g_decay.fill_(1)\n",
    "\n",
    "    g_rise = receptors.clone()\n",
    "    g_rise.fill_(1)\n",
    "\n",
    "    activeness = receptors.clone()\n",
    "    activeness.fill_(0.)\n",
    "\n",
    "    return cells, receptors, initial_states, mp, e, w, g_decay, g_rise, activeness"
   ]
  },
  {
   "cell_type": "code",
   "execution_count": 31,
   "id": "dbcc29d1",
   "metadata": {},
   "outputs": [],
   "source": [
    "# initialise everything\n",
    "\n",
    "#----------Input---------------\n",
    "pixel_num = 10\n",
    "feature_num = 8\n",
    "\n",
    "#----------E---------------------\n",
    "E_num = 20\n",
    "E_cells, E_receptors, E_states, E_mp, E_e, E_w, E_g_decay, E_g_rise, E_activeness = initialise(E_num, E_num, 3)\n",
    "\n",
    "#----------I-----------------\n",
    "I_num = 4\n",
    "I_cells, I_receptors, I_states, I_mp, I_e, I_w, I_g_decay, I_g_rise, I_activeness = initialise(I_num, I_num, 2)\n",
    "\n",
    "#-----------Output-------------\n",
    "Out_num = 5\n",
    "Out_cells, Out_receptors, Out_states, Out_mp, Out_e, Out_w, Out_g_decay, Out_g_rise, Out_activeness = initialise(Out_num, Out_num, 1)\n",
    "\n",
    "#-----------connection matrices-------------\n",
    "In_con_E = torch.zeros(pixel_num, pixel_num, feature_num, E_num, E_num, device=device)\n",
    "# all-to-all  connections\n",
    "In_con_E.fill_(1.)\n",
    "\n",
    "# the later two E_nums are the one sending out the connections/the center\n",
    "E_con_E = torch.zeros(E_num, E_num, E_num, E_num, device=device)\n",
    "sigma_E_E = 2\n",
    "max_E_E = 10\n",
    "for i in range(E_num):\n",
    "    for j in range(E_num):\n",
    "        for k in range(E_num):\n",
    "            for l in range(E_num):\n",
    "                project_center_x = k\n",
    "                project_center_y = l\n",
    "\n",
    "                euc_distance = math.sqrt((project_center_x - i)**2 + (project_center_y - j)**2)\n",
    "                E_con_E[i,j,k,l] = max_E_E*math.exp(-0.5*(euc_distance/sigma_E_E)**2)\n",
    "\n",
    "\n",
    "# E to I connection matrix (p=0.1)\n",
    "E_con_I = torch.zeros(E_num, E_num, I_num, I_num, device=device)\n",
    "num_elements = E_con_I.numel()\n",
    "num_ones = max(1, int(num_elements * 0.1))  # Ensure at least 1 element\n",
    "flat_indices = torch.randperm(num_elements)[:num_ones]\n",
    "E_con_I.view(-1)[flat_indices] = 1\n",
    "\n",
    "# I to E connection matrix (p=0.024)\n",
    "I_con_E = torch.zeros(I_num, I_num, E_num, E_num, device=device)\n",
    "num_elements = I_con_E.numel()\n",
    "num_ones = max(1, int(num_elements * 0.024))  # Ensure at least 1 element\n",
    "flat_indices = torch.randperm(num_elements)[:num_ones]\n",
    "I_con_E.view(-1)[flat_indices] = 1\n",
    "\n",
    "# I to I self connection (p=0.1)\n",
    "I_con_I = torch.zeros(I_num, I_num, I_num, I_num, device=device)\n",
    "num_elements = I_con_I.numel()\n",
    "num_ones = max(1, int(num_elements * 0.1))  # Ensure at least 1 element\n",
    "flat_indices = torch.randperm(num_elements)[:num_ones]\n",
    "I_con_I.view(-1)[flat_indices] = 1\n",
    "\n",
    "# E to Out connection\n",
    "E_con_Out = torch.zeros(E_num, E_num, Out_num, Out_num, device=device)\n",
    "sigma_E_Out = 2\n",
    "max_E_Out = 10\n",
    "# find the center point from Output to E\n",
    "ratio = E_num/Out_num\n",
    "for i in range(E_num):\n",
    "    for j in range(E_num):\n",
    "        for k in range(Out_num):\n",
    "            for l in range(Out_num):\n",
    "                project_center_x = k*ratio\n",
    "                project_center_y = l*ratio\n",
    "\n",
    "                euc_distance = math.sqrt((project_center_x - i)**2 + (project_center_y - j)**2)\n",
    "                E_con_Out[i,j,k,l] = max_E_Out*math.exp(-0.5*(euc_distance/sigma_E_Out)**2)"
   ]
  },
  {
   "cell_type": "code",
   "execution_count": 32,
   "id": "a120155d",
   "metadata": {},
   "outputs": [],
   "source": [
    "one_pic = fire_data[25, :, :, :]"
   ]
  },
  {
   "cell_type": "code",
   "execution_count": 33,
   "id": "7e3d7bdc",
   "metadata": {},
   "outputs": [],
   "source": [
    "def activeness_modif(activeness, *args):\n",
    "    # keep between 0-1\n",
    "    activeness = 1 - torch.exp(-activeness)\n",
    "    # select the receptor types \n",
    "    H,W = activeness.shape\n",
    "    temp = torch.zeros(3,H,W, device=device)\n",
    "    for arg in args:\n",
    "        temp[arg] = activeness\n",
    "    activeness = temp\n",
    "    return activeness\n",
    "\n",
    "def check_fire(mp):\n",
    "    activeness = (mp > threshold).float()\n",
    "    return activeness\n",
    "\n",
    "def update_I_E(gP, mp, activeness, states, w):\n",
    "    # generate currents based on gPs\n",
    "    AMPA_currents = (gMax_AMPA*gP[:,0,...]*(mp-rE_AMPA)*activeness[:,0,...]).sum(dim=0)\n",
    "    NMDA_currents = (gMax_NMDA*gP[:,1,...]*(1/1+mg*torch.exp(-0.062*mp)/3.57)*(mp-rE_NMDA)*activeness[:,1,...]).sum(dim=0)\n",
    "    GABA_currents = (gMax_GABA*gP[:,2,...]*(mp-rE_GABA)*(-1)*activeness[:,2,...]).sum(dim=0)\n",
    "\n",
    "    Ireceptors = AMPA_currents + NMDA_currents + GABA_currents\n",
    "    Ireceptors[Ireceptors >= 0] = 0.0\n",
    "\n",
    "    overflow_neurons = (Ireceptors <= current_threshold).float()\n",
    "\n",
    "    scaled_AMPA_NMDA = w[:,:2,:,:]*overflow_neurons*0.7\n",
    "    scaled_GABA = w[:,2:3,:,:]*overflow_neurons*1.3\n",
    "\n",
    "    w = torch.cat([scaled_AMPA_NMDA, scaled_GABA], dim=1)\n",
    "\n",
    "    \n",
    "    sodium_currents = gMax_Na*torch.pow(states[0], 3) * states[2]*(mp-rE_Na)\n",
    "    potassium_currents = gMax_K*torch.pow(states[1], 4)*(mp-rE_K)\n",
    "    leaky_currents = gMax_leaky*(mp-rE_leaky)\n",
    "\n",
    "    total_c = - sodium_currents - potassium_currents - leaky_currents - Ireceptors\n",
    "    total_c = total_c.sum(dim=0)\n",
    "    mp = mp + deltaTms*total_c/Cm\n",
    "\n",
    "    return mp, w\n"
   ]
  },
  {
   "cell_type": "code",
   "execution_count": null,
   "id": "7f340d14",
   "metadata": {},
   "outputs": [
    {
     "name": "stderr",
     "output_type": "stream",
     "text": [
      "100%|███████████████████████████████████████████████████████████████████████████████████████████████████████████████████████████████| 6000/6000 [00:28<00:00, 210.06it/s]\n"
     ]
    }
   ],
   "source": [
    "In_fires = fire_data\n",
    "E_fires = torch.empty((pointCount, E_num, E_num), device=device)\n",
    "I_fires = torch.empty((pointCount, I_num, I_num), device=device)\n",
    "Out_fires = torch.empty((pointCount, Out_num, Out_num), device=device)\n",
    "\n",
    "for t in tqdm(range(pointCount)):\n",
    "    # check mp and which fires then change connected layer activeness\n",
    "    # Input to E\n",
    "    In_fire = one_pic[:, :, :, t]\n",
    "    E_activeness_In = torch.einsum('ijkxy,ijk->xy', In_con_E, In_fire)\n",
    "    E_activeness_In = activeness_modif(E_activeness_In, 0)\n",
    "\n",
    "    \n",
    "    E_fire = check_fire(E_mp)\n",
    "    E_fires[t] = E_fire\n",
    "    # E to I\n",
    "    I_activeness_E = torch.einsum('ijxy,ij->xy', E_con_I, E_fire)\n",
    "    I_activeness_E = activeness_modif(I_activeness_E, 0, 1)\n",
    "\n",
    "    # E to E (this einsum is getting ij instead of xy)\n",
    "    E_activeness_E = torch.einsum('ijxy,xy->ij', E_con_E, E_fire)\n",
    "    E_activeness_E = activeness_modif(E_activeness_E, 0, 1)\n",
    "\n",
    "    # E to Out\n",
    "    Out_activeness = torch.einsum('ijxy,ij->xy', E_con_Out, E_fire)\n",
    "    Out_activeness = activeness_modif(Out_activeness, 0)\n",
    "\n",
    "    I_fire = check_fire(I_mp)\n",
    "    I_fires[t] = I_fire\n",
    "    # I to E\n",
    "    E_activeness_I = torch.einsum('ijxy,ij->xy', I_con_E, I_fire)\n",
    "    E_activeness_I = activeness_modif(E_activeness_I, 2)\n",
    "\n",
    "    # I to I\n",
    "    I_activeness_I = torch.einsum('ijxy,ij->xy', I_con_I, I_fire)\n",
    "    I_activeness_I = activeness_modif(I_activeness_I, 2)\n",
    "\n",
    "    E_activeness = torch.stack([E_activeness_In, E_activeness_E, E_activeness_I])\n",
    "\n",
    "    I_activeness = torch.stack([I_activeness_I, I_activeness_E])\n",
    "\n",
    "    Out_activeness = Out_activeness.unsqueeze(0)\n",
    "    \n",
    "    Out_fire = check_fire(Out_mp)\n",
    "    Out_fires[t] = Out_fire\n",
    "\n",
    "    # -----------------update gPs based on activeness--------------------------------\n",
    "    E_states = update_states(E_mp, E_states)\n",
    "    E_e, E_g_decay, E_g_rise, E_gP = update_gPs(E_e, E_g_decay, E_g_rise, E_activeness, E_w)\n",
    "\n",
    "    I_states = update_states(I_mp, I_states)\n",
    "    I_e, I_g_decay, I_g_rise, I_gP = update_gPs(I_e, I_g_decay, I_g_rise, I_activeness, I_w)\n",
    "\n",
    "    Out_states = update_states(Out_mp, Out_states)\n",
    "    Out_e, Out_g_decay, Out_g_rise, Out_gP = update_gPs(Out_e, Out_g_decay, Out_g_rise, Out_activeness, Out_w)\n",
    "\n",
    "\n",
    "    # ------------------generate currents and voltages based on gPs-------------------------------\n",
    "    E_mp, E_w = update_I_E(E_gP, E_mp, E_activeness, E_states, E_w)\n",
    "\n",
    "    I_mp, I_w = update_I_E(I_gP, I_mp, I_activeness, I_states, I_w)\n",
    "\n",
    "    Out_mp, Out_w = update_I_E(Out_gP, Out_mp, Out_activeness, Out_states, Out_w)\n",
    "    \n",
    "    # -------------------------update weights----------------------------------\n",
    "    # In to E\n",
    "    # get the matrix of needed to change weight from the cons\n",
    "    In_fires \n",
    "    In_con_E*E_fire\n",
    "\n",
    "\n",
    "    # voltages.append(E_mp[10,10].cpu()-70)"
   ]
  },
  {
   "cell_type": "code",
   "execution_count": 35,
   "id": "18b8f919",
   "metadata": {},
   "outputs": [
    {
     "data": {
      "text/plain": [
       "torch.Size([10, 10, 8, 20, 20])"
      ]
     },
     "execution_count": 35,
     "metadata": {},
     "output_type": "execute_result"
    }
   ],
   "source": [
    "In_con_E.shape"
   ]
  },
  {
   "cell_type": "code",
   "execution_count": 256,
   "id": "7627b73e",
   "metadata": {},
   "outputs": [
    {
     "data": {
      "text/plain": [
       "tensor(False, device='cuda:0')"
      ]
     },
     "execution_count": 256,
     "metadata": {},
     "output_type": "execute_result"
    }
   ],
   "source": [
    "torch.any(I_fires != 0)"
   ]
  },
  {
   "cell_type": "code",
   "execution_count": 235,
   "id": "4d6b6368",
   "metadata": {},
   "outputs": [],
   "source": [
    "with open(path + 'Spiking_NN/plots/test.pkl', 'wb') as f:\n",
    "    pickle.dump(Out_fires, f)"
   ]
  },
  {
   "cell_type": "code",
   "execution_count": 164,
   "id": "ae394f7e",
   "metadata": {},
   "outputs": [
    {
     "data": {
      "text/plain": [
       "[<matplotlib.lines.Line2D at 0x7d79f9317670>]"
      ]
     },
     "execution_count": 164,
     "metadata": {},
     "output_type": "execute_result"
    },
    {
     "data": {
      "image/png": "[encoded data removed]",
      "text/plain": [
       "<Figure size 640x480 with 1 Axes>"
      ]
     },
     "metadata": {},
     "output_type": "display_data"
    }
   ],
   "source": [
    "plt.plot(np.arange(pointCount), voltages)"
   ]
  }
 ],
 "metadata": {
  "kernelspec": {
   "display_name": "Python 3 (ipykernel)",
   "language": "python",
   "name": "python3"
  },
  "language_info": {
   "codemirror_mode": {
    "name": "ipython",
    "version": 3
   },
   "file_extension": ".py",
   "mimetype": "text/x-python",
   "name": "python",
   "nbconvert_exporter": "python",
   "pygments_lexer": "ipython3",
   "version": "3.10.17"
  }
 },
 "nbformat": 4,
 "nbformat_minor": 5
}
