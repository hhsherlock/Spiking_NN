{
 "cells": [
  {
   "cell_type": "code",
   "execution_count": 2,
   "id": "334ceae2",
   "metadata": {},
   "outputs": [],
   "source": [
    "#!/usr/bin/env python3\n",
    "# -*- coding: utf-8 -*-\n",
    "\"\"\"\n",
    "Created on Fri Jun 13\n",
    "\n",
    "@author: yaning\n",
    "\"\"\"\n",
    "\n",
    "import torch\n",
    "import pickle\n",
    "path = \"/home/yaning/Documents/\""
   ]
  },
  {
   "cell_type": "code",
   "execution_count": 3,
   "id": "c8cab1c6",
   "metadata": {},
   "outputs": [],
   "source": [
    "device = torch.device(\"cuda\" if torch.cuda.is_available() else \"cpu\")"
   ]
  },
  {
   "cell_type": "code",
   "execution_count": 4,
   "id": "f23e87ca",
   "metadata": {},
   "outputs": [],
   "source": [
    "with open(path + \"fire_data_10p_8f_non_zero.pkl\", \"rb\") as f:\n",
    "    fire_data = pickle.load(f)"
   ]
  },
  {
   "cell_type": "code",
   "execution_count": 5,
   "id": "c3aab406",
   "metadata": {},
   "outputs": [],
   "source": [
    "fire_data = torch.tensor(fire_data, device=device)"
   ]
  },
  {
   "cell_type": "markdown",
   "id": "3fa144af",
   "metadata": {},
   "source": [
    "Test Neurons with ion channels only"
   ]
  },
  {
   "cell_type": "code",
   "execution_count": 6,
   "id": "8fb53955",
   "metadata": {},
   "outputs": [],
   "source": [
    "pixel_num = 10\n",
    "feature_num = 8"
   ]
  },
  {
   "cell_type": "code",
   "execution_count": 7,
   "id": "8022929d",
   "metadata": {},
   "outputs": [],
   "source": [
    "base_tensor = torch.zeros(pixel_num, pixel_num, feature_num)"
   ]
  },
  {
   "cell_type": "code",
   "execution_count": null,
   "id": "a1bacba1",
   "metadata": {},
   "outputs": [],
   "source": [
    "mp = base_tensor.clone()\n",
    "mp.fill_(1.3458754117369027)"
   ]
  },
  {
   "cell_type": "code",
   "execution_count": 9,
   "id": "324a7a46",
   "metadata": {},
   "outputs": [],
   "source": [
    "c = base_tensor.clone()"
   ]
  },
  {
   "cell_type": "markdown",
   "id": "dda85ba3",
   "metadata": {},
   "source": [
    "Initialise states of the receptors, calculations see Receptors.py"
   ]
  },
  {
   "cell_type": "code",
   "execution_count": null,
   "id": "5256546d",
   "metadata": {},
   "outputs": [],
   "source": [
    "m_states = base_tensor.clone()\n",
    "m_states.fill_(0.061956531255774015)\n",
    "\n",
    "n_states = base_tensor.clone()\n",
    "n_states.fill_(0.3384883478113268)\n",
    "\n",
    "h_states = base_tensor.clone()\n",
    "h_states.fill_(0.5484107720738856)"
   ]
  }
 ],
 "metadata": {
  "kernelspec": {
   "display_name": "Python 3 (ipykernel)",
   "language": "python",
   "name": "python3"
  },
  "language_info": {
   "codemirror_mode": {
    "name": "ipython",
    "version": 3
   },
   "file_extension": ".py",
   "mimetype": "text/x-python",
   "name": "python",
   "nbconvert_exporter": "python",
   "pygments_lexer": "ipython3",
   "version": "3.10.17"
  }
 },
 "nbformat": 4,
 "nbformat_minor": 5
}
