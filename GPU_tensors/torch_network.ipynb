{
 "cells": [
  {
   "cell_type": "code",
   "execution_count": 65,
   "id": "334ceae2",
   "metadata": {},
   "outputs": [],
   "source": [
    "#!/usr/bin/env python3\n",
    "# -*- coding: utf-8 -*-\n",
    "\"\"\"\n",
    "Created on Fri Jun 13\n",
    "\n",
    "@author: yaning\n",
    "\"\"\"\n",
    "\n",
    "import torch\n",
    "import pickle\n",
    "import numpy as np\n",
    "import matplotlib.pyplot as plt\n",
    "\n",
    "path = \"/home/yaning/Documents/\"\n",
    "np.set_printoptions(threshold=np.inf)\n",
    "torch.set_printoptions(threshold=float('inf'))"
   ]
  },
  {
   "cell_type": "code",
   "execution_count": 2,
   "id": "c8cab1c6",
   "metadata": {},
   "outputs": [],
   "source": [
    "device = torch.device(\"cuda\" if torch.cuda.is_available() else \"cpu\")"
   ]
  },
  {
   "cell_type": "code",
   "execution_count": 3,
   "id": "f23e87ca",
   "metadata": {},
   "outputs": [],
   "source": [
    "with open(path + \"fire_data_10p_8f_non_zero.pkl\", \"rb\") as f:\n",
    "    fire_data = pickle.load(f)"
   ]
  },
  {
   "cell_type": "code",
   "execution_count": 4,
   "id": "c3aab406",
   "metadata": {},
   "outputs": [],
   "source": [
    "fire_data = torch.tensor(fire_data, device=device)"
   ]
  },
  {
   "cell_type": "markdown",
   "id": "3fa144af",
   "metadata": {},
   "source": [
    "Test Neurons with ion channels only"
   ]
  },
  {
   "cell_type": "code",
   "execution_count": 5,
   "id": "8fb53955",
   "metadata": {},
   "outputs": [],
   "source": [
    "pixel_num = 10\n",
    "feature_num = 8"
   ]
  },
  {
   "cell_type": "markdown",
   "id": "fa3025fd",
   "metadata": {},
   "source": [
    "Input neurons do not need detailed channels or receptors. "
   ]
  },
  {
   "cell_type": "markdown",
   "id": "c11a5f6d",
   "metadata": {},
   "source": [
    "**mp**: Membrane Potential  \n",
    "**c**: Current"
   ]
  },
  {
   "cell_type": "code",
   "execution_count": 6,
   "id": "d7c71516",
   "metadata": {},
   "outputs": [],
   "source": [
    "E_num = 20"
   ]
  },
  {
   "cell_type": "code",
   "execution_count": 7,
   "id": "8022929d",
   "metadata": {},
   "outputs": [],
   "source": [
    "base_tensor = torch.zeros(E_num, E_num)"
   ]
  },
  {
   "cell_type": "markdown",
   "id": "dda85ba3",
   "metadata": {},
   "source": [
    "Ion channels on the same neurons share the same gate values (m,n,h)"
   ]
  },
  {
   "cell_type": "code",
   "execution_count": 74,
   "id": "5256546d",
   "metadata": {},
   "outputs": [],
   "source": [
    "# initialise state values\n",
    "\n",
    "m_states = base_tensor.clone()\n",
    "m_states.fill_(0.061956531255774015)\n",
    "\n",
    "n_states = base_tensor.clone()\n",
    "n_states.fill_(0.3384883478113268)\n",
    "\n",
    "h_states = base_tensor.clone()\n",
    "h_states.fill_(0.5484107720738856)\n",
    "\n",
    "initial_states = torch.stack([m_states, n_states, h_states], dim=0)"
   ]
  },
  {
   "cell_type": "code",
   "execution_count": null,
   "id": "beac2171",
   "metadata": {},
   "outputs": [],
   "source": [
    "def update_states(mp, current_states, deltaTms=0.05):\n",
    "        m_alpha = .1*((25-mp) / (torch.exp((25-mp)/10)-1))\n",
    "        m_beta = 4*torch.exp(-mp/18)\n",
    "        n_alpha = .01 * ((10-mp) / (torch.exp((10-mp)/10)-1))\n",
    "        n_beta = .125*torch.exp(-mp/80)\n",
    "        h_alpha = .07*torch.exp(-mp/20)\n",
    "        h_beta = 1/(torch.exp((30-mp)/10)+1)\n",
    "\n",
    "        alphas = torch.stack([m_alpha, n_alpha, h_alpha], dim=0)\n",
    "        betas = torch.stack([m_beta, n_beta, h_beta], dim=0)\n",
    "\n",
    "        alpha_states = alphas*(1-current_states)\n",
    "        beta_states = betas*current_states\n",
    "\n",
    "        new_states = current_states + deltaTms*(alpha_states - beta_states)\n",
    "\n",
    "        return new_states\n"
   ]
  },
  {
   "cell_type": "code",
   "execution_count": null,
   "id": "694e7248",
   "metadata": {},
   "outputs": [],
   "source": [
    "gMax_Na = 120\n",
    "rE_Na = 115\n",
    "\n",
    "gMax_K = 36\n",
    "rE_K = -12\n",
    "\n",
    "gMax_leaky = 0.3\n",
    "rE_leaky = 10.6\n",
    "\n",
    "deltaTms = 0.05\n",
    "Cm = 1\n",
    "pointCount = fire_data.shape[-1]"
   ]
  },
  {
   "cell_type": "code",
   "execution_count": 72,
   "id": "b28293ec",
   "metadata": {},
   "outputs": [],
   "source": [
    "stim = np.zeros(pointCount)\n",
    "stim[2000:2050] = 160"
   ]
  },
  {
   "cell_type": "code",
   "execution_count": 93,
   "id": "af065118",
   "metadata": {},
   "outputs": [],
   "source": [
    "states = initial_states\n",
    "mp = base_tensor.clone()\n",
    "mp.fill_(1.3458754117369027)\n",
    "\n",
    "voltages = []\n",
    "for t in range(pointCount):\n",
    "    inject_current = stim[t]\n",
    "\n",
    "    sodium_currents = gMax_Na*torch.pow(states[0], 3) * states[2]*(mp-rE_Na)\n",
    "    potassium_currents = gMax_K*torch.pow(states[1], 4)*(mp-rE_K)\n",
    "    leaky_currents = gMax_leaky*(mp-rE_leaky)\n",
    "\n",
    "    ion_c = - sodium_currents - potassium_currents - leaky_currents + inject_current\n",
    "    mp = mp + deltaTms*ion_c/Cm\n",
    "    states = update_states(mp, states)\n",
    "\n",
    "    voltages.append(mp[0][0]-70)"
   ]
  },
  {
   "cell_type": "markdown",
   "id": "3701769e",
   "metadata": {},
   "source": [
    "Add ligand gated receptos"
   ]
  },
  {
   "cell_type": "code",
   "execution_count": 105,
   "id": "1a4d5806",
   "metadata": {},
   "outputs": [],
   "source": [
    "# static parameters for ligand gated receptors\n",
    "# parameters are in the order of AMPA, NMDA and GABA\n",
    "gMax_ligands = torch.tensor([0.072, 0.0012, 0.004])\n",
    "\n",
    "# the real values are below minors 70\n",
    "rE_ligands = torch.tensor([70, 70, 140])\n",
    "\n",
    "# below parameters are all guesses\n",
    "u_se = torch.tensor([0.9, 0.9, 0.9])\n",
    "\n",
    "tau_rec = torch.tensor([12, 12, 12])\n",
    "tau_pre = torch.tensor([10, 10, 10])\n",
    "tau_post = torch.tensor([20, 10, 10])\n",
    "tau_decay = torch.tensor([8, 15, 20])\n",
    "tau_rise = torch.tensor([10, 7, 7])\n",
    "\n",
    "learning_rate = 0.7"
   ]
  },
  {
   "cell_type": "code",
   "execution_count": null,
   "id": "5942730f",
   "metadata": {},
   "outputs": [],
   "source": [
    "# three kinds of receptors\n",
    "base_tensor = torch.zeros(3, E_num, E_num)"
   ]
  },
  {
   "cell_type": "code",
   "execution_count": 108,
   "id": "bca21436",
   "metadata": {},
   "outputs": [],
   "source": [
    "# all the dynamic parameters start with 1.\n",
    "e = base_tensor.clone()\n",
    "e.fill_(1)\n",
    "\n",
    "w = base_tensor.clone()\n",
    "w.fill_(1)\n",
    "\n",
    "g_decay = base_tensor.clone()\n",
    "g_decay.fill_(1)\n",
    "\n",
    "g_rise = base_tensor.clone()\n",
    "g_rise.fill_(1);"
   ]
  },
  {
   "cell_type": "code",
   "execution_count": 109,
   "id": "42321ca9",
   "metadata": {},
   "outputs": [],
   "source": [
    "mp = base_tensor.clone()\n",
    "mp.fill_(1.3458754117369027);"
   ]
  },
  {
   "cell_type": "code",
   "execution_count": 258,
   "id": "3a37dd8c",
   "metadata": {},
   "outputs": [],
   "source": [
    "# receptor states active:1 and inactive:0\n",
    "activeness = base_tensor.clone()\n",
    "activeness.fill_(1.);"
   ]
  },
  {
   "cell_type": "code",
   "execution_count": 110,
   "id": "96a5595c",
   "metadata": {},
   "outputs": [],
   "source": [
    "# arrays of having AMPA, NMDA and GABA receptor (1 is have, 0 is not)\n",
    "# Q: should i use this or not, this slows it down but has more general use\n",
    "have_AMPA = base_tensor.clone()\n",
    "have_NMDA = base_tensor.clone()\n",
    "have_GABA = base_tensor.clone()"
   ]
  },
  {
   "cell_type": "code",
   "execution_count": 111,
   "id": "11ce5fce",
   "metadata": {},
   "outputs": [],
   "source": [
    "have_AMPA.fill_(1)\n",
    "have_NMDA.fill_(1);"
   ]
  },
  {
   "cell_type": "code",
   "execution_count": 266,
   "id": "8f014e67",
   "metadata": {},
   "outputs": [],
   "source": [
    "def runge_kutta(f, y0, h, *arg):\n",
    "    k1 = f(y0, *arg)\n",
    "    k2 = f(y0 + h*k1/2, *arg)\n",
    "    k3 = f(y0 + h*k2/2, *arg)\n",
    "    k4 = f(y0 + h*k3, *arg)\n",
    "\n",
    "    next = y0 + 1/6*(k1 + 2*k2 + 2*k3 + k4)\n",
    "\n",
    "    return next\n",
    "\n",
    "# deri as deriviation \n",
    "def e_deri(e, on_off):\n",
    "    return (1-e)/tau_rec[:,None, None] - u_se[:,None,None]*on_off\n",
    "\n",
    "def g_decay_deri(g_decay, w, e, on_off):\n",
    "    return -g_decay/tau_decay[:,None,None] + w*e*on_off\n",
    "\n",
    "def g_rise_deri(g_rise, w, e, on_off):\n",
    "    return -g_rise/tau_rise[:,None,None] + w*e*on_off"
   ]
  },
  {
   "cell_type": "code",
   "execution_count": 120,
   "id": "f3ca3e47",
   "metadata": {},
   "outputs": [
    {
     "data": {
      "text/plain": [
       "torch.Size([3])"
      ]
     },
     "execution_count": 120,
     "metadata": {},
     "output_type": "execute_result"
    }
   ],
   "source": [
    "tau_decay.shape"
   ]
  },
  {
   "cell_type": "code",
   "execution_count": 262,
   "id": "8fcb0e3b",
   "metadata": {},
   "outputs": [],
   "source": [
    "# update e\n",
    "e = runge_kutta(e_deri, e, deltaTms, activeness)"
   ]
  },
  {
   "cell_type": "code",
   "execution_count": 267,
   "id": "80cd871a",
   "metadata": {},
   "outputs": [],
   "source": [
    "# update g_decay\n",
    "g_decay = runge_kutta(g_decay_deri, g_decay, deltaTms*10, w, e, activeness)\n",
    "g_rise = runge_kutta(g_rise_deri, g_rise, deltaTms*10, w, e, activeness)"
   ]
  },
  {
   "cell_type": "code",
   "execution_count": 269,
   "id": "731fc60b",
   "metadata": {},
   "outputs": [],
   "source": [
    "gP = g_rise - g_decay"
   ]
  },
  {
   "cell_type": "code",
   "execution_count": null,
   "id": "9cc90452",
   "metadata": {},
   "outputs": [],
   "source": [
    "def update_gP()"
   ]
  },
  {
   "cell_type": "code",
   "execution_count": 69,
   "id": "8523e496",
   "metadata": {},
   "outputs": [
    {
     "data": {
      "image/png": "[encoded data removed]",
      "text/plain": [
       "<Figure size 640x480 with 2 Axes>"
      ]
     },
     "metadata": {},
     "output_type": "display_data"
    }
   ],
   "source": [
    "plt.imshow(mp, cmap='hot')\n",
    "plt.colorbar() \n",
    "plt.show()"
   ]
  }
 ],
 "metadata": {
  "kernelspec": {
   "display_name": "Python 3 (ipykernel)",
   "language": "python",
   "name": "python3"
  },
  "language_info": {
   "codemirror_mode": {
    "name": "ipython",
    "version": 3
   },
   "file_extension": ".py",
   "mimetype": "text/x-python",
   "name": "python",
   "nbconvert_exporter": "python",
   "pygments_lexer": "ipython3",
   "version": "3.10.17"
  }
 },
 "nbformat": 4,
 "nbformat_minor": 5
}
