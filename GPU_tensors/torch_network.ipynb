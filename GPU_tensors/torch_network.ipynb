{
 "cells": [
  {
   "cell_type": "code",
   "execution_count": 1,
   "id": "334ceae2",
   "metadata": {},
   "outputs": [],
   "source": [
    "#!/usr/bin/env python3\n",
    "# -*- coding: utf-8 -*-\n",
    "\"\"\"\n",
    "Created on Fri Jun 13\n",
    "\n",
    "@author: yaning\n",
    "\"\"\"\n",
    "\n",
    "import torch\n",
    "import pickle\n",
    "import numpy as np\n",
    "import matplotlib.pyplot as plt\n",
    "\n",
    "path = \"/home/yaning/Documents/\"\n",
    "np.set_printoptions(threshold=np.inf)\n",
    "torch.set_printoptions(threshold=float('inf'))"
   ]
  },
  {
   "cell_type": "code",
   "execution_count": 2,
   "id": "c8cab1c6",
   "metadata": {},
   "outputs": [],
   "source": [
    "device = torch.device(\"cuda\" if torch.cuda.is_available() else \"cpu\")"
   ]
  },
  {
   "cell_type": "code",
   "execution_count": 3,
   "id": "f23e87ca",
   "metadata": {},
   "outputs": [],
   "source": [
    "with open(path + \"fire_data_10p_8f_non_zero.pkl\", \"rb\") as f:\n",
    "    fire_data = pickle.load(f)"
   ]
  },
  {
   "cell_type": "code",
   "execution_count": 4,
   "id": "c3aab406",
   "metadata": {},
   "outputs": [],
   "source": [
    "fire_data = torch.tensor(fire_data, device=device)"
   ]
  },
  {
   "cell_type": "markdown",
   "id": "3fa144af",
   "metadata": {},
   "source": [
    "Test Neurons with ion channels only"
   ]
  },
  {
   "cell_type": "code",
   "execution_count": 5,
   "id": "8fb53955",
   "metadata": {},
   "outputs": [],
   "source": [
    "pixel_num = 10\n",
    "feature_num = 8"
   ]
  },
  {
   "cell_type": "markdown",
   "id": "fa3025fd",
   "metadata": {},
   "source": [
    "Input neurons do not need detailed channels or receptors. "
   ]
  },
  {
   "cell_type": "markdown",
   "id": "c11a5f6d",
   "metadata": {},
   "source": [
    "**mp**: Membrane Potential  \n",
    "**c**: Current"
   ]
  },
  {
   "cell_type": "code",
   "execution_count": 6,
   "id": "d7c71516",
   "metadata": {},
   "outputs": [],
   "source": [
    "E_num = 20"
   ]
  },
  {
   "cell_type": "code",
   "execution_count": 7,
   "id": "8022929d",
   "metadata": {},
   "outputs": [],
   "source": [
    "cells = torch.zeros(E_num, E_num)"
   ]
  },
  {
   "cell_type": "markdown",
   "id": "dda85ba3",
   "metadata": {},
   "source": [
    "Ion channels on the same neurons share the same gate values (m,n,h)"
   ]
  },
  {
   "cell_type": "code",
   "execution_count": 8,
   "id": "5256546d",
   "metadata": {},
   "outputs": [],
   "source": [
    "# initialise state values\n",
    "\n",
    "m_states = cells.clone()\n",
    "m_states.fill_(0.061956531255774015)\n",
    "\n",
    "n_states = cells.clone()\n",
    "n_states.fill_(0.3384883478113268)\n",
    "\n",
    "h_states = cells.clone()\n",
    "h_states.fill_(0.5484107720738856)\n",
    "\n",
    "initial_states = torch.stack([m_states, n_states, h_states], dim=0)"
   ]
  },
  {
   "cell_type": "code",
   "execution_count": 9,
   "id": "beac2171",
   "metadata": {},
   "outputs": [],
   "source": [
    "def update_states(mp, current_states, deltaTms=0.05):\n",
    "        m_alpha = .1*((25-mp) / (torch.exp((25-mp)/10)-1))\n",
    "        m_beta = 4*torch.exp(-mp/18)\n",
    "        n_alpha = .01 * ((10-mp) / (torch.exp((10-mp)/10)-1))\n",
    "        n_beta = .125*torch.exp(-mp/80)\n",
    "        h_alpha = .07*torch.exp(-mp/20)\n",
    "        h_beta = 1/(torch.exp((30-mp)/10)+1)\n",
    "\n",
    "        alphas = torch.stack([m_alpha, n_alpha, h_alpha], dim=0)\n",
    "        betas = torch.stack([m_beta, n_beta, h_beta], dim=0)\n",
    "\n",
    "        alpha_states = alphas*(1-current_states)\n",
    "        beta_states = betas*current_states\n",
    "\n",
    "        new_states = current_states + deltaTms*(alpha_states - beta_states)\n",
    "\n",
    "        return new_states\n"
   ]
  },
  {
   "cell_type": "code",
   "execution_count": 10,
   "id": "694e7248",
   "metadata": {},
   "outputs": [],
   "source": [
    "gMax_Na = 120\n",
    "rE_Na = 115\n",
    "\n",
    "gMax_K = 36\n",
    "rE_K = -12\n",
    "\n",
    "gMax_leaky = 0.3\n",
    "rE_leaky = 10.6\n",
    "\n",
    "deltaTms = 0.05\n",
    "Cm = 1\n",
    "pointCount = fire_data.shape[-1]"
   ]
  },
  {
   "cell_type": "code",
   "execution_count": 11,
   "id": "1a4d5806",
   "metadata": {},
   "outputs": [],
   "source": [
    "gMax_AMPA = 0.072\n",
    "gMax_NMDA = 0.0012\n",
    "gMax_GABA = 0.004\n",
    "\n",
    "rE_AMPA = 70\n",
    "rE_NMDA = 70\n",
    "rE_GABA = 140\n",
    "\n",
    "mg = 0.01\n",
    "\n",
    "# below parameters are all guesses\n",
    "u_se = torch.tensor([0.9, 0.9, 0.9])\n",
    "\n",
    "tau_rec = torch.tensor([12, 12, 12])\n",
    "tau_pre = torch.tensor([10, 10, 10])\n",
    "tau_post = torch.tensor([20, 10, 10])\n",
    "tau_decay = torch.tensor([8, 15, 20])\n",
    "tau_rise = torch.tensor([10, 7, 7])\n",
    "\n",
    "learning_rate = 0.7"
   ]
  },
  {
   "cell_type": "code",
   "execution_count": 12,
   "id": "5942730f",
   "metadata": {},
   "outputs": [],
   "source": [
    "# three kinds of receptors\n",
    "recpetors_cells = torch.zeros(3, E_num, E_num)"
   ]
  },
  {
   "cell_type": "code",
   "execution_count": 13,
   "id": "bca21436",
   "metadata": {},
   "outputs": [],
   "source": [
    "# all the dynamic parameters start with 1.\n",
    "e = recpetors_cells.clone()\n",
    "e.fill_(1)\n",
    "\n",
    "w = recpetors_cells.clone()\n",
    "w.fill_(1)\n",
    "\n",
    "g_decay = recpetors_cells.clone()\n",
    "g_decay.fill_(1)\n",
    "\n",
    "g_rise = recpetors_cells.clone()\n",
    "g_rise.fill_(1);"
   ]
  },
  {
   "cell_type": "code",
   "execution_count": 14,
   "id": "42321ca9",
   "metadata": {},
   "outputs": [],
   "source": [
    "mp = recpetors_cells.clone()\n",
    "mp.fill_(1.3458754117369027);"
   ]
  },
  {
   "cell_type": "code",
   "execution_count": 15,
   "id": "3a37dd8c",
   "metadata": {},
   "outputs": [],
   "source": [
    "# receptor states active:1 and inactive:0\n",
    "activeness = recpetors_cells.clone()\n",
    "activeness.fill_(0.);"
   ]
  },
  {
   "cell_type": "code",
   "execution_count": 16,
   "id": "96a5595c",
   "metadata": {},
   "outputs": [],
   "source": [
    "# arrays of having AMPA, NMDA and GABA receptor (1 is have, 0 is not)\n",
    "# Q: should i use this or not, this slows it down but has more general use\n",
    "have_AMPA = recpetors_cells.clone()\n",
    "have_NMDA = recpetors_cells.clone()\n",
    "have_GABA = recpetors_cells.clone()"
   ]
  },
  {
   "cell_type": "code",
   "execution_count": 17,
   "id": "11ce5fce",
   "metadata": {},
   "outputs": [],
   "source": [
    "have_AMPA.fill_(1)\n",
    "have_NMDA.fill_(1);"
   ]
  },
  {
   "cell_type": "code",
   "execution_count": 18,
   "id": "8f014e67",
   "metadata": {},
   "outputs": [],
   "source": [
    "def runge_kutta(f, y0, h, *arg):\n",
    "    k1 = f(y0, *arg)\n",
    "    k2 = f(y0 + h*k1/2, *arg)\n",
    "    k3 = f(y0 + h*k2/2, *arg)\n",
    "    k4 = f(y0 + h*k3, *arg)\n",
    "\n",
    "    next = y0 + 1/6*(k1 + 2*k2 + 2*k3 + k4)\n",
    "\n",
    "    return next\n",
    "\n",
    "# deri as deriviation \n",
    "def e_deri(e, on_off):\n",
    "    return (1-e)/tau_rec[:,None, None] - u_se[:,None,None]*on_off\n",
    "\n",
    "def g_decay_deri(g_decay, w, e, on_off):\n",
    "    return -g_decay/tau_decay[:,None,None] + w*e*on_off\n",
    "\n",
    "def g_rise_deri(g_rise, w, e, on_off):\n",
    "    return -g_rise/tau_rise[:,None,None] + w*e*on_off"
   ]
  },
  {
   "cell_type": "code",
   "execution_count": 19,
   "id": "b3fb242d",
   "metadata": {},
   "outputs": [],
   "source": [
    "def update_gPs(e, g_decay, g_rise, activeness, deltaTms=0.05):\n",
    "    # update e\n",
    "    e = runge_kutta(e_deri, e, deltaTms, activeness)\n",
    "\n",
    "    # update g_decay and g_rise\n",
    "    # deltaTms * 10 is not good, when try to find the right params need to delete this\n",
    "    g_decay = runge_kutta(g_decay_deri, g_decay, deltaTms*10, w, e, activeness)\n",
    "    g_rise = runge_kutta(g_rise_deri, g_rise, deltaTms*10, w, e, activeness)\n",
    "\n",
    "    gP = g_rise - g_decay\n",
    "\n",
    "    return e, g_decay, g_rise, gP"
   ]
  },
  {
   "cell_type": "markdown",
   "id": "c1204541",
   "metadata": {},
   "source": [
    "Combine ligand-gated receptors with the ion channels"
   ]
  },
  {
   "cell_type": "code",
   "execution_count": 20,
   "id": "e7e0ed22",
   "metadata": {},
   "outputs": [
    {
     "data": {
      "text/plain": [
       "torch.Size([100, 10, 10, 8, 6000])"
      ]
     },
     "execution_count": 20,
     "metadata": {},
     "output_type": "execute_result"
    }
   ],
   "source": [
    "fire_data.shape"
   ]
  },
  {
   "cell_type": "code",
   "execution_count": 21,
   "id": "e5c134ae",
   "metadata": {},
   "outputs": [],
   "source": [
    "states = initial_states\n",
    "mp = cells.clone()\n",
    "mp.fill_(1.3458754117369027)\n",
    "\n",
    "voltages = []\n",
    "for t in range(pointCount):\n",
    "\n",
    "    # should update first because the otherwise it will be just ones (initial values)\n",
    "    states = update_states(mp, states)\n",
    "    e, g_decay, g_rise, gP = update_gPs(e, g_decay, g_rise, activeness)\n",
    "\n",
    "    # print(g_decay)\n",
    "\n",
    "    # generate currents based on gPs\n",
    "    AMPA_currents = gMax_AMPA*gP[0]*(mp-rE_AMPA)*activeness[0]\n",
    "    NMDA_currents = gMax_NMDA*gP[1]*(1/1+mg*torch.exp(-0.062*mp)/3.57)*(mp-rE_NMDA)*activeness[1]\n",
    "    GABA_currents = gMax_GABA*gP[2]*(mp-rE_GABA)*(-1)*activeness[2]\n",
    "    \n",
    "    sodium_currents = gMax_Na*torch.pow(states[0], 3) * states[2]*(mp-rE_Na)\n",
    "    potassium_currents = gMax_K*torch.pow(states[1], 4)*(mp-rE_K)\n",
    "    leaky_currents = gMax_leaky*(mp-rE_leaky)\n",
    "\n",
    "    total_c = - sodium_currents - potassium_currents - leaky_currents - (\n",
    "        AMPA_currents + NMDA_currents + GABA_currents\n",
    "    )\n",
    "    mp = mp + deltaTms*total_c/Cm\n",
    "    \n",
    "    \n",
    "\n",
    "    voltages.append(mp[0][0]-70)"
   ]
  },
  {
   "cell_type": "code",
   "execution_count": 22,
   "id": "55ba073e",
   "metadata": {},
   "outputs": [
    {
     "data": {
      "text/plain": [
       "[<matplotlib.lines.Line2D at 0x700fced7d2d0>]"
      ]
     },
     "execution_count": 22,
     "metadata": {},
     "output_type": "execute_result"
    },
    {
     "data": {
      "image/png": "[encoded data removed]",
      "text/plain": [
       "<Figure size 640x480 with 1 Axes>"
      ]
     },
     "metadata": {},
     "output_type": "display_data"
    }
   ],
   "source": [
    "plt.plot(np.arange(pointCount), voltages)"
   ]
  },
  {
   "cell_type": "markdown",
   "id": "739b3063",
   "metadata": {},
   "source": [
    "Connections"
   ]
  },
  {
   "cell_type": "code",
   "execution_count": 50,
   "id": "c4da7288",
   "metadata": {},
   "outputs": [],
   "source": [
    "connection_matrix = torch.zeros(pixel_num, pixel_num, feature_num, E_num, E_num, device=device)"
   ]
  },
  {
   "cell_type": "code",
   "execution_count": 51,
   "id": "0d5a8686",
   "metadata": {},
   "outputs": [],
   "source": [
    "connection_matrix.fill_(1.);"
   ]
  },
  {
   "cell_type": "code",
   "execution_count": 33,
   "id": "a28b8546",
   "metadata": {},
   "outputs": [],
   "source": [
    "input_shape = torch.zeros(pixel_num, pixel_num, feature_num)\n",
    "E_shape = torch.zeros(E_num, E_num)"
   ]
  },
  {
   "cell_type": "code",
   "execution_count": 34,
   "id": "16c72914",
   "metadata": {},
   "outputs": [],
   "source": [
    "input_activeness = input_shape.clone()"
   ]
  },
  {
   "cell_type": "code",
   "execution_count": 35,
   "id": "32916ef0",
   "metadata": {},
   "outputs": [
    {
     "data": {
      "text/plain": [
       "torch.Size([100, 10, 10, 8, 6000])"
      ]
     },
     "execution_count": 35,
     "metadata": {},
     "output_type": "execute_result"
    }
   ],
   "source": [
    "fire_data.shape"
   ]
  },
  {
   "cell_type": "code",
   "execution_count": 39,
   "id": "200b3e37",
   "metadata": {},
   "outputs": [],
   "source": [
    "# one picture, one time point\n",
    "one_data = fire_data[50, :, :, :, 2500]"
   ]
  },
  {
   "cell_type": "code",
   "execution_count": 54,
   "id": "fd1a2d12",
   "metadata": {},
   "outputs": [],
   "source": [
    "input_activeness = one_data.float()"
   ]
  },
  {
   "cell_type": "code",
   "execution_count": 61,
   "id": "5d6f61ea",
   "metadata": {},
   "outputs": [],
   "source": [
    "E_activeness = torch.einsum('ijkxy,ijk->yx', connection_matrix, input_activeness)"
   ]
  },
  {
   "cell_type": "code",
   "execution_count": 63,
   "id": "342f212e",
   "metadata": {},
   "outputs": [
    {
     "data": {
      "text/plain": [
       "tensor([[43., 43., 43., 43., 43., 43., 43., 43., 43., 43., 43., 43., 43., 43.,\n",
       "         43., 43., 43., 43., 43., 43.],\n",
       "        [43., 43., 43., 43., 43., 43., 43., 43., 43., 43., 43., 43., 43., 43.,\n",
       "         43., 43., 43., 43., 43., 43.],\n",
       "        [43., 43., 43., 43., 43., 43., 43., 43., 43., 43., 43., 43., 43., 43.,\n",
       "         43., 43., 43., 43., 43., 43.],\n",
       "        [43., 43., 43., 43., 43., 43., 43., 43., 43., 43., 43., 43., 43., 43.,\n",
       "         43., 43., 43., 43., 43., 43.],\n",
       "        [43., 43., 43., 43., 43., 43., 43., 43., 43., 43., 43., 43., 43., 43.,\n",
       "         43., 43., 43., 43., 43., 43.],\n",
       "        [43., 43., 43., 43., 43., 43., 43., 43., 43., 43., 43., 43., 43., 43.,\n",
       "         43., 43., 43., 43., 43., 43.],\n",
       "        [43., 43., 43., 43., 43., 43., 43., 43., 43., 43., 43., 43., 43., 43.,\n",
       "         43., 43., 43., 43., 43., 43.],\n",
       "        [43., 43., 43., 43., 43., 43., 43., 43., 43., 43., 43., 43., 43., 43.,\n",
       "         43., 43., 43., 43., 43., 43.],\n",
       "        [43., 43., 43., 43., 43., 43., 43., 43., 43., 43., 43., 43., 43., 43.,\n",
       "         43., 43., 43., 43., 43., 43.],\n",
       "        [43., 43., 43., 43., 43., 43., 43., 43., 43., 43., 43., 43., 43., 43.,\n",
       "         43., 43., 43., 43., 43., 43.],\n",
       "        [43., 43., 43., 43., 43., 43., 43., 43., 43., 43., 43., 43., 43., 43.,\n",
       "         43., 43., 43., 43., 43., 43.],\n",
       "        [43., 43., 43., 43., 43., 43., 43., 43., 43., 43., 43., 43., 43., 43.,\n",
       "         43., 43., 43., 43., 43., 43.],\n",
       "        [43., 43., 43., 43., 43., 43., 43., 43., 43., 43., 43., 43., 43., 43.,\n",
       "         43., 43., 43., 43., 43., 43.],\n",
       "        [43., 43., 43., 43., 43., 43., 43., 43., 43., 43., 43., 43., 43., 43.,\n",
       "         43., 43., 43., 43., 43., 43.],\n",
       "        [43., 43., 43., 43., 43., 43., 43., 43., 43., 43., 43., 43., 43., 43.,\n",
       "         43., 43., 43., 43., 43., 43.],\n",
       "        [43., 43., 43., 43., 43., 43., 43., 43., 43., 43., 43., 43., 43., 43.,\n",
       "         43., 43., 43., 43., 43., 43.],\n",
       "        [43., 43., 43., 43., 43., 43., 43., 43., 43., 43., 43., 43., 43., 43.,\n",
       "         43., 43., 43., 43., 43., 43.],\n",
       "        [43., 43., 43., 43., 43., 43., 43., 43., 43., 43., 43., 43., 43., 43.,\n",
       "         43., 43., 43., 43., 43., 43.],\n",
       "        [43., 43., 43., 43., 43., 43., 43., 43., 43., 43., 43., 43., 43., 43.,\n",
       "         43., 43., 43., 43., 43., 43.],\n",
       "        [43., 43., 43., 43., 43., 43., 43., 43., 43., 43., 43., 43., 43., 43.,\n",
       "         43., 43., 43., 43., 43., 43.]], device='cuda:0')"
      ]
     },
     "execution_count": 63,
     "metadata": {},
     "output_type": "execute_result"
    }
   ],
   "source": [
    "E_activeness"
   ]
  },
  {
   "cell_type": "code",
   "execution_count": 69,
   "id": "8523e496",
   "metadata": {},
   "outputs": [
    {
     "data": {
      "image/png": "[encoded data removed]",
      "text/plain": [
       "<Figure size 640x480 with 2 Axes>"
      ]
     },
     "metadata": {},
     "output_type": "display_data"
    }
   ],
   "source": [
    "plt.imshow(mp, cmap='hot')\n",
    "plt.colorbar() \n",
    "plt.show()"
   ]
  }
 ],
 "metadata": {
  "kernelspec": {
   "display_name": "Python 3 (ipykernel)",
   "language": "python",
   "name": "python3"
  },
  "language_info": {
   "codemirror_mode": {
    "name": "ipython",
    "version": 3
   },
   "file_extension": ".py",
   "mimetype": "text/x-python",
   "name": "python",
   "nbconvert_exporter": "python",
   "pygments_lexer": "ipython3",
   "version": "3.10.17"
  }
 },
 "nbformat": 4,
 "nbformat_minor": 5
}
