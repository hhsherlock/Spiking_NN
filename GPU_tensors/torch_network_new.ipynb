{
 "cells": [
  {
   "cell_type": "code",
   "execution_count": 1,
   "id": "334ceae2",
   "metadata": {},
   "outputs": [],
   "source": [
    "#!/usr/bin/env python3\n",
    "# -*- coding: utf-8 -*-\n",
    "\"\"\"\n",
    "Created on Fri Jun 13\n",
    "\n",
    "@author: yaning\n",
    "\"\"\"\n",
    "\n",
    "import torch\n",
    "import pickle\n",
    "import numpy as np\n",
    "import matplotlib.pyplot as plt\n",
    "import math\n",
    "from tqdm import tqdm\n",
    "\n",
    "path = \"/home/yaning/Documents/\"\n",
    "np.set_printoptions(threshold=np.inf)\n",
    "torch.set_printoptions(threshold=float('inf'))"
   ]
  },
  {
   "cell_type": "code",
   "execution_count": 2,
   "id": "c8cab1c6",
   "metadata": {},
   "outputs": [],
   "source": [
    "device = torch.device(\"cuda\" if torch.cuda.is_available() else \"cpu\")"
   ]
  },
  {
   "cell_type": "code",
   "execution_count": 3,
   "id": "f23e87ca",
   "metadata": {},
   "outputs": [],
   "source": [
    "with open(path + \"fire_data_10p_8f_non_zero.pkl\", \"rb\") as f:\n",
    "    fire_data = pickle.load(f)"
   ]
  },
  {
   "cell_type": "code",
   "execution_count": 4,
   "id": "c3aab406",
   "metadata": {},
   "outputs": [],
   "source": [
    "fire_data = torch.tensor(fire_data, device=device).float()"
   ]
  },
  {
   "cell_type": "code",
   "execution_count": 5,
   "id": "b319eb07",
   "metadata": {},
   "outputs": [
    {
     "data": {
      "text/plain": [
       "torch.Size([100, 10, 10, 8, 6000])"
      ]
     },
     "execution_count": 5,
     "metadata": {},
     "output_type": "execute_result"
    }
   ],
   "source": [
    "fire_data.shape"
   ]
  },
  {
   "cell_type": "code",
   "execution_count": 6,
   "id": "378cfdec",
   "metadata": {},
   "outputs": [],
   "source": [
    "# parameters\n",
    "gMax_Na = 120\n",
    "rE_Na = 115\n",
    "\n",
    "gMax_K = 36\n",
    "rE_K = -12\n",
    "\n",
    "gMax_leaky = 0.3\n",
    "rE_leaky = 10.6\n",
    "\n",
    "deltaTms = 0.05\n",
    "Cm = 1\n",
    "pointCount = fire_data.shape[-1]\n",
    "\n",
    "gMax_AMPA = 0.0072\n",
    "gMax_NMDA = 0.0012\n",
    "gMax_GABA = 0.004\n",
    "\n",
    "rE_AMPA = 70\n",
    "rE_NMDA = 70\n",
    "rE_GABA = 140\n",
    "\n",
    "mg = 0.01\n",
    "\n",
    "threshold = -50 + 70\n",
    "current_threshold = -200\n",
    "\n",
    "\n",
    "# below parameters are all guesses\n",
    "u_se = torch.tensor([0.9, 0.9, 0.9], device=device)\n",
    "\n",
    "tau_rec = torch.tensor([5, 12, 12], device=device)\n",
    "tau_pre = torch.tensor([113, 113, 113], device=device)\n",
    "# tau_post = torch.tensor([20, 10, 10], device=device)\n",
    "tau_decay = torch.tensor([10, 15, 15], device=device)\n",
    "tau_rise = torch.tensor([8, 7, 7], device=device)\n",
    "\n",
    "learning_rate = 0.7\n",
    "\n",
    "# generate the exponential decrease with time gap values\n",
    "gaps = torch.arange(400, 0, -1, device=device).unsqueeze(0).expand(3,400)\n",
    "temp_tau_pre = tau_pre.unsqueeze(-1)\n",
    "weight_values_matrix = torch.exp(-gaps/temp_tau_pre)\n",
    "\n",
    "for _ in range(5):\n",
    "    weight_values_matrix = weight_values_matrix.unsqueeze(1)"
   ]
  },
  {
   "cell_type": "code",
   "execution_count": 7,
   "id": "beac2171",
   "metadata": {},
   "outputs": [],
   "source": [
    "def update_states(mp, current_states, deltaTms=0.05):\n",
    "        m_alpha = .1*((25-mp) / (torch.exp((25-mp)/10)-1))\n",
    "        m_beta = 4*torch.exp(-mp/18)\n",
    "        n_alpha = .01 * ((10-mp) / (torch.exp((10-mp)/10)-1))\n",
    "        n_beta = .125*torch.exp(-mp/80)\n",
    "        h_alpha = .07*torch.exp(-mp/20)\n",
    "        h_beta = 1/(torch.exp((30-mp)/10)+1)\n",
    "\n",
    "        alphas = torch.stack([m_alpha, n_alpha, h_alpha], dim=0)\n",
    "        betas = torch.stack([m_beta, n_beta, h_beta], dim=0)\n",
    "\n",
    "        alpha_states = alphas*(1-current_states)\n",
    "        beta_states = betas*current_states\n",
    "\n",
    "        new_states = current_states + deltaTms*(alpha_states - beta_states)\n",
    "\n",
    "        return new_states\n"
   ]
  },
  {
   "cell_type": "code",
   "execution_count": 8,
   "id": "8f014e67",
   "metadata": {},
   "outputs": [],
   "source": [
    "def broadcast_params(param, target):\n",
    "    new_shape = (3,) + (1,)*(target.dim()-1)\n",
    "    param = param.view(new_shape)\n",
    "    param = param.expand_as(target)\n",
    "    return param\n",
    "\n",
    "def broadcast_mp(mp, connection_matrix):\n",
    "    num_missing_dim = connection_matrix.dim() - mp.dim()\n",
    "    mp = mp.view(*([1]*num_missing_dim), *mp.shape)\n",
    "    mp = mp.expand_as(connection_matrix)\n",
    "    return mp\n",
    "\n",
    "\n",
    "def runge_kutta(f, y0, h, *arg):\n",
    "    k1 = f(y0, *arg)\n",
    "    k2 = f(y0 + h*k1/2, *arg)\n",
    "    k3 = f(y0 + h*k2/2, *arg)\n",
    "    k4 = f(y0 + h*k3, *arg)\n",
    "\n",
    "    next = y0 + 1/6*(k1 + 2*k2 + 2*k3 + k4)\n",
    "\n",
    "    return next\n",
    "\n",
    "# # deri as deriviation \n",
    "# def e_deri(e, on_off):\n",
    "#     return (1-e)/tau_rec[None,:,None,None] - u_se[None,:,None,None]*on_off\n",
    "\n",
    "# def g_decay_deri(g_decay, w, e, on_off):\n",
    "#     return -g_decay/tau_decay[None,:,None,None] + w*e*on_off\n",
    "\n",
    "# def g_rise_deri(g_rise, w, e, on_off):\n",
    "#     return -g_rise/tau_rise[None,:,None,None] + w*e*on_off\n",
    "\n",
    "# deri as deriviation \n",
    "def e_deri(e, on_off):\n",
    "    tau_rec_broad = broadcast_params(tau_rec, e)\n",
    "    u_se_broad = broadcast_params(u_se, e)\n",
    "    return (1-e)/tau_rec_broad - u_se_broad*on_off\n",
    "\n",
    "def g_decay_deri(g_decay, w, e, on_off):\n",
    "    tau_decay_broad = broadcast_params(tau_decay, e)\n",
    "    return -g_decay/tau_decay_broad + w*e*on_off\n",
    "\n",
    "def g_rise_deri(g_rise, w, e, on_off):\n",
    "    tau_rise_broad = broadcast_params(tau_rise, e)\n",
    "    return -g_rise/tau_rise_broad + w*e*on_off"
   ]
  },
  {
   "cell_type": "code",
   "execution_count": 9,
   "id": "b3fb242d",
   "metadata": {},
   "outputs": [],
   "source": [
    "# def update_gPs(e, g_decay, g_rise, activeness, w, deltaTms=0.05):\n",
    "#     # update e\n",
    "#     e = runge_kutta(e_deri, e, deltaTms, activeness)\n",
    "\n",
    "#     # update g_decay and g_rise\n",
    "#     # deltaTms * 10 is not good, when try to find the right params need to delete this\n",
    "#     g_decay = runge_kutta(g_decay_deri, g_decay, deltaTms*10, w, e, activeness)\n",
    "#     g_rise = runge_kutta(g_rise_deri, g_rise, deltaTms*10, w, e, activeness)\n",
    "\n",
    "#     gP = g_rise - g_decay\n",
    "\n",
    "#     return e, g_decay, g_rise, gP\n",
    "\n",
    "def update_gPs(es, ws, g_decays, g_rises, activenesses, deltaTms=0.05):\n",
    "    # update e\n",
    "    cycle = len(es)\n",
    "    new_es = []\n",
    "    new_g_decays = []\n",
    "    new_g_rises = []\n",
    "    gPs = []\n",
    "    \n",
    "    for i in range(cycle):\n",
    "        # print(es[i].shape)\n",
    "        e = runge_kutta(e_deri, es[i], deltaTms, activenesses[i])\n",
    "\n",
    "        \n",
    "\n",
    "        # update g_decay and g_rise\n",
    "        # deltaTms * 10 is not good, when try to find the right params need to delete this\n",
    "        g_decay = runge_kutta(g_decay_deri, g_decays[i], deltaTms*10, ws[i], e, activenesses[i])\n",
    "        g_rise = runge_kutta(g_rise_deri, g_rises[i], deltaTms*10, ws[i], e, activenesses[i])\n",
    "\n",
    "        gP = g_rise - g_decay\n",
    "\n",
    "        new_es.append(e)\n",
    "        new_g_decays.append(g_decay)\n",
    "        new_g_rises.append(g_rise)\n",
    "        gPs.append(gP)\n",
    "\n",
    "    return new_es, new_g_decays, new_g_rises, gPs"
   ]
  },
  {
   "cell_type": "code",
   "execution_count": 10,
   "id": "be647d85",
   "metadata": {},
   "outputs": [],
   "source": [
    "# the last param is how many synapses it needs to have \n",
    "def initialise(*args):\n",
    "    d = args[0]\n",
    "\n",
    "    # cells, states, mp are fine with only individual cells\n",
    "    cells = torch.zeros((d, d), device=device)\n",
    "\n",
    "    m_states = cells.clone()\n",
    "    m_states.fill_(0.061956531255774015)\n",
    "\n",
    "    n_states = cells.clone()\n",
    "    n_states.fill_(0.3384883478113268)\n",
    "\n",
    "    h_states = cells.clone()\n",
    "    h_states.fill_(0.5484107720738856)\n",
    "\n",
    "    states = torch.stack([m_states, n_states, h_states], dim=0)\n",
    "\n",
    "    mp = cells.clone()\n",
    "    mp.fill_(1.3458754117369027)\n",
    "\n",
    "    # the synapses properties are not individual cell but \n",
    "    # shape as the connections\n",
    "\n",
    "    es = []\n",
    "    ws = []\n",
    "    g_decays = []\n",
    "    g_rises = []\n",
    "\n",
    "    for arg in args[1:]:\n",
    "        # 3 is for the three types of receptors \n",
    "        muster = torch.zeros((3,*arg.shape), device=device)\n",
    "\n",
    "        e = muster.clone()\n",
    "        e.fill_(1)\n",
    "        es.append(e)\n",
    "\n",
    "        # Q: if different receptors in the same synapse have same/different weights\n",
    "        w = torch.rand_like(muster)\n",
    "        ws.append(w)\n",
    "\n",
    "        g_decay = muster.clone()\n",
    "        g_decay.fill_(1)\n",
    "        g_decays.append(g_decay)\n",
    "\n",
    "        g_rise = muster.clone()\n",
    "        g_rise.fill_(1)\n",
    "        g_rises.append(g_rise)\n",
    "\n",
    "\n",
    "\n",
    "        # # weight randomised at initial (0-1)\n",
    "        # w = w.unsqueeze(1).expand(-1,3,-1,-1)\n",
    "\n",
    "\n",
    "\n",
    "    return cells, states, mp, es, ws, g_decays, g_rises"
   ]
  },
  {
   "cell_type": "code",
   "execution_count": 11,
   "id": "dbcc29d1",
   "metadata": {},
   "outputs": [],
   "source": [
    "# initialise everything\n",
    "\n",
    "pixel_num = 10\n",
    "feature_num = 8\n",
    "E_num = 20\n",
    "I_num = 4\n",
    "Out_num = 5\n",
    "\n",
    "\n",
    "#-----------connection matrices-------------\n",
    "In_con_E = torch.zeros(pixel_num, pixel_num, feature_num, E_num, E_num, device=device)\n",
    "# all-to-all  connections\n",
    "In_con_E.fill_(1.)\n",
    "\n",
    "# the later two E_nums are the one sending out the connections/the center\n",
    "E_con_E = torch.zeros(E_num, E_num, E_num, E_num, device=device)\n",
    "sigma_E_E = 2\n",
    "max_E_E = 10\n",
    "for i in range(E_num):\n",
    "    for j in range(E_num):\n",
    "        for k in range(E_num):\n",
    "            for l in range(E_num):\n",
    "                project_center_x = k\n",
    "                project_center_y = l\n",
    "\n",
    "                euc_distance = math.sqrt((project_center_x - i)**2 + (project_center_y - j)**2)\n",
    "                E_con_E[i,j,k,l] = max_E_E*math.exp(-0.5*(euc_distance/sigma_E_E)**2)\n",
    "E_con_E = E_con_E.permute(2, 3, 0, 1)\n",
    "\n",
    "# E to I connection matrix (p=0.1)\n",
    "E_con_I = torch.zeros(E_num, E_num, I_num, I_num, device=device)\n",
    "num_elements = E_con_I.numel()\n",
    "num_ones = max(1, int(num_elements * 0.1))  # Ensure at least 1 element\n",
    "flat_indices = torch.randperm(num_elements)[:num_ones]\n",
    "E_con_I.view(-1)[flat_indices] = 1\n",
    "\n",
    "# I to E connection matrix (p=0.024)\n",
    "I_con_E = torch.zeros(I_num, I_num, E_num, E_num, device=device)\n",
    "num_elements = I_con_E.numel()\n",
    "num_ones = max(1, int(num_elements * 0.024))  # Ensure at least 1 element\n",
    "flat_indices = torch.randperm(num_elements)[:num_ones]\n",
    "I_con_E.view(-1)[flat_indices] = 1\n",
    "\n",
    "# I to I self connection (p=0.1)\n",
    "I_con_I = torch.zeros(I_num, I_num, I_num, I_num, device=device)\n",
    "num_elements = I_con_I.numel()\n",
    "num_ones = max(1, int(num_elements * 0.1))  # Ensure at least 1 element\n",
    "flat_indices = torch.randperm(num_elements)[:num_ones]\n",
    "I_con_I.view(-1)[flat_indices] = 1\n",
    "\n",
    "# E to Out connection\n",
    "E_con_Out = torch.zeros(E_num, E_num, Out_num, Out_num, device=device)\n",
    "sigma_E_Out = 2\n",
    "max_E_Out = 10\n",
    "# find the center point from Output to E\n",
    "ratio = E_num/Out_num\n",
    "for i in range(E_num):\n",
    "    for j in range(E_num):\n",
    "        for k in range(Out_num):\n",
    "            for l in range(Out_num):\n",
    "                project_center_x = k*ratio\n",
    "                project_center_y = l*ratio\n",
    "\n",
    "                euc_distance = math.sqrt((project_center_x - i)**2 + (project_center_y - j)**2)\n",
    "                E_con_Out[i,j,k,l] = max_E_Out*math.exp(-0.5*(euc_distance/sigma_E_Out)**2)\n",
    "\n",
    "\n",
    "\n",
    "#----------E---------------------\n",
    "E_cells, E_states, E_mp, E_es, E_ws, E_g_decays, E_g_rises = initialise(E_num, In_con_E, E_con_E, I_con_E)\n",
    "# E_e_In, E_e_E, E_e_I = E_es\n",
    "# E_w_In, E_w_E, E_w_I = E_ws\n",
    "# E_g_decay_In, E_g_decay_E, E_g_decay_I = E_g_decays\n",
    "# E_g_rise_In, E_g_rise_E, E_g_rise_I = E_g_rises\n",
    "\n",
    "\n",
    "#----------I-----------------\n",
    "I_cells, I_states, I_mp, I_es, I_ws, I_g_decays, I_g_rises = initialise(I_num, E_con_I, I_con_I)\n",
    "# I_e_E, I_e_I = I_es\n",
    "# I_w_E, I_w_I = I_ws\n",
    "# I_g_decay_E, I_g_decay_I = I_g_decays\n",
    "# I_g_rise_E, I_g_rise_I = I_g_rises\n",
    "\n",
    "#-----------Output-------------\n",
    "Out_cells, Out_states, Out_mp, Out_es, Out_ws, Out_g_decays, Out_g_rises = initialise(Out_num, E_con_Out)\n",
    "# [Out_e_E] = Out_es\n",
    "# [Out_w_E] = Out_ws\n",
    "# [Out_g_decay_E] = Out_g_decays\n",
    "# [Out_g_rise_E] = Out_g_rises\n",
    "\n"
   ]
  },
  {
   "cell_type": "code",
   "execution_count": 12,
   "id": "a120155d",
   "metadata": {},
   "outputs": [],
   "source": [
    "one_pic = fire_data[25, :, :, :]"
   ]
  },
  {
   "cell_type": "code",
   "execution_count": 13,
   "id": "7e3d7bdc",
   "metadata": {},
   "outputs": [],
   "source": [
    "def activeness_modif(activeness, *args):\n",
    "    # select the receptor types \n",
    "    temp = torch.zeros((3,*activeness.shape), device=device)\n",
    "    for arg in args:\n",
    "        temp[arg] = activeness\n",
    "    activeness = temp\n",
    "    return activeness\n",
    "\n",
    "def check_fire(mp):\n",
    "    activeness = (mp > threshold).float()\n",
    "    return activeness\n",
    "\n",
    "# def update_I_E(gP, mp, activeness, states, w):\n",
    "#     # generate currents based on gPs\n",
    "#     AMPA_currents = (gMax_AMPA*gP[:,0,...]*(mp-rE_AMPA)*activeness[:,0,...]).sum(dim=0)\n",
    "#     NMDA_currents = (gMax_NMDA*gP[:,1,...]*(1/1+mg*torch.exp(-0.062*mp)/3.57)*(mp-rE_NMDA)*activeness[:,1,...]).sum(dim=0)\n",
    "#     GABA_currents = (gMax_GABA*gP[:,2,...]*(mp-rE_GABA)*(-1)*activeness[:,2,...]).sum(dim=0)\n",
    "\n",
    "#     Ireceptors = AMPA_currents + NMDA_currents + GABA_currents\n",
    "#     Ireceptors[Ireceptors >= 0] = 0.0\n",
    "\n",
    "#     overflow_neurons = (Ireceptors <= current_threshold).float()\n",
    "\n",
    "#     scaled_AMPA_NMDA = w[:,:2,:,:]*overflow_neurons*0.7\n",
    "#     scaled_GABA = w[:,2:3,:,:]*overflow_neurons*1.3\n",
    "\n",
    "#     w = torch.cat([scaled_AMPA_NMDA, scaled_GABA], dim=1)\n",
    "\n",
    "    \n",
    "#     sodium_currents = gMax_Na*torch.pow(states[0], 3) * states[2]*(mp-rE_Na)\n",
    "#     potassium_currents = gMax_K*torch.pow(states[1], 4)*(mp-rE_K)\n",
    "#     leaky_currents = gMax_leaky*(mp-rE_leaky)\n",
    "\n",
    "#     total_c = - sodium_currents - potassium_currents - leaky_currents - Ireceptors\n",
    "#     total_c = total_c.sum(dim=0)\n",
    "#     mp = mp + deltaTms*total_c/Cm\n",
    "\n",
    "#     return mp, w\n",
    "\n",
    "def update_I_E(gPs, mp, states, ws):\n",
    "\n",
    "    # generate currents based on gPs\n",
    "    cycle = len(gPs)\n",
    "    muster = torch.zeros_like(mp)\n",
    "    AMPA_currents = muster.clone()\n",
    "    NMDA_currents = muster.clone()\n",
    "    GABA_currents = muster.clone()\n",
    "    \n",
    "    for i in range(cycle):\n",
    "        temp_mp = broadcast_mp(mp, gPs[i])\n",
    "\n",
    "        AMPA_currents += (gMax_AMPA*gPs[i][0,...]*(temp_mp-rE_AMPA)).sum(dim=tuple(range(temp_mp.ndim - 2)))\n",
    "        # if (temp_mp-rE_AMPA).all() > 0:\n",
    "        #     print(\"nooo\")\n",
    "        NMDA_currents += (gMax_NMDA*gPs[i][1,...]*(1/1+mg*torch.exp(-0.062*temp_mp)/3.57)*(temp_mp-rE_NMDA)).sum(dim=tuple(range(temp_mp.ndim - 2)))\n",
    "        GABA_currents += (gMax_GABA*gPs[i][2,...]*(temp_mp-rE_GABA)*(-1)).sum(dim=tuple(range(temp_mp.ndim - 2)))\n",
    "\n",
    "    Ireceptors = AMPA_currents + NMDA_currents + GABA_currents\n",
    "\n",
    "    Ireceptors[Ireceptors >= 0] = 0.0\n",
    "\n",
    "    # print(Ireceptors)\n",
    "\n",
    "    overflow_neurons = (Ireceptors <= current_threshold).float()\n",
    "\n",
    "    for i in range(cycle):\n",
    "        w = ws[i]\n",
    "        scaled_AMPA_NMDA = w[:2,...]*overflow_neurons*0.7\n",
    "        scaled_GABA = w[2:3,...]*overflow_neurons*1.3\n",
    "\n",
    "        ws[i] = torch.cat([scaled_AMPA_NMDA, scaled_GABA], dim=0)\n",
    "\n",
    "    \n",
    "    sodium_currents = gMax_Na*torch.pow(states[0], 3) * states[2]*(mp-rE_Na)\n",
    "    potassium_currents = gMax_K*torch.pow(states[1], 4)*(mp-rE_K)\n",
    "    leaky_currents = gMax_leaky*(mp-rE_leaky)\n",
    "\n",
    "    total_c = - sodium_currents - potassium_currents - leaky_currents - Ireceptors\n",
    "    total_c = total_c.sum(dim=0)\n",
    "    mp = mp + deltaTms*total_c/Cm\n",
    "\n",
    "    return mp, ws\n"
   ]
  },
  {
   "cell_type": "code",
   "execution_count": null,
   "id": "7f340d14",
   "metadata": {},
   "outputs": [
    {
     "name": "stderr",
     "output_type": "stream",
     "text": [
      "  0%|                                                                                                                        | 0/6000 [00:00<?, ?it/s]"
     ]
    },
    {
     "name": "stderr",
     "output_type": "stream",
     "text": [
      "100%|█████████████████████████████████████████████████████████████████████████████████████████████████████████████| 6000/6000 [01:59<00:00, 50.03it/s]\n"
     ]
    }
   ],
   "source": [
    "In_fires = one_pic\n",
    "E_fires = torch.empty((pointCount, E_num, E_num), device=device)\n",
    "I_fires = torch.empty((pointCount, I_num, I_num), device=device)\n",
    "Out_fires = torch.empty((pointCount, Out_num, Out_num), device=device)\n",
    "\n",
    "# In_fires_times = \n",
    "\n",
    "for t in tqdm(range(pointCount)):\n",
    "    # check mp and which fires then change connected layer activeness\n",
    "    # Input to E\n",
    "    In_fire = one_pic[:, :, :, t]\n",
    "    # shape like the connection matrix \n",
    "    E_activeness_In = In_fire.unsqueeze(-1).unsqueeze(-1)*In_con_E\n",
    "    # only AMPA\n",
    "    E_activeness_In = activeness_modif(E_activeness_In, 0)\n",
    "\n",
    "    \n",
    "    E_fire = check_fire(E_mp)\n",
    "    E_fires[t] = E_fire\n",
    "    # E to I\n",
    "    I_activeness_E = E_fire.unsqueeze(-1).unsqueeze(-1)*E_con_I\n",
    "    I_activeness_E = activeness_modif(I_activeness_E, 0, 1)\n",
    "\n",
    "    # E to E (this einsum is getting ij instead of xy)\n",
    "    E_activeness_E = E_fire.unsqueeze(-1).unsqueeze(-1)*E_con_E\n",
    "    E_activeness_E = activeness_modif(E_activeness_E, 0, 1)\n",
    "\n",
    "    # E to Out\n",
    "    Out_activeness_E = E_fire.unsqueeze(-1).unsqueeze(-1)*E_con_Out\n",
    "    Out_activeness_E = activeness_modif(Out_activeness_E, 0)\n",
    "\n",
    "    I_fire = check_fire(I_mp)\n",
    "    I_fires[t] = I_fire\n",
    "    # I to E\n",
    "    E_activeness_I = I_fire.unsqueeze(-1).unsqueeze(-1)*I_con_E\n",
    "    E_activeness_I = activeness_modif(E_activeness_I, 2)\n",
    "\n",
    "    # I to I\n",
    "    I_activeness_I = I_fire.unsqueeze(-1).unsqueeze(-1)*I_con_I\n",
    "    I_activeness_I = activeness_modif(I_activeness_I, 2)\n",
    "\n",
    "    # # cannot stack different shapes \n",
    "    E_activenesses = [E_activeness_In, E_activeness_E, E_activeness_I]\n",
    "\n",
    "    I_activenesses = [I_activeness_E, I_activeness_I]\n",
    "\n",
    "    Out_activenesses = [Out_activeness_E]\n",
    "    \n",
    "    Out_fire = check_fire(Out_mp)\n",
    "    Out_fires[t] = Out_fire\n",
    "\n",
    "    # -----------------update gPs based on activeness--------------------------------\n",
    "    # update them by each layer connection, cannot do it at the same time because\n",
    "    # the shapes are different \n",
    "    E_states = update_states(E_mp, E_states)\n",
    "    E_es, E_g_decays, E_g_rises, E_gPs = update_gPs(E_es, E_ws, E_g_decays, E_g_rises, E_activenesses)\n",
    "\n",
    "\n",
    "    I_states = update_states(I_mp, I_states)\n",
    "    I_es, I_g_decays, I_g_rises, I_gPs = update_gPs(I_es, I_ws, I_g_decays, I_g_rises, I_activenesses)\n",
    "\n",
    "\n",
    "    Out_states = update_states(Out_mp, Out_states)\n",
    "    Out_es, Out_g_decays, Out_g_rises, Out_gPs = update_gPs(Out_es, Out_ws, Out_g_decays, Out_g_rises, Out_activenesses)\n",
    "\n",
    "\n",
    "\n",
    "    # ------------------generate currents and voltages based on gPs-------------------------------\n",
    "    E_mp, E_ws = update_I_E(E_gPs, E_mp, E_states, E_ws)\n",
    "\n",
    "    I_mp, I_ws = update_I_E(I_gPs, I_mp, I_states, I_ws)\n",
    "\n",
    "    Out_mp, Out_ws = update_I_E(Out_gPs, Out_mp, Out_states, Out_ws)\n",
    "\n",
    "    \n",
    "    # -------------------------update weights----------------------------------\n",
    "    # only In to E\n",
    "    # get the matrix of needed to change weight from the cons (Q: including the current time step?)\n",
    "    # take only the 400 time step before, equals to 20ms, which is the learning period in the paper\n",
    "    # for now update after 400 time steps \n",
    "    if t >= 400:\n",
    "        past_pre_fires = In_fires[:,:,:,t-399:t+1]\n",
    "\n",
    "        # move the t step 3rd dimension to the last\n",
    "        # interaction = interaction.permute(0, 1, 2, 4, 5, 3)\n",
    "\n",
    "        for i in range(400):\n",
    "            interaction = torch.einsum('ijk,ab->ijkab', past_pre_fires[...,i], E_fire)\n",
    "            # print(interaction.shape)\n",
    "            # print(weight_values_matrix[...,i].shape)\n",
    "            d_ws += interaction*weight_values_matrix[...,i]\n",
    "\n",
    "\n",
    "            del interaction\n",
    "        \n",
    "\n",
    "        # E_ws += d_ws\n",
    "\n",
    "\n",
    "\n",
    "\n",
    "    # voltages.append(E_mp[10,10].cpu()-70)"
   ]
  },
  {
   "cell_type": "code",
   "execution_count": 60,
   "id": "be46b4f4",
   "metadata": {},
   "outputs": [
    {
     "data": {
      "text/plain": [
       "torch.Size([3, 1, 1, 1, 1, 1, 400])"
      ]
     },
     "execution_count": 60,
     "metadata": {},
     "output_type": "execute_result"
    }
   ],
   "source": [
    "weight_values_matrix.shape"
   ]
  },
  {
   "cell_type": "code",
   "execution_count": 59,
   "id": "17996064",
   "metadata": {},
   "outputs": [
    {
     "data": {
      "text/plain": [
       "torch.Size([10, 10, 8, 20, 20])"
      ]
     },
     "execution_count": 59,
     "metadata": {},
     "output_type": "execute_result"
    }
   ],
   "source": [
    "interactions[0].shape"
   ]
  },
  {
   "cell_type": "code",
   "execution_count": 92,
   "id": "85793091",
   "metadata": {},
   "outputs": [
    {
     "data": {
      "text/plain": [
       "tensor([0, 1, 2, 3])"
      ]
     },
     "execution_count": 92,
     "metadata": {},
     "output_type": "execute_result"
    }
   ],
   "source": [
    "test = torch.arange(0,20)\n",
    "test[-20:2+2]\n"
   ]
  },
  {
   "cell_type": "code",
   "execution_count": 70,
   "id": "7f4e79aa",
   "metadata": {},
   "outputs": [
    {
     "data": {
      "text/plain": [
       "tensor([3, 4, 5])"
      ]
     },
     "execution_count": 70,
     "metadata": {},
     "output_type": "execute_result"
    }
   ],
   "source": [
    "test[3:6]"
   ]
  },
  {
   "cell_type": "code",
   "execution_count": 45,
   "id": "7627b73e",
   "metadata": {},
   "outputs": [
    {
     "data": {
      "text/plain": [
       "tensor(True, device='cuda:0')"
      ]
     },
     "execution_count": 45,
     "metadata": {},
     "output_type": "execute_result"
    }
   ],
   "source": [
    "torch.any(Out_fires != 0)"
   ]
  },
  {
   "cell_type": "code",
   "execution_count": 235,
   "id": "4d6b6368",
   "metadata": {},
   "outputs": [],
   "source": [
    "with open(path + 'Spiking_NN/plots/test.pkl', 'wb') as f:\n",
    "    pickle.dump(Out_fires, f)"
   ]
  },
  {
   "cell_type": "code",
   "execution_count": 53,
   "id": "6db8c2a7",
   "metadata": {},
   "outputs": [],
   "source": [
    "test = I_fires.sum(dim=0)"
   ]
  },
  {
   "cell_type": "code",
   "execution_count": 48,
   "id": "9a24be1f",
   "metadata": {},
   "outputs": [
    {
     "data": {
      "text/plain": [
       "torch.Size([5, 5])"
      ]
     },
     "execution_count": 48,
     "metadata": {},
     "output_type": "execute_result"
    }
   ],
   "source": [
    "test.shape"
   ]
  },
  {
   "cell_type": "code",
   "execution_count": 54,
   "id": "75e5cd54",
   "metadata": {},
   "outputs": [
    {
     "data": {
      "text/plain": [
       "tensor([[6., 6., 6., 6.],\n",
       "        [6., 6., 6., 6.],\n",
       "        [6., 6., 6., 6.],\n",
       "        [6., 6., 6., 6.]], device='cuda:0')"
      ]
     },
     "execution_count": 54,
     "metadata": {},
     "output_type": "execute_result"
    }
   ],
   "source": [
    "test"
   ]
  },
  {
   "cell_type": "code",
   "execution_count": 49,
   "id": "94c31bf6",
   "metadata": {},
   "outputs": [
    {
     "data": {
      "image/png": "[encoded data removed]",
      "text/plain": [
       "<Figure size 640x480 with 2 Axes>"
      ]
     },
     "metadata": {},
     "output_type": "display_data"
    }
   ],
   "source": [
    "plt.imshow(test.cpu(), cmap='hot')\n",
    "plt.colorbar() \n",
    "plt.show()"
   ]
  },
  {
   "cell_type": "code",
   "execution_count": 164,
   "id": "ae394f7e",
   "metadata": {},
   "outputs": [
    {
     "data": {
      "text/plain": [
       "[<matplotlib.lines.Line2D at 0x7d79f9317670>]"
      ]
     },
     "execution_count": 164,
     "metadata": {},
     "output_type": "execute_result"
    },
    {
     "data": {
      "image/png": "[encoded data removed]",
      "text/plain": [
       "<Figure size 640x480 with 1 Axes>"
      ]
     },
     "metadata": {},
     "output_type": "display_data"
    }
   ],
   "source": [
    "plt.plot(np.arange(pointCount), voltages)"
   ]
  }
 ],
 "metadata": {
  "kernelspec": {
   "display_name": "Python 3 (ipykernel)",
   "language": "python",
   "name": "python3"
  },
  "language_info": {
   "codemirror_mode": {
    "name": "ipython",
    "version": 3
   },
   "file_extension": ".py",
   "mimetype": "text/x-python",
   "name": "python",
   "nbconvert_exporter": "python",
   "pygments_lexer": "ipython3",
   "version": "3.10.17"
  }
 },
 "nbformat": 4,
 "nbformat_minor": 5
}
