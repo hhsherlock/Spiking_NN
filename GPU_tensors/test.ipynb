{
 "cells": [
  {
   "cell_type": "code",
   "execution_count": 1,
   "id": "ebdee7f6",
   "metadata": {},
   "outputs": [
    {
     "data": {
      "text/plain": [
       "<module 'GPU_tensors.Receptors' from '/home/yaning/Documents/Spiking_NN/GPU_tensors/Receptors.py'>"
      ]
     },
     "execution_count": 1,
     "metadata": {},
     "output_type": "execute_result"
    }
   ],
   "source": [
    "#!/usr/bin/env python3\n",
    "# -*- coding: utf-8 -*-\n",
    "\"\"\"\n",
    "Created on Mon Jun 23\n",
    "\n",
    "@author: yaning\n",
    "\"\"\"\n",
    "\n",
    "import importlib\n",
    "import torch\n",
    "import GPU_tensors.Receptors as Receptors\n",
    "path = \"/home/yaning/Documents/\"\n",
    "\n",
    "importlib.reload(Receptors)"
   ]
  },
  {
   "cell_type": "code",
   "execution_count": 2,
   "id": "90af05ba",
   "metadata": {},
   "outputs": [],
   "source": [
    "sodium_channel = Receptors.Voltage_Sodium(Vm = 1.3459)"
   ]
  },
  {
   "cell_type": "code",
   "execution_count": 3,
   "id": "b8d2dd3e",
   "metadata": {},
   "outputs": [
    {
     "data": {
      "text/plain": [
       "np.float64(0.5484107720738856)"
      ]
     },
     "execution_count": 3,
     "metadata": {},
     "output_type": "execute_result"
    }
   ],
   "source": [
    "sodium_channel.h.state"
   ]
  },
  {
   "cell_type": "code",
   "execution_count": 4,
   "id": "f38d22d4",
   "metadata": {},
   "outputs": [],
   "source": [
    "potassium_channel = Receptors.Voltage_Potassium(Vm = 1.3459)"
   ]
  },
  {
   "cell_type": "code",
   "execution_count": 7,
   "id": "42993cbe",
   "metadata": {},
   "outputs": [
    {
     "data": {
      "text/plain": [
       "np.float64(0.061956531255774015)"
      ]
     },
     "execution_count": 7,
     "metadata": {},
     "output_type": "execute_result"
    }
   ],
   "source": [
    "potassium_channel.m.state"
   ]
  },
  {
   "cell_type": "code",
   "execution_count": 9,
   "id": "65e2a40f",
   "metadata": {},
   "outputs": [],
   "source": [
    "sodium_channel.Vm = 10\n",
    "potassium_channel.Vm = 10"
   ]
  },
  {
   "cell_type": "code",
   "execution_count": 11,
   "id": "cf6b5f73",
   "metadata": {},
   "outputs": [
    {
     "name": "stderr",
     "output_type": "stream",
     "text": [
      "/home/yaning/Documents/Spiking_NN/GPU_tensors/Receptors.py:74: RuntimeWarning: invalid value encountered in scalar divide\n",
      "  self.n.alpha = .01 * ((10-self.Vm) / (np.exp((10-self.Vm)/10)-1))\n"
     ]
    }
   ],
   "source": [
    "sodium_channel.update_gP(0.05)\n",
    "potassium_channel.update_gP(0.05)"
   ]
  },
  {
   "cell_type": "code",
   "execution_count": 12,
   "id": "945c4acb",
   "metadata": {},
   "outputs": [
    {
     "data": {
      "text/plain": [
       "np.float64(0.07505362337476769)"
      ]
     },
     "execution_count": 12,
     "metadata": {},
     "output_type": "execute_result"
    }
   ],
   "source": [
    "sodium_channel.m.state"
   ]
  },
  {
   "cell_type": "code",
   "execution_count": 13,
   "id": "a133d271",
   "metadata": {},
   "outputs": [
    {
     "data": {
      "text/plain": [
       "np.float64(0.07505362337476769)"
      ]
     },
     "execution_count": 13,
     "metadata": {},
     "output_type": "execute_result"
    }
   ],
   "source": [
    "potassium_channel.m.state"
   ]
  }
 ],
 "metadata": {
  "kernelspec": {
   "display_name": "Python 3 (ipykernel)",
   "language": "python",
   "name": "python3"
  },
  "language_info": {
   "codemirror_mode": {
    "name": "ipython",
    "version": 3
   },
   "file_extension": ".py",
   "mimetype": "text/x-python",
   "name": "python",
   "nbconvert_exporter": "python",
   "pygments_lexer": "ipython3",
   "version": "3.10.17"
  }
 },
 "nbformat": 4,
 "nbformat_minor": 5
}
