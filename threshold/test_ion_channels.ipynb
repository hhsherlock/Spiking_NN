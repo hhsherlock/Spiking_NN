{
 "cells": [
  {
   "cell_type": "code",
   "execution_count": 28,
   "metadata": {},
   "outputs": [],
   "source": [
    "#!/usr/bin/env python3\n",
    "# -*- coding: utf-8 -*-\n",
    "\"\"\"\n",
    "Created on Mon Mar 3\n",
    "\n",
    "@author: yaning\n",
    "\"\"\"\n",
    "\n",
    "import importlib\n",
    "import numpy as np\n",
    "import matplotlib.pyplot as plt\n",
    "import pickle\n",
    "import math\n",
    "\n",
    "# my own class files\n",
    "import threshold.Receptors as Receptors"
   ]
  },
  {
   "cell_type": "code",
   "execution_count": 29,
   "metadata": {},
   "outputs": [
    {
     "data": {
      "text/plain": [
       "<module 'threshold.Receptors' from '/home/yaning/Documents/Spiking_NN/threshold/Receptors.py'>"
      ]
     },
     "execution_count": 29,
     "metadata": {},
     "output_type": "execute_result"
    }
   ],
   "source": [
    "importlib.reload(Receptors)"
   ]
  },
  {
   "cell_type": "code",
   "execution_count": 55,
   "metadata": {},
   "outputs": [],
   "source": [
    "pointCount = 6000\n",
    "deltaTms = 0.05\n",
    "times = np.arange(pointCount) * deltaTms\n",
    "initial_Vm = 1.3458754117369027\n",
    "Vm = initial_Vm\n",
    "Cm = 1"
   ]
  },
  {
   "cell_type": "code",
   "execution_count": 56,
   "metadata": {},
   "outputs": [],
   "source": [
    "sodium_channel = Receptors.Voltage_Sodium(initial_Vm)\n",
    "potassium_channel = Receptors.Voltage_Potassium(initial_Vm)\n",
    "leaky_channel = Receptors.Voltage_Leak(initial_Vm)"
   ]
  },
  {
   "cell_type": "code",
   "execution_count": 10,
   "metadata": {},
   "outputs": [],
   "source": [
    "ampa_receptor = Receptors.AMPA(0.072, 1, 70, 1.35, 1, 0.8, 1, 1, 12, 10, 20, 10, 8, 10, 0.7, \"AMPA\")"
   ]
  },
  {
   "cell_type": "code",
   "execution_count": 11,
   "metadata": {},
   "outputs": [
    {
     "data": {
      "text/plain": [
       "-4.9428"
      ]
     },
     "execution_count": 11,
     "metadata": {},
     "output_type": "execute_result"
    }
   ],
   "source": [
    "ampa_receptor.current()"
   ]
  },
  {
   "cell_type": "code",
   "execution_count": 13,
   "metadata": {},
   "outputs": [
    {
     "data": {
      "text/plain": [
       "np.float64(-8.219963456165412e-05)"
      ]
     },
     "execution_count": 13,
     "metadata": {},
     "output_type": "execute_result"
    }
   ],
   "source": [
    "sodium_channel.current()"
   ]
  },
  {
   "cell_type": "code",
   "execution_count": 57,
   "metadata": {},
   "outputs": [],
   "source": [
    "voltages = []\n",
    "stim = np.zeros(pointCount)\n",
    "stim[2000:2020] = 12\n",
    "for i in range(pointCount):\n",
    "\n",
    "    sodium_channel.update_gP(deltaTms)\n",
    "    potassium_channel.update_gP(deltaTms)\n",
    "    leaky_channel.update_gP(deltaTms)\n",
    "\n",
    "    Ina = sodium_channel.current()\n",
    "    Ik = potassium_channel.current()\n",
    "    Ileak = leaky_channel.current()\n",
    "\n",
    "\n",
    "    Isum = -Ina - Ik - Ileak \n",
    "    Vm +=  deltaTms * Isum / Cm\n",
    "    if i == 2000:\n",
    "        Vm = 1\n",
    "\n",
    "    voltages.append(Vm)\n",
    "\n",
    "    sodium_channel.Vm = Vm\n",
    "    potassium_channel.Vm = Vm\n",
    "    leaky_channel.Vm = Vm\n"
   ]
  },
  {
   "cell_type": "code",
   "execution_count": 58,
   "metadata": {},
   "outputs": [
    {
     "data": {
      "text/plain": [
       "[<matplotlib.lines.Line2D at 0x777dafdf34d0>]"
      ]
     },
     "execution_count": 58,
     "metadata": {},
     "output_type": "execute_result"
    },
    {
     "data": {
      "image/png": "[encoded data removed]",
      "text/plain": [
       "<Figure size 640x480 with 1 Axes>"
      ]
     },
     "metadata": {},
     "output_type": "display_data"
    }
   ],
   "source": [
    "plt.plot(voltages)"
   ]
  }
 ],
 "metadata": {
  "kernelspec": {
   "display_name": "Python 3 (ipykernel)",
   "language": "python",
   "name": "python3"
  },
  "language_info": {
   "codemirror_mode": {
    "name": "ipython",
    "version": 3
   },
   "file_extension": ".py",
   "mimetype": "text/x-python",
   "name": "python",
   "nbconvert_exporter": "python",
   "pygments_lexer": "ipython3",
   "version": "3.13.2"
  }
 },
 "nbformat": 4,
 "nbformat_minor": 2
}
