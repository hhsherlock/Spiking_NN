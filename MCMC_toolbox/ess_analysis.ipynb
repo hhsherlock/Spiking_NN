{
 "cells": [
  {
   "cell_type": "code",
   "execution_count": 7,
   "metadata": {},
   "outputs": [],
   "source": [
    "#!/usr/bin/env python3\n",
    "# -*- coding: utf-8 -*-\n",
    "\"\"\"\n",
    "Created on Mon Dec 30\n",
    "\n",
    "@author: yaning\n",
    "\"\"\"\n",
    "\n",
    "import numpy as np\n",
    "import importlib\n",
    "import matplotlib.pyplot as plt\n",
    "import torch\n",
    "from torch.distributions import Normal, Uniform\n",
    "from tqdm import tqdm\n",
    "\n",
    "# functions and classes that i wrote\n",
    "import run_network\n",
    "import NN.Receptors as Receptors\n",
    "import NN.Network as Network\n",
    "import MCMC_toolbox.ESS as ESS\n",
    "\n",
    "importlib.reload(run_network)\n",
    "importlib.reload(Receptors)\n",
    "importlib.reload(Network)\n",
    "\n",
    "np.set_printoptions(threshold=np.inf)\n",
    "path = \"/home/yaning/Documents/Spiking_NN/MCMC/\""
   ]
  },
  {
   "cell_type": "code",
   "execution_count": 12,
   "metadata": {},
   "outputs": [],
   "source": [
    "infer_names = Receptors.LigandGatedChannelFactory.infer_names\n",
    "samples = np.load(path + \"MCMC_samples/static_std_initial_0.npy\") \n",
    "samples_pure = np.load(path + \"MCMC_samples/static_std_initial_0_pure.npy\")"
   ]
  },
  {
   "cell_type": "code",
   "execution_count": 13,
   "metadata": {},
   "outputs": [
    {
     "data": {
      "text/plain": [
       "(1500, 19)"
      ]
     },
     "execution_count": 13,
     "metadata": {},
     "output_type": "execute_result"
    }
   ],
   "source": [
    "samples.shape"
   ]
  },
  {
   "cell_type": "code",
   "execution_count": 14,
   "metadata": {},
   "outputs": [
    {
     "name": "stdout",
     "output_type": "stream",
     "text": [
      "1092.2649560643738\n",
      "902.4258988099323\n",
      "782.9215685863386\n",
      "980.2273565750985\n",
      "1035.6849583061614\n",
      "891.4580325353244\n",
      "894.5912613606511\n",
      "993.9244295012737\n",
      "1055.095010056419\n",
      "1095.7785272745903\n",
      "1493.049631435059\n",
      "1500.0\n",
      "1500.0\n",
      "1500.0\n",
      "1462.495482610109\n",
      "1500.0\n",
      "1500.0\n",
      "1499.9709457980803\n",
      "1499.817594874168\n"
     ]
    }
   ],
   "source": [
    "for i in range(samples.shape[1]):\n",
    "    print(ESS.calc_ess(samples[:,i]))"
   ]
  }
 ],
 "metadata": {
  "kernelspec": {
   "display_name": "Python 3 (ipykernel)",
   "language": "python",
   "name": "python3"
  },
  "language_info": {
   "codemirror_mode": {
    "name": "ipython",
    "version": 3
   },
   "file_extension": ".py",
   "mimetype": "text/x-python",
   "name": "python",
   "nbconvert_exporter": "python",
   "pygments_lexer": "ipython3",
   "version": "3.12.7"
  }
 },
 "nbformat": 4,
 "nbformat_minor": 2
}
