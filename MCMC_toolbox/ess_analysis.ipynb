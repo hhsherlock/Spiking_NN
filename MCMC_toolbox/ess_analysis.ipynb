{
 "cells": [
  {
   "cell_type": "code",
   "execution_count": 18,
   "metadata": {},
   "outputs": [],
   "source": [
    "#!/usr/bin/env python3\n",
    "# -*- coding: utf-8 -*-\n",
    "\"\"\"\n",
    "Created on Mon Dec 30\n",
    "\n",
    "@author: yaning\n",
    "\"\"\"\n",
    "\n",
    "import numpy as np\n",
    "import importlib\n",
    "import matplotlib.pyplot as plt\n",
    "import torch\n",
    "from torch.distributions import Normal, Uniform\n",
    "from tqdm import tqdm\n",
    "\n",
    "# functions and classes that i wrote\n",
    "# import run_network\n",
    "\n",
    "import MCMC_toolbox.ESS as ESS\n",
    "\n",
    "\n",
    "\n",
    "np.set_printoptions(threshold=np.inf)\n",
    "# path = \"/home/yaning/Documents/Spiking_NN/without_learning/\"\n",
    "path = \"/home/yaning/Documents/Spiking_NN/with_learning/\""
   ]
  },
  {
   "cell_type": "code",
   "execution_count": 23,
   "metadata": {},
   "outputs": [],
   "source": [
    "# infer_names = Receptors.LigandGatedChannelFactory.infer_names\n",
    "# samples = np.load(path + \"MCMC_samples/static_std_initial_0_pure.npy\") \n",
    "samples_pure = np.load(path + \"MCMC_samples/samples_local.npy\")"
   ]
  },
  {
   "cell_type": "code",
   "execution_count": 13,
   "metadata": {},
   "outputs": [
    {
     "data": {
      "text/plain": [
       "(1500, 19)"
      ]
     },
     "execution_count": 13,
     "metadata": {},
     "output_type": "execute_result"
    }
   ],
   "source": [
    "samples.shape"
   ]
  },
  {
   "cell_type": "code",
   "execution_count": 9,
   "metadata": {},
   "outputs": [
    {
     "data": {
      "text/plain": [
       "(973, 15)"
      ]
     },
     "execution_count": 9,
     "metadata": {},
     "output_type": "execute_result"
    }
   ],
   "source": [
    "samples_pure.shape"
   ]
  },
  {
   "cell_type": "code",
   "execution_count": 24,
   "metadata": {},
   "outputs": [],
   "source": [
    "samples = samples_pure"
   ]
  },
  {
   "cell_type": "code",
   "execution_count": 25,
   "metadata": {},
   "outputs": [
    {
     "name": "stdout",
     "output_type": "stream",
     "text": [
      "389.04341601936295\n",
      "5.199822876775921\n",
      "22.395020613363076\n",
      "98.91522723114677\n",
      "43.118591043783276\n",
      "49.50399927201245\n",
      "26.43138078274322\n",
      "242.71374384674436\n",
      "53.17294979824577\n",
      "75.56226522348413\n",
      "36.33855102886011\n",
      "21.28260131137478\n",
      "18.27815163138347\n",
      "4.212895255858825\n",
      "241.60122852844316\n"
     ]
    }
   ],
   "source": [
    "for i in range(samples.shape[1]):\n",
    "    print(ESS.calc_ess(samples[:,i]))"
   ]
  }
 ],
 "metadata": {
  "kernelspec": {
   "display_name": "Python 3 (ipykernel)",
   "language": "python",
   "name": "python3"
  },
  "language_info": {
   "codemirror_mode": {
    "name": "ipython",
    "version": 3
   },
   "file_extension": ".py",
   "mimetype": "text/x-python",
   "name": "python",
   "nbconvert_exporter": "python",
   "pygments_lexer": "ipython3",
   "version": "3.12.7"
  }
 },
 "nbformat": 4,
 "nbformat_minor": 2
}
