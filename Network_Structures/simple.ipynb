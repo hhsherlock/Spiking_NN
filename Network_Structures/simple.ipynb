{
 "cells": [
  {
   "cell_type": "code",
   "execution_count": null,
   "metadata": {
    "vscode": {
     "languageId": "plaintext"
    }
   },
   "outputs": [],
   "source": [
    "#!/usr/bin/env python3\n",
    "# -*- coding: utf-8 -*-\n",
    "\"\"\"\n",
    "Created on Fri Jan 3\n",
    "\n",
    "@author: yaning\n",
    "\"\"\"\n",
    "\n",
    "import importlib\n",
    "import numpy as np\n",
    "import matplotlib.pyplot as plt\n",
    "\n",
    "# my own class files\n",
    "import with_learning.learning_NN.Receptors as Receptors\n",
    "import with_learning.learning_NN.Network as Network\n",
    "\n",
    "\n",
    "importlib.reload(Receptors)\n",
    "importlib.reload(Network)\n"
   ]
  },
  {
   "cell_type": "code",
   "execution_count": null,
   "metadata": {
    "vscode": {
     "languageId": "plaintext"
    }
   },
   "outputs": [],
   "source": [
    "    # Neuron: deltaTms, I, Vm, fire times\n",
    "    neuron_input = Network.Neuron(deltaTms, 0, initial_Vm, \"input\", 0)\n",
    "\n",
    "    neuron_excite_main = Network.Neuron(deltaTms, 0, initial_Vm, \"excite_main\", 0)\n",
    "    neuron_excite_sub = Network.Neuron(deltaTms, 0, initial_Vm, \"excite_sub\", 0)\n",
    "\n",
    "    neuron_inhibit_main = Network.Neuron(deltaTms, 0, initial_Vm, \"inhibit_main\", 0)\n",
    "    neuron_inhibit_sub = Network.Neuron(deltaTms, 0, initial_Vm, \"inhibit_sub\", 0)\n",
    "\n",
    "    neuron_output = Network.Neuron(deltaTms, 0, initial_Vm, \"output\", 0)\n",
    "\n",
    "    neurons = [neuron_input, neuron_excite_main, neuron_excite_sub, \n",
    "            neuron_inhibit_main, neuron_inhibit_sub, neuron_output]\n",
    "    \n",
    "    neuron_names = [\"input\", \"excite_main\", \"excite_sub\", \"inhibit_main\", \"inhibit_sub\", \"output\"]\n",
    "\n",
    "\n",
    "\n",
    "\n",
    "\n",
    "    # create synapse/connection (send neuron, receive neuron)\n",
    "    control = Network.Control(deltaTms, initial_Vm)\n",
    "    \n",
    "\n",
    "\n",
    "\n",
    "    #*********************full layer***************************\n",
    "    # ----------------first input layer------------------------\n",
    "    control.create_synapse(neuron_input, neuron_excite_main, \"AMPA\")\n",
    "    control.create_synapse(neuron_input, neuron_inhibit_main, \"GABA\")\n",
    "\n",
    "    # ----------------self recurrent layer----------------\n",
    "    control.create_synapse(neuron_excite_main, neuron_excite_sub, \"AMPA+NMDA\")\n",
    "    control.create_synapse(neuron_excite_sub, neuron_excite_main, \"AMPA+NMDA\")\n",
    "\n",
    "    control.create_synapse(neuron_inhibit_main, neuron_inhibit_sub, \"GABA\")\n",
    "    control.create_synapse(neuron_inhibit_sub, neuron_inhibit_main, \"GABA\")\n",
    "\n",
    "    # --------------between excitatory and inhibitory----------------\n",
    "    control.create_synapse(neuron_excite_main, neuron_inhibit_main, \"AMPA+NMDA\")\n",
    "    control.create_synapse(neuron_inhibit_main, neuron_excite_main, \"GABA\")\n",
    "\n",
    "\n",
    "    # ----------------output layer----------------------\n",
    "    control.create_synapse(neuron_excite_main, neuron_output, \"AMPA\")\n",
    "\n"
   ]
  }
 ],
 "metadata": {
  "language_info": {
   "name": "python"
  }
 },
 "nbformat": 4,
 "nbformat_minor": 2
}
