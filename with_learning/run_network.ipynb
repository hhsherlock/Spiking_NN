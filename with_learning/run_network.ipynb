{
 "cells": [
  {
   "cell_type": "code",
   "execution_count": null,
   "metadata": {},
   "outputs": [
    {
     "data": {
      "text/plain": [
       "<module 'with_learning.learning_NN.Network' from '/home/yaning/Documents/Spiking_NN/with_learning/learning_NN/Network.py'>"
      ]
     },
     "execution_count": 51,
     "metadata": {},
     "output_type": "execute_result"
    }
   ],
   "source": [
    "#!/usr/bin/env python3\n",
    "# -*- coding: utf-8 -*-\n",
    "\"\"\"\n",
    "Created on Wed Jan 2\n",
    "\n",
    "@author: yaning\n",
    "\"\"\"\n",
    "\n",
    "import importlib\n",
    "import numpy as np\n",
    "import matplotlib.pyplot as plt\n",
    "\n",
    "# my own class files\n",
    "import with_learning.learning_NN.Receptors as Receptors\n",
    "import with_learning.learning_NN.Network as Network\n",
    "\n",
    "\n",
    "importlib.reload(Receptors)\n",
    "importlib.reload(Network)"
   ]
  },
  {
   "cell_type": "code",
   "execution_count": 52,
   "metadata": {},
   "outputs": [],
   "source": [
    "# try use MCMC result params\n",
    "path = \"/home/yaning/Documents/Spiking_NN/without_learning/\"\n",
    "samples = np.load(path + \"MCMC_samples/static_std_initial_0.npy\")\n",
    "cut_samples = samples[1000:, :]\n",
    "values = np.mean(cut_samples, axis=0)\n",
    "infer_names = Receptors.LigandGatedChannelFactory.infer_names\n",
    "infer_params = dict(zip(infer_names, values))\n",
    "Receptors.LigandGatedChannelFactory.infer_params = infer_params"
   ]
  },
  {
   "cell_type": "code",
   "execution_count": 53,
   "metadata": {},
   "outputs": [],
   "source": [
    "pointCount = 5000\n",
    "deltaTms = 0.05\n",
    "times = np.arange(pointCount) * deltaTms\n",
    "initial_Vm = 1.3458754117369027\n",
    "# Neuron: deltaTms, I, Vm, fire times\n",
    "\n",
    "# with learning every group has more neurons \n",
    "neuron_input_0 = Network.Neuron(deltaTms, 0, initial_Vm, \"input_0\")\n",
    "neuron_input_1 = Network.Neuron(deltaTms, 0, initial_Vm, \"input_1\")\n",
    "neuron_input_2 = Network.Neuron(deltaTms, 0, initial_Vm, \"input_2\")\n",
    "\n",
    "neuron_excite_main_0 = Network.Neuron(deltaTms, 0, initial_Vm, \"excite_main_0\")\n",
    "neuron_excite_main_1 = Network.Neuron(deltaTms, 0, initial_Vm, \"excite_main_1\")\n",
    "neuron_excite_sub_0 = Network.Neuron(deltaTms, 0, initial_Vm, \"excite_sub_0\")\n",
    "neuron_excite_sub_1 = Network.Neuron(deltaTms, 0, initial_Vm, \"excite_sub_1\")\n",
    "\n",
    "neuron_inhibit_main_0 = Network.Neuron(deltaTms, 0, initial_Vm, \"inhibit_main_0\")\n",
    "neuron_inhibit_main_1 = Network.Neuron(deltaTms, 0, initial_Vm, \"inhibit_main_1\")\n",
    "neuron_inhibit_sub_0 = Network.Neuron(deltaTms, 0, initial_Vm, \"inhibit_sub_0\")\n",
    "neuron_inhibit_sub_1 = Network.Neuron(deltaTms, 0, initial_Vm, \"inhibit_sub_1\")\n",
    "\n",
    "neuron_output = Network.Neuron(deltaTms, 0, initial_Vm, \"output\")\n",
    "\n",
    "neurons = [neuron_input_0, neuron_input_1, neuron_input_2, \n",
    "            neuron_excite_main_0, neuron_excite_main_1, \n",
    "            neuron_excite_sub_0, neuron_excite_sub_1, \n",
    "            neuron_inhibit_main_0, neuron_inhibit_main_1, \n",
    "            neuron_inhibit_sub_0, neuron_inhibit_sub_1,\n",
    "            neuron_output]\n",
    "\n",
    "neuron_names = [\"input_0\", \"input_1\", \"input_2\",\n",
    "                \"excite_main_0\", \"excite_main_1\", \n",
    "                \"excite_sub_0\", \"excite_sub_1\",\n",
    "                \"inhibit_main_0\", \"inhibit_main_1\",\n",
    "                \"inhibit_sub_0\", \"inhibit_sub_1\",\n",
    "                \"output\"]\n",
    "\n",
    "\n",
    "# create synapse/connection (send neuron, receive neuron)\n",
    "control = Network.Control(deltaTms, initial_Vm)\n",
    "\n",
    "\n",
    "\n",
    "#*********************full layer***************************\n",
    "# ----------------first input layer------------------------\n",
    "control.create_synapse(neuron_input_0, neuron_excite_main_0, \"AMPA\")\n",
    "control.create_synapse(neuron_input_1, neuron_excite_main_0, \"AMPA\")\n",
    "control.create_synapse(neuron_input_2, neuron_excite_main_0, \"AMPA\")\n",
    "\n",
    "control.create_synapse(neuron_input_0, neuron_excite_main_1, \"AMPA\")\n",
    "control.create_synapse(neuron_input_1, neuron_excite_main_1, \"AMPA\")\n",
    "control.create_synapse(neuron_input_2, neuron_excite_main_1, \"AMPA\")\n",
    "\n",
    "control.create_synapse(neuron_input_0, neuron_inhibit_main_0, \"GABA\")\n",
    "control.create_synapse(neuron_input_1, neuron_inhibit_main_0, \"GABA\")\n",
    "control.create_synapse(neuron_input_2, neuron_inhibit_main_0, \"GABA\")\n",
    "\n",
    "control.create_synapse(neuron_input_0, neuron_inhibit_main_1, \"GABA\")\n",
    "control.create_synapse(neuron_input_1, neuron_inhibit_main_1, \"GABA\")\n",
    "control.create_synapse(neuron_input_2, neuron_inhibit_main_1, \"GABA\")\n",
    "\n",
    "# ----------------self recurrent layer----------------\n",
    "control.create_synapse(neuron_excite_main_0, neuron_excite_sub_0, \"AMPA+NMDA\")\n",
    "control.create_synapse(neuron_excite_main_0, neuron_excite_sub_1, \"AMPA+NMDA\")\n",
    "\n",
    "control.create_synapse(neuron_excite_main_1, neuron_excite_sub_0, \"AMPA+NMDA\")\n",
    "control.create_synapse(neuron_excite_main_1, neuron_excite_sub_1, \"AMPA+NMDA\")\n",
    "\n",
    "control.create_synapse(neuron_excite_sub_0, neuron_excite_main_0, \"AMPA+NMDA\")\n",
    "control.create_synapse(neuron_excite_sub_0, neuron_excite_main_1, \"AMPA+NMDA\")\n",
    "\n",
    "control.create_synapse(neuron_excite_sub_1, neuron_excite_main_0, \"AMPA+NMDA\")\n",
    "control.create_synapse(neuron_excite_sub_1, neuron_excite_main_1, \"AMPA+NMDA\")\n",
    "    \n",
    "\n",
    "control.create_synapse(neuron_inhibit_main_0, neuron_inhibit_sub_0, \"GABA\")\n",
    "control.create_synapse(neuron_inhibit_main_0, neuron_inhibit_sub_1, \"GABA\")\n",
    "\n",
    "control.create_synapse(neuron_inhibit_main_1, neuron_inhibit_sub_0, \"GABA\")\n",
    "control.create_synapse(neuron_inhibit_main_1, neuron_inhibit_sub_1, \"GABA\")\n",
    "\n",
    "control.create_synapse(neuron_inhibit_sub_0, neuron_inhibit_main_0, \"GABA\")\n",
    "control.create_synapse(neuron_inhibit_sub_0, neuron_inhibit_main_1, \"GABA\")\n",
    "\n",
    "control.create_synapse(neuron_inhibit_sub_1, neuron_inhibit_main_0, \"GABA\")\n",
    "control.create_synapse(neuron_inhibit_sub_1, neuron_inhibit_main_1, \"GABA\")\n",
    "\n",
    "# --------------between excitatory and inhibitory----------------\n",
    "control.create_synapse(neuron_excite_main_0, neuron_inhibit_main_0, \"AMPA+NMDA\")\n",
    "control.create_synapse(neuron_excite_main_0, neuron_inhibit_main_1, \"AMPA+NMDA\")\n",
    "\n",
    "control.create_synapse(neuron_excite_main_1, neuron_inhibit_main_0, \"AMPA+NMDA\")\n",
    "control.create_synapse(neuron_excite_main_1, neuron_inhibit_main_1, \"AMPA+NMDA\")\n",
    "\n",
    "control.create_synapse(neuron_inhibit_main_0, neuron_excite_main_0, \"GABA\")\n",
    "control.create_synapse(neuron_inhibit_main_0, neuron_excite_main_1, \"GABA\")\n",
    "\n",
    "control.create_synapse(neuron_inhibit_main_1, neuron_excite_main_0, \"GABA\")\n",
    "control.create_synapse(neuron_inhibit_main_1, neuron_excite_main_1, \"GABA\")\n",
    "\n",
    "# ----------------output layer----------------------\n",
    "control.create_synapse(neuron_excite_main_0, neuron_output, \"AMPA\")\n",
    "control.create_synapse(neuron_excite_main_1, neuron_output, \"AMPA\")\n",
    "\n",
    "\n",
    "\n",
    "\n",
    "# recording arrays\n",
    "Vm_neuron_output = []\n",
    "neuron_output_currents = []\n",
    "neuron_excite_main_0_currents = []\n",
    "all_currents = []\n",
    "GABA_gPs = []\n"
   ]
  },
  {
   "cell_type": "code",
   "execution_count": 54,
   "metadata": {},
   "outputs": [],
   "source": [
    "# get the input neuron firing patterns\n",
    "path = \"/home/yaning/Documents/Spiking_NN/with_learning/\"\n",
    "input_pattern = np.load(path + \"dataset.npy\") \n",
    "output_pattern = np.load(path + \"output.npy\")"
   ]
  },
  {
   "cell_type": "code",
   "execution_count": 55,
   "metadata": {},
   "outputs": [
    {
     "data": {
      "text/plain": [
       "(10, 3, 5000)"
      ]
     },
     "execution_count": 55,
     "metadata": {},
     "output_type": "execute_result"
    }
   ],
   "source": [
    "input_pattern.shape"
   ]
  },
  {
   "cell_type": "code",
   "execution_count": 56,
   "metadata": {},
   "outputs": [],
   "source": [
    "input_pattern = input_pattern[1]"
   ]
  },
  {
   "cell_type": "code",
   "execution_count": 57,
   "metadata": {},
   "outputs": [
    {
     "name": "stderr",
     "output_type": "stream",
     "text": [
      "/home/yaning/Documents/Spiking_NN/with_learning/learning_NN/Receptors.py:56: RuntimeWarning: overflow encountered in scalar multiply\n",
      "  I = self.gMax * self.gP *(self.Vm - self.rE)\n",
      "/home/yaning/Documents/Spiking_NN/with_learning/learning_NN/Receptors.py:79: RuntimeWarning: invalid value encountered in scalar divide\n",
      "  self.m.alpha = .1*((25-self.Vm) / (np.exp((25-self.Vm)/10)-1))\n",
      "/home/yaning/Documents/Spiking_NN/with_learning/learning_NN/Receptors.py:81: RuntimeWarning: invalid value encountered in scalar divide\n",
      "  self.n.alpha = .01 * ((10-self.Vm) / (np.exp((10-self.Vm)/10)-1))\n",
      "/home/yaning/Documents/Spiking_NN/with_learning/learning_NN/Network.py:56: RuntimeWarning: invalid value encountered in scalar add\n",
      "  Ireceptors += receptor.current()\n",
      "/home/yaning/Documents/Spiking_NN/with_learning/learning_NN/Receptors.py:56: RuntimeWarning: invalid value encountered in scalar multiply\n",
      "  I = self.gMax * self.gP *(self.Vm - self.rE)\n",
      "/home/yaning/Documents/Spiking_NN/with_learning/learning_NN/Receptors.py:79: RuntimeWarning: overflow encountered in exp\n",
      "  self.m.alpha = .1*((25-self.Vm) / (np.exp((25-self.Vm)/10)-1))\n",
      "/home/yaning/Documents/Spiking_NN/with_learning/learning_NN/Receptors.py:80: RuntimeWarning: overflow encountered in exp\n",
      "  self.m.beta = 4*np.exp(-self.Vm/18)\n",
      "/home/yaning/Documents/Spiking_NN/with_learning/learning_NN/Receptors.py:81: RuntimeWarning: overflow encountered in exp\n",
      "  self.n.alpha = .01 * ((10-self.Vm) / (np.exp((10-self.Vm)/10)-1))\n",
      "/home/yaning/Documents/Spiking_NN/with_learning/learning_NN/Receptors.py:82: RuntimeWarning: overflow encountered in exp\n",
      "  self.n.beta = .125*np.exp(-self.Vm/80)\n",
      "/home/yaning/Documents/Spiking_NN/with_learning/learning_NN/Receptors.py:83: RuntimeWarning: overflow encountered in exp\n",
      "  self.h.alpha = .07*np.exp(-self.Vm/20)\n",
      "/home/yaning/Documents/Spiking_NN/with_learning/learning_NN/Receptors.py:84: RuntimeWarning: overflow encountered in exp\n",
      "  self.h.beta = 1/(np.exp((30-self.Vm)/10)+1)\n",
      "/home/yaning/Documents/Spiking_NN/with_learning/learning_NN/Receptors.py:212: RuntimeWarning: overflow encountered in exp\n",
      "  self.gP = 1/(1+self._mg*np.exp(-0.062*self.Vm)/3.57) * self.gP\n",
      "/home/yaning/Documents/Spiking_NN/with_learning/learning_NN/Network.py:88: RuntimeWarning: invalid value encountered in scalar add\n",
      "  self.I = Ina + Ik + Ileak + Ireceptors\n"
     ]
    }
   ],
   "source": [
    "# run\n",
    "for t in range(pointCount):\n",
    "    if input_pattern[0,t]:\n",
    "        neuron_input_0.sending_signal()\n",
    "        neuron_input_0.fire_tstep.append(t)\n",
    "        \n",
    "    if input_pattern[1,t]:\n",
    "        neuron_input_1.sending_signal()\n",
    "        neuron_input_1.fire_tstep.append(t)\n",
    "        \n",
    "    if input_pattern[2,t]:\n",
    "        neuron_input_2.sending_signal()\n",
    "        neuron_input_2.fire_tstep.append(t)\n",
    "\n",
    "\n",
    "    # update the synapse states then each neuron\n",
    "    for neuron in neurons[3:]:\n",
    "        neuron.check_firing(t)\n",
    "        neuron.update()\n",
    "        all_currents.append(neuron.I)\n",
    "        \n",
    "    # set the synapse states back to 0\n",
    "    for synapse in control.all_synapses:\n",
    "        synapse.state = 0\n",
    "\n",
    "\n",
    "    Vm_neuron_output.append(neuron_excite_main_0.Vm - 70)\n",
    "    neuron_output_currents.append(neuron_output.I)\n",
    "    neuron_excite_main_0_currents.append(neuron_excite_main_0.I)"
   ]
  },
  {
   "cell_type": "code",
   "execution_count": 59,
   "metadata": {},
   "outputs": [],
   "source": [
    "# convert the firing array to a True and False array for the animation\n",
    "firing_array = []\n",
    "for i in neurons:\n",
    "    converted = [t in i.fire_tstep for t in range(pointCount)]\n",
    "    firing_array.append(converted)\n",
    "\n",
    "firing_array = np.array(firing_array)\n",
    "\n",
    "\n",
    "np.save(path + 'firing.npy', firing_array)"
   ]
  },
  {
   "cell_type": "code",
   "execution_count": null,
   "metadata": {},
   "outputs": [],
   "source": [
    "# see the weights\n",
    "for synapse in control.all_synapses:\n",
    "    for receptor in synapse.receptors:\n",
    "        print(receptor.w)"
   ]
  },
  {
   "cell_type": "code",
   "execution_count": 77,
   "metadata": {},
   "outputs": [
    {
     "data": {
      "text/plain": [
       "1.7498207820992837"
      ]
     },
     "execution_count": 77,
     "metadata": {},
     "output_type": "execute_result"
    }
   ],
   "source": [
    "max(neuron_output_currents)"
   ]
  },
  {
   "cell_type": "code",
   "execution_count": 76,
   "metadata": {},
   "outputs": [
    {
     "data": {
      "text/plain": [
       "[<matplotlib.lines.Line2D at 0x7f1d2cdeea50>]"
      ]
     },
     "execution_count": 76,
     "metadata": {},
     "output_type": "execute_result"
    },
    {
     "data": {
      "image/png": "[encoded data removed]",
      "text/plain": [
       "<Figure size 640x480 with 1 Axes>"
      ]
     },
     "metadata": {},
     "output_type": "display_data"
    }
   ],
   "source": [
    "# plt.plot(times, leak_currents, label=\"leaky\")\n",
    "# plt.plot(times/deltaTms, Ina_currents)\n",
    "# plt.plot(times/deltaTms, Ik_currents)\n",
    "# plt.plot(times/deltaTms, Vm_neuron1)\n",
    "# plt.plot(GABA_gPs)\n",
    "# plt.plot(Vm_neuron_output)\n",
    "# plt.plot(neuron_excite_main_0_currents, label=\"excite_main\")\n",
    "plt.plot(neuron_output_currents, label=\"output\")\n",
    "# plt.plot(neuron_input_1.fire_tstep)\n",
    "# plt.plot(times/deltaTms, ampa_currents, label = \"ampa\")\n",
    "\n",
    "\n",
    "# plt.xlim(1900, 3250)\n",
    "# plt.ylim(-10, 20)\n",
    "# plt.legend()"
   ]
  },
  {
   "cell_type": "code",
   "execution_count": 71,
   "metadata": {},
   "outputs": [
    {
     "ename": "NameError",
     "evalue": "name 'Vm_neuron1' is not defined",
     "output_type": "error",
     "traceback": [
      "\u001b[0;31m---------------------------------------------------------------------------\u001b[0m",
      "\u001b[0;31mNameError\u001b[0m                                 Traceback (most recent call last)",
      "Cell \u001b[0;32mIn[71], line 4\u001b[0m\n\u001b[1;32m      1\u001b[0m f, (ax1, ax2) \u001b[38;5;241m=\u001b[39m plt\u001b[38;5;241m.\u001b[39msubplots(\u001b[38;5;241m2\u001b[39m, \u001b[38;5;241m1\u001b[39m, sharex\u001b[38;5;241m=\u001b[39m\u001b[38;5;28;01mTrue\u001b[39;00m, figsize\u001b[38;5;241m=\u001b[39m(\u001b[38;5;241m8\u001b[39m, \u001b[38;5;241m5\u001b[39m),\n\u001b[1;32m      2\u001b[0m                                 gridspec_kw\u001b[38;5;241m=\u001b[39m{\u001b[38;5;124m'\u001b[39m\u001b[38;5;124mheight_ratios\u001b[39m\u001b[38;5;124m'\u001b[39m: [\u001b[38;5;241m1\u001b[39m, \u001b[38;5;241m1\u001b[39m]})\n\u001b[0;32m----> 4\u001b[0m ax1\u001b[38;5;241m.\u001b[39mplot(times, \u001b[43mVm_neuron1\u001b[49m, label \u001b[38;5;241m=\u001b[39m \u001b[38;5;124m'\u001b[39m\u001b[38;5;124m1\u001b[39m\u001b[38;5;124m'\u001b[39m)\n\u001b[1;32m      5\u001b[0m ax1\u001b[38;5;241m.\u001b[39mplot(times, Vm_neuron2, label \u001b[38;5;241m=\u001b[39m \u001b[38;5;124m'\u001b[39m\u001b[38;5;124m2\u001b[39m\u001b[38;5;124m'\u001b[39m)\n\u001b[1;32m      6\u001b[0m ax1\u001b[38;5;241m.\u001b[39mset_ylabel(\u001b[38;5;124m\"\u001b[39m\u001b[38;5;124mMembrane Potential (mV)\u001b[39m\u001b[38;5;124m\"\u001b[39m)\n",
      "\u001b[0;31mNameError\u001b[0m: name 'Vm_neuron1' is not defined"
     ]
    },
    {
     "data": {
      "image/png": "[encoded data removed]",
      "text/plain": [
       "<Figure size 800x500 with 2 Axes>"
      ]
     },
     "metadata": {},
     "output_type": "display_data"
    }
   ],
   "source": [
    "f, (ax1, ax2) = plt.subplots(2, 1, sharex=True, figsize=(8, 5),\n",
    "                                gridspec_kw={'height_ratios': [1, 1]})\n",
    "\n",
    "ax1.plot(times, Vm_neuron1, label = '1')\n",
    "ax1.plot(times, Vm_neuron2, label = '2')\n",
    "ax1.set_ylabel(\"Membrane Potential (mV)\")\n",
    "# ax1.set_title(\"Hodgkin-Huxley Spiking Neuron Model\", fontSize=16)\n",
    "ax1.spines['right'].set_visible(False)\n",
    "ax1.spines['top'].set_visible(False)\n",
    "ax1.spines['bottom'].set_visible(False)\n",
    "ax1.tick_params(bottom=False)\n",
    "\n",
    "# ax1.set_ylim(0, 1)\n",
    "\n",
    "\n",
    "ax2.plot(times, I_neuron1, label = '1')\n",
    "ax2.plot(times, I_neuron2, label = '2')\n",
    "ax2.set_ylabel(\"Currents (µA/cm²)\")\n",
    "ax2.set_xlabel(\"Simulation Time (milliseconds)\")\n",
    "ax2.spines['right'].set_visible(False)\n",
    "ax2.spines['top'].set_visible(False)\n",
    "\n",
    "# ax2.set_ylim(-1,1)\n",
    "# plt.xlim(98, 120)\n",
    "plt.margins(0, 0.1)\n",
    "plt.tight_layout()\n",
    "plt.legend()\n",
    "plt.show()\n",
    "\n",
    "# sharp wave ripples"
   ]
  }
 ],
 "metadata": {
  "kernelspec": {
   "display_name": "Python 3 (ipykernel)",
   "language": "python",
   "name": "python3"
  },
  "language_info": {
   "codemirror_mode": {
    "name": "ipython",
    "version": 3
   },
   "file_extension": ".py",
   "mimetype": "text/x-python",
   "name": "python",
   "nbconvert_exporter": "python",
   "pygments_lexer": "ipython3",
   "version": "3.12.7"
  }
 },
 "nbformat": 4,
 "nbformat_minor": 2
}
