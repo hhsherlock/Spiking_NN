{
 "cells": [
  {
   "cell_type": "code",
   "execution_count": 281,
   "metadata": {},
   "outputs": [],
   "source": [
    "#!/usr/bin/env python3\n",
    "# -*- coding: utf-8 -*-\n",
    "\"\"\"\n",
    "Created on Wed Jan 2\n",
    "\n",
    "@author: yaning\n",
    "\"\"\"\n",
    "\n",
    "import importlib\n",
    "import numpy as np\n",
    "import matplotlib.pyplot as plt\n",
    "import pickle\n",
    "\n",
    "# my own class files\n",
    "import with_learning.learning_NN.Receptors as Receptors\n",
    "import with_learning.learning_NN.Network as Network\n",
    "\n",
    "\n",
    "importlib.reload(Receptors)\n",
    "importlib.reload(Network)\n",
    "\n",
    "path = \"/home/yaning/Documents/Spiking_NN/with_learning/\""
   ]
  },
  {
   "cell_type": "code",
   "execution_count": 282,
   "metadata": {},
   "outputs": [],
   "source": [
    "pointCount = 6500\n",
    "deltaTms = 0.05\n",
    "times = np.arange(pointCount) * deltaTms\n",
    "initial_Vm = 1.3458754117369027"
   ]
  },
  {
   "cell_type": "code",
   "execution_count": 283,
   "metadata": {},
   "outputs": [],
   "source": [
    "# instead of using control i write those two functions :(have to copy it everytime i run)\n",
    "all_synapses = []\n",
    "\n",
    "def create_synapse(send_neuron, receive_neuron, type):\n",
    "    \n",
    "    # create receptors accordingly\n",
    "    if type == \"AMPA\":\n",
    "        # temporal solution for weight randomise\n",
    "        # Receptors.LigandGatedChannelFactory.set_params()\n",
    "        ampa_receptor = Receptors.AMPA(0.00401, 1, -70, 1.35, 0.9, 1, 1, 1, 12, 10, 20, 10, 35, 7, 0.7, \"AMPA\")\n",
    "        synapse = Network.Synapse(0.05, 0, send_neuron, receive_neuron, ampa_receptor)\n",
    "        \n",
    "    elif type == \"AMPA+NMDA\":\n",
    "        # Receptors.LigandGatedChannelFactory.set_params()\n",
    "        ampa_receptor = Receptors.AMPA(0.00072, 1, -70, 1.35, 0.9, 1, 1, 1, 12, 10, 20, 10, 35, 7, 0.7, \"AMPA\")\n",
    "        nmda_receptor = Receptors.NMDA(0.0012, 1, -70, 1.35, 0.9, 1, 1, 1, 12, 10, 20, 10, 15, 7, 0.7, \"NMDA\")\n",
    "        synapse = Network.Synapse(0.05, 0, send_neuron, receive_neuron, ampa_receptor, nmda_receptor)\n",
    "    \n",
    "    elif type == \"GABA\":\n",
    "        # Receptors.LigandGatedChannelFactory.set_params()\n",
    "        # print(Receptors.LigandGatedChannelFactory.w_init_GABA)\n",
    "        gaba_receptor = Receptors.GABA(0.004, 1, -140, 1.35, 0.9, 1, 1, 1, 12, 10, 20, 10, 20, 7, 0.7, \"GABA\")\n",
    "        synapse = Network.Synapse(0.05, 0, send_neuron, receive_neuron, gaba_receptor)\n",
    "\n",
    "    send_neuron.outgoing_synapses.append(synapse)\n",
    "    receive_neuron.incoming_synapses.append(synapse)\n",
    "\n",
    "    all_synapses.append(synapse)\n",
    "\n",
    "def update_synapse_initial_values(infer_params):\n",
    "    for synapse in all_synapses:\n",
    "        for receptor in synapse.receptors:\n",
    "            receptor.Vm = initial_Vm\n",
    "            receptor.gP = 1\n",
    "            \n",
    "            receptor.e = infer_params[\"e\"]\n",
    "            receptor.u_se = infer_params[\"u_se\"]\n",
    "            receptor.g_decay = infer_params[\"g_decay\"]\n",
    "            receptor.g_rise = infer_params[\"g_rise\"]\n",
    "            receptor.w = infer_params[\"w\"]\n",
    "            receptor.tau_rec = infer_params[\"tau_rec\"]\n",
    "            receptor.tau_pre = infer_params[\"tau_pre\"]\n",
    "            receptor.tau_post = infer_params[\"tau_post\"]\n",
    "\n",
    "            if receptor.label == \"GABA\":\n",
    "                receptor.gMax = infer_params[\"gMax_GABA\"]\n",
    "                receptor.tau_decay = infer_params[\"tau_decay_GABA\"]\n",
    "                receptor.tau_rise = infer_params[\"tau_rise_GABA\"]\n",
    "            \n",
    "            elif receptor.label == \"NMDA\":\n",
    "                receptor.tau_decay = infer_params[\"tau_decay_NMDA\"]\n",
    "                receptor.tau_rise = infer_params[\"tau_rise_NMDA\"]\n",
    "            \n",
    "            elif receptor.label == \"AMPA\":\n",
    "                receptor.tau_decay = infer_params[\"tau_decay_AMPA\"]\n",
    "                receptor.tau_rise = infer_params[\"tau_rise_AMPA\"]"
   ]
  },
  {
   "cell_type": "code",
   "execution_count": 284,
   "metadata": {},
   "outputs": [],
   "source": [
    "neuron_0 =  Network.Neuron(deltaTms, 0, initial_Vm, \"neuron_0\")\n",
    "neuron_1 =  Network.Neuron(deltaTms, 0, initial_Vm, \"neuron_1\")\n",
    "neurons = [neuron_0, neuron_1]"
   ]
  },
  {
   "cell_type": "code",
   "execution_count": 285,
   "metadata": {},
   "outputs": [],
   "source": [
    "create_synapse(neuron_0, neuron_1, \"AMPA\")"
   ]
  },
  {
   "cell_type": "code",
   "execution_count": 286,
   "metadata": {},
   "outputs": [],
   "source": [
    "all_currents = []\n",
    "ion_currents = []"
   ]
  },
  {
   "cell_type": "code",
   "execution_count": 287,
   "metadata": {},
   "outputs": [],
   "source": [
    "temp = np.full(pointCount, False)"
   ]
  },
  {
   "cell_type": "code",
   "execution_count": 288,
   "metadata": {},
   "outputs": [
    {
     "data": {
      "text/plain": [
       "(6500,)"
      ]
     },
     "execution_count": 288,
     "metadata": {},
     "output_type": "execute_result"
    }
   ],
   "source": [
    "temp.shape"
   ]
  },
  {
   "cell_type": "code",
   "execution_count": 289,
   "metadata": {},
   "outputs": [],
   "source": [
    "temp[1000:1046] = True"
   ]
  },
  {
   "cell_type": "code",
   "execution_count": 290,
   "metadata": {},
   "outputs": [],
   "source": [
    "# run\n",
    "for t in range(pointCount):\n",
    "    if temp[t]:\n",
    "        neuron_0.sending_signal()\n",
    "        neuron_0.fire_tstep.append(t)\n",
    "\n",
    "    # update the synapse states then each neuron\n",
    "    num_cycle = 0\n",
    "    for neuron in neurons[1:]:\n",
    "        neuron.check_firing(t)\n",
    "        error_code, ion_I = neuron.update()\n",
    "        # if num_cycle == 4:\n",
    "        all_currents.append(neuron.I)\n",
    "        ion_currents.append(ion_I)\n",
    "        # all_voltages.append(neuron.Vm)\n",
    "        num_cycle += 1\n",
    "        \n",
    "    # set the synapse states back to 0\n",
    "    for synapse in all_synapses:\n",
    "        synapse.state = 0\n"
   ]
  },
  {
   "cell_type": "code",
   "execution_count": 291,
   "metadata": {},
   "outputs": [
    {
     "data": {
      "text/plain": [
       "[<matplotlib.lines.Line2D at 0x7f9dabc25d10>]"
      ]
     },
     "execution_count": 291,
     "metadata": {},
     "output_type": "execute_result"
    },
    {
     "data": {
      "image/png": "[encoded data removed]",
      "text/plain": [
       "<Figure size 640x480 with 1 Axes>"
      ]
     },
     "metadata": {},
     "output_type": "display_data"
    }
   ],
   "source": [
    "plt.plot(all_currents, label=\"output\")"
   ]
  }
 ],
 "metadata": {
  "kernelspec": {
   "display_name": "Python 3 (ipykernel)",
   "language": "python",
   "name": "python3"
  },
  "language_info": {
   "codemirror_mode": {
    "name": "ipython",
    "version": 3
   },
   "file_extension": ".py",
   "mimetype": "text/x-python",
   "name": "python",
   "nbconvert_exporter": "python",
   "pygments_lexer": "ipython3",
   "version": "3.13.1"
  }
 },
 "nbformat": 4,
 "nbformat_minor": 2
}
