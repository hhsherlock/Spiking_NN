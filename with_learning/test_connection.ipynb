{
 "cells": [
  {
   "cell_type": "code",
   "execution_count": 185,
   "metadata": {},
   "outputs": [
    {
     "data": {
      "text/plain": [
       "<module 'with_learning.learning_NN.Network' from '/home/yaning/Documents/Spiking_NN/with_learning/learning_NN/Network.py'>"
      ]
     },
     "execution_count": 185,
     "metadata": {},
     "output_type": "execute_result"
    }
   ],
   "source": [
    "#!/usr/bin/env python3\n",
    "# -*- coding: utf-8 -*-\n",
    "\"\"\"\n",
    "Created on Thu Oct 24\n",
    "\n",
    "@author: yaning\n",
    "\"\"\"\n",
    "\n",
    "import importlib\n",
    "import numpy as np\n",
    "import matplotlib.pyplot as plt\n",
    "\n",
    "# my own class files\n",
    "import with_learning.learning_NN.Receptors as Receptors\n",
    "import with_learning.learning_NN.Network as Network\n",
    "\n",
    "\n",
    "importlib.reload(Receptors)\n",
    "importlib.reload(Network)\n",
    "\n",
    "# import debugpy\n",
    "# debugpy.listen((\"0.0.0.0\", 8888))  # Replace 5678 with your desired port number\n",
    "# print(\"Debugger is ready. Attach in VS Code.\")\n",
    "# debugpy.wait_for_client()\n",
    "# # debugpy.breakpoint()  # Optionally set a breakpoint here\n",
    "# print(\"Debugger is attached, ready to debug.\")"
   ]
  },
  {
   "cell_type": "code",
   "execution_count": 186,
   "metadata": {},
   "outputs": [],
   "source": [
    "# try use MCMC result params\n",
    "path = \"/home/yaning/Documents/Spiking_NN/without_learning/\"\n",
    "samples = np.load(path + \"MCMC_samples/static_std_initial_0.npy\")\n",
    "cut_samples = samples[1000:, :]\n",
    "values = np.mean(cut_samples, axis=0)\n",
    "infer_names = Receptors.LigandGatedChannelFactory.infer_names\n",
    "infer_params = dict(zip(infer_names, values))\n",
    "Receptors.LigandGatedChannelFactory.infer_params = infer_params"
   ]
  },
  {
   "cell_type": "code",
   "execution_count": 187,
   "metadata": {},
   "outputs": [],
   "source": [
    "pointCount = 5000\n",
    "deltaTms = 0.05\n",
    "times = np.arange(pointCount) * deltaTms\n",
    "initial_Vm = 1.3458754117369027\n",
    "# Neuron: deltaTms, I, Vm, fire times\n",
    "\n",
    "# with learning every group has more neurons \n",
    "neuron_input_0 = Network.Neuron(deltaTms, 0, initial_Vm, \"input_0\", 0)\n",
    "neuron_input_1 = Network.Neuron(deltaTms, 0, initial_Vm, \"input_1\", 0)\n",
    "neuron_input_2 = Network.Neuron(deltaTms, 0, initial_Vm, \"input_2\", 0)\n",
    "\n",
    "neuron_excite_main_0 = Network.Neuron(deltaTms, 0, initial_Vm, \"excite_main_0\", 0)\n",
    "neuron_excite_main_1 = Network.Neuron(deltaTms, 0, initial_Vm, \"excite_main_1\", 0)\n",
    "neuron_excite_sub_0 = Network.Neuron(deltaTms, 0, initial_Vm, \"excite_sub_0\", 0)\n",
    "neuron_excite_sub_1 = Network.Neuron(deltaTms, 0, initial_Vm, \"excite_sub_1\", 0)\n",
    "\n",
    "neuron_inhibit_main_0 = Network.Neuron(deltaTms, 0, initial_Vm, \"inhibit_main_0\", 0)\n",
    "neuron_inhibit_main_1 = Network.Neuron(deltaTms, 0, initial_Vm, \"inhibit_main_1\", 0)\n",
    "neuron_inhibit_sub_0 = Network.Neuron(deltaTms, 0, initial_Vm, \"inhibit_sub_0\", 0)\n",
    "neuron_inhibit_sub_1 = Network.Neuron(deltaTms, 0, initial_Vm, \"inhibit_sub_1\", 0)\n",
    "\n",
    "neuron_output = Network.Neuron(deltaTms, 0, initial_Vm, \"output\", 0)\n",
    "\n",
    "neurons = [neuron_input_0, neuron_input_1, neuron_input_2, \n",
    "            neuron_excite_main_0, neuron_excite_main_1, \n",
    "            neuron_excite_sub_0, neuron_excite_sub_1, \n",
    "            neuron_inhibit_main_0, neuron_inhibit_main_1, \n",
    "            neuron_inhibit_sub_0, neuron_inhibit_sub_1,\n",
    "            neuron_output]\n",
    "\n",
    "neuron_names = [\"input_0\", \"input_1\", \"input_2\",\n",
    "                \"excite_main_0\", \"excite_main_1\", \n",
    "                \"excite_sub_0\", \"excite_sub_1\",\n",
    "                \"inhibit_main_0\", \"inhibit_main_1\",\n",
    "                \"inhibit_sub_0\", \"inhibit_sub_1\",\n",
    "                \"output\"]\n",
    "\n",
    "\n",
    "# create synapse/connection (send neuron, receive neuron)\n",
    "control = Network.Control(deltaTms, initial_Vm)\n",
    "\n",
    "\n",
    "\n",
    "#*********************full layer***************************\n",
    "# ----------------first input layer------------------------\n",
    "control.create_synapse(neuron_input_0, neuron_excite_main_0, \"AMPA\")\n",
    "control.create_synapse(neuron_input_1, neuron_excite_main_0, \"AMPA\")\n",
    "control.create_synapse(neuron_input_2, neuron_excite_main_0, \"AMPA\")\n",
    "\n",
    "control.create_synapse(neuron_input_0, neuron_excite_main_1, \"AMPA\")\n",
    "control.create_synapse(neuron_input_1, neuron_excite_main_1, \"AMPA\")\n",
    "control.create_synapse(neuron_input_2, neuron_excite_main_1, \"AMPA\")\n",
    "\n",
    "control.create_synapse(neuron_input_0, neuron_inhibit_main_0, \"GABA\")\n",
    "control.create_synapse(neuron_input_1, neuron_inhibit_main_0, \"GABA\")\n",
    "control.create_synapse(neuron_input_2, neuron_inhibit_main_0, \"GABA\")\n",
    "\n",
    "control.create_synapse(neuron_input_0, neuron_inhibit_main_1, \"GABA\")\n",
    "control.create_synapse(neuron_input_1, neuron_inhibit_main_1, \"GABA\")\n",
    "control.create_synapse(neuron_input_2, neuron_inhibit_main_1, \"GABA\")\n",
    "\n",
    "# ----------------self recurrent layer----------------\n",
    "control.create_synapse(neuron_excite_main_0, neuron_excite_sub_0, \"AMPA+NMDA\")\n",
    "control.create_synapse(neuron_excite_main_0, neuron_excite_sub_1, \"AMPA+NMDA\")\n",
    "\n",
    "control.create_synapse(neuron_excite_main_1, neuron_excite_sub_0, \"AMPA+NMDA\")\n",
    "control.create_synapse(neuron_excite_main_1, neuron_excite_sub_1, \"AMPA+NMDA\")\n",
    "\n",
    "control.create_synapse(neuron_excite_sub_0, neuron_excite_main_0, \"AMPA+NMDA\")\n",
    "control.create_synapse(neuron_excite_sub_0, neuron_excite_main_1, \"AMPA+NMDA\")\n",
    "\n",
    "control.create_synapse(neuron_excite_sub_1, neuron_excite_main_0, \"AMPA+NMDA\")\n",
    "control.create_synapse(neuron_excite_sub_1, neuron_excite_main_1, \"AMPA+NMDA\")\n",
    "    \n",
    "\n",
    "control.create_synapse(neuron_inhibit_main_0, neuron_inhibit_sub_0, \"GABA\")\n",
    "control.create_synapse(neuron_inhibit_main_0, neuron_inhibit_sub_1, \"GABA\")\n",
    "\n",
    "control.create_synapse(neuron_inhibit_main_1, neuron_inhibit_sub_0, \"GABA\")\n",
    "control.create_synapse(neuron_inhibit_main_1, neuron_inhibit_sub_1, \"GABA\")\n",
    "\n",
    "control.create_synapse(neuron_inhibit_sub_0, neuron_inhibit_main_0, \"GABA\")\n",
    "control.create_synapse(neuron_inhibit_sub_0, neuron_inhibit_main_1, \"GABA\")\n",
    "\n",
    "control.create_synapse(neuron_inhibit_sub_1, neuron_inhibit_main_0, \"GABA\")\n",
    "control.create_synapse(neuron_inhibit_sub_1, neuron_inhibit_main_1, \"GABA\")\n",
    "\n",
    "# --------------between excitatory and inhibitory----------------\n",
    "control.create_synapse(neuron_excite_main_0, neuron_inhibit_main_0, \"AMPA+NMDA\")\n",
    "control.create_synapse(neuron_excite_main_0, neuron_inhibit_main_1, \"AMPA+NMDA\")\n",
    "\n",
    "control.create_synapse(neuron_excite_main_1, neuron_inhibit_main_0, \"AMPA+NMDA\")\n",
    "control.create_synapse(neuron_excite_main_1, neuron_inhibit_main_1, \"AMPA+NMDA\")\n",
    "\n",
    "control.create_synapse(neuron_inhibit_main_0, neuron_excite_main_0, \"GABA\")\n",
    "control.create_synapse(neuron_inhibit_main_0, neuron_excite_main_1, \"GABA\")\n",
    "\n",
    "control.create_synapse(neuron_inhibit_main_1, neuron_excite_main_0, \"GABA\")\n",
    "control.create_synapse(neuron_inhibit_main_1, neuron_excite_main_1, \"GABA\")\n",
    "\n",
    "# ----------------output layer----------------------\n",
    "control.create_synapse(neuron_excite_main_0, neuron_output, \"AMPA\")\n",
    "control.create_synapse(neuron_excite_main_1, neuron_output, \"AMPA\")\n",
    "\n",
    "\n",
    "\n",
    "\n",
    "# recording arrays\n",
    "Vm_neuron_output = []\n",
    "GABA_gPs = []\n",
    "\n",
    "# run\n",
    "for t in range(pointCount):\n",
    "\n",
    "    # simulate input neuron firing\n",
    "    # this step changes states of the receptors\n",
    "    if t >= 2000 and t <= 2290:\n",
    "        neuron_input_0.sending_signal()\n",
    "    \n",
    "\n",
    "    # update the synapse states then each neuron\n",
    "    for neuron in neurons:\n",
    "        neuron.check_firing(t)\n",
    "        neuron.update()\n",
    "        \n",
    "    # set the synapse states back to 0\n",
    "    for synapse in control.all_synapses:\n",
    "        synapse.state = 0\n",
    "\n",
    "\n",
    "    Vm_neuron_output.append(neuron_excite_main_0.Vm - 70)\n",
    "    \n",
    "\n",
    "        \n",
    "\n",
    "\n"
   ]
  },
  {
   "cell_type": "code",
   "execution_count": 188,
   "metadata": {},
   "outputs": [
    {
     "name": "stdout",
     "output_type": "stream",
     "text": [
      "785752.6473412353\n",
      "790946.0418501261\n",
      "796139.4363590168\n",
      "862947.2430920034\n",
      "868352.1376008939\n",
      "873757.0321097851\n",
      "283.9478618824093\n",
      "294.81496115825627\n",
      "305.68206043410316\n",
      "530.4696654696755\n",
      "547.3367647455224\n",
      "564.2038640213693\n",
      "12.399122344790179\n",
      "10.315831349575653\n",
      "12.399122344790179\n",
      "10.315831349575653\n",
      "12.399122344790179\n",
      "10.315831349575653\n",
      "12.399122344790179\n",
      "10.315831349575653\n",
      "801332.8308679074\n",
      "1290432.4378384752\n",
      "879161.9266186754\n",
      "1415297.3910397042\n",
      "811719.6198856889\n",
      "1307051.300266926\n",
      "889971.7156364569\n",
      "1432593.053468154\n",
      "41265.888011657975\n",
      "45241.05558564008\n",
      "42446.500606913156\n",
      "46470.66818089527\n",
      "316.5491597099501\n",
      "581.0709632972163\n",
      "327.41625898579707\n",
      "597.9380625730632\n",
      "337.8214168826408\n",
      "548.3788614514917\n",
      "614.343220469907\n",
      "1000.4137471911176\n",
      "359.55561543433464\n",
      "583.1535791342019\n",
      "648.0774190216009\n",
      "1054.3884648738278\n",
      "822106.8708448494\n",
      "900781.9665956174\n",
      "827300.2653537401\n",
      "906186.8611045082\n",
      "12.399122344790179\n",
      "12.399122344790179\n"
     ]
    }
   ],
   "source": [
    "for synapse in control.all_synapses:\n",
    "    for receptor in synapse.receptors:\n",
    "        print(receptor.w)"
   ]
  },
  {
   "cell_type": "code",
   "execution_count": 189,
   "metadata": {},
   "outputs": [
    {
     "data": {
      "text/plain": [
       "[<matplotlib.lines.Line2D at 0x7fd8ffbe9580>]"
      ]
     },
     "execution_count": 189,
     "metadata": {},
     "output_type": "execute_result"
    },
    {
     "data": {
      "image/png": "[encoded data removed]",
      "text/plain": [
       "<Figure size 640x480 with 1 Axes>"
      ]
     },
     "metadata": {},
     "output_type": "display_data"
    }
   ],
   "source": [
    "# plt.plot(times, leak_currents, label=\"leaky\")\n",
    "# plt.plot(times/deltaTms, Ina_currents)\n",
    "# plt.plot(times/deltaTms, Ik_currents)\n",
    "# plt.plot(times/deltaTms, Vm_neuron1)\n",
    "# plt.plot(GABA_gPs)\n",
    "plt.plot(Vm_neuron_output)\n",
    "# plt.plot(times/deltaTms, ampa_currents, label = \"ampa\")\n",
    "\n",
    "\n",
    "# plt.xlim(1900, 6250)\n",
    "# plt.legend()"
   ]
  },
  {
   "cell_type": "code",
   "execution_count": 190,
   "metadata": {},
   "outputs": [
    {
     "data": {
      "text/plain": [
       "list"
      ]
     },
     "execution_count": 190,
     "metadata": {},
     "output_type": "execute_result"
    }
   ],
   "source": [
    "type(Vm_neuron_output)"
   ]
  },
  {
   "cell_type": "code",
   "execution_count": 191,
   "metadata": {},
   "outputs": [],
   "source": [
    "firing = []\n",
    "for i in Vm_neuron_output:\n",
    "    if i >= -50:\n",
    "        firing.append(i)"
   ]
  },
  {
   "cell_type": "code",
   "execution_count": 192,
   "metadata": {},
   "outputs": [
    {
     "data": {
      "text/plain": [
       "47"
      ]
     },
     "execution_count": 192,
     "metadata": {},
     "output_type": "execute_result"
    }
   ],
   "source": [
    "len(firing)"
   ]
  },
  {
   "cell_type": "code",
   "execution_count": 193,
   "metadata": {},
   "outputs": [
    {
     "data": {
      "text/plain": [
       "39.60564374757415"
      ]
     },
     "execution_count": 193,
     "metadata": {},
     "output_type": "execute_result"
    }
   ],
   "source": [
    "np.max(Vm_neuron_output)"
   ]
  },
  {
   "cell_type": "code",
   "execution_count": 194,
   "metadata": {},
   "outputs": [
    {
     "ename": "NameError",
     "evalue": "name 'Vm_neuron1' is not defined",
     "output_type": "error",
     "traceback": [
      "\u001b[0;31m---------------------------------------------------------------------------\u001b[0m",
      "\u001b[0;31mNameError\u001b[0m                                 Traceback (most recent call last)",
      "Cell \u001b[0;32mIn[194], line 4\u001b[0m\n\u001b[1;32m      1\u001b[0m f, (ax1, ax2) \u001b[38;5;241m=\u001b[39m plt\u001b[38;5;241m.\u001b[39msubplots(\u001b[38;5;241m2\u001b[39m, \u001b[38;5;241m1\u001b[39m, sharex\u001b[38;5;241m=\u001b[39m\u001b[38;5;28;01mTrue\u001b[39;00m, figsize\u001b[38;5;241m=\u001b[39m(\u001b[38;5;241m8\u001b[39m, \u001b[38;5;241m5\u001b[39m),\n\u001b[1;32m      2\u001b[0m                                 gridspec_kw\u001b[38;5;241m=\u001b[39m{\u001b[38;5;124m'\u001b[39m\u001b[38;5;124mheight_ratios\u001b[39m\u001b[38;5;124m'\u001b[39m: [\u001b[38;5;241m1\u001b[39m, \u001b[38;5;241m1\u001b[39m]})\n\u001b[0;32m----> 4\u001b[0m ax1\u001b[38;5;241m.\u001b[39mplot(times, \u001b[43mVm_neuron1\u001b[49m, label \u001b[38;5;241m=\u001b[39m \u001b[38;5;124m'\u001b[39m\u001b[38;5;124m1\u001b[39m\u001b[38;5;124m'\u001b[39m)\n\u001b[1;32m      5\u001b[0m ax1\u001b[38;5;241m.\u001b[39mplot(times, Vm_neuron2, label \u001b[38;5;241m=\u001b[39m \u001b[38;5;124m'\u001b[39m\u001b[38;5;124m2\u001b[39m\u001b[38;5;124m'\u001b[39m)\n\u001b[1;32m      6\u001b[0m ax1\u001b[38;5;241m.\u001b[39mset_ylabel(\u001b[38;5;124m\"\u001b[39m\u001b[38;5;124mMembrane Potential (mV)\u001b[39m\u001b[38;5;124m\"\u001b[39m)\n",
      "\u001b[0;31mNameError\u001b[0m: name 'Vm_neuron1' is not defined"
     ]
    },
    {
     "data": {
      "image/png": "[encoded data removed]",
      "text/plain": [
       "<Figure size 800x500 with 2 Axes>"
      ]
     },
     "metadata": {},
     "output_type": "display_data"
    }
   ],
   "source": [
    "f, (ax1, ax2) = plt.subplots(2, 1, sharex=True, figsize=(8, 5),\n",
    "                                gridspec_kw={'height_ratios': [1, 1]})\n",
    "\n",
    "ax1.plot(times, Vm_neuron1, label = '1')\n",
    "ax1.plot(times, Vm_neuron2, label = '2')\n",
    "ax1.set_ylabel(\"Membrane Potential (mV)\")\n",
    "# ax1.set_title(\"Hodgkin-Huxley Spiking Neuron Model\", fontSize=16)\n",
    "ax1.spines['right'].set_visible(False)\n",
    "ax1.spines['top'].set_visible(False)\n",
    "ax1.spines['bottom'].set_visible(False)\n",
    "ax1.tick_params(bottom=False)\n",
    "\n",
    "# ax1.set_ylim(0, 1)\n",
    "\n",
    "\n",
    "ax2.plot(times, I_neuron1, label = '1')\n",
    "ax2.plot(times, I_neuron2, label = '2')\n",
    "ax2.set_ylabel(\"Currents (µA/cm²)\")\n",
    "ax2.set_xlabel(\"Simulation Time (milliseconds)\")\n",
    "ax2.spines['right'].set_visible(False)\n",
    "ax2.spines['top'].set_visible(False)\n",
    "\n",
    "# ax2.set_ylim(-1,1)\n",
    "# plt.xlim(98, 120)\n",
    "plt.margins(0, 0.1)\n",
    "plt.tight_layout()\n",
    "plt.legend()\n",
    "plt.show()\n",
    "\n",
    "# sharp wave ripples"
   ]
  }
 ],
 "metadata": {
  "kernelspec": {
   "display_name": "Python 3 (ipykernel)",
   "language": "python",
   "name": "python3"
  },
  "language_info": {
   "codemirror_mode": {
    "name": "ipython",
    "version": 3
   },
   "file_extension": ".py",
   "mimetype": "text/x-python",
   "name": "python",
   "nbconvert_exporter": "python",
   "pygments_lexer": "ipython3",
   "version": "3.12.7"
  }
 },
 "nbformat": 4,
 "nbformat_minor": 2
}
