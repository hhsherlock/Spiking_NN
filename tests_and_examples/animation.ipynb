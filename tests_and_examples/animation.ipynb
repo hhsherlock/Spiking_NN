{
 "cells": [
  {
   "cell_type": "code",
   "execution_count": null,
   "metadata": {},
   "outputs": [],
   "source": [
    "#!/usr/bin/env python3\n",
    "# -*- coding: utf-8 -*-\n",
    "\"\"\"\n",
    "Created on Wed Jan 2\n",
    "\n",
    "@author: yaning\n",
    "\"\"\"\n",
    "\n",
    "import matplotlib.pyplot as plt\n",
    "import matplotlib.animation as animation\n",
    "import numpy as np"
   ]
  },
  {
   "cell_type": "code",
   "execution_count": null,
   "metadata": {},
   "outputs": [],
   "source": [
    "# Set up the figure and axis\n",
    "fig, ax = plt.subplots()\n",
    "ax.set_xlim(-1, 1)\n",
    "ax.set_ylim(-1, 1)\n",
    "ax.axis('off')\n",
    "\n",
    "\n",
    "path = \"/home/yaning/Documents/Spiking_NN/with_learning/\"\n",
    "firing_array = np.load(path + \"firing.npy\")\n",
    "\n",
    "\n",
    "num_input = 3\n",
    "num_excit_main = 2\n",
    "num_excit_sub = 2\n",
    "num_inhibit_main = 2\n",
    "num_inhibit_sub = 2\n",
    "num_output = 1\n",
    "\n",
    "\n",
    "input_y = np.linspace(-0.8, 0.8, num_input)\n",
    "input_pos = np.column_stack((np.full_like(input_y, -0.9), input_y))\n",
    "\n",
    "excit_main_x = np.linspace(-0.2, 0.2, num_excit_main)\n",
    "excit_main_pos = np.column_stack((excit_main_x, np.full_like(excit_main_x, 0.4)))\n",
    "    \n",
    "excit_sub_x = np.linspace(-0.2, 0.2, num_excit_sub)\n",
    "excit_sub_pos = np.column_stack((excit_sub_x, np.full_like(excit_sub_x, 0.8)))\n",
    "\n",
    "inhibit_main_x = np.linspace(-0.2, 0.2, num_inhibit_main)\n",
    "inhibit_main_pos = np.column_stack((inhibit_main_x, np.full_like(inhibit_main_x, -0.4)))\n",
    "    \n",
    "inhibit_sub_x = np.linspace(-0.2, 0.2, num_inhibit_sub)\n",
    "inhibit_sub_pos = np.column_stack((inhibit_sub_x, np.full_like(inhibit_sub_x, -0.8)))\n",
    "\n",
    "output_y = np.linspace(0, 0, num_output)\n",
    "output_pos = np.column_stack((np.full_like(output_y, 0.9), output_y))\n",
    "\n",
    "all_pos = np.vstack((input_pos, excit_main_pos, excit_sub_pos, inhibit_main_pos,\n",
    "                    inhibit_sub_pos, output_pos))"
   ]
  },
  {
   "cell_type": "code",
   "execution_count": 43,
   "metadata": {},
   "outputs": [
    {
     "data": {
      "text/plain": [
       "(12, 5000)"
      ]
     },
     "execution_count": 43,
     "metadata": {},
     "output_type": "execute_result"
    }
   ],
   "source": [
    "firing_array.shape"
   ]
  },
  {
   "cell_type": "code",
   "execution_count": 46,
   "metadata": {},
   "outputs": [],
   "source": [
    "scatter = ax.scatter(\n",
    "    all_pos[:, 0], all_pos[:, 1], s=300, c='blue', edgecolors='black', alpha=0.5\n",
    ")\n",
    "\n",
    "# Animation function\n",
    "def update(frame):\n",
    "    firing = firing_array[:, frame]\n",
    "    colors = ['red' if fire else 'blue' for fire in firing]\n",
    "    scatter.set_facecolors(colors)  \n",
    "    return scatter,\n",
    "\n",
    "# Create the animation\n",
    "ani = animation.FuncAnimation(\n",
    "    fig, update, frames=firing_array.shape[1], interval=50, blit=True\n",
    ")\n",
    "\n",
    "ani.save('neuron_animation.mp4', writer='ffmpeg')\n",
    "\n",
    "plt.show()\n"
   ]
  }
 ],
 "metadata": {
  "kernelspec": {
   "display_name": "Python 3 (ipykernel)",
   "language": "python",
   "name": "python3"
  },
  "language_info": {
   "codemirror_mode": {
    "name": "ipython",
    "version": 3
   },
   "file_extension": ".py",
   "mimetype": "text/x-python",
   "name": "python",
   "nbconvert_exporter": "python",
   "pygments_lexer": "ipython3",
   "version": "3.12.7"
  }
 },
 "nbformat": 4,
 "nbformat_minor": 2
}
