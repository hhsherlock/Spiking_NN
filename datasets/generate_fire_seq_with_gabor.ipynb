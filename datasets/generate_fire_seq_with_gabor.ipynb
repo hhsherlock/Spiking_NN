{
 "cells": [
  {
   "cell_type": "code",
   "execution_count": 1,
   "id": "445c7417",
   "metadata": {},
   "outputs": [
    {
     "name": "stderr",
     "output_type": "stream",
     "text": [
      "2025-08-22 16:22:07.610259: I external/local_xla/xla/tsl/cuda/cudart_stub.cc:32] Could not find cuda drivers on your machine, GPU will not be used.\n",
      "2025-08-22 16:22:07.613347: I external/local_xla/xla/tsl/cuda/cudart_stub.cc:32] Could not find cuda drivers on your machine, GPU will not be used.\n",
      "2025-08-22 16:22:07.620509: E external/local_xla/xla/stream_executor/cuda/cuda_fft.cc:467] Unable to register cuFFT factory: Attempting to register factory for plugin cuFFT when one has already been registered\n",
      "WARNING: All log messages before absl::InitializeLog() is called are written to STDERR\n",
      "E0000 00:00:1755872527.632747  537024 cuda_dnn.cc:8579] Unable to register cuDNN factory: Attempting to register factory for plugin cuDNN when one has already been registered\n",
      "E0000 00:00:1755872527.636069  537024 cuda_blas.cc:1407] Unable to register cuBLAS factory: Attempting to register factory for plugin cuBLAS when one has already been registered\n",
      "W0000 00:00:1755872527.646210  537024 computation_placer.cc:177] computation placer already registered. Please check linkage and avoid linking the same target more than once.\n",
      "W0000 00:00:1755872527.646225  537024 computation_placer.cc:177] computation placer already registered. Please check linkage and avoid linking the same target more than once.\n",
      "W0000 00:00:1755872527.646227  537024 computation_placer.cc:177] computation placer already registered. Please check linkage and avoid linking the same target more than once.\n",
      "W0000 00:00:1755872527.646241  537024 computation_placer.cc:177] computation placer already registered. Please check linkage and avoid linking the same target more than once.\n",
      "2025-08-22 16:22:07.649709: I tensorflow/core/platform/cpu_feature_guard.cc:210] This TensorFlow binary is optimized to use available CPU instructions in performance-critical operations.\n",
      "To enable the following instructions: AVX2 FMA, in other operations, rebuild TensorFlow with the appropriate compiler flags.\n"
     ]
    }
   ],
   "source": [
    "#!/usr/bin/env python3\n",
    "# -*- coding: utf-8 -*-\n",
    "\"\"\"\n",
    "Created on Tue Jun 3\n",
    "\n",
    "@author: yaning\n",
    "\"\"\"\n",
    "\n",
    "import numpy as np\n",
    "import pickle\n",
    "from tensorflow.keras import datasets\n",
    "\n",
    "path = \"/home/yaning/Documents/\"\n",
    "np.set_printoptions(threshold=np.inf)"
   ]
  },
  {
   "cell_type": "markdown",
   "id": "cc160788",
   "metadata": {},
   "source": [
    "Import the features"
   ]
  },
  {
   "cell_type": "code",
   "execution_count": 2,
   "id": "da2477b9",
   "metadata": {},
   "outputs": [],
   "source": [
    "with open(path + \"large_files/gabor_data_10p_8f_non_zero.pkl\", \"rb\") as f:\n",
    "    featured_dataset = pickle.load(f)"
   ]
  },
  {
   "cell_type": "code",
   "execution_count": 3,
   "id": "67276480",
   "metadata": {},
   "outputs": [
    {
     "data": {
      "text/plain": [
       "(60000, 10, 10, 8)"
      ]
     },
     "execution_count": 3,
     "metadata": {},
     "output_type": "execute_result"
    }
   ],
   "source": [
    "featured_dataset.shape"
   ]
  },
  {
   "cell_type": "markdown",
   "id": "47c32314",
   "metadata": {},
   "source": [
    "Generate different firing sequences for different frequencies "
   ]
  },
  {
   "cell_type": "code",
   "execution_count": 4,
   "id": "e4b9b800",
   "metadata": {},
   "outputs": [],
   "source": [
    "# form an shape (5000, 3) array with 5000 time points and 3 input neurons\n",
    "# every fire is 45-50 cycles, \n",
    "pointCount = 6000\n",
    "start_tstep = 500\n",
    "one_cycle = np.concatenate((np.ones(45, dtype=bool), np.zeros(189, dtype=bool)))\n",
    "firing_duration = 45+189\n",
    "# 23*(45+189) = 5382\n",
    "total_time = 5382\n",
    "\n",
    "\n",
    "non_fire_array = np.zeros(pointCount, dtype=bool)"
   ]
  },
  {
   "cell_type": "code",
   "execution_count": 5,
   "id": "7386b6ec",
   "metadata": {},
   "outputs": [],
   "source": [
    "starting_seq = []\n",
    "for num_spikes in range(23):\n",
    "    num_spikes += 1\n",
    "    segment_length = total_time / num_spikes\n",
    "\n",
    "    starts = []\n",
    "    for i in range(num_spikes):\n",
    "        # Place each firing block in the center of its segment\n",
    "        center = int((i + 0.5) * segment_length)\n",
    "\n",
    "        start = max(0, center - firing_duration // 2)\n",
    "\n",
    "        starts.append(start + start_tstep)\n",
    "    starting_seq.append(starts)\n",
    "\n",
    "# if zero is fire once than all neurons will fire at the middle time point\n",
    "starting_seq[0] = []"
   ]
  },
  {
   "cell_type": "code",
   "execution_count": 6,
   "id": "357f5f08",
   "metadata": {},
   "outputs": [
    {
     "name": "stdout",
     "output_type": "stream",
     "text": [
      "[]\n",
      "[1728, 4419]\n",
      "[1280, 3074, 4868]\n",
      "[1055, 2401, 3746, 5092]\n",
      "[921, 1997, 3074, 4150, 5226]\n",
      "[831, 1728, 2625, 3522, 4419, 5316]\n",
      "[767, 1536, 2305, 3074, 3842, 4611, 5380]\n",
      "[719, 1392, 2064, 2737, 3410, 4083, 4755, 5428]\n",
      "[682, 1280, 1878, 2476, 3074, 3672, 4270, 4868, 5466]\n",
      "[652, 1190, 1728, 2266, 2804, 3343, 3881, 4419, 4957, 5495]\n",
      "[627, 1116, 1606, 2095, 2584, 3074, 3563, 4052, 4541, 5031, 5520]\n",
      "[607, 1055, 1504, 1952, 2401, 2849, 3298, 3746, 4195, 4643, 5092, 5540]\n",
      "[590, 1004, 1418, 1832, 2246, 2660, 3074, 3488, 3902, 4316, 4730, 5144, 5558]\n",
      "[575, 959, 1344, 1728, 2112, 2497, 2881, 3266, 3650, 4035, 4419, 4803, 5188, 5572]\n",
      "[562, 921, 1280, 1638, 1997, 2356, 2715, 3074, 3432, 3791, 4150, 4509, 4868, 5226, 5585]\n",
      "[551, 887, 1223, 1560, 1896, 2233, 2569, 2905, 3242, 3578, 3914, 4251, 4587, 4924, 5260, 5596]\n",
      "[541, 857, 1174, 1491, 1807, 2124, 2440, 2757, 3074, 3390, 3707, 4023, 4340, 4656, 4973, 5290, 5606]\n",
      "[532, 831, 1130, 1429, 1728, 2027, 2326, 2625, 2924, 3223, 3522, 3821, 4120, 4419, 4718, 5017, 5316, 5615]\n",
      "[524, 807, 1091, 1374, 1657, 1940, 2224, 2507, 2790, 3074, 3357, 3640, 3923, 4207, 4490, 4773, 5056, 5340, 5623]\n",
      "[517, 786, 1055, 1324, 1593, 1863, 2132, 2401, 2670, 2939, 3208, 3477, 3746, 4015, 4284, 4554, 4823, 5092, 5361, 5630]\n",
      "[511, 767, 1023, 1280, 1536, 1792, 2048, 2305, 2561, 2817, 3074, 3330, 3586, 3842, 4099, 4355, 4611, 4868, 5124, 5380, 5636]\n",
      "[505, 749, 994, 1239, 1483, 1728, 1973, 2217, 2462, 2707, 2951, 3196, 3440, 3685, 3930, 4174, 4419, 4664, 4908, 5153, 5398, 5642]\n",
      "[500, 734, 968, 1202, 1436, 1670, 1904, 2138, 2372, 2606, 2840, 3074, 3308, 3542, 3776, 4010, 4244, 4478, 4712, 4946, 5180, 5414, 5648]\n"
     ]
    }
   ],
   "source": [
    "for i in starting_seq:\n",
    "    print(i)"
   ]
  },
  {
   "cell_type": "code",
   "execution_count": 7,
   "id": "4a0053d5",
   "metadata": {},
   "outputs": [],
   "source": [
    "# fire sequence by frequency from low to high\n",
    "fire_seq = []\n",
    "for i in starting_seq:\n",
    "    fire_array = non_fire_array.copy()\n",
    "    for j in i:\n",
    "        fire_array[j:j+firing_duration] = one_cycle\n",
    "    fire_seq.append(fire_array)    "
   ]
  },
  {
   "cell_type": "code",
   "execution_count": 8,
   "id": "ea445403",
   "metadata": {},
   "outputs": [],
   "source": [
    "fire_seq = np.array(fire_seq)"
   ]
  },
  {
   "cell_type": "code",
   "execution_count": 9,
   "id": "591745a8",
   "metadata": {},
   "outputs": [
    {
     "data": {
      "text/plain": [
       "(23, 6000)"
      ]
     },
     "execution_count": 9,
     "metadata": {},
     "output_type": "execute_result"
    }
   ],
   "source": [
    "fire_seq.shape"
   ]
  },
  {
   "cell_type": "code",
   "execution_count": 77,
   "id": "67bf43f3",
   "metadata": {},
   "outputs": [],
   "source": [
    "with open(path + \"Spiking_NN/datasets/fire_seq_in_frequency.pkl\", \"wb\") as f:\n",
    "    pickle.dump(fire_seq, f)"
   ]
  },
  {
   "cell_type": "markdown",
   "id": "cb81035e",
   "metadata": {},
   "source": [
    "Use the firing sequence with different frequencies to generate firing array for the dataset  "
   ]
  },
  {
   "cell_type": "code",
   "execution_count": 10,
   "id": "31640f30",
   "metadata": {},
   "outputs": [],
   "source": [
    "# create reference array with 0.04545 as gaps from 0-0.9999\n",
    "ref = np.arange(0, 1, 0.04545)"
   ]
  },
  {
   "cell_type": "code",
   "execution_count": 11,
   "id": "11461dff",
   "metadata": {},
   "outputs": [
    {
     "data": {
      "text/plain": [
       "array([0.     , 0.04545, 0.0909 , 0.13635, 0.1818 , 0.22725, 0.2727 ,\n",
       "       0.31815, 0.3636 , 0.40905, 0.4545 , 0.49995, 0.5454 , 0.59085,\n",
       "       0.6363 , 0.68175, 0.7272 , 0.77265, 0.8181 , 0.86355, 0.909  ,\n",
       "       0.95445, 0.9999 ])"
      ]
     },
     "execution_count": 11,
     "metadata": {},
     "output_type": "execute_result"
    }
   ],
   "source": [
    "ref"
   ]
  },
  {
   "cell_type": "code",
   "execution_count": 12,
   "id": "e9dbf13c",
   "metadata": {},
   "outputs": [
    {
     "data": {
      "text/plain": [
       "(60000, 10, 10, 8)"
      ]
     },
     "execution_count": 12,
     "metadata": {},
     "output_type": "execute_result"
    }
   ],
   "source": [
    "featured_dataset.shape"
   ]
  },
  {
   "cell_type": "code",
   "execution_count": 13,
   "id": "c922c4ac",
   "metadata": {},
   "outputs": [],
   "source": [
    "s_data = featured_dataset[:100]"
   ]
  },
  {
   "cell_type": "code",
   "execution_count": 14,
   "id": "f7c2ad28",
   "metadata": {},
   "outputs": [],
   "source": [
    "fire_data = fire_seq[np.abs(s_data[..., None] - ref).argmin(axis=-1)]"
   ]
  },
  {
   "cell_type": "code",
   "execution_count": 15,
   "id": "ae3e6e01",
   "metadata": {},
   "outputs": [
    {
     "data": {
      "text/plain": [
       "(100, 10, 10, 8, 6000)"
      ]
     },
     "execution_count": 15,
     "metadata": {},
     "output_type": "execute_result"
    }
   ],
   "source": [
    "fire_data.shape"
   ]
  },
  {
   "cell_type": "code",
   "execution_count": 87,
   "id": "112041ad",
   "metadata": {},
   "outputs": [],
   "source": [
    "with open(path + \"Spiking_NN/datasets/fire_data_10p_8f_non_zero.pkl\", \"wb\") as f:\n",
    "    pickle.dump(fire_data, f)"
   ]
  },
  {
   "cell_type": "markdown",
   "id": "fc477661",
   "metadata": {},
   "source": [
    "Make random to True, background spantanous firing"
   ]
  },
  {
   "cell_type": "code",
   "execution_count": 19,
   "id": "4f890c9b",
   "metadata": {},
   "outputs": [],
   "source": [
    "p = 0.01\n",
    "mask = np.random.rand(*fire_data.shape) < p"
   ]
  },
  {
   "cell_type": "code",
   "execution_count": 20,
   "id": "0d37f01d",
   "metadata": {},
   "outputs": [],
   "source": [
    "b_fire_data = fire_data | mask"
   ]
  },
  {
   "cell_type": "code",
   "execution_count": 21,
   "id": "0ea0512d",
   "metadata": {},
   "outputs": [],
   "source": [
    "with open(path + \"large_files/fire_data_10p_8f_non_zero_background.pkl\", \"wb\") as f:\n",
    "    pickle.dump(b_fire_data, f)"
   ]
  }
 ],
 "metadata": {
  "kernelspec": {
   "display_name": "Python 3 (ipykernel)",
   "language": "python",
   "name": "python3"
  },
  "language_info": {
   "codemirror_mode": {
    "name": "ipython",
    "version": 3
   },
   "file_extension": ".py",
   "mimetype": "text/x-python",
   "name": "python",
   "nbconvert_exporter": "python",
   "pygments_lexer": "ipython3",
   "version": "3.10.17"
  }
 },
 "nbformat": 4,
 "nbformat_minor": 5
}
