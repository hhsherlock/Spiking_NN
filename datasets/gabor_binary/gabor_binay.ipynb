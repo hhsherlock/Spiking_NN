{
 "cells": [
  {
   "cell_type": "code",
   "execution_count": 1,
   "id": "bacb641b",
   "metadata": {},
   "outputs": [
    {
     "name": "stderr",
     "output_type": "stream",
     "text": [
      "2025-10-17 16:16:35.871203: I tensorflow/core/util/port.cc:153] oneDNN custom operations are on. You may see slightly different numerical results due to floating-point round-off errors from different computation orders. To turn them off, set the environment variable `TF_ENABLE_ONEDNN_OPTS=0`.\n",
      "2025-10-17 16:16:35.905141: I tensorflow/core/platform/cpu_feature_guard.cc:210] This TensorFlow binary is optimized to use available CPU instructions in performance-critical operations.\n",
      "To enable the following instructions: AVX2 AVX512F AVX512_VNNI AVX512_BF16 FMA, in other operations, rebuild TensorFlow with the appropriate compiler flags.\n",
      "2025-10-17 16:16:36.596166: I tensorflow/core/util/port.cc:153] oneDNN custom operations are on. You may see slightly different numerical results due to floating-point round-off errors from different computation orders. To turn them off, set the environment variable `TF_ENABLE_ONEDNN_OPTS=0`.\n"
     ]
    }
   ],
   "source": [
    "#!/usr/bin/env python3\n",
    "# -*- coding: utf-8 -*-\n",
    "\"\"\"\n",
    "Created on Fri Mai 30\n",
    "\n",
    "@author: yaning\n",
    "\"\"\"\n",
    "\n",
    "import numpy as np\n",
    "import tensorflow as tf\n",
    "# from tensorflow.keras import layers, models, datasets\n",
    "import matplotlib.pyplot as plt\n",
    "np.set_printoptions(threshold=np.inf)\n",
    "import pickle\n",
    "path = \"/home/yaning/Documents/\""
   ]
  },
  {
   "cell_type": "code",
   "execution_count": 3,
   "id": "a3d42bff",
   "metadata": {},
   "outputs": [],
   "source": [
    "# (x_train, y_train), (x_test, y_test) = datasets.mnist.load_data()\n",
    "# x_train = x_train.astype(np.float32) / 255.0\n",
    "# x_test = x_test.astype(np.float32) / 255.0\n",
    "# x_train = np.expand_dims(x_train, -1)\n",
    "# x_test = np.expand_dims(x_test, -1)\n",
    "\n",
    "# x_train = x_train[:30]\n",
    "# y_train = y_train[:30]\n",
    "\n",
    "# dict = {'imgs': x_train, 'tag': y_train}\n",
    "\n",
    "# with open(\"datasets/mnst_30.pkl\", \"wb\") as f:\n",
    "#     pickle.dump(dict, f)"
   ]
  },
  {
   "cell_type": "code",
   "execution_count": 26,
   "id": "3b2c49b5",
   "metadata": {},
   "outputs": [],
   "source": [
    "with open(\"datasets/mnst_30.pkl\", \"rb\") as f:\n",
    "    imgs = pickle.load(f)"
   ]
  },
  {
   "cell_type": "code",
   "execution_count": 27,
   "id": "ad75a49f",
   "metadata": {},
   "outputs": [],
   "source": [
    "x = imgs[\"imgs\"]\n",
    "y = imgs[\"tag\"]"
   ]
  },
  {
   "cell_type": "code",
   "execution_count": 4,
   "id": "0fd9fa19",
   "metadata": {},
   "outputs": [
    {
     "data": {
      "text/plain": [
       "(30, 28, 28, 1)"
      ]
     },
     "execution_count": 4,
     "metadata": {},
     "output_type": "execute_result"
    }
   ],
   "source": [
    "x.shape"
   ]
  },
  {
   "cell_type": "code",
   "execution_count": 28,
   "id": "d7029436",
   "metadata": {},
   "outputs": [
    {
     "data": {
      "text/plain": [
       "(30,)"
      ]
     },
     "execution_count": 28,
     "metadata": {},
     "output_type": "execute_result"
    }
   ],
   "source": [
    "y.shape"
   ]
  },
  {
   "cell_type": "code",
   "execution_count": 6,
   "id": "26c3a99b",
   "metadata": {},
   "outputs": [
    {
     "data": {
      "text/plain": [
       "np.uint8(4)"
      ]
     },
     "execution_count": 6,
     "metadata": {},
     "output_type": "execute_result"
    }
   ],
   "source": [
    "y[2]"
   ]
  },
  {
   "cell_type": "code",
   "execution_count": 7,
   "id": "4b8f2135",
   "metadata": {},
   "outputs": [
    {
     "data": {
      "text/plain": [
       "<matplotlib.image.AxesImage at 0x7ff89a248df0>"
      ]
     },
     "execution_count": 7,
     "metadata": {},
     "output_type": "execute_result"
    },
    {
     "data": {
      "image/png": "[encoded data removed]",
      "text/plain": [
       "<Figure size 640x480 with 1 Axes>"
      ]
     },
     "metadata": {},
     "output_type": "display_data"
    }
   ],
   "source": [
    "plt.imshow(x[2,:,:,:], cmap='Blues')"
   ]
  },
  {
   "cell_type": "markdown",
   "id": "775c476a",
   "metadata": {},
   "source": [
    "normalise them independently and also keep the 0/pure-black ones zeros\n",
    "\n",
    "if not the zeros will be around 0.5 after normalisation but there should be no information at all"
   ]
  },
  {
   "cell_type": "code",
   "execution_count": 8,
   "id": "1c2f5701",
   "metadata": {},
   "outputs": [],
   "source": [
    "# only normalise non-zero ones \n",
    "def normalise_non_zero(feature_maps):\n",
    "    data_norm = np.zeros_like(feature_maps)\n",
    "    for i in range(feature_maps.shape[0]):\n",
    "        img = feature_maps[i]\n",
    "        non_zero_mask = img != 0\n",
    "        img = img[non_zero_mask]\n",
    "        img_min = img.min()\n",
    "        img_max = img.max()\n",
    "        if img_max > img_min:\n",
    "            data_norm[i][non_zero_mask] = (img - img_min) / (img_max - img_min)\n",
    "        else:\n",
    "            data_norm[i] = 0\n",
    "    return data_norm\n",
    "\n",
    "# normalise everything\n",
    "def normalise(feature_maps):\n",
    "    data_norm = np.zeros_like(feature_maps)\n",
    "    for i in range(feature_maps.shape[0]):\n",
    "        img = feature_maps[i]\n",
    "        img_min = img.min()\n",
    "        img_max = img.max()\n",
    "        if img_max > img_min:\n",
    "            data_norm[i] = (img - img_min) / (img_max - img_min)\n",
    "        else:\n",
    "            data_norm[i] = 0\n",
    "    return data_norm"
   ]
  },
  {
   "cell_type": "code",
   "execution_count": 9,
   "id": "f88caf11",
   "metadata": {},
   "outputs": [],
   "source": [
    "# size=7, sigma=2.0, Lambda=3.0, psi=0, gamma=0.5, theta=0\n",
    "def gabor_kernel(size=4, sigma=4.0, Lambda=10.0, psi=0.5, gamma=1, theta=0):\n",
    "    \"\"\"Generate a 2D Gabor filter kernel.\"\"\"\n",
    "    half = size // 2\n",
    "    y, x = np.meshgrid(range(-half, half+1), range(-half, half+1))\n",
    "    x_theta = x * np.cos(theta) + y * np.sin(theta) + 1\n",
    "    y_theta = -x * np.sin(theta) + y * np.cos(theta)\n",
    "    gb = np.exp(-0.5 * (x_theta**2 + (gamma**2) * y_theta**2) / (sigma**2)) * np.cos(2 * np.pi * x_theta / Lambda + psi)\n",
    "    return gb\n",
    "\n",
    "# Generate 6 filters rotated from 0 to 360\n",
    "angles = np.deg2rad(np.arange(0, 360, 45))\n",
    "filters = np.stack([gabor_kernel(theta=angle) for angle in angles], axis=-1)  # shape (size, size, 6)\n",
    "\n",
    "# Conv2D weights shape: (kernel_h, kernel_w, input_channels, output_channels)\n",
    "filters = filters[:, :, np.newaxis, :]  # add input channel dim = 1\n",
    "\n",
    "# Normalize filters to zero mean and unit norm (optional)\n",
    "filters -= filters.mean(axis=(0,1), keepdims=True)\n",
    "filters /= np.linalg.norm(filters, axis=(0,1), keepdims=True) + 1e-10"
   ]
  },
  {
   "cell_type": "code",
   "execution_count": 10,
   "id": "689ee984",
   "metadata": {},
   "outputs": [
    {
     "name": "stderr",
     "output_type": "stream",
     "text": [
      "WARNING: All log messages before absl::InitializeLog() is called are written to STDERR\n",
      "I0000 00:00:1760710605.765306  685172 gpu_device.cc:2020] Created device /job:localhost/replica:0/task:0/device:GPU:0 with 22136 MB memory:  -> device: 0, name: NVIDIA GeForce RTX 4090, pci bus id: 0000:01:00.0, compute capability: 8.9\n",
      "2025-10-17 16:16:45.999429: I external/local_xla/xla/stream_executor/cuda/cuda_dnn.cc:473] Loaded cuDNN version 91002\n"
     ]
    }
   ],
   "source": [
    "gabor_data = []\n",
    "for pic in x:\n",
    "    img = np.expand_dims(pic, axis=0)\n",
    "    feature_maps = tf.nn.conv2d(img, filters, strides=3, padding='SAME')\n",
    "    gabor_data.append(feature_maps[0])"
   ]
  },
  {
   "cell_type": "code",
   "execution_count": 11,
   "id": "5b2d4177",
   "metadata": {},
   "outputs": [],
   "source": [
    "gabor_data = np.array(gabor_data)"
   ]
  },
  {
   "cell_type": "code",
   "execution_count": 12,
   "id": "0f5f80d0",
   "metadata": {},
   "outputs": [
    {
     "data": {
      "text/plain": [
       "(30, 10, 10, 8)"
      ]
     },
     "execution_count": 12,
     "metadata": {},
     "output_type": "execute_result"
    }
   ],
   "source": [
    "gabor_data.shape"
   ]
  },
  {
   "cell_type": "code",
   "execution_count": 13,
   "id": "7b62019a",
   "metadata": {},
   "outputs": [],
   "source": [
    "normalised_gabor_data = normalise_non_zero(gabor_data)"
   ]
  },
  {
   "cell_type": "code",
   "execution_count": 14,
   "id": "799ec4ec",
   "metadata": {},
   "outputs": [
    {
     "data": {
      "text/plain": [
       "(30, 10, 10, 8)"
      ]
     },
     "execution_count": 14,
     "metadata": {},
     "output_type": "execute_result"
    }
   ],
   "source": [
    "normalised_gabor_data.shape"
   ]
  },
  {
   "cell_type": "code",
   "execution_count": 15,
   "id": "e5d4059d",
   "metadata": {},
   "outputs": [],
   "source": [
    "normalised_gabor_data = np.where(normalised_gabor_data > 0.5, 1, 0)"
   ]
  },
  {
   "cell_type": "code",
   "execution_count": 16,
   "id": "552f729f",
   "metadata": {},
   "outputs": [
    {
     "data": {
      "image/png": "[encoded data removed]",
      "text/plain": [
       "<Figure size 1200x300 with 8 Axes>"
      ]
     },
     "metadata": {},
     "output_type": "display_data"
    }
   ],
   "source": [
    "\n",
    "\n",
    "plt.figure(figsize=(12,3))\n",
    "for i in range(8):\n",
    "    plt.subplot(1,8,i+1)\n",
    "    plt.imshow(normalised_gabor_data[1,:,:,i], cmap='Blues')\n",
    "    plt.title(f\"{int(np.rad2deg(angles[i]))}° response\")\n",
    "    plt.axis('off')\n",
    "plt.show()"
   ]
  },
  {
   "cell_type": "code",
   "execution_count": 17,
   "id": "8e979b4d",
   "metadata": {},
   "outputs": [],
   "source": [
    "with open(path + \"gabor_data_mnst.pkl\", \"wb\") as f:\n",
    "    pickle.dump(normalised_gabor_data, f)"
   ]
  },
  {
   "cell_type": "code",
   "execution_count": 18,
   "id": "2a9d4431",
   "metadata": {},
   "outputs": [],
   "source": [
    "# form an shape (5000, 3) array with 5000 time points and 3 input neurons\n",
    "# every fire is 45-50 cycles, \n",
    "pointCount = 6000\n",
    "start_tstep = 500\n",
    "one_cycle = np.concatenate((np.ones(45, dtype=bool), np.zeros(189, dtype=bool)))\n",
    "# one_cycle = np.ones(234)\n",
    "firing_duration = 45+189\n",
    "# 23*(45+189) = 5382\n",
    "total_time = 5382\n",
    "\n",
    "\n",
    "non_fire_array = np.zeros(pointCount, dtype=bool)\n",
    "\n",
    "fire_seq = np.tile(one_cycle, 23)\n",
    "fire_array = non_fire_array.copy()\n",
    "fire_array[start_tstep:start_tstep+len(fire_seq)] = fire_seq"
   ]
  },
  {
   "cell_type": "code",
   "execution_count": 19,
   "id": "852dbd6f",
   "metadata": {},
   "outputs": [
    {
     "data": {
      "text/plain": [
       "(30, 10, 10, 8)"
      ]
     },
     "execution_count": 19,
     "metadata": {},
     "output_type": "execute_result"
    }
   ],
   "source": [
    "normalised_gabor_data.shape"
   ]
  },
  {
   "cell_type": "code",
   "execution_count": 20,
   "id": "63a8157a",
   "metadata": {},
   "outputs": [],
   "source": [
    "fire_data = np.zeros((30,10,10,8, 4000), dtype=bool)\n",
    "for i in range(normalised_gabor_data.shape[0]):\n",
    "    for x in range(normalised_gabor_data.shape[1]):\n",
    "        for y in range(normalised_gabor_data.shape[2]):\n",
    "            for z in range(normalised_gabor_data.shape[3]):\n",
    "                if normalised_gabor_data[i,x,y,z] == 0:\n",
    "                    fire_data[i,x,y,z] = non_fire_array[:4000]\n",
    "                else:\n",
    "                    fire_data[i,x,y,z] = fire_array[:4000]"
   ]
  },
  {
   "cell_type": "code",
   "execution_count": 21,
   "id": "132a7060",
   "metadata": {},
   "outputs": [
    {
     "data": {
      "text/plain": [
       "(30, 10, 10, 8, 4000)"
      ]
     },
     "execution_count": 21,
     "metadata": {},
     "output_type": "execute_result"
    }
   ],
   "source": [
    "fire_data.shape"
   ]
  },
  {
   "cell_type": "code",
   "execution_count": null,
   "id": "b226b9a4",
   "metadata": {},
   "outputs": [],
   "source": [
    "for i in range(y.shape[0]):\n",
    "    if y[i] == 9:\n",
    "        print(i)"
   ]
  },
  {
   "cell_type": "code",
   "execution_count": 33,
   "id": "0e308b26",
   "metadata": {},
   "outputs": [],
   "source": [
    "chosen_fire_data = fire_data[21]"
   ]
  },
  {
   "cell_type": "code",
   "execution_count": 25,
   "id": "d597d1c3",
   "metadata": {},
   "outputs": [],
   "source": [
    "chosen_fire_data = np.concatenate([chosen_fire_data] * 4, axis=-1)"
   ]
  },
  {
   "cell_type": "code",
   "execution_count": 34,
   "id": "22790415",
   "metadata": {},
   "outputs": [
    {
     "data": {
      "text/plain": [
       "(10, 10, 8, 4000)"
      ]
     },
     "execution_count": 34,
     "metadata": {},
     "output_type": "execute_result"
    }
   ],
   "source": [
    "chosen_fire_data.shape"
   ]
  },
  {
   "cell_type": "code",
   "execution_count": 35,
   "id": "ca274c60",
   "metadata": {},
   "outputs": [],
   "source": [
    "p = 0.01\n",
    "mask = np.random.rand(*chosen_fire_data.shape) < p\n",
    "b_chosen_fire_data = chosen_fire_data | mask"
   ]
  },
  {
   "cell_type": "code",
   "execution_count": 35,
   "id": "4b54b177",
   "metadata": {},
   "outputs": [],
   "source": [
    "with open(path + \"fire_data_mnst_zero_another.pkl\", \"wb\") as f:\n",
    "    pickle.dump(chosen_fire_data, f)"
   ]
  }
 ],
 "metadata": {
  "kernelspec": {
   "display_name": "Python 3 (ipykernel)",
   "language": "python",
   "name": "python3"
  },
  "language_info": {
   "codemirror_mode": {
    "name": "ipython",
    "version": 3
   },
   "file_extension": ".py",
   "mimetype": "text/x-python",
   "name": "python",
   "nbconvert_exporter": "python",
   "pygments_lexer": "ipython3",
   "version": "3.10.12"
  }
 },
 "nbformat": 4,
 "nbformat_minor": 5
}
