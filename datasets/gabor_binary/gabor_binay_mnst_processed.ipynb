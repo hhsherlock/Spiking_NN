{
 "cells": [
  {
   "cell_type": "code",
   "execution_count": 3,
   "id": "bacb641b",
   "metadata": {},
   "outputs": [],
   "source": [
    "#!/usr/bin/env python3\n",
    "# -*- coding: utf-8 -*-\n",
    "\"\"\"\n",
    "Created on Fri Mai 30\n",
    "\n",
    "@author: yaning\n",
    "\"\"\"\n",
    "\n",
    "import numpy as np\n",
    "import tensorflow as tf\n",
    "# from tensorflow.keras import layers, models, datasets\n",
    "import matplotlib.pyplot as plt\n",
    "np.set_printoptions(threshold=np.inf)\n",
    "import pickle\n",
    "path = \"/home/yaning/Documents/\""
   ]
  },
  {
   "cell_type": "code",
   "execution_count": 4,
   "id": "3b2c49b5",
   "metadata": {},
   "outputs": [],
   "source": [
    "with open(path + \"gabor_data_mnst_hunni.pkl\", \"rb\") as f:\n",
    "    normalised_gabor_data = pickle.load(f)"
   ]
  },
  {
   "cell_type": "code",
   "execution_count": 5,
   "id": "44f45f46",
   "metadata": {},
   "outputs": [
    {
     "data": {
      "text/plain": [
       "(100, 10, 10, 8)"
      ]
     },
     "execution_count": 5,
     "metadata": {},
     "output_type": "execute_result"
    }
   ],
   "source": [
    "normalised_gabor_data.shape"
   ]
  },
  {
   "cell_type": "markdown",
   "id": "2e277bbc",
   "metadata": {},
   "source": [
    "Creat 23 times only one picture"
   ]
  },
  {
   "cell_type": "code",
   "execution_count": 4,
   "id": "2a9d4431",
   "metadata": {},
   "outputs": [],
   "source": [
    "# form an shape (5000, 3) array with 5000 time points and 3 input neurons\n",
    "# every fire is 45-50 cycles, \n",
    "pointCount = 6000\n",
    "start_tstep = 500\n",
    "one_cycle = np.concatenate((np.ones(45, dtype=bool), np.zeros(189, dtype=bool)))\n",
    "# one_cycle = np.ones(234)\n",
    "firing_duration = 45+189\n",
    "# 23*(45+189) = 5382\n",
    "total_time = 5382\n",
    "\n",
    "\n",
    "non_fire_array = np.zeros(pointCount, dtype=bool)\n",
    "\n",
    "fire_seq = np.tile(one_cycle, 23)\n",
    "fire_array = non_fire_array.copy()\n",
    "fire_array[start_tstep:start_tstep+len(fire_seq)] = fire_seq"
   ]
  },
  {
   "cell_type": "code",
   "execution_count": 32,
   "id": "852dbd6f",
   "metadata": {},
   "outputs": [
    {
     "data": {
      "text/plain": [
       "(30, 10, 10, 8)"
      ]
     },
     "execution_count": 32,
     "metadata": {},
     "output_type": "execute_result"
    }
   ],
   "source": [
    "normalised_gabor_data.shape"
   ]
  },
  {
   "cell_type": "code",
   "execution_count": 5,
   "id": "63a8157a",
   "metadata": {},
   "outputs": [],
   "source": [
    "fire_data = np.zeros((30,10,10,8, 4000), dtype=bool)\n",
    "for i in range(normalised_gabor_data.shape[0]):\n",
    "    for x in range(normalised_gabor_data.shape[1]):\n",
    "        for y in range(normalised_gabor_data.shape[2]):\n",
    "            for z in range(normalised_gabor_data.shape[3]):\n",
    "                if normalised_gabor_data[i,x,y,z] == 0:\n",
    "                    fire_data[i,x,y,z] = non_fire_array[:4000]\n",
    "                else:\n",
    "                    fire_data[i,x,y,z] = fire_array[:4000]"
   ]
  },
  {
   "cell_type": "code",
   "execution_count": 6,
   "id": "132a7060",
   "metadata": {},
   "outputs": [
    {
     "data": {
      "text/plain": [
       "(30, 10, 10, 8, 4000)"
      ]
     },
     "execution_count": 6,
     "metadata": {},
     "output_type": "execute_result"
    }
   ],
   "source": [
    "fire_data.shape"
   ]
  },
  {
   "cell_type": "markdown",
   "id": "2020fb54",
   "metadata": {},
   "source": [
    "Get the actual labels"
   ]
  },
  {
   "cell_type": "code",
   "execution_count": 34,
   "id": "030b452e",
   "metadata": {},
   "outputs": [],
   "source": [
    "with open(\"datasets/mnst_30_second.pkl\", \"rb\") as f:\n",
    "    imgs = pickle.load(f)"
   ]
  },
  {
   "cell_type": "code",
   "execution_count": 37,
   "id": "ec0782de",
   "metadata": {},
   "outputs": [
    {
     "data": {
      "text/plain": [
       "np.uint8(8)"
      ]
     },
     "execution_count": 37,
     "metadata": {},
     "output_type": "execute_result"
    }
   ],
   "source": [
    "imgs[\"tag\"][25]"
   ]
  },
  {
   "cell_type": "code",
   "execution_count": 35,
   "id": "b226b9a4",
   "metadata": {},
   "outputs": [
    {
     "name": "stdout",
     "output_type": "stream",
     "text": [
      "3\n",
      "13\n",
      "15\n",
      "18\n",
      "24\n",
      "27\n"
     ]
    }
   ],
   "source": [
    "nine_labels = []\n",
    "for i in range(imgs[\"tag\"].shape[0]):\n",
    "    if imgs[\"tag\"][i] == 9:\n",
    "        print(i)\n",
    "        nine_labels.append(i)"
   ]
  },
  {
   "cell_type": "code",
   "execution_count": 22,
   "id": "043df97f",
   "metadata": {},
   "outputs": [
    {
     "data": {
      "text/plain": [
       "[3, 13, 15, 18, 24, 27, 50, 57, 80, 86]"
      ]
     },
     "execution_count": 22,
     "metadata": {},
     "output_type": "execute_result"
    }
   ],
   "source": [
    "nine_labels"
   ]
  },
  {
   "cell_type": "markdown",
   "id": "85db9035",
   "metadata": {},
   "source": [
    "Create 23 times different pictures"
   ]
  },
  {
   "cell_type": "code",
   "execution_count": 7,
   "id": "7e2a53c3",
   "metadata": {},
   "outputs": [
    {
     "data": {
      "text/plain": [
       "(30, 10, 10, 8)"
      ]
     },
     "execution_count": 7,
     "metadata": {},
     "output_type": "execute_result"
    }
   ],
   "source": [
    "normalised_gabor_data.shape"
   ]
  },
  {
   "cell_type": "code",
   "execution_count": 10,
   "id": "69bb48b0",
   "metadata": {},
   "outputs": [],
   "source": [
    "nine_cluster = normalised_gabor_data[nine_labels]"
   ]
  },
  {
   "cell_type": "code",
   "execution_count": 23,
   "id": "f38df387",
   "metadata": {},
   "outputs": [
    {
     "data": {
      "text/plain": [
       "(10, 10, 10, 8)"
      ]
     },
     "execution_count": 23,
     "metadata": {},
     "output_type": "execute_result"
    }
   ],
   "source": [
    "nine_cluster.shape"
   ]
  },
  {
   "cell_type": "code",
   "execution_count": 24,
   "id": "fefc8c1a",
   "metadata": {},
   "outputs": [],
   "source": [
    "# pointCount = 6000\n",
    "# start_tstep = 500\n",
    "one_cycle = np.concatenate((np.ones(45, dtype=bool), np.zeros(189, dtype=bool)))"
   ]
  },
  {
   "cell_type": "code",
   "execution_count": 25,
   "id": "87a9412d",
   "metadata": {},
   "outputs": [],
   "source": [
    "def from_gabor_to_fire(gabor):\n",
    "    one_round = np.zeros((10,10,8,234), dtype=bool)\n",
    "    for i in range(gabor.shape[0]):\n",
    "        for j in range(gabor.shape[1]):\n",
    "            for k in range(gabor.shape[2]):\n",
    "                if gabor[i,j,k] == 1:\n",
    "                    one_round[i,j,k] = one_cycle\n",
    "    return one_round"
   ]
  },
  {
   "cell_type": "code",
   "execution_count": 26,
   "id": "5e47e67a",
   "metadata": {},
   "outputs": [],
   "source": [
    "fire_data = np.zeros((10,10,8,0), dtype=bool)\n",
    "for i in nine_cluster:\n",
    "    temp = from_gabor_to_fire(i)\n",
    "    fire_data = np.concatenate((fire_data, temp), axis=-1)"
   ]
  },
  {
   "cell_type": "code",
   "execution_count": 29,
   "id": "2d3f44cf",
   "metadata": {},
   "outputs": [],
   "source": [
    "# repeat all_three five times\n",
    "repeat_fire_data = np.concatenate([fire_data] * 4, axis=-1)"
   ]
  },
  {
   "cell_type": "code",
   "execution_count": 30,
   "id": "3835a4fe",
   "metadata": {},
   "outputs": [
    {
     "data": {
      "text/plain": [
       "(10, 10, 8, 9360)"
      ]
     },
     "execution_count": 30,
     "metadata": {},
     "output_type": "execute_result"
    }
   ],
   "source": [
    "repeat_fire_data.shape"
   ]
  },
  {
   "cell_type": "code",
   "execution_count": 31,
   "id": "6bc7d5f3",
   "metadata": {},
   "outputs": [],
   "source": [
    "# add a 500 start peace time\n",
    "peace = np.zeros((10,10,8,500), dtype=bool)\n",
    "fire_data = np.concatenate((peace, repeat_fire_data), axis=-1)"
   ]
  },
  {
   "cell_type": "code",
   "execution_count": 32,
   "id": "b22b8d57",
   "metadata": {},
   "outputs": [
    {
     "data": {
      "text/plain": [
       "(10, 10, 8, 9860)"
      ]
     },
     "execution_count": 32,
     "metadata": {},
     "output_type": "execute_result"
    }
   ],
   "source": [
    "fire_data.shape"
   ]
  },
  {
   "cell_type": "markdown",
   "id": "a05ce522",
   "metadata": {},
   "source": [
    "Save the fire data"
   ]
  },
  {
   "cell_type": "code",
   "execution_count": 38,
   "id": "0e308b26",
   "metadata": {},
   "outputs": [],
   "source": [
    "chosen_fire_data = fire_data[3]"
   ]
  },
  {
   "cell_type": "code",
   "execution_count": 25,
   "id": "d597d1c3",
   "metadata": {},
   "outputs": [],
   "source": [
    "chosen_fire_data = np.concatenate([chosen_fire_data] * 4, axis=-1)"
   ]
  },
  {
   "cell_type": "code",
   "execution_count": 39,
   "id": "22790415",
   "metadata": {},
   "outputs": [
    {
     "data": {
      "text/plain": [
       "(10, 10, 8, 4000)"
      ]
     },
     "execution_count": 39,
     "metadata": {},
     "output_type": "execute_result"
    }
   ],
   "source": [
    "chosen_fire_data.shape"
   ]
  },
  {
   "cell_type": "code",
   "execution_count": 35,
   "id": "ca274c60",
   "metadata": {},
   "outputs": [],
   "source": [
    "p = 0.01\n",
    "mask = np.random.rand(*chosen_fire_data.shape) < p\n",
    "b_chosen_fire_data = chosen_fire_data | mask"
   ]
  },
  {
   "cell_type": "code",
   "execution_count": 7,
   "id": "7b155d4e",
   "metadata": {},
   "outputs": [],
   "source": [
    "with open(path + \"fire_data_mnst_all_second.pkl\", \"wb\") as f:\n",
    "    pickle.dump(fire_data, f)"
   ]
  },
  {
   "cell_type": "code",
   "execution_count": 33,
   "id": "4b54b177",
   "metadata": {},
   "outputs": [],
   "source": [
    "with open(path + \"fire_data_mnst_nine_ten.pkl\", \"wb\") as f:\n",
    "    pickle.dump(fire_data, f)"
   ]
  },
  {
   "cell_type": "code",
   "execution_count": 21,
   "id": "74605bd9",
   "metadata": {},
   "outputs": [
    {
     "data": {
      "text/plain": [
       "(10, 10, 8, 5180)"
      ]
     },
     "execution_count": 21,
     "metadata": {},
     "output_type": "execute_result"
    }
   ],
   "source": [
    "fire_data.shape"
   ]
  }
 ],
 "metadata": {
  "kernelspec": {
   "display_name": "Python 3 (ipykernel)",
   "language": "python",
   "name": "python3"
  },
  "language_info": {
   "codemirror_mode": {
    "name": "ipython",
    "version": 3
   },
   "file_extension": ".py",
   "mimetype": "text/x-python",
   "name": "python",
   "nbconvert_exporter": "python",
   "pygments_lexer": "ipython3",
   "version": "3.10.12"
  }
 },
 "nbformat": 4,
 "nbformat_minor": 5
}
