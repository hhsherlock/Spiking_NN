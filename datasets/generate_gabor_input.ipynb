{
 "cells": [
  {
   "cell_type": "code",
   "execution_count": 1,
   "id": "bacb641b",
   "metadata": {},
   "outputs": [
    {
     "name": "stderr",
     "output_type": "stream",
     "text": [
      "2025-06-03 14:16:39.286184: I external/local_xla/xla/tsl/cuda/cudart_stub.cc:32] Could not find cuda drivers on your machine, GPU will not be used.\n",
      "2025-06-03 14:16:39.362851: I external/local_xla/xla/tsl/cuda/cudart_stub.cc:32] Could not find cuda drivers on your machine, GPU will not be used.\n",
      "2025-06-03 14:16:39.425434: E external/local_xla/xla/stream_executor/cuda/cuda_fft.cc:467] Unable to register cuFFT factory: Attempting to register factory for plugin cuFFT when one has already been registered\n",
      "WARNING: All log messages before absl::InitializeLog() is called are written to STDERR\n",
      "E0000 00:00:1748952999.479746 2464724 cuda_dnn.cc:8579] Unable to register cuDNN factory: Attempting to register factory for plugin cuDNN when one has already been registered\n",
      "E0000 00:00:1748952999.496823 2464724 cuda_blas.cc:1407] Unable to register cuBLAS factory: Attempting to register factory for plugin cuBLAS when one has already been registered\n",
      "W0000 00:00:1748952999.620425 2464724 computation_placer.cc:177] computation placer already registered. Please check linkage and avoid linking the same target more than once.\n",
      "W0000 00:00:1748952999.620454 2464724 computation_placer.cc:177] computation placer already registered. Please check linkage and avoid linking the same target more than once.\n",
      "W0000 00:00:1748952999.620456 2464724 computation_placer.cc:177] computation placer already registered. Please check linkage and avoid linking the same target more than once.\n",
      "W0000 00:00:1748952999.620458 2464724 computation_placer.cc:177] computation placer already registered. Please check linkage and avoid linking the same target more than once.\n",
      "2025-06-03 14:16:39.634480: I tensorflow/core/platform/cpu_feature_guard.cc:210] This TensorFlow binary is optimized to use available CPU instructions in performance-critical operations.\n",
      "To enable the following instructions: AVX2 FMA, in other operations, rebuild TensorFlow with the appropriate compiler flags.\n"
     ]
    }
   ],
   "source": [
    "#!/usr/bin/env python3\n",
    "# -*- coding: utf-8 -*-\n",
    "\"\"\"\n",
    "Created on Fri Mai 30\n",
    "\n",
    "@author: yaning\n",
    "\"\"\"\n",
    "\n",
    "import numpy as np\n",
    "import tensorflow as tf\n",
    "from tensorflow.keras import layers, models, datasets\n",
    "import matplotlib.pyplot as plt"
   ]
  },
  {
   "cell_type": "code",
   "execution_count": 2,
   "id": "f88caf11",
   "metadata": {},
   "outputs": [],
   "source": [
    "def gabor_kernel(size=7, sigma=2.0, Lambda=3.0, psi=0, gamma=0.5, theta=0):\n",
    "    \"\"\"Generate a 2D Gabor filter kernel.\"\"\"\n",
    "    half = size // 2\n",
    "    y, x = np.meshgrid(range(-half, half+1), range(-half, half+1))\n",
    "    x_theta = x * np.cos(theta) + y * np.sin(theta)\n",
    "    y_theta = -x * np.sin(theta) + y * np.cos(theta)\n",
    "    gb = np.exp(-0.5 * (x_theta**2 + (gamma**2) * y_theta**2) / (sigma**2)) * np.cos(2 * np.pi * x_theta / Lambda + psi)\n",
    "    return gb\n",
    "\n",
    "# Generate 6 filters rotated by 0°, 30°, 60°, 90°, 120°, 150°\n",
    "angles = np.deg2rad(np.arange(0, 180, 30))\n",
    "filters = np.stack([gabor_kernel(theta=angle) for angle in angles], axis=-1)  # shape (size, size, 6)\n",
    "\n",
    "# Conv2D weights shape: (kernel_h, kernel_w, input_channels, output_channels)\n",
    "filters = filters[:, :, np.newaxis, :]  # add input channel dim = 1\n",
    "\n",
    "# Normalize filters to zero mean and unit norm (optional)\n",
    "filters -= filters.mean(axis=(0,1), keepdims=True)\n",
    "filters /= np.linalg.norm(filters, axis=(0,1), keepdims=True) + 1e-10"
   ]
  },
  {
   "cell_type": "code",
   "execution_count": 28,
   "id": "e014eee9",
   "metadata": {},
   "outputs": [
    {
     "data": {
      "text/plain": [
       "(7, 7, 1, 6)"
      ]
     },
     "execution_count": 28,
     "metadata": {},
     "output_type": "execute_result"
    }
   ],
   "source": [
    "filters.shape"
   ]
  },
  {
   "cell_type": "code",
   "execution_count": 31,
   "id": "f3aea354",
   "metadata": {},
   "outputs": [
    {
     "data": {
      "text/plain": [
       "array([[-0.02174419,  0.02249541,  0.09469345,  0.08707335, -0.04468757,\n",
       "        -0.15858497, -0.10371147],\n",
       "       [ 0.07264341,  0.10610539, -0.00333992, -0.18242275, -0.19472878,\n",
       "         0.01176701,  0.18749678],\n",
       "       [ 0.03579352, -0.13692813, -0.23556081, -0.06543014,  0.21335722,\n",
       "         0.26131057,  0.05637405],\n",
       "       [-0.18943673, -0.12347533,  0.15203279,  0.31781569,  0.15203279,\n",
       "        -0.12347533, -0.18943673],\n",
       "       [ 0.05637405,  0.26131057,  0.21335722, -0.06543014, -0.23556081,\n",
       "        -0.13692813,  0.03579352],\n",
       "       [ 0.18749678,  0.01176701, -0.19472878, -0.18242275, -0.00333992,\n",
       "         0.10610539,  0.07264341],\n",
       "       [-0.10371147, -0.15858497, -0.04468757,  0.08707335,  0.09469345,\n",
       "         0.02249541, -0.02174419]])"
      ]
     },
     "execution_count": 31,
     "metadata": {},
     "output_type": "execute_result"
    }
   ],
   "source": [
    "filters[:,:,0,1]"
   ]
  },
  {
   "cell_type": "code",
   "execution_count": 35,
   "id": "fcc48de5",
   "metadata": {},
   "outputs": [
    {
     "data": {
      "text/plain": [
       "<matplotlib.image.AxesImage at 0x78187874c310>"
      ]
     },
     "execution_count": 35,
     "metadata": {},
     "output_type": "execute_result"
    },
    {
     "data": {
      "image/png": "[encoded data removed]",
      "text/plain": [
       "<Figure size 640x480 with 1 Axes>"
      ]
     },
     "metadata": {},
     "output_type": "display_data"
    }
   ],
   "source": [
    "plt.imshow(filters[:,:,0,1], cmap='bwr')"
   ]
  },
  {
   "cell_type": "code",
   "execution_count": 3,
   "id": "e16f9ccc",
   "metadata": {},
   "outputs": [],
   "source": [
    "(x_train, y_train), (x_test, y_test) = datasets.mnist.load_data()\n",
    "x_train = x_train.astype(np.float32) / 255.0\n",
    "x_test = x_test.astype(np.float32) / 255.0\n",
    "x_train = np.expand_dims(x_train, -1)\n",
    "x_test = np.expand_dims(x_test, -1)"
   ]
  },
  {
   "cell_type": "code",
   "execution_count": 24,
   "id": "689ee984",
   "metadata": {},
   "outputs": [],
   "source": [
    "gabor_data = []\n",
    "for pic in x_train:\n",
    "    img = np.expand_dims(pic, axis=0)\n",
    "    feature_maps = tf.nn.conv2d(img, filters, strides=3, padding='SAME')\n",
    "    gabor_data.append(feature_maps[0])"
   ]
  },
  {
   "cell_type": "code",
   "execution_count": 25,
   "id": "5b2d4177",
   "metadata": {},
   "outputs": [],
   "source": [
    "gabor_data = np.array(gabor_data)"
   ]
  },
  {
   "cell_type": "code",
   "execution_count": 26,
   "id": "0f5f80d0",
   "metadata": {},
   "outputs": [
    {
     "data": {
      "text/plain": [
       "(60000, 10, 10, 6)"
      ]
     },
     "execution_count": 26,
     "metadata": {},
     "output_type": "execute_result"
    }
   ],
   "source": [
    "gabor_data.shape"
   ]
  },
  {
   "cell_type": "code",
   "execution_count": 7,
   "id": "c137ad43",
   "metadata": {},
   "outputs": [
    {
     "data": {
      "image/png": "[encoded data removed]",
      "text/plain": [
       "<Figure size 1200x300 with 6 Axes>"
      ]
     },
     "metadata": {},
     "output_type": "display_data"
    }
   ],
   "source": [
    "plt.figure(figsize=(12,3))\n",
    "for i in range(6):\n",
    "    plt.subplot(1,6,i+1)\n",
    "    plt.imshow(gabor_data[1000,:,:,i], cmap='viridis')\n",
    "    plt.title(f\"{int(np.rad2deg(angles[i]))}° response\")\n",
    "    plt.axis('off')\n",
    "plt.show()"
   ]
  },
  {
   "cell_type": "code",
   "execution_count": 9,
   "id": "b5dd6739",
   "metadata": {},
   "outputs": [],
   "source": [
    "test = np.expand_dims(x_train[5], axis=0)"
   ]
  },
  {
   "cell_type": "code",
   "execution_count": 22,
   "id": "552f729f",
   "metadata": {},
   "outputs": [
    {
     "data": {
      "image/png": "[encoded data removed]",
      "text/plain": [
       "<Figure size 1200x300 with 6 Axes>"
      ]
     },
     "metadata": {},
     "output_type": "display_data"
    }
   ],
   "source": [
    "feature_maps = tf.nn.conv2d(test, filters, strides=3, padding='SAME')\n",
    "\n",
    "plt.figure(figsize=(12,3))\n",
    "for i in range(6):\n",
    "    plt.subplot(1,6,i+1)\n",
    "    plt.imshow(feature_maps[0,:,:,i], cmap='viridis')\n",
    "    plt.title(f\"{int(np.rad2deg(angles[i]))}° response\")\n",
    "    plt.axis('off')\n",
    "plt.show()"
   ]
  },
  {
   "cell_type": "code",
   "execution_count": 23,
   "id": "596b9561",
   "metadata": {},
   "outputs": [
    {
     "data": {
      "text/plain": [
       "TensorShape([1, 10, 10, 6])"
      ]
     },
     "execution_count": 23,
     "metadata": {},
     "output_type": "execute_result"
    }
   ],
   "source": [
    "feature_maps.shape"
   ]
  },
  {
   "cell_type": "code",
   "execution_count": 27,
   "id": "8e979b4d",
   "metadata": {},
   "outputs": [],
   "source": [
    "import pickle\n",
    "path = \"/home/yaning/Documents/\"\n",
    "\n",
    "with open(path + \"gabor_data_10.pkl\", \"wb\") as f:\n",
    "    pickle.dump(gabor_data, f)"
   ]
  }
 ],
 "metadata": {
  "kernelspec": {
   "display_name": "Python 3 (ipykernel)",
   "language": "python",
   "name": "python3"
  },
  "language_info": {
   "codemirror_mode": {
    "name": "ipython",
    "version": 3
   },
   "file_extension": ".py",
   "mimetype": "text/x-python",
   "name": "python",
   "nbconvert_exporter": "python",
   "pygments_lexer": "ipython3",
   "version": "3.10.17"
  }
 },
 "nbformat": 4,
 "nbformat_minor": 5
}
