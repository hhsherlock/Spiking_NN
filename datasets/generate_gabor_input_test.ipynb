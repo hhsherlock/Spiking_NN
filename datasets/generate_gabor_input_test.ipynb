{
 "cells": [
  {
   "cell_type": "code",
   "execution_count": null,
   "id": "bacb641b",
   "metadata": {},
   "outputs": [
    {
     "name": "stderr",
     "output_type": "stream",
     "text": [
      "2025-06-05 13:47:46.632601: I external/local_xla/xla/tsl/cuda/cudart_stub.cc:32] Could not find cuda drivers on your machine, GPU will not be used.\n",
      "2025-06-05 13:47:46.636770: I external/local_xla/xla/tsl/cuda/cudart_stub.cc:32] Could not find cuda drivers on your machine, GPU will not be used.\n",
      "2025-06-05 13:47:46.646415: E external/local_xla/xla/stream_executor/cuda/cuda_fft.cc:467] Unable to register cuFFT factory: Attempting to register factory for plugin cuFFT when one has already been registered\n",
      "WARNING: All log messages before absl::InitializeLog() is called are written to STDERR\n",
      "E0000 00:00:1749124066.660078 2508403 cuda_dnn.cc:8579] Unable to register cuDNN factory: Attempting to register factory for plugin cuDNN when one has already been registered\n",
      "E0000 00:00:1749124066.663739 2508403 cuda_blas.cc:1407] Unable to register cuBLAS factory: Attempting to register factory for plugin cuBLAS when one has already been registered\n",
      "W0000 00:00:1749124066.675411 2508403 computation_placer.cc:177] computation placer already registered. Please check linkage and avoid linking the same target more than once.\n",
      "W0000 00:00:1749124066.675435 2508403 computation_placer.cc:177] computation placer already registered. Please check linkage and avoid linking the same target more than once.\n",
      "W0000 00:00:1749124066.675437 2508403 computation_placer.cc:177] computation placer already registered. Please check linkage and avoid linking the same target more than once.\n",
      "W0000 00:00:1749124066.675438 2508403 computation_placer.cc:177] computation placer already registered. Please check linkage and avoid linking the same target more than once.\n",
      "2025-06-05 13:47:46.679587: I tensorflow/core/platform/cpu_feature_guard.cc:210] This TensorFlow binary is optimized to use available CPU instructions in performance-critical operations.\n",
      "To enable the following instructions: AVX2 FMA, in other operations, rebuild TensorFlow with the appropriate compiler flags.\n"
     ]
    }
   ],
   "source": [
    "#!/usr/bin/env python3\n",
    "# -*- coding: utf-8 -*-\n",
    "\"\"\"\n",
    "Created on Fri Mai 30\n",
    "\n",
    "@author: yaning\n",
    "\"\"\"\n",
    "\n",
    "import numpy as np\n",
    "import tensorflow as tf\n",
    "from tensorflow.keras import layers, models, datasets\n",
    "import matplotlib.pyplot as plt\n",
    "np.set_printoptions(threshold=np.inf)"
   ]
  },
  {
   "cell_type": "markdown",
   "id": "36f4ea41",
   "metadata": {},
   "source": [
    "Below code is the gabor filter from wikipedia but i find the chatgpt one is little better"
   ]
  },
  {
   "cell_type": "code",
   "execution_count": 65,
   "id": "9daf3dbb",
   "metadata": {},
   "outputs": [],
   "source": [
    "def gabor(sigma, theta, Lambda, psi, gamma):\n",
    "    \"\"\"Gabor feature extraction.\"\"\"\n",
    "    sigma_x = sigma\n",
    "    sigma_y = float(sigma) / gamma\n",
    "\n",
    "    # Bounding box\n",
    "    nstds = 2  # Number of standard deviation sigma\n",
    "    xmax = max(\n",
    "        abs(nstds * sigma_x * np.cos(theta)), abs(nstds * sigma_y * np.sin(theta))\n",
    "    )\n",
    "    xmax = np.ceil(max(1, xmax))\n",
    "    ymax = max(\n",
    "        abs(nstds * sigma_x * np.sin(theta)), abs(nstds * sigma_y * np.cos(theta))\n",
    "    )\n",
    "    ymax = np.ceil(max(1, ymax))\n",
    "    xmin = -xmax\n",
    "    ymin = -ymax\n",
    "    (y, x) = np.meshgrid(np.arange(ymin, ymax + 1), np.arange(xmin, xmax + 1))\n",
    "\n",
    "    # Rotation\n",
    "    x_theta = x * np.cos(theta) + y * np.sin(theta) + 1\n",
    "    y_theta = -x * np.sin(theta) + y * np.cos(theta)\n",
    "\n",
    "    gb = np.exp(\n",
    "        -0.5 * (x_theta**2 / sigma_x**2 + y_theta**2 / sigma_y**2)\n",
    "    ) * np.cos(2 * np.pi / Lambda * x_theta + psi)\n",
    "    return gb"
   ]
  },
  {
   "cell_type": "code",
   "execution_count": null,
   "id": "113f77c9",
   "metadata": {},
   "outputs": [],
   "source": [
    "# this is a good combination\n",
    "gb = gabor(sigma=2.0, theta=0, Lambda=3.0, psi=0.5, gamma=1 )"
   ]
  },
  {
   "cell_type": "code",
   "execution_count": null,
   "id": "d30501cc",
   "metadata": {},
   "outputs": [],
   "source": [
    "# when the high value parts increase, there is a white gap in between\n",
    "gb = gabor(sigma=2, theta=0, Lambda=6, psi=0.5, gamma=1)"
   ]
  },
  {
   "cell_type": "code",
   "execution_count": 67,
   "id": "bb81eef8",
   "metadata": {},
   "outputs": [
    {
     "data": {
      "text/plain": [
       "<matplotlib.image.AxesImage at 0x7b933c396830>"
      ]
     },
     "execution_count": 67,
     "metadata": {},
     "output_type": "execute_result"
    },
    {
     "data": {
      "image/png": "[encoded data removed]",
      "text/plain": [
       "<Figure size 640x480 with 1 Axes>"
      ]
     },
     "metadata": {},
     "output_type": "display_data"
    }
   ],
   "source": [
    "plt.imshow(gb, cmap='bwr')"
   ]
  },
  {
   "cell_type": "markdown",
   "id": "c3ae6c8d",
   "metadata": {},
   "source": [
    "Chatgpt gabor filter (using) careful there is a plus one at x_theta"
   ]
  },
  {
   "cell_type": "code",
   "execution_count": null,
   "id": "f88caf11",
   "metadata": {},
   "outputs": [],
   "source": [
    "# size=7, sigma=2.0, Lambda=3.0, psi=0, gamma=0.5, theta=0\n",
    "def gabor_kernel(size=4, sigma=4.0, Lambda=10.0, psi=0.5, gamma=1, theta=0):\n",
    "    \"\"\"Generate a 2D Gabor filter kernel.\"\"\"\n",
    "    half = size // 2\n",
    "    y, x = np.meshgrid(range(-half, half+1), range(-half, half+1))\n",
    "    x_theta = x * np.cos(theta) + y * np.sin(theta) + 1\n",
    "    y_theta = -x * np.sin(theta) + y * np.cos(theta)\n",
    "    gb = np.exp(-0.5 * (x_theta**2 + (gamma**2) * y_theta**2) / (sigma**2)) * np.cos(2 * np.pi * x_theta / Lambda + psi)\n",
    "    return gb\n",
    "\n",
    "# Generate 6 filters rotated by 0°, 30°, 60°, 90°, 120°, 150°\n",
    "angles = np.deg2rad(np.arange(0, 360, 45))\n",
    "filters = np.stack([gabor_kernel(theta=angle) for angle in angles], axis=-1)  # shape (size, size, 6)\n",
    "\n",
    "# Conv2D weights shape: (kernel_h, kernel_w, input_channels, output_channels)\n",
    "filters = filters[:, :, np.newaxis, :]  # add input channel dim = 1\n",
    "\n",
    "# Normalize filters to zero mean and unit norm (optional)\n",
    "filters -= filters.mean(axis=(0,1), keepdims=True)\n",
    "filters /= np.linalg.norm(filters, axis=(0,1), keepdims=True) + 1e-10"
   ]
  },
  {
   "cell_type": "code",
   "execution_count": 123,
   "id": "e16f9ccc",
   "metadata": {},
   "outputs": [],
   "source": [
    "(x_train, y_train), (x_test, y_test) = datasets.mnist.load_data()\n",
    "x_train = x_train.astype(np.float32) / 255.0\n",
    "x_test = x_test.astype(np.float32) / 255.0\n",
    "x_train = np.expand_dims(x_train, -1)\n",
    "x_test = np.expand_dims(x_test, -1)"
   ]
  },
  {
   "cell_type": "code",
   "execution_count": 124,
   "id": "689ee984",
   "metadata": {},
   "outputs": [
    {
     "name": "stderr",
     "output_type": "stream",
     "text": [
      "E0000 00:00:1749125655.025395 2508403 cuda_executor.cc:1228] INTERNAL: CUDA Runtime error: Failed call to cudaGetRuntimeVersion: Error loading CUDA libraries. GPU will not be used.: Error loading CUDA libraries. GPU will not be used.\n",
      "E0000 00:00:1749125655.028686 2508403 cuda_executor.cc:1228] INTERNAL: CUDA Runtime error: Failed call to cudaGetRuntimeVersion: Error loading CUDA libraries. GPU will not be used.: Error loading CUDA libraries. GPU will not be used.\n",
      "W0000 00:00:1749125655.032277 2508403 gpu_device.cc:2341] Cannot dlopen some GPU libraries. Please make sure the missing libraries mentioned above are installed properly if you would like to use GPU. Follow the guide at https://www.tensorflow.org/install/gpu for how to download and setup the required libraries for your platform.\n",
      "Skipping registering GPU devices...\n"
     ]
    }
   ],
   "source": [
    "gabor_data = []\n",
    "for pic in x_train:\n",
    "    img = np.expand_dims(pic, axis=0)\n",
    "    feature_maps = tf.nn.conv2d(img, filters, strides=3, padding='SAME')\n",
    "    gabor_data.append(feature_maps[0])"
   ]
  },
  {
   "cell_type": "code",
   "execution_count": 125,
   "id": "5b2d4177",
   "metadata": {},
   "outputs": [],
   "source": [
    "gabor_data = np.array(gabor_data)"
   ]
  },
  {
   "cell_type": "code",
   "execution_count": 126,
   "id": "0f5f80d0",
   "metadata": {},
   "outputs": [
    {
     "data": {
      "text/plain": [
       "(60000, 10, 10, 6)"
      ]
     },
     "execution_count": 126,
     "metadata": {},
     "output_type": "execute_result"
    }
   ],
   "source": [
    "gabor_data.shape"
   ]
  },
  {
   "cell_type": "code",
   "execution_count": 202,
   "id": "36dbc54f",
   "metadata": {},
   "outputs": [
    {
     "data": {
      "text/plain": [
       "<matplotlib.image.AxesImage at 0x7b932478f190>"
      ]
     },
     "execution_count": 202,
     "metadata": {},
     "output_type": "execute_result"
    },
    {
     "data": {
      "image/png": "[encoded data removed]",
      "text/plain": [
       "<Figure size 640x480 with 1 Axes>"
      ]
     },
     "metadata": {},
     "output_type": "display_data"
    }
   ],
   "source": [
    "plt.imshow(x_train[3,:,:,:], cmap='Blues')"
   ]
  },
  {
   "cell_type": "code",
   "execution_count": 273,
   "id": "b5dd6739",
   "metadata": {},
   "outputs": [],
   "source": [
    "test = np.expand_dims(x_train[3], axis=0)"
   ]
  },
  {
   "cell_type": "code",
   "execution_count": 274,
   "id": "a7cb0e34",
   "metadata": {},
   "outputs": [],
   "source": [
    "feature_maps = tf.nn.conv2d(test, filters, strides=3, padding='SAME')"
   ]
  },
  {
   "cell_type": "code",
   "execution_count": 275,
   "id": "92402603",
   "metadata": {},
   "outputs": [],
   "source": [
    "feature_maps = np.array(feature_maps)"
   ]
  },
  {
   "cell_type": "code",
   "execution_count": 276,
   "id": "71197ee1",
   "metadata": {},
   "outputs": [
    {
     "data": {
      "text/plain": [
       "(1, 10, 10, 8)"
      ]
     },
     "execution_count": 276,
     "metadata": {},
     "output_type": "execute_result"
    }
   ],
   "source": [
    "feature_maps.shape"
   ]
  },
  {
   "cell_type": "code",
   "execution_count": 284,
   "id": "ac01e149",
   "metadata": {},
   "outputs": [],
   "source": [
    "# only normalise non-zero ones \n",
    "data_norm = np.zeros_like(feature_maps)\n",
    "for i in range(feature_maps.shape[0]):\n",
    "    img = feature_maps[i]\n",
    "    non_zero_mask = img != 0\n",
    "    img = img[non_zero_mask]\n",
    "    img_min = img.min()\n",
    "    img_max = img.max()\n",
    "    if img_max > img_min:\n",
    "        data_norm[i][non_zero_mask] = (img - img_min) / (img_max - img_min)\n",
    "    else:\n",
    "        data_norm[i] = 0"
   ]
  },
  {
   "cell_type": "code",
   "execution_count": 281,
   "id": "82c0d2e5",
   "metadata": {},
   "outputs": [],
   "source": [
    "# normalise everything\n",
    "for i in range(feature_maps.shape[0]):\n",
    "    img = feature_maps[i]\n",
    "    img_min = img.min()\n",
    "    img_max = img.max()\n",
    "    if img_max > img_min:\n",
    "        data_norm[i] = (img - img_min) / (img_max - img_min)\n",
    "    else:\n",
    "        data_norm[i] = 0"
   ]
  },
  {
   "cell_type": "code",
   "execution_count": 285,
   "id": "b36f48ca",
   "metadata": {},
   "outputs": [
    {
     "data": {
      "text/plain": [
       "array([[[[0.        , 0.        , 0.        , 0.        , 0.        ,\n",
       "          0.        , 0.        , 0.        ],\n",
       "         [0.        , 0.        , 0.        , 0.        , 0.        ,\n",
       "          0.        , 0.        , 0.        ],\n",
       "         [0.        , 0.        , 0.        , 0.        , 0.        ,\n",
       "          0.        , 0.        , 0.        ],\n",
       "         [0.        , 0.        , 0.        , 0.        , 0.        ,\n",
       "          0.        , 0.        , 0.        ],\n",
       "         [0.        , 0.        , 0.        , 0.        , 0.        ,\n",
       "          0.        , 0.        , 0.        ],\n",
       "         [0.        , 0.        , 0.        , 0.        , 0.        ,\n",
       "          0.        , 0.        , 0.        ],\n",
       "         [0.        , 0.        , 0.        , 0.        , 0.        ,\n",
       "          0.        , 0.        , 0.        ],\n",
       "         [0.        , 0.        , 0.        , 0.        , 0.        ,\n",
       "          0.        , 0.        , 0.        ],\n",
       "         [0.        , 0.        , 0.        , 0.        , 0.        ,\n",
       "          0.        , 0.        , 0.        ],\n",
       "         [0.        , 0.        , 0.        , 0.        , 0.        ,\n",
       "          0.        , 0.        , 0.        ]],\n",
       "\n",
       "        [[0.        , 0.        , 0.        , 0.        , 0.        ,\n",
       "          0.        , 0.        , 0.        ],\n",
       "         [0.        , 0.        , 0.        , 0.        , 0.        ,\n",
       "          0.        , 0.        , 0.        ],\n",
       "         [0.        , 0.        , 0.        , 0.        , 0.        ,\n",
       "          0.        , 0.        , 0.        ],\n",
       "         [0.        , 0.        , 0.        , 0.        , 0.        ,\n",
       "          0.        , 0.        , 0.        ],\n",
       "         [0.        , 0.        , 0.        , 0.        , 0.        ,\n",
       "          0.        , 0.        , 0.        ],\n",
       "         [0.        , 0.        , 0.        , 0.        , 0.        ,\n",
       "          0.        , 0.        , 0.        ],\n",
       "         [0.31989878, 0.30359828, 0.39427295, 0.56622005, 0.63523084,\n",
       "          0.6276364 , 0.5953277 , 0.44549772],\n",
       "         [0.3378481 , 0.45951644, 0.59364355, 0.6138055 , 0.6209034 ,\n",
       "          0.55249274, 0.39288005, 0.317896  ],\n",
       "         [0.        , 0.        , 0.        , 0.        , 0.        ,\n",
       "          0.        , 0.        , 0.        ],\n",
       "         [0.        , 0.        , 0.        , 0.        , 0.        ,\n",
       "          0.        , 0.        , 0.        ]],\n",
       "\n",
       "        [[0.        , 0.        , 0.        , 0.        , 0.        ,\n",
       "          0.        , 0.        , 0.        ],\n",
       "         [0.        , 0.        , 0.        , 0.        , 0.        ,\n",
       "          0.        , 0.        , 0.        ],\n",
       "         [0.        , 0.        , 0.        , 0.        , 0.        ,\n",
       "          0.        , 0.        , 0.        ],\n",
       "         [0.        , 0.        , 0.        , 0.        , 0.        ,\n",
       "          0.        , 0.        , 0.        ],\n",
       "         [0.        , 0.        , 0.        , 0.        , 0.        ,\n",
       "          0.        , 0.        , 0.        ],\n",
       "         [0.39826614, 0.33498818, 0.35935104, 0.47513503, 0.5847369 ,\n",
       "          0.60448986, 0.60806805, 0.5343509 ],\n",
       "         [0.28078038, 0.11890209, 0.24819826, 0.4965674 , 0.7803222 ,\n",
       "          0.9514255 , 0.808616  , 0.55488974],\n",
       "         [0.4679031 , 0.7737547 , 0.87855124, 0.8182065 , 0.58518004,\n",
       "          0.26820642, 0.10478345, 0.17791827],\n",
       "         [0.        , 0.        , 0.        , 0.        , 0.        ,\n",
       "          0.        , 0.        , 0.        ],\n",
       "         [0.        , 0.        , 0.        , 0.        , 0.        ,\n",
       "          0.        , 0.        , 0.        ]],\n",
       "\n",
       "        [[0.        , 0.        , 0.        , 0.        , 0.        ,\n",
       "          0.        , 0.        , 0.        ],\n",
       "         [0.        , 0.        , 0.        , 0.        , 0.        ,\n",
       "          0.        , 0.        , 0.        ],\n",
       "         [0.        , 0.        , 0.        , 0.        , 0.        ,\n",
       "          0.        , 0.        , 0.        ],\n",
       "         [0.        , 0.        , 0.        , 0.        , 0.        ,\n",
       "          0.        , 0.        , 0.        ],\n",
       "         [0.493489  , 0.4921954 , 0.493489  , 0.49917153, 0.50285476,\n",
       "          0.50210524, 0.50285476, 0.49917153],\n",
       "         [0.2758154 , 0.01778366, 0.07895536, 0.3939022 , 0.72774893,\n",
       "          0.94438666, 0.904842  , 0.6303751 ],\n",
       "         [0.61622   , 0.83269435, 0.75659853, 0.55587316, 0.4018375 ,\n",
       "          0.295368  , 0.29564515, 0.38986662],\n",
       "         [0.6660082 , 0.6934015 , 0.6690422 , 0.5116228 , 0.30344787,\n",
       "          0.22199582, 0.3004746 , 0.50958204],\n",
       "         [0.        , 0.        , 0.        , 0.        , 0.        ,\n",
       "          0.        , 0.        , 0.        ],\n",
       "         [0.        , 0.        , 0.        , 0.        , 0.        ,\n",
       "          0.        , 0.        , 0.        ]],\n",
       "\n",
       "        [[0.        , 0.        , 0.        , 0.        , 0.        ,\n",
       "          0.        , 0.        , 0.        ],\n",
       "         [0.        , 0.        , 0.        , 0.        , 0.        ,\n",
       "          0.        , 0.        , 0.        ],\n",
       "         [0.        , 0.        , 0.        , 0.        , 0.        ,\n",
       "          0.        , 0.        , 0.        ],\n",
       "         [0.        , 0.        , 0.        , 0.        , 0.        ,\n",
       "          0.        , 0.        , 0.        ],\n",
       "         [0.29321063, 0.16081116, 0.23597836, 0.47301757, 0.6880371 ,\n",
       "          0.7547126 , 0.7276835 , 0.5538132 ],\n",
       "         [0.4927586 , 0.47459525, 0.42700094, 0.41473675, 0.53832644,\n",
       "          0.6829452 , 0.6410692 , 0.53188795],\n",
       "         [0.7277951 , 0.8785224 , 0.8362973 , 0.5977397 , 0.26595378,\n",
       "          0.05367732, 0.13381736, 0.43171528],\n",
       "         [0.        , 0.        , 0.        , 0.        , 0.        ,\n",
       "          0.        , 0.        , 0.        ],\n",
       "         [0.        , 0.        , 0.        , 0.        , 0.        ,\n",
       "          0.        , 0.        , 0.        ],\n",
       "         [0.        , 0.        , 0.        , 0.        , 0.        ,\n",
       "          0.        , 0.        , 0.        ]],\n",
       "\n",
       "        [[0.        , 0.        , 0.        , 0.        , 0.        ,\n",
       "          0.        , 0.        , 0.        ],\n",
       "         [0.        , 0.        , 0.        , 0.        , 0.        ,\n",
       "          0.        , 0.        , 0.        ],\n",
       "         [0.        , 0.        , 0.        , 0.        , 0.        ,\n",
       "          0.        , 0.        , 0.        ],\n",
       "         [0.4027531 , 0.35372984, 0.3784174 , 0.48447758, 0.5796581 ,\n",
       "          0.58838123, 0.5920389 , 0.52506715],\n",
       "         [0.29546317, 0.06060698, 0.10672306, 0.38404292, 0.7233453 ,\n",
       "          0.9844746 , 0.9193174 , 0.6178927 ],\n",
       "         [0.6363768 , 0.9476878 , 0.9491399 , 0.6860223 , 0.36776197,\n",
       "          0.08470532, 0.06374536, 0.29887676],\n",
       "         [0.5423192 , 0.53711134, 0.5427612 , 0.50276166, 0.44101813,\n",
       "          0.42487285, 0.43992722, 0.50075996],\n",
       "         [0.        , 0.        , 0.        , 0.        , 0.        ,\n",
       "          0.        , 0.        , 0.        ],\n",
       "         [0.        , 0.        , 0.        , 0.        , 0.        ,\n",
       "          0.        , 0.        , 0.        ],\n",
       "         [0.        , 0.        , 0.        , 0.        , 0.        ,\n",
       "          0.        , 0.        , 0.        ]],\n",
       "\n",
       "        [[0.        , 0.        , 0.        , 0.        , 0.        ,\n",
       "          0.        , 0.        , 0.        ],\n",
       "         [0.        , 0.        , 0.        , 0.        , 0.        ,\n",
       "          0.        , 0.        , 0.        ],\n",
       "         [0.        , 0.        , 0.        , 0.        , 0.        ,\n",
       "          0.        , 0.        , 0.        ],\n",
       "         [0.32405412, 0.04985781, 0.05935971, 0.33963925, 0.66967475,\n",
       "          0.8919585 , 0.89902145, 0.6685913 ],\n",
       "         [0.5573148 , 0.71964055, 0.68053085, 0.5492737 , 0.46342722,\n",
       "          0.4241991 , 0.38824767, 0.39997134],\n",
       "         [0.6742525 , 0.7695605 , 0.75723594, 0.5803752 , 0.30820748,\n",
       "          0.1476006 , 0.19996595, 0.4395692 ],\n",
       "         [0.        , 0.        , 0.        , 0.        , 0.        ,\n",
       "          0.        , 0.        , 0.        ],\n",
       "         [0.        , 0.        , 0.        , 0.        , 0.        ,\n",
       "          0.        , 0.        , 0.        ],\n",
       "         [0.        , 0.        , 0.        , 0.        , 0.        ,\n",
       "          0.        , 0.        , 0.        ],\n",
       "         [0.        , 0.        , 0.        , 0.        , 0.        ,\n",
       "          0.        , 0.        , 0.        ]],\n",
       "\n",
       "        [[0.        , 0.        , 0.        , 0.        , 0.        ,\n",
       "          0.        , 0.        , 0.        ],\n",
       "         [0.        , 0.        , 0.        , 0.        , 0.        ,\n",
       "          0.        , 0.        , 0.        ],\n",
       "         [0.4730395 , 0.44580153, 0.44887725, 0.4815206 , 0.52366227,\n",
       "          0.5352227 , 0.5372339 , 0.5197608 ],\n",
       "         [0.41091606, 0.10473952, 0.03015045, 0.26457506, 0.6074703 ,\n",
       "          0.93152106, 1.        , 0.7500751 ],\n",
       "         [0.6533016 , 0.9674728 , 0.99978614, 0.71201926, 0.34255427,\n",
       "          0.03346605, 0.        , 0.28264225],\n",
       "         [0.52187914, 0.5222167 , 0.5252644 , 0.50621957, 0.4701982 ,\n",
       "          0.4572264 , 0.46339837, 0.4947586 ],\n",
       "         [0.        , 0.        , 0.        , 0.        , 0.        ,\n",
       "          0.        , 0.        , 0.        ],\n",
       "         [0.        , 0.        , 0.        , 0.        , 0.        ,\n",
       "          0.        , 0.        , 0.        ],\n",
       "         [0.        , 0.        , 0.        , 0.        , 0.        ,\n",
       "          0.        , 0.        , 0.        ],\n",
       "         [0.        , 0.        , 0.        , 0.        , 0.        ,\n",
       "          0.        , 0.        , 0.        ]],\n",
       "\n",
       "        [[0.        , 0.        , 0.        , 0.        , 0.        ,\n",
       "          0.        , 0.        , 0.        ],\n",
       "         [0.        , 0.        , 0.        , 0.        , 0.        ,\n",
       "          0.        , 0.        , 0.        ],\n",
       "         [0.5230201 , 0.48713112, 0.45595244, 0.45141208, 0.47239733,\n",
       "          0.51425797, 0.53157383, 0.5297199 ],\n",
       "         [0.8497086 , 0.58950824, 0.24547909, 0.05677655, 0.17533681,\n",
       "          0.49362898, 0.79010016, 0.9229408 ],\n",
       "         [0.69998217, 0.8025812 , 0.79144835, 0.6183912 , 0.30874506,\n",
       "          0.1270087 , 0.17919135, 0.43060523],\n",
       "         [0.        , 0.        , 0.        , 0.        , 0.        ,\n",
       "          0.        , 0.        , 0.        ],\n",
       "         [0.        , 0.        , 0.        , 0.        , 0.        ,\n",
       "          0.        , 0.        , 0.        ],\n",
       "         [0.        , 0.        , 0.        , 0.        , 0.        ,\n",
       "          0.        , 0.        , 0.        ],\n",
       "         [0.        , 0.        , 0.        , 0.        , 0.        ,\n",
       "          0.        , 0.        , 0.        ],\n",
       "         [0.        , 0.        , 0.        , 0.        , 0.        ,\n",
       "          0.        , 0.        , 0.        ]],\n",
       "\n",
       "        [[0.        , 0.        , 0.        , 0.        , 0.        ,\n",
       "          0.        , 0.        , 0.        ],\n",
       "         [0.        , 0.        , 0.        , 0.        , 0.        ,\n",
       "          0.        , 0.        , 0.        ],\n",
       "         [0.        , 0.        , 0.        , 0.        , 0.        ,\n",
       "          0.        , 0.        , 0.        ],\n",
       "         [0.        , 0.        , 0.        , 0.        , 0.        ,\n",
       "          0.        , 0.        , 0.        ],\n",
       "         [0.        , 0.        , 0.        , 0.        , 0.        ,\n",
       "          0.        , 0.        , 0.        ],\n",
       "         [0.        , 0.        , 0.        , 0.        , 0.        ,\n",
       "          0.        , 0.        , 0.        ],\n",
       "         [0.        , 0.        , 0.        , 0.        , 0.        ,\n",
       "          0.        , 0.        , 0.        ],\n",
       "         [0.        , 0.        , 0.        , 0.        , 0.        ,\n",
       "          0.        , 0.        , 0.        ],\n",
       "         [0.        , 0.        , 0.        , 0.        , 0.        ,\n",
       "          0.        , 0.        , 0.        ],\n",
       "         [0.        , 0.        , 0.        , 0.        , 0.        ,\n",
       "          0.        , 0.        , 0.        ]]]], dtype=float32)"
      ]
     },
     "execution_count": 285,
     "metadata": {},
     "output_type": "execute_result"
    }
   ],
   "source": [
    "data_norm"
   ]
  },
  {
   "cell_type": "code",
   "execution_count": 282,
   "id": "552f729f",
   "metadata": {},
   "outputs": [
    {
     "data": {
      "image/png": "[encoded data removed]",
      "text/plain": [
       "<Figure size 1200x300 with 6 Axes>"
      ]
     },
     "metadata": {},
     "output_type": "display_data"
    }
   ],
   "source": [
    "\n",
    "\n",
    "plt.figure(figsize=(12,3))\n",
    "for i in range(6):\n",
    "    plt.subplot(1,6,i+1)\n",
    "    plt.imshow(data_norm[0,:,:,i], cmap='Blues')\n",
    "    plt.title(f\"{int(np.rad2deg(angles[i]))}° response\")\n",
    "    plt.axis('off')\n",
    "plt.show()"
   ]
  },
  {
   "cell_type": "code",
   "execution_count": 23,
   "id": "596b9561",
   "metadata": {},
   "outputs": [
    {
     "data": {
      "text/plain": [
       "TensorShape([1, 10, 10, 6])"
      ]
     },
     "execution_count": 23,
     "metadata": {},
     "output_type": "execute_result"
    }
   ],
   "source": [
    "feature_maps.shape"
   ]
  },
  {
   "cell_type": "code",
   "execution_count": 27,
   "id": "8e979b4d",
   "metadata": {},
   "outputs": [],
   "source": [
    "import pickle\n",
    "path = \"/home/yaning/Documents/\"\n",
    "\n",
    "with open(path + \"gabor_data_10.pkl\", \"wb\") as f:\n",
    "    pickle.dump(gabor_data, f)"
   ]
  }
 ],
 "metadata": {
  "kernelspec": {
   "display_name": "Python 3 (ipykernel)",
   "language": "python",
   "name": "python3"
  },
  "language_info": {
   "codemirror_mode": {
    "name": "ipython",
    "version": 3
   },
   "file_extension": ".py",
   "mimetype": "text/x-python",
   "name": "python",
   "nbconvert_exporter": "python",
   "pygments_lexer": "ipython3",
   "version": "3.10.17"
  }
 },
 "nbformat": 4,
 "nbformat_minor": 5
}
