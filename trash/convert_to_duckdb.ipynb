{
 "cells": [
  {
   "cell_type": "code",
   "execution_count": 1,
   "id": "0fc04d6d",
   "metadata": {},
   "outputs": [],
   "source": [
    "import pickle\n",
    "import duckdb\n",
    "import numpy as np"
   ]
  },
  {
   "cell_type": "code",
   "execution_count": 2,
   "id": "18eee9a8",
   "metadata": {},
   "outputs": [],
   "source": [
    "# 1. Load your Pickle dataset (adjust path)\n",
    "with open('/home/yaning/Documents/large_files/fires.pkl', 'rb') as f:\n",
    "    data = pickle.load(f)\n",
    "\n",
    "\n",
    "In_fires = data[\"In_fires\"]\n",
    "E_fires = data[\"E_fires\"]\n",
    "I_fires = data[\"I_fires\"]\n",
    "Out_fires = data[\"Out_fires\"]\n",
    "\n",
    "states_list = []\n",
    "for t in range(In_fires.shape[0]):\n",
    "    In_states = In_fires[t].view(-1).tolist()\n",
    "    E_states = E_fires[t].view(-1).tolist()\n",
    "    I_states = I_fires[t].view(-1).tolist()\n",
    "    Out_states = Out_fires[t].view(-1).tolist()\n",
    "    states = In_states + E_states + I_states + Out_states\n",
    "    states_list.append(states)\n"
   ]
  },
  {
   "cell_type": "code",
   "execution_count": 3,
   "id": "b91eb4db",
   "metadata": {},
   "outputs": [],
   "source": [
    "\n",
    "# 2. Connect to DuckDB (creates a file)\n",
    "con = duckdb.connect('/home/yaning/Documents/Spiking_NN/anime/firing_states.duckdb')\n",
    "\n",
    "# 3. Prepare data for insertion:\n",
    "# Flatten data into rows (frame, neuron_id, state)\n",
    "firing_states = []\n",
    "for t in range(len(states_list)):\n",
    "    states = states_list[t]\n",
    "    for n in range(len(states)):\n",
    "        firing_states.append((t, n, int(states[n])))\n",
    "\n"
   ]
  },
  {
   "cell_type": "code",
   "execution_count": 57,
   "id": "0ed571a0",
   "metadata": {},
   "outputs": [
    {
     "data": {
      "text/plain": [
       "(0, 0, 0)"
      ]
     },
     "execution_count": 57,
     "metadata": {},
     "output_type": "execute_result"
    }
   ],
   "source": [
    "firing_states[0]"
   ]
  },
  {
   "cell_type": "code",
   "execution_count": 58,
   "id": "070ba1ac",
   "metadata": {},
   "outputs": [
    {
     "data": {
      "text/plain": [
       "<duckdb.duckdb.DuckDBPyConnection at 0x7fb83f6e1fb0>"
      ]
     },
     "execution_count": 58,
     "metadata": {},
     "output_type": "execute_result"
    }
   ],
   "source": [
    "con.execute(\"DROP TABLE IF EXISTS firing_states;\")"
   ]
  },
  {
   "cell_type": "code",
   "execution_count": 61,
   "id": "5b60b76d",
   "metadata": {},
   "outputs": [
    {
     "data": {
      "text/plain": [
       "7446000"
      ]
     },
     "execution_count": 61,
     "metadata": {},
     "output_type": "execute_result"
    }
   ],
   "source": [
    "len(firing_states)"
   ]
  },
  {
   "cell_type": "code",
   "execution_count": 6,
   "id": "50b64b01",
   "metadata": {},
   "outputs": [
    {
     "name": "stdout",
     "output_type": "stream",
     "text": [
      "Data imported to DuckDB successfully!\n"
     ]
    }
   ],
   "source": [
    "\n",
    "# 4. Create table\n",
    "con.execute(\"\"\"\n",
    "CREATE TABLE IF NOT EXISTS firing_states (\n",
    "    frame INTEGER,\n",
    "    idx INTEGER,\n",
    "    state INTEGER\n",
    ");\n",
    "\"\"\")\n",
    "\n",
    "# 5. Insert data efficiently\n",
    "con.executemany(\"INSERT INTO firing_states VALUES (?, ?, ?);\", firing_states[:10])\n",
    "\n",
    "print(\"Data imported to DuckDB successfully!\")\n"
   ]
  },
  {
   "cell_type": "code",
   "execution_count": 8,
   "id": "3a05f3b1",
   "metadata": {},
   "outputs": [
    {
     "name": "stdout",
     "output_type": "stream",
     "text": [
      "anime/firing_states.duckdb deleted successfully.\n"
     ]
    }
   ],
   "source": [
    "import os\n",
    "\n",
    "db_file = 'anime/firing_states.duckdb'\n",
    "\n",
    "if os.path.exists(db_file):\n",
    "    os.remove(db_file)\n",
    "    print(f\"{db_file} deleted successfully.\")\n",
    "else:\n",
    "    print(f\"{db_file} does not exist.\")"
   ]
  }
 ],
 "metadata": {
  "kernelspec": {
   "display_name": "Python 3 (ipykernel)",
   "language": "python",
   "name": "python3"
  },
  "language_info": {
   "codemirror_mode": {
    "name": "ipython",
    "version": 3
   },
   "file_extension": ".py",
   "mimetype": "text/x-python",
   "name": "python",
   "nbconvert_exporter": "python",
   "pygments_lexer": "ipython3",
   "version": "3.10.17"
  }
 },
 "nbformat": 4,
 "nbformat_minor": 5
}
