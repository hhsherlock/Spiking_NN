{
 "cells": [
  {
   "cell_type": "code",
   "execution_count": 5,
   "metadata": {},
   "outputs": [
    {
     "data": {
      "text/plain": [
       "<module 'with_learning.learning_NN.Network' from '/home/yaning/Documents/Spiking_NN/with_learning/learning_NN/Network.py'>"
      ]
     },
     "execution_count": 5,
     "metadata": {},
     "output_type": "execute_result"
    }
   ],
   "source": [
    "#!/usr/bin/env python3\n",
    "# -*- coding: utf-8 -*-\n",
    "\"\"\"\n",
    "Created on Fri Jan 3\n",
    "\n",
    "@author: yaning\n",
    "\"\"\"\n",
    "\n",
    "import numpy as np\n",
    "import importlib\n",
    "import matplotlib.pyplot as plt\n",
    "import torch\n",
    "from torch.distributions import Normal, Uniform\n",
    "from tqdm import tqdm\n",
    "\n",
    "\n",
    "# my own class files\n",
    "import with_learning.learning_NN.Receptors as Receptors\n",
    "import with_learning.learning_NN.Network as Network\n",
    "\n",
    "\n",
    "importlib.reload(Receptors)\n",
    "importlib.reload(Network)"
   ]
  },
  {
   "cell_type": "code",
   "execution_count": 6,
   "metadata": {},
   "outputs": [],
   "source": [
    "def sigmoid(x):\n",
    "    return 1 / (1 + torch.exp(-x))"
   ]
  },
  {
   "cell_type": "code",
   "execution_count": 7,
   "metadata": {},
   "outputs": [],
   "source": [
    "pointCount = 5000\n",
    "deltaTms = 0.05\n",
    "times = np.arange(pointCount) * deltaTms\n",
    "initial_Vm = 1.3458754117369027\n",
    "\n",
    "# Neuron: deltaTms, I, Vm, Name\n",
    "neuron_input_0 = Network.Neuron(deltaTms, 0, initial_Vm, \"input_0\")\n",
    "neuron_input_1 = Network.Neuron(deltaTms, 0, initial_Vm, \"input_1\")\n",
    "neuron_input_2 = Network.Neuron(deltaTms, 0, initial_Vm, \"input_2\")\n",
    "\n",
    "neuron_excite_main = Network.Neuron(deltaTms, 0, initial_Vm, \"excite_main\")\n",
    "neuron_excite_sub = Network.Neuron(deltaTms, 0, initial_Vm, \"excite_sub\")\n",
    "\n",
    "neuron_inhibit_main = Network.Neuron(deltaTms, 0, initial_Vm, \"inhibit_main\")\n",
    "neuron_inhibit_sub = Network.Neuron(deltaTms, 0, initial_Vm, \"inhibit_sub\")\n",
    "\n",
    "neuron_output = Network.Neuron(deltaTms, 0, initial_Vm, \"output\")\n",
    "\n",
    "neurons = [neuron_input_0, neuron_input_1, neuron_input_2, neuron_excite_main, neuron_excite_sub, \n",
    "        neuron_inhibit_main, neuron_inhibit_sub, neuron_output]\n",
    "\n",
    "neuron_names = [\"input_0\", \"input_1\", \"input_2\",\n",
    "                \"excite_main\", \"excite_sub\", \"inhibit_main\", \"inhibit_sub\", \"output\"]\n",
    "\n",
    "\n",
    "\n",
    "\n",
    "\n",
    "# create synapse/connection (send neuron, receive neuron)\n",
    "control = Network.Control(deltaTms, initial_Vm)\n",
    "\n",
    "\n",
    "\n",
    "\n",
    "#*********************full layer***************************\n",
    "# ----------------first input layer------------------------\n",
    "control.create_synapse(neuron_input_0, neuron_excite_main, \"AMPA\")\n",
    "control.create_synapse(neuron_input_1, neuron_excite_main, \"AMPA\")\n",
    "control.create_synapse(neuron_input_2, neuron_excite_main, \"AMPA\")\n",
    "\n",
    "control.create_synapse(neuron_input_0, neuron_inhibit_main, \"GABA\")\n",
    "control.create_synapse(neuron_input_1, neuron_inhibit_main, \"GABA\")\n",
    "control.create_synapse(neuron_input_2, neuron_inhibit_main, \"GABA\")\n",
    "\n",
    "\n",
    "\n",
    "# ----------------self recurrent layer----------------\n",
    "control.create_synapse(neuron_excite_main, neuron_excite_sub, \"AMPA+NMDA\")\n",
    "control.create_synapse(neuron_excite_sub, neuron_excite_main, \"AMPA+NMDA\")\n",
    "\n",
    "control.create_synapse(neuron_inhibit_main, neuron_inhibit_sub, \"GABA\")\n",
    "control.create_synapse(neuron_inhibit_sub, neuron_inhibit_main, \"GABA\")\n",
    "\n",
    "# --------------between excitatory and inhibitory----------------\n",
    "control.create_synapse(neuron_excite_main, neuron_inhibit_main, \"AMPA+NMDA\")\n",
    "control.create_synapse(neuron_inhibit_main, neuron_excite_main, \"GABA\")\n",
    "\n",
    "\n",
    "# ----------------output layer----------------------\n",
    "control.create_synapse(neuron_excite_main, neuron_output, \"AMPA\")\n",
    "\n",
    "\n",
    "# recording arrays\n",
    "\n",
    "\n"
   ]
  },
  {
   "cell_type": "code",
   "execution_count": 8,
   "metadata": {},
   "outputs": [],
   "source": [
    "# get the input neuron firing patterns\n",
    "path = \"/home/yaning/Documents/Spiking_NN/with_learning/\"\n",
    "input_pattern = np.load(path + \"dataset.npy\") \n",
    "output_pattern = np.load(path + \"output.npy\")\n",
    "input_pattern = input_pattern[1]"
   ]
  },
  {
   "cell_type": "code",
   "execution_count": 9,
   "metadata": {},
   "outputs": [],
   "source": [
    "\n",
    "infer_params = Receptors.LigandGatedChannelFactory.infer_params\n",
    "infer_names = Receptors.LigandGatedChannelFactory.infer_names\n",
    "factor = 30"
   ]
  },
  {
   "cell_type": "code",
   "execution_count": 10,
   "metadata": {},
   "outputs": [
    {
     "name": "stderr",
     "output_type": "stream",
     "text": [
      "/home/yaning/Documents/Spiking_NN/with_learning/learning_NN/Receptors.py:79: RuntimeWarning: overflow encountered in exp\n",
      "  self.m.alpha = .1*((25-self.Vm) / (np.exp((25-self.Vm)/10)-1))\n",
      "/home/yaning/Documents/Spiking_NN/with_learning/learning_NN/Receptors.py:80: RuntimeWarning: overflow encountered in exp\n",
      "  self.m.beta = 4*np.exp(-self.Vm/18)\n",
      "/home/yaning/Documents/Spiking_NN/with_learning/learning_NN/Receptors.py:81: RuntimeWarning: overflow encountered in exp\n",
      "  self.n.alpha = .01 * ((10-self.Vm) / (np.exp((10-self.Vm)/10)-1))\n",
      "/home/yaning/Documents/Spiking_NN/with_learning/learning_NN/Receptors.py:82: RuntimeWarning: overflow encountered in exp\n",
      "  self.n.beta = .125*np.exp(-self.Vm/80)\n",
      "/home/yaning/Documents/Spiking_NN/with_learning/learning_NN/Receptors.py:83: RuntimeWarning: overflow encountered in exp\n",
      "  self.h.alpha = .07*np.exp(-self.Vm/20)\n",
      "/home/yaning/Documents/Spiking_NN/with_learning/learning_NN/Receptors.py:84: RuntimeWarning: overflow encountered in exp\n",
      "  self.h.beta = 1/(np.exp((30-self.Vm)/10)+1)\n",
      "/home/yaning/Documents/Spiking_NN/with_learning/learning_NN/Receptors.py:212: RuntimeWarning: overflow encountered in exp\n",
      "  self.gP = 1/(1+self._mg*np.exp(-0.062*self.Vm)/3.57) * self.gP\n",
      "/home/yaning/Documents/Spiking_NN/with_learning/learning_NN/Network.py:88: RuntimeWarning: invalid value encountered in scalar add\n",
      "  self.I = Ina + Ik + Ileak + Ireceptors\n"
     ]
    }
   ],
   "source": [
    "num_samples = 100\n",
    "results = []\n",
    "\n",
    "for i in range(num_samples):\n",
    "    all_voltages = []\n",
    "    pure_sample = []\n",
    "    for j in range(len(infer_params)):\n",
    "        # using j only for separate with and without factor\n",
    "        temp_pure_sample = Normal(0, 2).sample()\n",
    "        pure_sample.append(temp_pure_sample)\n",
    "        if j <= 9:\n",
    "            infer_params[infer_names[j]] = sigmoid(temp_pure_sample)\n",
    "        else:\n",
    "            infer_params[infer_names[j]] = factor*sigmoid(temp_pure_sample)\n",
    "    \n",
    "    for t in range(pointCount):\n",
    "        if input_pattern[0,t]:\n",
    "            neuron_input_0.sending_signal()\n",
    "            neuron_input_0.fire_tstep.append(t)\n",
    "            \n",
    "        if input_pattern[1,t]:\n",
    "            neuron_input_1.sending_signal()\n",
    "            neuron_input_1.fire_tstep.append(t)\n",
    "            \n",
    "        if input_pattern[2,t]:\n",
    "            neuron_input_2.sending_signal()\n",
    "            neuron_input_2.fire_tstep.append(t)\n",
    "\n",
    "\n",
    "        # update the synapse states then each neuron\n",
    "        for neuron in neurons[3:]:\n",
    "            neuron.check_firing(t)\n",
    "            neuron.update()\n",
    "            all_voltages.append(neuron.Vm)\n",
    "            \n",
    "        # set the synapse states back to 0\n",
    "        for synapse in control.all_synapses:\n",
    "            synapse.state = 0\n",
    "    if max(all_voltages) <= 200:\n",
    "        results.append(pure_sample)\n",
    "        break\n",
    "\n"
   ]
  }
 ],
 "metadata": {
  "kernelspec": {
   "display_name": "Python 3 (ipykernel)",
   "language": "python",
   "name": "python3"
  },
  "language_info": {
   "codemirror_mode": {
    "name": "ipython",
    "version": 3
   },
   "file_extension": ".py",
   "mimetype": "text/x-python",
   "name": "python",
   "nbconvert_exporter": "python",
   "pygments_lexer": "ipython3",
   "version": "3.12.7"
  }
 },
 "nbformat": 4,
 "nbformat_minor": 2
}
