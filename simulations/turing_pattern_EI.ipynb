{
 "cells": [
  {
   "cell_type": "code",
   "execution_count": null,
   "id": "3777faee",
   "metadata": {},
   "outputs": [],
   "source": [
    "#!/usr/bin/env python3\n",
    "# -*- coding: utf-8 -*-\n",
    "\"\"\"\n",
    "Created on Mon Mai 19\n",
    "\n",
    "@author: ChatGPT\n",
    "\"\"\"\n",
    "\n",
    "import numpy as np\n",
    "import matplotlib.pyplot as plt"
   ]
  },
  {
   "cell_type": "code",
   "execution_count": null,
   "id": "4f7a593a",
   "metadata": {},
   "outputs": [
    {
     "data": {
      "image/png": "[encoded data removed]",
      "text/plain": [
       "<Figure size 640x480 with 1 Axes>"
      ]
     },
     "metadata": {},
     "output_type": "display_data"
    }
   ],
   "source": [
    "# Parameters\n",
    "size = 100  # grid size\n",
    "steps = 5000\n",
    "dt = 0.1\n",
    "\n",
    "# Weight parameters (tuned for instability)\n",
    "w_EE = 12.0\n",
    "w_EI = 10.0\n",
    "w_IE = 10.0\n",
    "w_II = 0.0\n",
    "\n",
    "# Diffusion rates (key: inhibitory diffuses much faster)\n",
    "D_E = 0.01  # excitatory diffusion (short-range)\n",
    "D_I = 0.9   # inhibitory diffusion (long-range)\n",
    "\n",
    "# External input\n",
    "P = 0.5\n",
    "Q = 0.0\n",
    "\n",
    "# Sigmoid function\n",
    "def S(x):\n",
    "    return 1 / (1 + np.exp(-x))\n",
    "\n",
    "# Laplacian\n",
    "def laplacian(Z):\n",
    "    return (\n",
    "        -4 * Z\n",
    "        + np.roll(Z, (0, -1), (0, 1))\n",
    "        + np.roll(Z, (0, 1), (0, 1))\n",
    "        + np.roll(Z, (-1, 0), (0, 1))\n",
    "        + np.roll(Z, (1, 0), (0, 1))\n",
    "    )\n",
    "\n",
    "# Initialize E and I with small random noise\n",
    "E = 0.1 * np.random.rand(size, size)\n",
    "I = 0.1 * np.random.rand(size, size)\n",
    "\n",
    "# Main loop\n",
    "for i in range(steps):\n",
    "    lap_E = laplacian(E)\n",
    "    lap_I = laplacian(I)\n",
    "    \n",
    "    dE = -E + S(w_EE * E - w_EI * I + 0.5) + D_E * lap_E\n",
    "    dI = -I + S(w_IE * E - w_II * I + Q) + D_I * lap_I\n",
    "    \n",
    "    E += dt * dE\n",
    "    I += dt * dI\n",
    "\n",
    "    # # Optional: plot every 1000 steps\n",
    "    # if i % 1000 == 0:\n",
    "    #     plt.imshow(E, cmap='plasma')\n",
    "    #     plt.title(f\"Excitatory Activity (Step {i})\")\n",
    "    #     plt.axis('off')\n",
    "    #     plt.show()\n",
    "\n",
    "# Final pattern\n",
    "plt.imshow(I, cmap='plasma')\n",
    "plt.title(\"Final Wilson-Cowan Turing Pattern (Excitatory field)\")\n",
    "plt.axis('off')\n",
    "plt.show()\n"
   ]
  }
 ],
 "metadata": {
  "kernelspec": {
   "display_name": "Python 3 (ipykernel)",
   "language": "python",
   "name": "python3"
  },
  "language_info": {
   "codemirror_mode": {
    "name": "ipython",
    "version": 3
   },
   "file_extension": ".py",
   "mimetype": "text/x-python",
   "name": "python",
   "nbconvert_exporter": "python",
   "pygments_lexer": "ipython3",
   "version": "3.10.17"
  }
 },
 "nbformat": 4,
 "nbformat_minor": 5
}
