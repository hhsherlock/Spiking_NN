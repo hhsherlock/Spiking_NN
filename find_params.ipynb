{
 "cells": [
  {
   "cell_type": "code",
   "execution_count": 27,
   "metadata": {},
   "outputs": [
    {
     "data": {
      "text/plain": [
       "<module 'run' from '/home/yaning/Documents/Spiking_NN/run.py'>"
      ]
     },
     "execution_count": 27,
     "metadata": {},
     "output_type": "execute_result"
    }
   ],
   "source": [
    "#!/usr/bin/env python3\n",
    "# -*- coding: utf-8 -*-\n",
    "\"\"\"\n",
    "Created on Fri Nov 15\n",
    "\n",
    "@author: yaning\n",
    "\"\"\"\n",
    "\n",
    "import HH as HH\n",
    "import importlib\n",
    "import numpy as np\n",
    "import matplotlib.pyplot as plt\n",
    "import torch\n",
    "import torch.nn as nn\n",
    "import torch.optim as optim\n",
    "import run as run\n",
    "\n",
    "importlib.reload(run)"
   ]
  },
  {
   "cell_type": "code",
   "execution_count": null,
   "metadata": {},
   "outputs": [
    {
     "name": "stdout",
     "output_type": "stream",
     "text": [
      "Epoch [10/100], Loss: 3.7640\n",
      "Epoch [20/100], Loss: 2.1870\n",
      "Epoch [30/100], Loss: 0.9338\n",
      "Epoch [40/100], Loss: 0.1929\n",
      "Epoch [50/100], Loss: 0.0183\n",
      "Epoch [60/100], Loss: 0.0457\n",
      "Epoch [70/100], Loss: 0.0247\n",
      "Epoch [80/100], Loss: 0.0150\n",
      "Epoch [90/100], Loss: 0.0159\n",
      "Epoch [100/100], Loss: 0.0144\n"
     ]
    }
   ],
   "source": [
    "# Define a simple neural network\n",
    "class SimpleNN(nn.Module):\n",
    "    def __init__(self):\n",
    "        super(SimpleNN, self).__init__()\n",
    "        # Define a simple fully connected layer (input size 1, output size 1)\n",
    "        self.fc1 = nn.Linear(1, 10)  # 1 input, 10 hidden neurons\n",
    "        self.fc2 = nn.Linear(10, 1)  # 10 hidden neurons, 1 output\n",
    "    \n",
    "    def forward(self, x):\n",
    "        # Forward pass through the network\n",
    "        x = torch.relu(self.fc1(x))  # Apply ReLU activation\n",
    "        x = self.fc2(x)\n",
    "        return x\n",
    "\n",
    "# Generate synthetic data (simple regression task)\n",
    "# Input: x (feature), Output: y (target)\n",
    "x_data = torch.randn(100, 1)  # 100 random data points (1 feature)\n",
    "y_data = 2 * x_data + 1 + 0.1 * torch.randn(100, 1)  # Linear relationship with some noise\n",
    "\n",
    "# Initialize the model, loss function, and optimizer\n",
    "model = SimpleNN()\n",
    "loss_function = nn.MSELoss()  # Mean Squared Error Loss\n",
    "optimizer = optim.Adam(model.parameters(), lr=0.01)  # Adam optimizer with learning rate 0.01\n",
    "\n",
    "# Training loop\n",
    "num_epochs = 100  # Number of epochs\n",
    "for epoch in range(num_epochs):\n",
    "    model.train()  # Set model to training mode\n",
    "    \n",
    "    # Forward pass\n",
    "    outputs = model(x_data)  # Pass the input data through the model\n",
    "    \n",
    "    # Compute the loss (MSE)\n",
    "    loss = loss_function(outputs, y_data)\n",
    "    \n",
    "    # Zero the gradients before backward pass\n",
    "    optimizer.zero_grad()\n",
    "    \n",
    "    # Backward pass (compute gradients)\n",
    "    loss.backward()\n",
    "    \n",
    "    # Update the parameters (weights and biases)\n",
    "    optimizer.step()\n",
    "    \n",
    "    # Print the loss every 10 epochs\n",
    "    if (epoch + 1) % 10 == 0:\n",
    "        print(f'Epoch [{epoch + 1}/{num_epochs}], Loss: {loss.item():.4f}')\n",
    "\n",
    "# After training, the parameters (weights and biases) have been updated to minimize the loss\n"
   ]
  }
 ],
 "metadata": {
  "kernelspec": {
   "display_name": "Python 3 (ipykernel)",
   "language": "python",
   "name": "python3"
  },
  "language_info": {
   "codemirror_mode": {
    "name": "ipython",
    "version": 3
   },
   "file_extension": ".py",
   "mimetype": "text/x-python",
   "name": "python",
   "nbconvert_exporter": "python",
   "pygments_lexer": "ipython3",
   "version": "3.12.7"
  }
 },
 "nbformat": 4,
 "nbformat_minor": 2
}
